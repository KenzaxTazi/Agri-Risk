{
  "nbformat": 4,
  "nbformat_minor": 0,
  "metadata": {
    "colab": {
      "name": "RFECV.ipynb",
      "provenance": [],
      "authorship_tag": "ABX9TyMPV4Uirtk+6NCR+LvOHGbp",
      "include_colab_link": true
    },
    "kernelspec": {
      "name": "python3",
      "display_name": "Python 3"
    }
  },
  "cells": [
    {
      "cell_type": "markdown",
      "metadata": {
        "id": "view-in-github",
        "colab_type": "text"
      },
      "source": [
        "<a href=\"https://colab.research.google.com/github/KenzaxTazi/Agri-Risk/blob/master/RFECV.ipynb\" target=\"_parent\"><img src=\"https://colab.research.google.com/assets/colab-badge.svg\" alt=\"Open In Colab\"/></a>"
      ]
    },
    {
      "cell_type": "code",
      "metadata": {
        "id": "k0TT2pyTZPQD",
        "colab_type": "code",
        "colab": {
          "base_uri": "https://localhost:8080/",
          "height": 122
        },
        "outputId": "7d2d831b-c2b8-44e7-e291-0204fb6ff355"
      },
      "source": [
        "from google.colab import drive\n",
        "drive.mount('/content/drive')"
      ],
      "execution_count": 1,
      "outputs": [
        {
          "output_type": "stream",
          "text": [
            "Go to this URL in a browser: https://accounts.google.com/o/oauth2/auth?client_id=947318989803-6bn6qk8qdgf4n4g3pfee6491hc0brc4i.apps.googleusercontent.com&redirect_uri=urn%3aietf%3awg%3aoauth%3a2.0%3aoob&response_type=code&scope=email%20https%3a%2f%2fwww.googleapis.com%2fauth%2fdocs.test%20https%3a%2f%2fwww.googleapis.com%2fauth%2fdrive%20https%3a%2f%2fwww.googleapis.com%2fauth%2fdrive.photos.readonly%20https%3a%2f%2fwww.googleapis.com%2fauth%2fpeopleapi.readonly\n",
            "\n",
            "Enter your authorization code:\n",
            "··········\n",
            "Mounted at /content/drive\n"
          ],
          "name": "stdout"
        }
      ]
    },
    {
      "cell_type": "code",
      "metadata": {
        "id": "9hoxFDjyZQUd",
        "colab_type": "code",
        "colab": {}
      },
      "source": [
        "import os, sys\n",
        "path = '/content/drive/My Drive/GTC'\n",
        "os.chdir(path)"
      ],
      "execution_count": 0,
      "outputs": []
    },
    {
      "cell_type": "code",
      "metadata": {
        "id": "RZar6pBjZVFY",
        "colab_type": "code",
        "colab": {}
      },
      "source": [
        "import numpy as np\n",
        "import pandas as pd\n",
        "import matplotlib.pyplot as plt\n",
        "import seaborn as sns; sns.set()\n",
        "import time\n",
        "%matplotlib inline"
      ],
      "execution_count": 0,
      "outputs": []
    },
    {
      "cell_type": "code",
      "metadata": {
        "id": "TVoNFFIPZfan",
        "colab_type": "code",
        "colab": {}
      },
      "source": [
        "from sklearn.svm import SVC\n",
        "from sklearn.model_selection import KFold\n",
        "from sklearn.feature_selection import RFECV"
      ],
      "execution_count": 0,
      "outputs": []
    },
    {
      "cell_type": "markdown",
      "metadata": {
        "id": "v1tcwd_TIY5W",
        "colab_type": "text"
      },
      "source": [
        "## Import datasets"
      ]
    },
    {
      "cell_type": "code",
      "metadata": {
        "id": "Hjp13Ca_ZXtQ",
        "colab_type": "code",
        "colab": {
          "base_uri": "https://localhost:8080/",
          "height": 643
        },
        "outputId": "2a83c7f4-c887-4ac1-b076-846dc1d8a6a3"
      },
      "source": [
        "seasonal_df = pd.read_csv(\"WORLD_['maiz']_['CDD', 'CWD', 'CFD', 'CSDI', 'WSDI', 'WW']_2010_2005_climate_zones_onehot.csv\")\n",
        "seasonal_features_df = seasonal_df.drop(['Unnamed: 0', 'Unnamed: 0.1', 'Unnamed: 0.1.1', 'Unnamed: 0.1.1.1'],\n",
        "                                        axis=1)\n",
        "seasonal_features_df"
      ],
      "execution_count": 4,
      "outputs": [
        {
          "output_type": "execute_result",
          "data": {
            "text/html": [
              "<div>\n",
              "<style scoped>\n",
              "    .dataframe tbody tr th:only-of-type {\n",
              "        vertical-align: middle;\n",
              "    }\n",
              "\n",
              "    .dataframe tbody tr th {\n",
              "        vertical-align: top;\n",
              "    }\n",
              "\n",
              "    .dataframe thead th {\n",
              "        text-align: right;\n",
              "    }\n",
              "</style>\n",
              "<table border=\"1\" class=\"dataframe\">\n",
              "  <thead>\n",
              "    <tr style=\"text-align: right;\">\n",
              "      <th></th>\n",
              "      <th>iso3_2005</th>\n",
              "      <th>x</th>\n",
              "      <th>y</th>\n",
              "      <th>maiz_a_2005</th>\n",
              "      <th>maiz_a_2010</th>\n",
              "      <th>delta_maiz</th>\n",
              "      <th>maiz_percent_change</th>\n",
              "      <th>CDD-Q1_2005</th>\n",
              "      <th>CDD-Q1_2010</th>\n",
              "      <th>CDD-Q2_2005</th>\n",
              "      <th>CDD-Q2_2010</th>\n",
              "      <th>CDD-Q3_2005</th>\n",
              "      <th>CDD-Q3_2010</th>\n",
              "      <th>CDD-Q4_2005</th>\n",
              "      <th>CDD-Q4_2010</th>\n",
              "      <th>CWD-Q1_2005</th>\n",
              "      <th>CWD-Q1_2010</th>\n",
              "      <th>CWD-Q2_2005</th>\n",
              "      <th>CWD-Q2_2010</th>\n",
              "      <th>CWD-Q3_2005</th>\n",
              "      <th>CWD-Q3_2010</th>\n",
              "      <th>CWD-Q4_2005</th>\n",
              "      <th>CWD-Q4_2010</th>\n",
              "      <th>CFD-Q1_2005</th>\n",
              "      <th>CFD-Q1_2010</th>\n",
              "      <th>CFD-Q2_2005</th>\n",
              "      <th>CFD-Q2_2010</th>\n",
              "      <th>CFD-Q3_2005</th>\n",
              "      <th>CFD-Q3_2010</th>\n",
              "      <th>CFD-Q4_2005</th>\n",
              "      <th>CFD-Q4_2010</th>\n",
              "      <th>CSDI-Q1_2005</th>\n",
              "      <th>CSDI-Q1_2010</th>\n",
              "      <th>CSDI-Q2_2005</th>\n",
              "      <th>CSDI-Q2_2010</th>\n",
              "      <th>CSDI-Q3_2005</th>\n",
              "      <th>CSDI-Q3_2010</th>\n",
              "      <th>CSDI-Q4_2005</th>\n",
              "      <th>CSDI-Q4_2010</th>\n",
              "      <th>WSDI-Q1_2005</th>\n",
              "      <th>WSDI-Q1_2010</th>\n",
              "      <th>WSDI-Q2_2005</th>\n",
              "      <th>WSDI-Q2_2010</th>\n",
              "      <th>WSDI-Q3_2005</th>\n",
              "      <th>WSDI-Q3_2010</th>\n",
              "      <th>WSDI-Q4_2005</th>\n",
              "      <th>WSDI-Q4_2010</th>\n",
              "      <th>WW-Q1_2005</th>\n",
              "      <th>WW-Q1_2010</th>\n",
              "      <th>WW-Q2_2005</th>\n",
              "      <th>WW-Q2_2010</th>\n",
              "      <th>WW-Q3_2005</th>\n",
              "      <th>WW-Q3_2010</th>\n",
              "      <th>WW-Q4_2005</th>\n",
              "      <th>WW-Q4_2010</th>\n",
              "      <th>climate_zone</th>\n",
              "      <th>soil_type</th>\n",
              "      <th>Inland water bodies</th>\n",
              "      <th>Subtropics - summer rainfall</th>\n",
              "      <th>Subtropics - winter rainfall</th>\n",
              "      <th>Temperature - continental</th>\n",
              "      <th>Temperature - oceanic</th>\n",
              "      <th>Temperature - subcontinental</th>\n",
              "      <th>Tropics</th>\n",
              "    </tr>\n",
              "  </thead>\n",
              "  <tbody>\n",
              "    <tr>\n",
              "      <th>0</th>\n",
              "      <td>CIV</td>\n",
              "      <td>-3.208</td>\n",
              "      <td>5.208</td>\n",
              "      <td>2292.2</td>\n",
              "      <td>2867.5</td>\n",
              "      <td>575.3</td>\n",
              "      <td>0.250982</td>\n",
              "      <td>24.0</td>\n",
              "      <td>31.0</td>\n",
              "      <td>3.0</td>\n",
              "      <td>2.0</td>\n",
              "      <td>6.0</td>\n",
              "      <td>6.0</td>\n",
              "      <td>2.0</td>\n",
              "      <td>1.0</td>\n",
              "      <td>10.0</td>\n",
              "      <td>21.0</td>\n",
              "      <td>30.0</td>\n",
              "      <td>26.0</td>\n",
              "      <td>25.0</td>\n",
              "      <td>27.0</td>\n",
              "      <td>65.0</td>\n",
              "      <td>66.0</td>\n",
              "      <td>0.0</td>\n",
              "      <td>0.0</td>\n",
              "      <td>0.0</td>\n",
              "      <td>0.0</td>\n",
              "      <td>0.0</td>\n",
              "      <td>0.0</td>\n",
              "      <td>0.0</td>\n",
              "      <td>0.0</td>\n",
              "      <td>0.0</td>\n",
              "      <td>0.0</td>\n",
              "      <td>0.0</td>\n",
              "      <td>0.0</td>\n",
              "      <td>0.0</td>\n",
              "      <td>0.0</td>\n",
              "      <td>0.0</td>\n",
              "      <td>0.0</td>\n",
              "      <td>0.0</td>\n",
              "      <td>0.0</td>\n",
              "      <td>0.0</td>\n",
              "      <td>0.0</td>\n",
              "      <td>0.0</td>\n",
              "      <td>0.0</td>\n",
              "      <td>0.0</td>\n",
              "      <td>0.0</td>\n",
              "      <td>0.0</td>\n",
              "      <td>9.0</td>\n",
              "      <td>2.0</td>\n",
              "      <td>24.0</td>\n",
              "      <td>1.0</td>\n",
              "      <td>11.0</td>\n",
              "      <td>13.0</td>\n",
              "      <td>16.0</td>\n",
              "      <td>Inland water bodies</td>\n",
              "      <td>4.0</td>\n",
              "      <td>1</td>\n",
              "      <td>0</td>\n",
              "      <td>0</td>\n",
              "      <td>0</td>\n",
              "      <td>0</td>\n",
              "      <td>0</td>\n",
              "      <td>0</td>\n",
              "    </tr>\n",
              "    <tr>\n",
              "      <th>1</th>\n",
              "      <td>USA</td>\n",
              "      <td>-76.042</td>\n",
              "      <td>35.958</td>\n",
              "      <td>6665.7</td>\n",
              "      <td>6052.0</td>\n",
              "      <td>-613.7</td>\n",
              "      <td>-0.092068</td>\n",
              "      <td>18.0</td>\n",
              "      <td>8.0</td>\n",
              "      <td>7.0</td>\n",
              "      <td>11.0</td>\n",
              "      <td>11.0</td>\n",
              "      <td>6.0</td>\n",
              "      <td>12.0</td>\n",
              "      <td>11.0</td>\n",
              "      <td>5.0</td>\n",
              "      <td>4.0</td>\n",
              "      <td>5.0</td>\n",
              "      <td>5.0</td>\n",
              "      <td>11.0</td>\n",
              "      <td>6.0</td>\n",
              "      <td>9.0</td>\n",
              "      <td>6.0</td>\n",
              "      <td>9.0</td>\n",
              "      <td>15.0</td>\n",
              "      <td>3.0</td>\n",
              "      <td>1.0</td>\n",
              "      <td>0.0</td>\n",
              "      <td>0.0</td>\n",
              "      <td>1.0</td>\n",
              "      <td>0.0</td>\n",
              "      <td>0.0</td>\n",
              "      <td>0.0</td>\n",
              "      <td>0.0</td>\n",
              "      <td>0.0</td>\n",
              "      <td>0.0</td>\n",
              "      <td>0.0</td>\n",
              "      <td>0.0</td>\n",
              "      <td>0.0</td>\n",
              "      <td>0.0</td>\n",
              "      <td>0.0</td>\n",
              "      <td>0.0</td>\n",
              "      <td>0.0</td>\n",
              "      <td>0.0</td>\n",
              "      <td>0.0</td>\n",
              "      <td>0.0</td>\n",
              "      <td>0.0</td>\n",
              "      <td>1.0</td>\n",
              "      <td>4.0</td>\n",
              "      <td>2.0</td>\n",
              "      <td>2.0</td>\n",
              "      <td>0.0</td>\n",
              "      <td>3.0</td>\n",
              "      <td>3.0</td>\n",
              "      <td>4.0</td>\n",
              "      <td>Inland water bodies</td>\n",
              "      <td>2.0</td>\n",
              "      <td>1</td>\n",
              "      <td>0</td>\n",
              "      <td>0</td>\n",
              "      <td>0</td>\n",
              "      <td>0</td>\n",
              "      <td>0</td>\n",
              "      <td>0</td>\n",
              "    </tr>\n",
              "    <tr>\n",
              "      <th>2</th>\n",
              "      <td>USA</td>\n",
              "      <td>-76.292</td>\n",
              "      <td>35.958</td>\n",
              "      <td>7071.2</td>\n",
              "      <td>6420.1</td>\n",
              "      <td>-651.1</td>\n",
              "      <td>-0.092078</td>\n",
              "      <td>18.0</td>\n",
              "      <td>8.0</td>\n",
              "      <td>7.0</td>\n",
              "      <td>11.0</td>\n",
              "      <td>11.0</td>\n",
              "      <td>6.0</td>\n",
              "      <td>12.0</td>\n",
              "      <td>11.0</td>\n",
              "      <td>5.0</td>\n",
              "      <td>4.0</td>\n",
              "      <td>5.0</td>\n",
              "      <td>5.0</td>\n",
              "      <td>11.0</td>\n",
              "      <td>6.0</td>\n",
              "      <td>9.0</td>\n",
              "      <td>6.0</td>\n",
              "      <td>9.0</td>\n",
              "      <td>15.0</td>\n",
              "      <td>3.0</td>\n",
              "      <td>1.0</td>\n",
              "      <td>0.0</td>\n",
              "      <td>0.0</td>\n",
              "      <td>1.0</td>\n",
              "      <td>0.0</td>\n",
              "      <td>0.0</td>\n",
              "      <td>0.0</td>\n",
              "      <td>0.0</td>\n",
              "      <td>0.0</td>\n",
              "      <td>0.0</td>\n",
              "      <td>0.0</td>\n",
              "      <td>0.0</td>\n",
              "      <td>0.0</td>\n",
              "      <td>0.0</td>\n",
              "      <td>0.0</td>\n",
              "      <td>0.0</td>\n",
              "      <td>0.0</td>\n",
              "      <td>0.0</td>\n",
              "      <td>0.0</td>\n",
              "      <td>0.0</td>\n",
              "      <td>0.0</td>\n",
              "      <td>1.0</td>\n",
              "      <td>4.0</td>\n",
              "      <td>2.0</td>\n",
              "      <td>2.0</td>\n",
              "      <td>0.0</td>\n",
              "      <td>3.0</td>\n",
              "      <td>3.0</td>\n",
              "      <td>4.0</td>\n",
              "      <td>Inland water bodies</td>\n",
              "      <td>2.0</td>\n",
              "      <td>1</td>\n",
              "      <td>0</td>\n",
              "      <td>0</td>\n",
              "      <td>0</td>\n",
              "      <td>0</td>\n",
              "      <td>0</td>\n",
              "      <td>0</td>\n",
              "    </tr>\n",
              "    <tr>\n",
              "      <th>3</th>\n",
              "      <td>USA</td>\n",
              "      <td>-76.458</td>\n",
              "      <td>35.958</td>\n",
              "      <td>7471.4</td>\n",
              "      <td>6671.0</td>\n",
              "      <td>-800.4</td>\n",
              "      <td>-0.107129</td>\n",
              "      <td>18.0</td>\n",
              "      <td>8.0</td>\n",
              "      <td>7.0</td>\n",
              "      <td>11.0</td>\n",
              "      <td>11.0</td>\n",
              "      <td>6.0</td>\n",
              "      <td>12.0</td>\n",
              "      <td>11.0</td>\n",
              "      <td>5.0</td>\n",
              "      <td>4.0</td>\n",
              "      <td>5.0</td>\n",
              "      <td>5.0</td>\n",
              "      <td>11.0</td>\n",
              "      <td>6.0</td>\n",
              "      <td>9.0</td>\n",
              "      <td>6.0</td>\n",
              "      <td>9.0</td>\n",
              "      <td>15.0</td>\n",
              "      <td>3.0</td>\n",
              "      <td>1.0</td>\n",
              "      <td>0.0</td>\n",
              "      <td>0.0</td>\n",
              "      <td>1.0</td>\n",
              "      <td>0.0</td>\n",
              "      <td>0.0</td>\n",
              "      <td>0.0</td>\n",
              "      <td>0.0</td>\n",
              "      <td>0.0</td>\n",
              "      <td>0.0</td>\n",
              "      <td>0.0</td>\n",
              "      <td>0.0</td>\n",
              "      <td>0.0</td>\n",
              "      <td>0.0</td>\n",
              "      <td>0.0</td>\n",
              "      <td>0.0</td>\n",
              "      <td>0.0</td>\n",
              "      <td>0.0</td>\n",
              "      <td>0.0</td>\n",
              "      <td>0.0</td>\n",
              "      <td>0.0</td>\n",
              "      <td>1.0</td>\n",
              "      <td>4.0</td>\n",
              "      <td>2.0</td>\n",
              "      <td>2.0</td>\n",
              "      <td>0.0</td>\n",
              "      <td>3.0</td>\n",
              "      <td>3.0</td>\n",
              "      <td>4.0</td>\n",
              "      <td>Inland water bodies</td>\n",
              "      <td>2.0</td>\n",
              "      <td>1</td>\n",
              "      <td>0</td>\n",
              "      <td>0</td>\n",
              "      <td>0</td>\n",
              "      <td>0</td>\n",
              "      <td>0</td>\n",
              "      <td>0</td>\n",
              "    </tr>\n",
              "    <tr>\n",
              "      <th>4</th>\n",
              "      <td>CHN</td>\n",
              "      <td>116.042</td>\n",
              "      <td>29.792</td>\n",
              "      <td>8656.9</td>\n",
              "      <td>7956.7</td>\n",
              "      <td>-700.2</td>\n",
              "      <td>-0.080883</td>\n",
              "      <td>17.0</td>\n",
              "      <td>11.0</td>\n",
              "      <td>11.0</td>\n",
              "      <td>8.0</td>\n",
              "      <td>8.0</td>\n",
              "      <td>6.0</td>\n",
              "      <td>22.0</td>\n",
              "      <td>21.0</td>\n",
              "      <td>6.0</td>\n",
              "      <td>4.0</td>\n",
              "      <td>7.0</td>\n",
              "      <td>7.0</td>\n",
              "      <td>10.0</td>\n",
              "      <td>14.0</td>\n",
              "      <td>8.0</td>\n",
              "      <td>5.0</td>\n",
              "      <td>9.0</td>\n",
              "      <td>6.0</td>\n",
              "      <td>3.0</td>\n",
              "      <td>3.0</td>\n",
              "      <td>0.0</td>\n",
              "      <td>0.0</td>\n",
              "      <td>0.0</td>\n",
              "      <td>0.0</td>\n",
              "      <td>0.0</td>\n",
              "      <td>0.0</td>\n",
              "      <td>0.0</td>\n",
              "      <td>0.0</td>\n",
              "      <td>0.0</td>\n",
              "      <td>0.0</td>\n",
              "      <td>0.0</td>\n",
              "      <td>0.0</td>\n",
              "      <td>6.0</td>\n",
              "      <td>0.0</td>\n",
              "      <td>8.0</td>\n",
              "      <td>0.0</td>\n",
              "      <td>0.0</td>\n",
              "      <td>0.0</td>\n",
              "      <td>6.0</td>\n",
              "      <td>0.0</td>\n",
              "      <td>0.0</td>\n",
              "      <td>4.0</td>\n",
              "      <td>3.0</td>\n",
              "      <td>4.0</td>\n",
              "      <td>0.0</td>\n",
              "      <td>0.0</td>\n",
              "      <td>5.0</td>\n",
              "      <td>0.0</td>\n",
              "      <td>Inland water bodies</td>\n",
              "      <td>1.0</td>\n",
              "      <td>1</td>\n",
              "      <td>0</td>\n",
              "      <td>0</td>\n",
              "      <td>0</td>\n",
              "      <td>0</td>\n",
              "      <td>0</td>\n",
              "      <td>0</td>\n",
              "    </tr>\n",
              "    <tr>\n",
              "      <th>...</th>\n",
              "      <td>...</td>\n",
              "      <td>...</td>\n",
              "      <td>...</td>\n",
              "      <td>...</td>\n",
              "      <td>...</td>\n",
              "      <td>...</td>\n",
              "      <td>...</td>\n",
              "      <td>...</td>\n",
              "      <td>...</td>\n",
              "      <td>...</td>\n",
              "      <td>...</td>\n",
              "      <td>...</td>\n",
              "      <td>...</td>\n",
              "      <td>...</td>\n",
              "      <td>...</td>\n",
              "      <td>...</td>\n",
              "      <td>...</td>\n",
              "      <td>...</td>\n",
              "      <td>...</td>\n",
              "      <td>...</td>\n",
              "      <td>...</td>\n",
              "      <td>...</td>\n",
              "      <td>...</td>\n",
              "      <td>...</td>\n",
              "      <td>...</td>\n",
              "      <td>...</td>\n",
              "      <td>...</td>\n",
              "      <td>...</td>\n",
              "      <td>...</td>\n",
              "      <td>...</td>\n",
              "      <td>...</td>\n",
              "      <td>...</td>\n",
              "      <td>...</td>\n",
              "      <td>...</td>\n",
              "      <td>...</td>\n",
              "      <td>...</td>\n",
              "      <td>...</td>\n",
              "      <td>...</td>\n",
              "      <td>...</td>\n",
              "      <td>...</td>\n",
              "      <td>...</td>\n",
              "      <td>...</td>\n",
              "      <td>...</td>\n",
              "      <td>...</td>\n",
              "      <td>...</td>\n",
              "      <td>...</td>\n",
              "      <td>...</td>\n",
              "      <td>...</td>\n",
              "      <td>...</td>\n",
              "      <td>...</td>\n",
              "      <td>...</td>\n",
              "      <td>...</td>\n",
              "      <td>...</td>\n",
              "      <td>...</td>\n",
              "      <td>...</td>\n",
              "      <td>...</td>\n",
              "      <td>...</td>\n",
              "      <td>...</td>\n",
              "      <td>...</td>\n",
              "      <td>...</td>\n",
              "      <td>...</td>\n",
              "      <td>...</td>\n",
              "      <td>...</td>\n",
              "      <td>...</td>\n",
              "    </tr>\n",
              "    <tr>\n",
              "      <th>307857</th>\n",
              "      <td>RUS</td>\n",
              "      <td>61.375</td>\n",
              "      <td>54.625</td>\n",
              "      <td>2170.3</td>\n",
              "      <td>2179.6</td>\n",
              "      <td>9.3</td>\n",
              "      <td>0.004285</td>\n",
              "      <td>30.0</td>\n",
              "      <td>17.0</td>\n",
              "      <td>11.0</td>\n",
              "      <td>22.0</td>\n",
              "      <td>11.0</td>\n",
              "      <td>11.0</td>\n",
              "      <td>29.0</td>\n",
              "      <td>35.0</td>\n",
              "      <td>4.0</td>\n",
              "      <td>4.0</td>\n",
              "      <td>2.0</td>\n",
              "      <td>3.0</td>\n",
              "      <td>7.0</td>\n",
              "      <td>5.0</td>\n",
              "      <td>4.0</td>\n",
              "      <td>2.0</td>\n",
              "      <td>90.0</td>\n",
              "      <td>90.0</td>\n",
              "      <td>37.0</td>\n",
              "      <td>48.0</td>\n",
              "      <td>0.0</td>\n",
              "      <td>0.0</td>\n",
              "      <td>22.0</td>\n",
              "      <td>9.0</td>\n",
              "      <td>0.0</td>\n",
              "      <td>0.0</td>\n",
              "      <td>0.0</td>\n",
              "      <td>0.0</td>\n",
              "      <td>0.0</td>\n",
              "      <td>0.0</td>\n",
              "      <td>0.0</td>\n",
              "      <td>6.0</td>\n",
              "      <td>0.0</td>\n",
              "      <td>0.0</td>\n",
              "      <td>6.0</td>\n",
              "      <td>0.0</td>\n",
              "      <td>0.0</td>\n",
              "      <td>0.0</td>\n",
              "      <td>0.0</td>\n",
              "      <td>8.0</td>\n",
              "      <td>1.0</td>\n",
              "      <td>0.0</td>\n",
              "      <td>1.0</td>\n",
              "      <td>1.0</td>\n",
              "      <td>1.0</td>\n",
              "      <td>0.0</td>\n",
              "      <td>0.0</td>\n",
              "      <td>2.0</td>\n",
              "      <td>Temperature - continental</td>\n",
              "      <td>18.0</td>\n",
              "      <td>0</td>\n",
              "      <td>0</td>\n",
              "      <td>0</td>\n",
              "      <td>1</td>\n",
              "      <td>0</td>\n",
              "      <td>0</td>\n",
              "      <td>0</td>\n",
              "    </tr>\n",
              "    <tr>\n",
              "      <th>307858</th>\n",
              "      <td>RUS</td>\n",
              "      <td>61.458</td>\n",
              "      <td>54.625</td>\n",
              "      <td>2062.6</td>\n",
              "      <td>2071.4</td>\n",
              "      <td>8.8</td>\n",
              "      <td>0.004266</td>\n",
              "      <td>30.0</td>\n",
              "      <td>17.0</td>\n",
              "      <td>11.0</td>\n",
              "      <td>22.0</td>\n",
              "      <td>11.0</td>\n",
              "      <td>11.0</td>\n",
              "      <td>29.0</td>\n",
              "      <td>35.0</td>\n",
              "      <td>4.0</td>\n",
              "      <td>4.0</td>\n",
              "      <td>2.0</td>\n",
              "      <td>3.0</td>\n",
              "      <td>7.0</td>\n",
              "      <td>5.0</td>\n",
              "      <td>4.0</td>\n",
              "      <td>2.0</td>\n",
              "      <td>90.0</td>\n",
              "      <td>90.0</td>\n",
              "      <td>37.0</td>\n",
              "      <td>48.0</td>\n",
              "      <td>0.0</td>\n",
              "      <td>0.0</td>\n",
              "      <td>22.0</td>\n",
              "      <td>9.0</td>\n",
              "      <td>0.0</td>\n",
              "      <td>0.0</td>\n",
              "      <td>0.0</td>\n",
              "      <td>0.0</td>\n",
              "      <td>0.0</td>\n",
              "      <td>0.0</td>\n",
              "      <td>0.0</td>\n",
              "      <td>6.0</td>\n",
              "      <td>0.0</td>\n",
              "      <td>0.0</td>\n",
              "      <td>6.0</td>\n",
              "      <td>0.0</td>\n",
              "      <td>0.0</td>\n",
              "      <td>0.0</td>\n",
              "      <td>0.0</td>\n",
              "      <td>8.0</td>\n",
              "      <td>1.0</td>\n",
              "      <td>0.0</td>\n",
              "      <td>1.0</td>\n",
              "      <td>1.0</td>\n",
              "      <td>1.0</td>\n",
              "      <td>0.0</td>\n",
              "      <td>0.0</td>\n",
              "      <td>2.0</td>\n",
              "      <td>Temperature - continental</td>\n",
              "      <td>18.0</td>\n",
              "      <td>0</td>\n",
              "      <td>0</td>\n",
              "      <td>0</td>\n",
              "      <td>1</td>\n",
              "      <td>0</td>\n",
              "      <td>0</td>\n",
              "      <td>0</td>\n",
              "    </tr>\n",
              "    <tr>\n",
              "      <th>307859</th>\n",
              "      <td>CHN</td>\n",
              "      <td>123.542</td>\n",
              "      <td>43.792</td>\n",
              "      <td>5086.2</td>\n",
              "      <td>4958.5</td>\n",
              "      <td>-127.7</td>\n",
              "      <td>-0.025107</td>\n",
              "      <td>39.0</td>\n",
              "      <td>29.0</td>\n",
              "      <td>38.0</td>\n",
              "      <td>10.0</td>\n",
              "      <td>11.0</td>\n",
              "      <td>13.0</td>\n",
              "      <td>25.0</td>\n",
              "      <td>26.0</td>\n",
              "      <td>2.0</td>\n",
              "      <td>1.0</td>\n",
              "      <td>2.0</td>\n",
              "      <td>4.0</td>\n",
              "      <td>12.0</td>\n",
              "      <td>8.0</td>\n",
              "      <td>4.0</td>\n",
              "      <td>3.0</td>\n",
              "      <td>90.0</td>\n",
              "      <td>90.0</td>\n",
              "      <td>19.0</td>\n",
              "      <td>29.0</td>\n",
              "      <td>0.0</td>\n",
              "      <td>0.0</td>\n",
              "      <td>26.0</td>\n",
              "      <td>11.0</td>\n",
              "      <td>6.0</td>\n",
              "      <td>9.0</td>\n",
              "      <td>0.0</td>\n",
              "      <td>0.0</td>\n",
              "      <td>0.0</td>\n",
              "      <td>0.0</td>\n",
              "      <td>0.0</td>\n",
              "      <td>0.0</td>\n",
              "      <td>0.0</td>\n",
              "      <td>0.0</td>\n",
              "      <td>0.0</td>\n",
              "      <td>0.0</td>\n",
              "      <td>0.0</td>\n",
              "      <td>0.0</td>\n",
              "      <td>6.0</td>\n",
              "      <td>0.0</td>\n",
              "      <td>0.0</td>\n",
              "      <td>0.0</td>\n",
              "      <td>0.0</td>\n",
              "      <td>1.0</td>\n",
              "      <td>4.0</td>\n",
              "      <td>3.0</td>\n",
              "      <td>3.0</td>\n",
              "      <td>0.0</td>\n",
              "      <td>Temperature - continental</td>\n",
              "      <td>33.0</td>\n",
              "      <td>0</td>\n",
              "      <td>0</td>\n",
              "      <td>0</td>\n",
              "      <td>1</td>\n",
              "      <td>0</td>\n",
              "      <td>0</td>\n",
              "      <td>0</td>\n",
              "    </tr>\n",
              "    <tr>\n",
              "      <th>307860</th>\n",
              "      <td>CHN</td>\n",
              "      <td>123.042</td>\n",
              "      <td>53.292</td>\n",
              "      <td>2819.2</td>\n",
              "      <td>3918.1</td>\n",
              "      <td>1098.9</td>\n",
              "      <td>0.389791</td>\n",
              "      <td>27.0</td>\n",
              "      <td>27.0</td>\n",
              "      <td>49.0</td>\n",
              "      <td>29.0</td>\n",
              "      <td>8.0</td>\n",
              "      <td>9.0</td>\n",
              "      <td>14.0</td>\n",
              "      <td>16.0</td>\n",
              "      <td>2.0</td>\n",
              "      <td>3.0</td>\n",
              "      <td>2.0</td>\n",
              "      <td>5.0</td>\n",
              "      <td>7.0</td>\n",
              "      <td>4.0</td>\n",
              "      <td>3.0</td>\n",
              "      <td>4.0</td>\n",
              "      <td>90.0</td>\n",
              "      <td>90.0</td>\n",
              "      <td>65.0</td>\n",
              "      <td>61.0</td>\n",
              "      <td>1.0</td>\n",
              "      <td>1.0</td>\n",
              "      <td>61.0</td>\n",
              "      <td>73.0</td>\n",
              "      <td>0.0</td>\n",
              "      <td>0.0</td>\n",
              "      <td>0.0</td>\n",
              "      <td>0.0</td>\n",
              "      <td>0.0</td>\n",
              "      <td>0.0</td>\n",
              "      <td>0.0</td>\n",
              "      <td>0.0</td>\n",
              "      <td>0.0</td>\n",
              "      <td>0.0</td>\n",
              "      <td>0.0</td>\n",
              "      <td>0.0</td>\n",
              "      <td>0.0</td>\n",
              "      <td>7.0</td>\n",
              "      <td>0.0</td>\n",
              "      <td>0.0</td>\n",
              "      <td>0.0</td>\n",
              "      <td>3.0</td>\n",
              "      <td>0.0</td>\n",
              "      <td>0.0</td>\n",
              "      <td>2.0</td>\n",
              "      <td>1.0</td>\n",
              "      <td>1.0</td>\n",
              "      <td>1.0</td>\n",
              "      <td>Boreal - continental</td>\n",
              "      <td>40.0</td>\n",
              "      <td>0</td>\n",
              "      <td>0</td>\n",
              "      <td>0</td>\n",
              "      <td>0</td>\n",
              "      <td>0</td>\n",
              "      <td>0</td>\n",
              "      <td>0</td>\n",
              "    </tr>\n",
              "    <tr>\n",
              "      <th>307861</th>\n",
              "      <td>CHN</td>\n",
              "      <td>123.292</td>\n",
              "      <td>53.542</td>\n",
              "      <td>2819.2</td>\n",
              "      <td>3918.1</td>\n",
              "      <td>1098.9</td>\n",
              "      <td>0.389791</td>\n",
              "      <td>57.0</td>\n",
              "      <td>27.0</td>\n",
              "      <td>33.0</td>\n",
              "      <td>29.0</td>\n",
              "      <td>14.0</td>\n",
              "      <td>9.0</td>\n",
              "      <td>36.0</td>\n",
              "      <td>17.0</td>\n",
              "      <td>2.0</td>\n",
              "      <td>3.0</td>\n",
              "      <td>3.0</td>\n",
              "      <td>5.0</td>\n",
              "      <td>7.0</td>\n",
              "      <td>6.0</td>\n",
              "      <td>5.0</td>\n",
              "      <td>4.0</td>\n",
              "      <td>90.0</td>\n",
              "      <td>90.0</td>\n",
              "      <td>65.0</td>\n",
              "      <td>61.0</td>\n",
              "      <td>1.0</td>\n",
              "      <td>0.0</td>\n",
              "      <td>64.0</td>\n",
              "      <td>65.0</td>\n",
              "      <td>0.0</td>\n",
              "      <td>0.0</td>\n",
              "      <td>0.0</td>\n",
              "      <td>0.0</td>\n",
              "      <td>0.0</td>\n",
              "      <td>0.0</td>\n",
              "      <td>0.0</td>\n",
              "      <td>0.0</td>\n",
              "      <td>0.0</td>\n",
              "      <td>0.0</td>\n",
              "      <td>0.0</td>\n",
              "      <td>0.0</td>\n",
              "      <td>0.0</td>\n",
              "      <td>7.0</td>\n",
              "      <td>0.0</td>\n",
              "      <td>0.0</td>\n",
              "      <td>0.0</td>\n",
              "      <td>3.0</td>\n",
              "      <td>0.0</td>\n",
              "      <td>0.0</td>\n",
              "      <td>1.0</td>\n",
              "      <td>1.0</td>\n",
              "      <td>3.0</td>\n",
              "      <td>2.0</td>\n",
              "      <td>Boreal - continental</td>\n",
              "      <td>40.0</td>\n",
              "      <td>0</td>\n",
              "      <td>0</td>\n",
              "      <td>0</td>\n",
              "      <td>0</td>\n",
              "      <td>0</td>\n",
              "      <td>0</td>\n",
              "      <td>0</td>\n",
              "    </tr>\n",
              "  </tbody>\n",
              "</table>\n",
              "<p>307862 rows × 64 columns</p>\n",
              "</div>"
            ],
            "text/plain": [
              "       iso3_2005        x  ...  Temperature - subcontinental  Tropics\n",
              "0            CIV   -3.208  ...                             0        0\n",
              "1            USA  -76.042  ...                             0        0\n",
              "2            USA  -76.292  ...                             0        0\n",
              "3            USA  -76.458  ...                             0        0\n",
              "4            CHN  116.042  ...                             0        0\n",
              "...          ...      ...  ...                           ...      ...\n",
              "307857       RUS   61.375  ...                             0        0\n",
              "307858       RUS   61.458  ...                             0        0\n",
              "307859       CHN  123.542  ...                             0        0\n",
              "307860       CHN  123.042  ...                             0        0\n",
              "307861       CHN  123.292  ...                             0        0\n",
              "\n",
              "[307862 rows x 64 columns]"
            ]
          },
          "metadata": {
            "tags": []
          },
          "execution_count": 4
        }
      ]
    },
    {
      "cell_type": "markdown",
      "metadata": {
        "id": "lr0SUjtEIzNG",
        "colab_type": "text"
      },
      "source": [
        "# Cross-validated RFE"
      ]
    },
    {
      "cell_type": "code",
      "metadata": {
        "id": "uwLXcRrzJAPp",
        "colab_type": "code",
        "colab": {}
      },
      "source": [
        "from sklearn.pipeline import Pipeline\n",
        "from sklearn import preprocessing\n",
        "from sklearn.ensemble import RandomForestRegressor\n",
        "from sklearn import feature_selection\n",
        "from sklearn.model_selection import KFold\n",
        "import time"
      ],
      "execution_count": 0,
      "outputs": []
    },
    {
      "cell_type": "code",
      "metadata": {
        "id": "eCaJEIkUbzXO",
        "colab_type": "code",
        "colab": {}
      },
      "source": [
        "pipe = Pipeline(\n",
        "    [\n",
        "        ('std_scaler', preprocessing.StandardScaler()),\n",
        "        (\"RF\", RandomForestRegressor(random_state=42, n_estimators=500,n_jobs=-1))\n",
        "    ]\n",
        ")"
      ],
      "execution_count": 0,
      "outputs": []
    },
    {
      "cell_type": "code",
      "metadata": {
        "id": "6l2ZPJKBZi_3",
        "colab_type": "code",
        "colab": {}
      },
      "source": [
        "class PipelineRFE(Pipeline):\n",
        "\n",
        "    def fit(self, X, y=None, **fit_params):\n",
        "        super(PipelineRFE, self).fit(X, y, **fit_params)\n",
        "        self.feature_importances_ = self.steps[-1][-1].feature_importances_\n",
        "        return self"
      ],
      "execution_count": 0,
      "outputs": []
    },
    {
      "cell_type": "markdown",
      "metadata": {
        "id": "8AqKon8tJJSs",
        "colab_type": "text"
      },
      "source": [
        "## RFECV with all features"
      ]
    },
    {
      "cell_type": "code",
      "metadata": {
        "id": "iJULxv3LZZUb",
        "colab_type": "code",
        "colab": {}
      },
      "source": [
        "seasonal_features_df.dropna(inplace=True)\n",
        "X=seasonal_features_df.drop(['maiz_a_2010'], axis=1).drop(['iso3_2005','climate_zone'], axis=1)[0:1000]\n",
        "y = seasonal_features_df['maiz_a_2010'][0:1000]"
      ],
      "execution_count": 0,
      "outputs": []
    },
    {
      "cell_type": "code",
      "metadata": {
        "id": "JomT6qMtqTeq",
        "colab_type": "code",
        "colab": {}
      },
      "source": [
        "feature_names = seasonal_features_df.drop(['maiz_a_2010'], axis=1).drop(['iso3_2005','climate_zone'], axis=1).columns"
      ],
      "execution_count": 0,
      "outputs": []
    },
    {
      "cell_type": "code",
      "metadata": {
        "id": "pj3P1nGgbsUN",
        "colab_type": "code",
        "colab": {
          "base_uri": "https://localhost:8080/",
          "height": 51
        },
        "outputId": "476d61d4-b43b-4bc6-ca61-bd2102d1afc4"
      },
      "source": [
        "start = time.time()\n",
        "pipe = PipelineRFE(\n",
        "    [\n",
        "        ('std_scaler', preprocessing.StandardScaler()),\n",
        "        (\"RF\", RandomForestRegressor(random_state=42, n_estimators=500, n_jobs=-1))\n",
        "    ]\n",
        ")\n",
        "\n",
        "_ = KFold(random_state=42, shuffle=True)\n",
        "\n",
        "feature_selector_cv = feature_selection.RFECV(pipe, cv=10, step=1, scoring=\"neg_mean_squared_error\")\n",
        "feature_selector_cv.fit(X, y)\n",
        "stop=time.time()\n",
        "print(f\"training time: {stop-start}s\")\n",
        "print(f\"number of features: {feature_selector_cv.n_features_}\")"
      ],
      "execution_count": 36,
      "outputs": [
        {
          "output_type": "stream",
          "text": [
            "training time: 2502.3869705200195s\n",
            "number of features: 3\n"
          ],
          "name": "stdout"
        }
      ]
    },
    {
      "cell_type": "code",
      "metadata": {
        "id": "8z4v0bStcqNu",
        "colab_type": "code",
        "colab": {
          "base_uri": "https://localhost:8080/",
          "height": 289
        },
        "outputId": "88d99391-0283-48a1-e5c3-a9566cc1a24f"
      },
      "source": [
        "cv_grid_rmse = np.sqrt(-feature_selector_cv.grid_scores_)\n",
        "cv_grid_rmse"
      ],
      "execution_count": 37,
      "outputs": [
        {
          "output_type": "execute_result",
          "data": {
            "text/plain": [
              "array([927.3954993 , 178.40897842, 171.3153828 , 199.484713  ,\n",
              "       219.69910984, 219.36942069, 228.13409   , 233.87591546,\n",
              "       242.60836028, 246.24510156, 250.77720494, 255.32063602,\n",
              "       256.84328934, 260.29052387, 260.29292021, 263.04508926,\n",
              "       262.38933413, 263.776399  , 264.26851742, 266.38060068,\n",
              "       270.0829583 , 269.86706671, 270.87999527, 273.56225211,\n",
              "       272.24585656, 274.74509506, 274.60749507, 276.00397354,\n",
              "       275.29385233, 276.17314685, 276.41078926, 278.95898463,\n",
              "       278.30918252, 277.73460984, 278.04126714, 277.95808795,\n",
              "       277.26982675, 278.9287252 , 279.84119049, 279.67149379,\n",
              "       279.02159634, 279.73583899, 279.73508463, 279.67086539,\n",
              "       278.661138  , 279.6924242 , 279.70000751, 277.82533205,\n",
              "       278.76544123, 278.84648159, 281.27486947, 280.40287956,\n",
              "       277.83395868, 280.37336771, 281.35110069, 280.71770764,\n",
              "       281.1472887 , 280.8451988 , 279.28489099, 280.61069665,\n",
              "       280.59031294])"
            ]
          },
          "metadata": {
            "tags": []
          },
          "execution_count": 37
        }
      ]
    },
    {
      "cell_type": "code",
      "metadata": {
        "id": "rUvsLc89dHmN",
        "colab_type": "code",
        "colab": {
          "base_uri": "https://localhost:8080/",
          "height": 34
        },
        "outputId": "9298de69-d073-4756-bb56-37d69b1dc658"
      },
      "source": [
        "selected_features = feature_names[feature_selector_cv.support_].tolist()\n",
        "selected_features"
      ],
      "execution_count": 44,
      "outputs": [
        {
          "output_type": "execute_result",
          "data": {
            "text/plain": [
              "['maiz_a_2005', 'delta_maiz', 'maiz_percent_change']"
            ]
          },
          "metadata": {
            "tags": []
          },
          "execution_count": 44
        }
      ]
    },
    {
      "cell_type": "markdown",
      "metadata": {
        "id": "IrCJ-JcwJPax",
        "colab_type": "text"
      },
      "source": [
        "## RFECV, removing yield information"
      ]
    },
    {
      "cell_type": "code",
      "metadata": {
        "id": "3oIqJu_Qea0D",
        "colab_type": "code",
        "colab": {}
      },
      "source": [
        "seasonal_features_df.dropna(inplace=True)\n",
        "X=seasonal_features_df.drop(['maiz_a_2010'], axis=1).drop(['iso3_2005','climate_zone', 'maiz_a_2005', 'delta_maiz', 'maiz_percent_change'], axis=1)[0:1000]\n",
        "y = seasonal_features_df['maiz_a_2010'][0:1000]"
      ],
      "execution_count": 0,
      "outputs": []
    },
    {
      "cell_type": "code",
      "metadata": {
        "id": "hGWHrBHGyo2t",
        "colab_type": "code",
        "colab": {
          "base_uri": "https://localhost:8080/",
          "height": 51
        },
        "outputId": "e69fed99-3ba2-4808-86fc-ae6023b4a2a2"
      },
      "source": [
        "start = time.time()\n",
        "pipe = PipelineRFE(\n",
        "    [\n",
        "        ('std_scaler', preprocessing.StandardScaler()),\n",
        "        (\"RF\", RandomForestRegressor(random_state=42, n_estimators=500, n_jobs=-1))\n",
        "    ]\n",
        ")\n",
        "\n",
        "_ = KFold(random_state=42, shuffle=True)\n",
        "\n",
        "feature_selector_cv = feature_selection.RFECV(pipe, cv=10, step=1, scoring=\"neg_mean_squared_error\")\n",
        "feature_selector_cv.fit(X, y)\n",
        "stop=time.time()\n",
        "print(f\"training time: {stop-start}s\")\n",
        "print(f\"number of features: {feature_selector_cv.n_features_}\")"
      ],
      "execution_count": 47,
      "outputs": [
        {
          "output_type": "stream",
          "text": [
            "training time: 2298.72750043869s\n",
            "number of features: 2\n"
          ],
          "name": "stdout"
        }
      ]
    },
    {
      "cell_type": "code",
      "metadata": {
        "id": "ibUpRlwpyxK8",
        "colab_type": "code",
        "colab": {
          "base_uri": "https://localhost:8080/",
          "height": 272
        },
        "outputId": "2bee26df-bd37-4d5b-9af0-0da4af4af418"
      },
      "source": [
        "cv_grid_rmse = np.sqrt(-feature_selector_cv.grid_scores_)\n",
        "cv_grid_rmse"
      ],
      "execution_count": 49,
      "outputs": [
        {
          "output_type": "execute_result",
          "data": {
            "text/plain": [
              "array([2370.72799307, 1668.04342313, 1673.45354373, 1745.89262393,\n",
              "       1758.70258827, 1787.64891709, 1758.10546898, 1747.51675512,\n",
              "       1723.70095387, 1728.86310374, 1725.30115112, 1732.09027203,\n",
              "       1739.60427514, 1737.51920768, 1739.91369244, 1746.40637989,\n",
              "       1750.46719657, 1751.54961723, 1746.14889407, 1748.44155994,\n",
              "       1751.14844323, 1756.21733428, 1751.11096247, 1756.99685507,\n",
              "       1753.20828456, 1750.0329302 , 1754.94702434, 1757.36473586,\n",
              "       1755.88424432, 1754.29403893, 1755.21199475, 1749.53758421,\n",
              "       1754.28468176, 1749.4601014 , 1750.64189976, 1741.82240727,\n",
              "       1740.01682112, 1748.71144411, 1743.93908239, 1738.42858129,\n",
              "       1734.18163703, 1740.54234784, 1737.91705828, 1740.83263779,\n",
              "       1739.7752306 , 1738.97655365, 1739.39707024, 1740.30442411,\n",
              "       1740.46485824, 1739.32527225, 1741.01619359, 1741.05905609,\n",
              "       1740.71611279, 1740.06979973, 1739.07576649, 1736.7394806 ,\n",
              "       1738.52090493, 1740.85135807])"
            ]
          },
          "metadata": {
            "tags": []
          },
          "execution_count": 49
        }
      ]
    },
    {
      "cell_type": "code",
      "metadata": {
        "id": "tBlOCLSPy08a",
        "colab_type": "code",
        "colab": {
          "base_uri": "https://localhost:8080/",
          "height": 34
        },
        "outputId": "a8492b79-25d2-4e49-9d57-ac9c31af8b3f"
      },
      "source": [
        "feature_names=seasonal_features_df.drop(['maiz_a_2010'], axis=1).drop(['iso3_2005','climate_zone', 'maiz_a_2005', 'delta_maiz', 'maiz_percent_change'], axis=1).columns\n",
        "\n",
        "selected_features = feature_names[feature_selector_cv.support_].tolist()\n",
        "selected_features"
      ],
      "execution_count": 54,
      "outputs": [
        {
          "output_type": "execute_result",
          "data": {
            "text/plain": [
              "['x', 'y']"
            ]
          },
          "metadata": {
            "tags": []
          },
          "execution_count": 54
        }
      ]
    },
    {
      "cell_type": "markdown",
      "metadata": {
        "id": "O9oXF8faJY-W",
        "colab_type": "text"
      },
      "source": [
        "## RFECV, removing x, y coordinatees"
      ]
    },
    {
      "cell_type": "code",
      "metadata": {
        "id": "t7WXSNx---AR",
        "colab_type": "code",
        "colab": {}
      },
      "source": [
        "# try also dropping x and y\n",
        "seasonal_features_df.dropna(inplace=True)\n",
        "X=seasonal_features_df.drop(['maiz_a_2010'], axis=1).drop(['iso3_2005','climate_zone', 'maiz_a_2005', 'delta_maiz', 'maiz_percent_change','x','y'], axis=1)[0:1000]\n",
        "y = seasonal_features_df['maiz_a_2010'][0:1000]"
      ],
      "execution_count": 0,
      "outputs": []
    },
    {
      "cell_type": "code",
      "metadata": {
        "id": "gnKjPuAn_P8n",
        "colab_type": "code",
        "colab": {
          "base_uri": "https://localhost:8080/",
          "height": 51
        },
        "outputId": "faeeb735-42af-4bcd-ae5a-5f370c5229a5"
      },
      "source": [
        "start = time.time()\n",
        "pipe = PipelineRFE(\n",
        "    [\n",
        "        ('std_scaler', preprocessing.StandardScaler()),\n",
        "        (\"RF\", RandomForestRegressor(random_state=42, n_estimators=500, n_jobs=-1))\n",
        "    ]\n",
        ")\n",
        "\n",
        "_ = KFold(random_state=42, shuffle=True)\n",
        "\n",
        "feature_selector_cv = feature_selection.RFECV(pipe, cv=10, step=1, scoring=\"neg_mean_squared_error\")\n",
        "feature_selector_cv.fit(X, y)\n",
        "stop=time.time()\n",
        "print(f\"training time: {stop-start}s\")\n",
        "print(f\"number of features: {feature_selector_cv.n_features_}\")"
      ],
      "execution_count": 56,
      "outputs": [
        {
          "output_type": "stream",
          "text": [
            "training time: 1902.294221162796s\n",
            "number of features: 51\n"
          ],
          "name": "stdout"
        }
      ]
    },
    {
      "cell_type": "code",
      "metadata": {
        "id": "qkuyKANr_QR1",
        "colab_type": "code",
        "colab": {
          "base_uri": "https://localhost:8080/",
          "height": 255
        },
        "outputId": "5949e702-9193-4b84-d089-48237d2432d8"
      },
      "source": [
        "cv_grid_rmse = np.sqrt(-feature_selector_cv.grid_scores_)\n",
        "cv_grid_rmse"
      ],
      "execution_count": 57,
      "outputs": [
        {
          "output_type": "execute_result",
          "data": {
            "text/plain": [
              "array([2252.57783273, 2269.99347577, 2145.1441323 , 2087.60780325,\n",
              "       2009.98117958, 1973.05451787, 1933.01814516, 1901.19163399,\n",
              "       1870.21886283, 1862.09409061, 1841.45300395, 1824.93159154,\n",
              "       1833.98486045, 1842.09169656, 1844.04876613, 1838.49400026,\n",
              "       1843.12892735, 1848.67896682, 1843.81418175, 1850.51372166,\n",
              "       1846.96998624, 1837.30349677, 1839.7618289 , 1830.14425087,\n",
              "       1827.45490273, 1826.79488478, 1827.6977965 , 1835.5070222 ,\n",
              "       1838.17837714, 1839.97130784, 1831.85796611, 1837.09031866,\n",
              "       1834.71352124, 1835.91345903, 1835.46059723, 1826.68918208,\n",
              "       1821.68398801, 1829.38498416, 1826.17216871, 1825.46052684,\n",
              "       1822.9244505 , 1821.21585876, 1822.6403314 , 1827.27107531,\n",
              "       1823.79948741, 1821.30627648, 1824.21391339, 1823.50088292,\n",
              "       1823.15870864, 1821.16221691, 1818.96876219, 1820.29895493,\n",
              "       1822.37833235, 1822.00399059, 1822.66445723, 1823.14948045])"
            ]
          },
          "metadata": {
            "tags": []
          },
          "execution_count": 57
        }
      ]
    },
    {
      "cell_type": "code",
      "metadata": {
        "id": "f-7F8jVL_St4",
        "colab_type": "code",
        "colab": {
          "base_uri": "https://localhost:8080/",
          "height": 884
        },
        "outputId": "9465fd38-3e51-4753-9d3b-f6c6b8f930cc"
      },
      "source": [
        "feature_names=seasonal_features_df.drop(['maiz_a_2010'], axis=1).drop(['iso3_2005','climate_zone', 'maiz_a_2005', 'delta_maiz', 'maiz_percent_change', 'x', 'y'], axis=1).columns\n",
        "\n",
        "selected_features = feature_names[feature_selector_cv.support_].tolist()\n",
        "selected_features"
      ],
      "execution_count": 58,
      "outputs": [
        {
          "output_type": "execute_result",
          "data": {
            "text/plain": [
              "['CDD-Q1_2005',\n",
              " 'CDD-Q1_2010',\n",
              " 'CDD-Q2_2005',\n",
              " 'CDD-Q2_2010',\n",
              " 'CDD-Q3_2005',\n",
              " 'CDD-Q3_2010',\n",
              " 'CDD-Q4_2005',\n",
              " 'CDD-Q4_2010',\n",
              " 'CWD-Q1_2005',\n",
              " 'CWD-Q1_2010',\n",
              " 'CWD-Q2_2005',\n",
              " 'CWD-Q2_2010',\n",
              " 'CWD-Q3_2005',\n",
              " 'CWD-Q3_2010',\n",
              " 'CWD-Q4_2005',\n",
              " 'CWD-Q4_2010',\n",
              " 'CFD-Q1_2005',\n",
              " 'CFD-Q1_2010',\n",
              " 'CFD-Q2_2005',\n",
              " 'CFD-Q2_2010',\n",
              " 'CFD-Q3_2005',\n",
              " 'CFD-Q3_2010',\n",
              " 'CFD-Q4_2005',\n",
              " 'CFD-Q4_2010',\n",
              " 'CSDI-Q1_2005',\n",
              " 'CSDI-Q1_2010',\n",
              " 'CSDI-Q2_2005',\n",
              " 'CSDI-Q2_2010',\n",
              " 'CSDI-Q3_2005',\n",
              " 'CSDI-Q3_2010',\n",
              " 'CSDI-Q4_2005',\n",
              " 'CSDI-Q4_2010',\n",
              " 'WSDI-Q1_2005',\n",
              " 'WSDI-Q1_2010',\n",
              " 'WSDI-Q2_2005',\n",
              " 'WSDI-Q2_2010',\n",
              " 'WSDI-Q3_2005',\n",
              " 'WSDI-Q3_2010',\n",
              " 'WSDI-Q4_2005',\n",
              " 'WSDI-Q4_2010',\n",
              " 'WW-Q1_2005',\n",
              " 'WW-Q1_2010',\n",
              " 'WW-Q2_2005',\n",
              " 'WW-Q2_2010',\n",
              " 'WW-Q3_2005',\n",
              " 'WW-Q3_2010',\n",
              " 'WW-Q4_2005',\n",
              " 'WW-Q4_2010',\n",
              " 'soil_type',\n",
              " 'Inland water bodies',\n",
              " 'Subtropics - summer rainfall']"
            ]
          },
          "metadata": {
            "tags": []
          },
          "execution_count": 58
        }
      ]
    },
    {
      "cell_type": "code",
      "metadata": {
        "id": "spxcuwSDJmbh",
        "colab_type": "code",
        "colab": {
          "base_uri": "https://localhost:8080/",
          "height": 285
        },
        "outputId": "8334525b-bd13-47a9-bfc1-6b2eb45207e4"
      },
      "source": [
        "plt.plot(cv_grid_rmse)"
      ],
      "execution_count": 60,
      "outputs": [
        {
          "output_type": "execute_result",
          "data": {
            "text/plain": [
              "[<matplotlib.lines.Line2D at 0x7fc7db471710>]"
            ]
          },
          "metadata": {
            "tags": []
          },
          "execution_count": 60
        },
        {
          "output_type": "display_data",
          "data": {
            "image/png": "[encoded data removed]",
            "text/plain": [
              "<Figure size 432x288 with 1 Axes>"
            ]
          },
          "metadata": {
            "tags": []
          }
        }
      ]
    },
    {
      "cell_type": "code",
      "metadata": {
        "id": "N-XqhlgdKn_B",
        "colab_type": "code",
        "colab": {}
      },
      "source": [
        ""
      ],
      "execution_count": 0,
      "outputs": []
    }
  ]
}