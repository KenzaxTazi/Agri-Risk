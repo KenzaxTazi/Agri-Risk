{
  "nbformat": 4,
  "nbformat_minor": 0,
  "metadata": {
    "colab": {
      "name": "Model_exploration_Raghul_pre_damon_final.ipynb",
      "provenance": [],
      "collapsed_sections": [],
      "toc_visible": true,
      "machine_shape": "hm",
      "mount_file_id": "14G0Plb1oiIIrM0gA6OqMXuYWQXXowgWJ",
      "authorship_tag": "ABX9TyMojKBQD0479WohMb5Jew4a",
      "include_colab_link": true
    },
    "kernelspec": {
      "name": "python3",
      "display_name": "Python 3"
    }
  },
  "cells": [
    {
      "cell_type": "markdown",
      "metadata": {
        "id": "view-in-github",
        "colab_type": "text"
      },
      "source": [
        "<a href=\"https://colab.research.google.com/github/KenzaxTazi/Agri-Risk/blob/master/Model_exploration_Raghul_pre_damon_final.ipynb\" target=\"_parent\"><img src=\"https://colab.research.google.com/assets/colab-badge.svg\" alt=\"Open In Colab\"/></a>"
      ]
    },
    {
      "cell_type": "code",
      "metadata": {
        "id": "ZEeE5bv5GfwF",
        "colab_type": "code",
        "outputId": "e5daa87e-c060-492e-f65c-02a0dfc189bc",
        "colab": {
          "base_uri": "https://localhost:8080/",
          "height": 34
        }
      },
      "source": [
        "!pip install tqdm==4.42.1\n"
      ],
      "execution_count": 0,
      "outputs": [
        {
          "output_type": "stream",
          "text": [
            "Requirement already satisfied: tqdm==4.42.1 in /usr/local/lib/python3.6/dist-packages (4.42.1)\n"
          ],
          "name": "stdout"
        }
      ]
    },
    {
      "cell_type": "code",
      "metadata": {
        "id": "IMkLCgwC19RJ",
        "colab_type": "code",
        "outputId": "ce625a79-f59f-460e-ff09-356c95ecee64",
        "colab": {
          "base_uri": "https://localhost:8080/",
          "height": 122
        }
      },
      "source": [
        "from google.colab import drive\n",
        "drive.mount('/content/drive')"
      ],
      "execution_count": 0,
      "outputs": [
        {
          "output_type": "stream",
          "text": [
            "Go to this URL in a browser: https://accounts.google.com/o/oauth2/auth?client_id=947318989803-6bn6qk8qdgf4n4g3pfee6491hc0brc4i.apps.googleusercontent.com&redirect_uri=urn%3aietf%3awg%3aoauth%3a2.0%3aoob&response_type=code&scope=email%20https%3a%2f%2fwww.googleapis.com%2fauth%2fdocs.test%20https%3a%2f%2fwww.googleapis.com%2fauth%2fdrive%20https%3a%2f%2fwww.googleapis.com%2fauth%2fdrive.photos.readonly%20https%3a%2f%2fwww.googleapis.com%2fauth%2fpeopleapi.readonly\n",
            "\n",
            "Enter your authorization code:\n",
            "··········\n",
            "Mounted at /content/drive\n"
          ],
          "name": "stdout"
        }
      ]
    },
    {
      "cell_type": "code",
      "metadata": {
        "id": "ZA5OTap12UVr",
        "colab_type": "code",
        "colab": {}
      },
      "source": [
        "import pandas as pd\n",
        "import xarray as xr\n",
        "import numpy as np\n",
        "\n",
        "import os, sys\n",
        "\n",
        "path = '/content/drive/My Drive/Team Plants/data'\n",
        "os.chdir(path)\n"
      ],
      "execution_count": 0,
      "outputs": []
    },
    {
      "cell_type": "markdown",
      "metadata": {
        "colab_type": "text",
        "id": "OoJMJ_V0b-Tl"
      },
      "source": [
        "# Import full dataset # "
      ]
    },
    {
      "cell_type": "markdown",
      "metadata": {
        "id": "qglC5r2-AKDC",
        "colab_type": "text"
      },
      "source": [
        "## Data processing and One-hot Encoding## "
      ]
    },
    {
      "cell_type": "code",
      "metadata": {
        "id": "YX0R-IM9kKuc",
        "colab_type": "code",
        "colab": {}
      },
      "source": [
        "features_to_select = ['lon',\n",
        "'lat', #need to include lat for this pre-damon method\n",
        "'maize_a_2005',\n",
        "'CDD-Q1-2010',\n",
        "'CDD-Q1-2005',\n",
        "'CDD-Q3-2005',\n",
        "'CFD-Q1-2010',\n",
        "'CFD-Q4-2010',\n",
        "'CFD-Q1-2005',\n",
        "'CFD-Q2-2005',\n",
        "'CFD-Q4-2005',\n",
        "'CWD-Q2-2010',\n",
        "'CWD-Q3-2010',\n",
        "'CWD-Q4-2010',\n",
        "'WW-Q1-2010',\n",
        "'WSDI-Q3-2010',\n",
        "'WSDI-Q4-2010',\n",
        "'WSDI-Q2-2005',\n",
        "'WSDI-Q3-2005',\n",
        "'CSDI-Q1-2010',\n",
        "'BEDD-06-2010',\n",
        "'BEDD-10-2010',\n",
        "'BEDD-04-2005',\n",
        "'BEDD-06-2005',\n",
        "'BEDD-08-2005',\n",
        "'BEDD-09-2005',\n",
        "'FD-12-2010',\n",
        "'FD-02-2005',\n",
        "'FD-03-2005',\n",
        "'FD-05-2005',\n",
        "'FD-09-2005',\n",
        "'FD-11-2005',\n",
        "'FD-12-2005',\n",
        "'R20mm-10-2005',\n",
        "'R10mm-05-2010',\n",
        "'R10mm-09-2010',\n",
        "'ID-03-2010',\n",
        "'ID-04-2010',\n",
        "'ID-11-2010',\n",
        "'ID-01-2005',\n",
        "'ID-02-2005',\n",
        "'ID-03-2005',\n",
        "'ID-04-2005',\n",
        "'ID-11-2005',\n",
        "'TG-03-2010',\n",
        "'TG-05-2010',\n",
        "'TG-07-2010',\n",
        "'TG-10-2010',\n",
        "'TG-12-2010',\n",
        "'TG-04-2005',\n",
        "'TG-05-2005',\n",
        "'TG-06-2005',\n",
        "'TG-07-2005',\n",
        "'TG-09-2005',\n",
        "'TG-12-2005',\n",
        "'TN-05-2010',\n",
        "'TN-06-2010',\n",
        "'TN-07-2010',\n",
        "'TN-09-2010',\n",
        "'TN-10-2010',\n",
        "'TN-05-2005',\n",
        "'TN-06-2005',\n",
        "'TN-09-2005',\n",
        "'DTR-01-2010',\n",
        "'DTR-02-2010',\n",
        "'DTR-03-2010',\n",
        "'DTR-07-2010',\n",
        "'DTR-12-2010',\n",
        "'DTR-08-2005',\n",
        "'DTR-09-2005',\n",
        "'DTR-11-2005',\n",
        "'DTR-12-2005',\n",
        "'RR1-01-2010',\n",
        "'RR1-02-2010',\n",
        "'RR1-03-2010',\n",
        "'RR1-04-2010',\n",
        "'RR1-05-2010',\n",
        "'RR1-06-2010',\n",
        "'RR1-09-2010',\n",
        "'RR1-04-2005',\n",
        "'RR1-07-2005',\n",
        "'RR1-08-2005',\n",
        "'RR1-09-2005',\n",
        "'RR1-12-2005',\n",
        "'RR-05-2010',\n",
        "'RR-09-2010',\n",
        "'RR-10-2010',\n",
        "'RR-02-2005',\n",
        "'RR-03-2005',\n",
        "'RR-06-2005',\n",
        "'RR-07-2005',\n",
        "'RR-08-2005',\n",
        "'RR-10-2005',\n",
        "'RR-11-2005',\n",
        "'SU-03-2010',\n",
        "'SU-04-2010',\n",
        "'SU-05-2010',\n",
        "'SU-06-2010',\n",
        "'SU-09-2010',\n",
        "'SU-10-2010',\n",
        "'SU-12-2010',\n",
        "'SU-02-2005',\n",
        "'SU-04-2005',\n",
        "'SU-05-2005',\n",
        "'SU-06-2005',\n",
        "'SU-07-2005',\n",
        "'SU-10-2005',\n",
        "'SU-11-2005',\n",
        "'SU-12-2005',\n",
        "'TNn-05-2010',\n",
        "'TNn-06-2010',\n",
        "'TNn-07-2010',\n",
        "'TNn-08-2010',\n",
        "'TNn-09-2010',\n",
        "'TNn-05-2005',\n",
        "'TNn-12-2005',\n",
        "'TR-06-2005',\n",
        "'TR-10-2005',\n",
        "'TR-12-2005',\n",
        "'TX-01-2010',\n",
        "'TX-02-2010',\n",
        "'TX-04-2010',\n",
        "'TX-08-2010',\n",
        "'TX-10-2010',\n",
        "'TX-02-2005',\n",
        "'TX-06-2005',\n",
        "'TX-07-2005',\n",
        "'TX-08-2005',\n",
        "'TX-09-2005',\n",
        "'TX-11-2005',\n",
        "'TXn-01-2010',\n",
        "'TXn-02-2010',\n",
        "'TXn-04-2010',\n",
        "'TXn-06-2010',\n",
        "'TXn-10-2010',\n",
        "'TXn-12-2010',\n",
        "'TXn-01-2005',\n",
        "'TXn-03-2005',\n",
        "'TXn-06-2005',\n",
        "'TXn-09-2005',\n",
        "'TXx-02-2010',\n",
        "'TXx-04-2010',\n",
        "'TXx-10-2010',\n",
        "'TXx-11-2010',\n",
        "'TXx-03-2005',\n",
        "'TXx-04-2005',\n",
        "'TXx-05-2005',\n",
        "'TXx-06-2005',\n",
        "'TXx-09-2005',\n",
        "'TXx-10-2005']"
      ],
      "execution_count": 0,
      "outputs": []
    },
    {
      "cell_type": "code",
      "metadata": {
        "id": "kpJYJJQAlDlT",
        "colab_type": "code",
        "colab": {}
      },
      "source": [
        "non_climatic_features = [\"soil_types\",\n",
        "                         \"climate_zones\",\n",
        "                         \"elevation\",\n",
        "                         \"slope\",\n",
        "                         \"irrigation\"\n",
        "                         ]\n",
        "\n",
        "target = [\"maize_a_2010\"]"
      ],
      "execution_count": 0,
      "outputs": []
    },
    {
      "cell_type": "code",
      "metadata": {
        "id": "-Mt6gLh3lyjW",
        "colab_type": "code",
        "colab": {}
      },
      "source": [
        "feature_slice = features_to_select + non_climatic_features + target"
      ],
      "execution_count": 0,
      "outputs": []
    },
    {
      "cell_type": "code",
      "metadata": {
        "id": "b-E_Jr1cC38i",
        "colab_type": "code",
        "colab": {}
      },
      "source": [
        "categorical_variables = [\"climate_zones\",\n",
        "                         \"soil_types\"\n",
        "                                              ]"
      ],
      "execution_count": 0,
      "outputs": []
    },
    {
      "cell_type": "code",
      "metadata": {
        "id": "AKJyUO6sDp9N",
        "colab_type": "code",
        "colab": {}
      },
      "source": [
        "dataset = pd.read_csv(\"climate_monthly_seasonal_2005_2010_with_spatial_attributes_filtered.csv\") #replace this with the file you want to use\n",
        "#you should import the csv which is already processed (nans removed) and with only the columns we want but not one-hot encoded\n",
        "\n",
        "from sklearn.model_selection import train_test_split\n",
        "from tqdm import tqdm\n",
        "tqdm.pandas()\n",
        "import xarray as xr\n",
        "import random\n",
        "\n",
        "dataset = dataset[feature_slice]\n",
        "\n",
        "dataset = dataset[abs(dataset['maize_a_2010'] - dataset['maize_a_2005']) / dataset['maize_a_2005'] < 1] # select yields based on 100% threshold \n",
        "\n",
        "\n",
        "random_seed = 42\n",
        "\n",
        "target = 'maize_a_2010'"
      ],
      "execution_count": 0,
      "outputs": []
    },
    {
      "cell_type": "markdown",
      "metadata": {
        "id": "3H7TeNFgDqzB",
        "colab_type": "text"
      },
      "source": [
        "### One-hot encoded data ###"
      ]
    },
    {
      "cell_type": "code",
      "metadata": {
        "id": "8GBMUv4rDFKu",
        "colab_type": "code",
        "colab": {}
      },
      "source": [
        "def one_hot(df, columns):\n",
        "    '''\n",
        "    one hot encode columns and concat to original df\n",
        "    ----------\n",
        "    Parameters: \n",
        "    df (pandas dataframe)\n",
        "    columns (list of strings): columns to one hot encode\n",
        "    \n",
        "    -------\n",
        "    Return:\n",
        "     One pandas dataframe with the one hot encoded columns \n",
        "    \n",
        "    '''\n",
        "    return pd.concat((df, pd.get_dummies(df[columns])), axis=1)"
      ],
      "execution_count": 0,
      "outputs": []
    },
    {
      "cell_type": "code",
      "metadata": {
        "id": "0R2YzuouDF7c",
        "colab_type": "code",
        "colab": {}
      },
      "source": [
        "def format_col_to_str(df, cols):\n",
        "    '''\n",
        "    Convert multiple columns to str format\n",
        "    ---------------------\n",
        "    Parameters:\n",
        "    df (pandas DataFrame)\n",
        "    cols (list of strings): cols to convert\n",
        "    '''\n",
        "    \n",
        "    return df[cols].astype(str)"
      ],
      "execution_count": 0,
      "outputs": []
    },
    {
      "cell_type": "code",
      "metadata": {
        "id": "55usFvQXGc0P",
        "colab_type": "code",
        "colab": {}
      },
      "source": [
        "dataset_1 = dataset.copy()\n",
        "\n",
        "dataset_1[categorical_variables] = format_col_to_str(dataset_1, categorical_variables)\n",
        "dataset_1 = one_hot(dataset_1, columns=categorical_variables)\n",
        "dataset_1.drop(categorical_variables, axis=1,inplace=True)\n",
        "\n",
        "\n",
        "X = dataset_1.drop(target,axis=1)\n",
        "\n",
        "y = dataset_1[[target]]\n",
        "\n",
        "train_set_x, test_set_x, train_set_y, test_set_y = train_test_split(X, y, test_size=0.3, random_state=random_seed, shuffle=True)"
      ],
      "execution_count": 0,
      "outputs": []
    },
    {
      "cell_type": "markdown",
      "metadata": {
        "id": "d2ss8SnsIVGg",
        "colab_type": "text"
      },
      "source": [
        "# Model exploration # "
      ]
    },
    {
      "cell_type": "markdown",
      "metadata": {
        "id": "KluTcmZTbHJ1",
        "colab_type": "text"
      },
      "source": [
        "## Which models can at least fit the training data? ##"
      ]
    },
    {
      "cell_type": "markdown",
      "metadata": {
        "id": "f4KKy4beESyD",
        "colab_type": "text"
      },
      "source": [
        "They need to at least get a high R2 on the training set in order to have a chance at the test set (after sufficient regularisation)."
      ]
    },
    {
      "cell_type": "markdown",
      "metadata": {
        "id": "g_ogXEQ2bLVE",
        "colab_type": "text"
      },
      "source": [
        "### Random Forests ###\n"
      ]
    },
    {
      "cell_type": "code",
      "metadata": {
        "id": "HLFNZB5TIUCC",
        "colab_type": "code",
        "outputId": "bd28d3db-75b3-437d-8ae2-9a8f887b4f8b",
        "colab": {
          "base_uri": "https://localhost:8080/",
          "height": 394
        }
      },
      "source": [
        "%%time \n",
        "\n",
        "from sklearn.ensemble import RandomForestRegressor\n",
        "\n",
        "rnd_reg = RandomForestRegressor(n_estimators=15, n_jobs=-1, verbose=3)\n",
        "rnd_reg.fit(train_set_x,train_set_y)"
      ],
      "execution_count": 0,
      "outputs": [
        {
          "output_type": "stream",
          "text": [
            "/usr/local/lib/python3.6/dist-packages/ipykernel_launcher.py:5: DataConversionWarning: A column-vector y was passed when a 1d array was expected. Please change the shape of y to (n_samples,), for example using ravel().\n",
            "  \"\"\"\n",
            "[Parallel(n_jobs=-1)]: Using backend ThreadingBackend with 4 concurrent workers.\n"
          ],
          "name": "stderr"
        },
        {
          "output_type": "stream",
          "text": [
            "building tree 1 of 15building tree 2 of 15building tree 3 of 15building tree 4 of 15\n",
            "\n",
            "\n",
            "\n",
            "building tree 5 of 15\n",
            "building tree 6 of 15\n",
            "building tree 7 of 15\n",
            "building tree 8 of 15\n",
            "building tree 9 of 15\n",
            "building tree 10 of 15\n",
            "building tree 11 of 15\n",
            "building tree 12 of 15\n",
            "building tree 13 of 15\n",
            "building tree 14 of 15\n",
            "building tree 15 of 15\n"
          ],
          "name": "stdout"
        },
        {
          "output_type": "stream",
          "text": [
            "[Parallel(n_jobs=-1)]: Done  15 out of  15 | elapsed:  7.2min finished\n"
          ],
          "name": "stderr"
        },
        {
          "output_type": "stream",
          "text": [
            "CPU times: user 26min 46s, sys: 478 ms, total: 26min 47s\n",
            "Wall time: 7min 14s\n"
          ],
          "name": "stdout"
        }
      ]
    },
    {
      "cell_type": "code",
      "metadata": {
        "id": "hpOcxA0GIi6H",
        "colab_type": "code",
        "outputId": "8d0fe431-3cca-4bbb-958a-da0d3e97408e",
        "colab": {
          "base_uri": "https://localhost:8080/",
          "height": 68
        }
      },
      "source": [
        "rnd_reg.score(train_set_x,train_set_y)"
      ],
      "execution_count": 0,
      "outputs": [
        {
          "output_type": "stream",
          "text": [
            "[Parallel(n_jobs=4)]: Using backend ThreadingBackend with 4 concurrent workers.\n",
            "[Parallel(n_jobs=4)]: Done  15 out of  15 | elapsed:    1.0s finished\n"
          ],
          "name": "stderr"
        },
        {
          "output_type": "execute_result",
          "data": {
            "text/plain": [
              "0.9924742079280336"
            ]
          },
          "metadata": {
            "tags": []
          },
          "execution_count": 44
        }
      ]
    },
    {
      "cell_type": "code",
      "metadata": {
        "id": "NzUH2ROsESAs",
        "colab_type": "code",
        "outputId": "ea9442e8-11c1-4c13-831e-af3f68b04137",
        "colab": {
          "base_uri": "https://localhost:8080/",
          "height": 68
        }
      },
      "source": [
        "rnd_reg.score(test_set_x,test_set_y)"
      ],
      "execution_count": 0,
      "outputs": [
        {
          "output_type": "stream",
          "text": [
            "[Parallel(n_jobs=4)]: Using backend ThreadingBackend with 4 concurrent workers.\n",
            "[Parallel(n_jobs=4)]: Done  15 out of  15 | elapsed:    0.5s finished\n"
          ],
          "name": "stderr"
        },
        {
          "output_type": "execute_result",
          "data": {
            "text/plain": [
              "0.9564778689335509"
            ]
          },
          "metadata": {
            "tags": []
          },
          "execution_count": 45
        }
      ]
    },
    {
      "cell_type": "markdown",
      "metadata": {
        "id": "N4aJWb-eW5_Q",
        "colab_type": "text"
      },
      "source": [
        "### Extra trees ###\n"
      ]
    },
    {
      "cell_type": "code",
      "metadata": {
        "colab_type": "code",
        "outputId": "d7336ee8-9ca8-47ca-99f7-c584fc3917b5",
        "id": "m185zE8MTB3i",
        "colab": {
          "base_uri": "https://localhost:8080/",
          "height": 326
        }
      },
      "source": [
        "%%time \n",
        "\n",
        "from sklearn.ensemble import ExtraTreesRegressor\n",
        "\n",
        "extra_trees = ExtraTreesRegressor(n_jobs=-1, verbose=3, n_estimators=10)\n",
        "extra_trees = extra_trees.fit(train_set_x, train_set_y)\n",
        "\n"
      ],
      "execution_count": 0,
      "outputs": [
        {
          "output_type": "stream",
          "text": [
            "/usr/local/lib/python3.6/dist-packages/ipykernel_launcher.py:5: DataConversionWarning: A column-vector y was passed when a 1d array was expected. Please change the shape of y to (n_samples,), for example using ravel().\n",
            "  \"\"\"\n",
            "[Parallel(n_jobs=-1)]: Using backend ThreadingBackend with 4 concurrent workers.\n"
          ],
          "name": "stderr"
        },
        {
          "output_type": "stream",
          "text": [
            "building tree 1 of 10building tree 2 of 10building tree 3 of 10building tree 4 of 10\n",
            "\n",
            "\n",
            "\n",
            "building tree 5 of 10\n",
            "building tree 6 of 10\n",
            "building tree 7 of 10\n",
            "building tree 8 of 10\n",
            "building tree 9 of 10\n",
            "building tree 10 of 10\n"
          ],
          "name": "stdout"
        },
        {
          "output_type": "stream",
          "text": [
            "[Parallel(n_jobs=-1)]: Done   7 out of  10 | elapsed:  1.2min remaining:   31.6s\n",
            "[Parallel(n_jobs=-1)]: Done  10 out of  10 | elapsed:  1.6min finished\n"
          ],
          "name": "stderr"
        },
        {
          "output_type": "stream",
          "text": [
            "CPU times: user 5min 31s, sys: 97.3 ms, total: 5min 31s\n",
            "Wall time: 1min 36s\n"
          ],
          "name": "stdout"
        }
      ]
    },
    {
      "cell_type": "code",
      "metadata": {
        "id": "aiCZh-RuTeS9",
        "colab_type": "code",
        "outputId": "670679f6-0c94-42dc-d783-c6cacb8b2694",
        "colab": {
          "base_uri": "https://localhost:8080/",
          "height": 85
        }
      },
      "source": [
        "extra_trees.score(train_set_x,train_set_y)\n"
      ],
      "execution_count": 0,
      "outputs": [
        {
          "output_type": "stream",
          "text": [
            "[Parallel(n_jobs=4)]: Using backend ThreadingBackend with 4 concurrent workers.\n",
            "[Parallel(n_jobs=4)]: Done   7 out of  10 | elapsed:    0.7s remaining:    0.3s\n",
            "[Parallel(n_jobs=4)]: Done  10 out of  10 | elapsed:    0.9s finished\n"
          ],
          "name": "stderr"
        },
        {
          "output_type": "execute_result",
          "data": {
            "text/plain": [
              "1.0"
            ]
          },
          "metadata": {
            "tags": []
          },
          "execution_count": 48
        }
      ]
    },
    {
      "cell_type": "code",
      "metadata": {
        "id": "vi5NMI54dnTF",
        "colab_type": "code",
        "outputId": "2da1036a-36b0-4f46-9cdf-146d07fa2f35",
        "colab": {
          "base_uri": "https://localhost:8080/",
          "height": 85
        }
      },
      "source": [
        "extra_trees.score(test_set_x,test_set_y)"
      ],
      "execution_count": 0,
      "outputs": [
        {
          "output_type": "stream",
          "text": [
            "[Parallel(n_jobs=4)]: Using backend ThreadingBackend with 4 concurrent workers.\n",
            "[Parallel(n_jobs=4)]: Done   7 out of  10 | elapsed:    0.3s remaining:    0.1s\n",
            "[Parallel(n_jobs=4)]: Done  10 out of  10 | elapsed:    0.4s finished\n"
          ],
          "name": "stderr"
        },
        {
          "output_type": "execute_result",
          "data": {
            "text/plain": [
              "0.959570610665564"
            ]
          },
          "metadata": {
            "tags": []
          },
          "execution_count": 47
        }
      ]
    },
    {
      "cell_type": "markdown",
      "metadata": {
        "id": "5XkeEpdVXpGT",
        "colab_type": "text"
      },
      "source": [
        "### Extreme Boosting ###"
      ]
    },
    {
      "cell_type": "code",
      "metadata": {
        "id": "Z5qVR631XnpS",
        "colab_type": "code",
        "outputId": "d876c5d4-cc60-4bf0-d41d-3f3b3582b48c",
        "colab": {
          "base_uri": "https://localhost:8080/",
          "height": 68
        }
      },
      "source": [
        "!pip3 install xgboost"
      ],
      "execution_count": 0,
      "outputs": [
        {
          "output_type": "stream",
          "text": [
            "Requirement already satisfied: xgboost in /usr/local/lib/python3.6/dist-packages (0.90)\n",
            "Requirement already satisfied: scipy in /usr/local/lib/python3.6/dist-packages (from xgboost) (1.4.1)\n",
            "Requirement already satisfied: numpy in /usr/local/lib/python3.6/dist-packages (from xgboost) (1.18.2)\n"
          ],
          "name": "stdout"
        }
      ]
    },
    {
      "cell_type": "code",
      "metadata": {
        "id": "7arlBrliXmYV",
        "colab_type": "code",
        "colab": {}
      },
      "source": [
        "import xgboost as xgb\n"
      ],
      "execution_count": 0,
      "outputs": []
    },
    {
      "cell_type": "code",
      "metadata": {
        "id": "TIVZ60uIee3q",
        "colab_type": "code",
        "colab": {}
      },
      "source": [
        "xgbmodel = xgb.XGBRegressor(n_jobs=-1, verboxity=2, random_state=42, n_estimators=100, objective=\"reg:squarederror\", max_depth=20)"
      ],
      "execution_count": 0,
      "outputs": []
    },
    {
      "cell_type": "code",
      "metadata": {
        "id": "HuUaTOhKfamI",
        "colab_type": "code",
        "outputId": "7a7c64ba-5c18-4dfa-acd9-22485f59ab44",
        "colab": {
          "base_uri": "https://localhost:8080/",
          "height": 143
        }
      },
      "source": [
        "xgbmodel.fit(train_set_x,train_set_y)"
      ],
      "execution_count": 0,
      "outputs": [
        {
          "output_type": "execute_result",
          "data": {
            "text/plain": [
              "XGBRegressor(base_score=0.5, booster='gbtree', colsample_bylevel=1,\n",
              "             colsample_bynode=1, colsample_bytree=1, gamma=0,\n",
              "             importance_type='gain', learning_rate=0.1, max_delta_step=0,\n",
              "             max_depth=20, min_child_weight=1, missing=None, n_estimators=100,\n",
              "             n_jobs=-1, nthread=None, objective='reg:squarederror',\n",
              "             random_state=42, reg_alpha=0, reg_lambda=1, scale_pos_weight=1,\n",
              "             seed=None, silent=None, subsample=1, verbosity=1, verboxity=2)"
            ]
          },
          "metadata": {
            "tags": []
          },
          "execution_count": 40
        }
      ]
    },
    {
      "cell_type": "code",
      "metadata": {
        "id": "NPDdv2N3gWak",
        "colab_type": "code",
        "outputId": "68a0f0ef-898b-4b76-a421-66221c062ffb",
        "colab": {
          "base_uri": "https://localhost:8080/",
          "height": 35
        }
      },
      "source": [
        "xgbmodel.score(train_set_y, xgbmodel.predict(train_set_x))"
      ],
      "execution_count": 0,
      "outputs": [
        {
          "output_type": "execute_result",
          "data": {
            "text/plain": [
              "0.9975928970862603"
            ]
          },
          "metadata": {
            "tags": []
          },
          "execution_count": 41
        }
      ]
    },
    {
      "cell_type": "markdown",
      "metadata": {
        "id": "3gqPy36kTVHt",
        "colab_type": "text"
      },
      "source": [
        "All three models have capacity to fit the data."
      ]
    },
    {
      "cell_type": "markdown",
      "metadata": {
        "id": "rkU6llLbNsgB",
        "colab_type": "text"
      },
      "source": [
        "## Hyperparameter tuning: search of parameter space ## "
      ]
    },
    {
      "cell_type": "markdown",
      "metadata": {
        "id": "7lqMjBUITIH1",
        "colab_type": "text"
      },
      "source": [
        "### Random Forest ### "
      ]
    },
    {
      "cell_type": "code",
      "metadata": {
        "id": "dK-WqAiqIjuz",
        "colab_type": "code",
        "colab": {}
      },
      "source": [
        "from sklearn.ensemble import RandomForestRegressor\n",
        "from scipy.stats import randint as sp_randint\n",
        "from scipy.stats import uniform\n",
        "from sklearn.model_selection import RandomizedSearchCV"
      ],
      "execution_count": 0,
      "outputs": []
    },
    {
      "cell_type": "markdown",
      "metadata": {
        "id": "AjQZTgMiMTPn",
        "colab_type": "text"
      },
      "source": [
        "Example hyperparameter random search\n"
      ]
    },
    {
      "cell_type": "code",
      "metadata": {
        "id": "qo1eEcX69Y7J",
        "colab_type": "code",
        "colab": {}
      },
      "source": [
        "parameter_grid = {\n",
        "\n",
        "  'n_estimators': sp_randint(8,40),\n",
        "  'max_depth':  sp_randint(800,10000),\n",
        "  'min_samples_split': uniform(0.0001,0.8)\n",
        "\n",
        "}"
      ],
      "execution_count": 0,
      "outputs": []
    },
    {
      "cell_type": "code",
      "metadata": {
        "id": "FMCkEGiS9b70",
        "colab_type": "code",
        "colab": {}
      },
      "source": [
        "rnd_search = RandomForestRegressor()\n",
        "random_search_rf = RandomizedSearchCV(rnd_search, parameter_grid, cv=5, n_jobs=-1, random_state=42, verbose=10)\n",
        "\n",
        "random_search_rf.fit(train_set_x,train_set_y)\n",
        "result = pd.concat([pd.DataFrame(random_search_rf.cv_results_[\"params\"]),pd.DataFrame(random_search_rf.cv_results_[\"mean_test_score\"], columns=[\"Score\"])],axis=1)\n",
        "result.sort_values(by=\"Score\", ascending=False, inplace=True)"
      ],
      "execution_count": 0,
      "outputs": []
    },
    {
      "cell_type": "markdown",
      "metadata": {
        "id": "IT8r9NKeXml7",
        "colab_type": "text"
      },
      "source": [
        "Selection of best RF model"
      ]
    },
    {
      "cell_type": "code",
      "metadata": {
        "id": "bkJCVYUbRwlF",
        "colab_type": "code",
        "colab": {}
      },
      "source": [
        "rf = RandomForestRegressor(bootstrap=True, ccp_alpha=0.0, criterion='mse',\n",
        "                      max_depth=9734, max_features='auto', max_leaf_nodes=None,\n",
        "                      max_samples=None, min_impurity_decrease=0.0,\n",
        "                      min_impurity_split=None, min_samples_leaf=1,\n",
        "                      min_samples_split=3, min_weight_fraction_leaf=0.0,\n",
        "                      n_estimators=48, n_jobs=None, oob_score=False,\n",
        "                      random_state=None, verbose=3, warm_start=False)"
      ],
      "execution_count": 0,
      "outputs": []
    },
    {
      "cell_type": "code",
      "metadata": {
        "id": "9o_Pp2YTR0rR",
        "colab_type": "code",
        "colab": {}
      },
      "source": [
        "%%time\n",
        "\n",
        "rf.fit(train_set_x, train_set_y)"
      ],
      "execution_count": 0,
      "outputs": []
    },
    {
      "cell_type": "markdown",
      "metadata": {
        "id": "ZZsWj6X2Xt6s",
        "colab_type": "text"
      },
      "source": [
        "Final RF has score of R2=0.958"
      ]
    },
    {
      "cell_type": "code",
      "metadata": {
        "id": "K32CK5cyR70P",
        "colab_type": "code",
        "outputId": "81a88f1b-c596-4b17-dc9b-200717dcb0fe",
        "colab": {
          "base_uri": "https://localhost:8080/",
          "height": 102
        }
      },
      "source": [
        "rf.score(test_set_x_prepared, test_set_y)"
      ],
      "execution_count": 0,
      "outputs": [
        {
          "output_type": "stream",
          "text": [
            "[Parallel(n_jobs=1)]: Using backend SequentialBackend with 1 concurrent workers.\n",
            "[Parallel(n_jobs=1)]: Done   1 out of   1 | elapsed:    0.1s remaining:    0.0s\n",
            "[Parallel(n_jobs=1)]: Done   2 out of   2 | elapsed:    0.2s remaining:    0.0s\n",
            "[Parallel(n_jobs=1)]: Done  48 out of  48 | elapsed:    4.4s finished\n"
          ],
          "name": "stderr"
        },
        {
          "output_type": "execute_result",
          "data": {
            "text/plain": [
              "0.958166398421789"
            ]
          },
          "metadata": {
            "tags": []
          },
          "execution_count": 30
        }
      ]
    },
    {
      "cell_type": "markdown",
      "metadata": {
        "id": "sWA-acyiNz_S",
        "colab_type": "text"
      },
      "source": [
        "### Extra Trees ###"
      ]
    },
    {
      "cell_type": "code",
      "metadata": {
        "id": "_cLJpBjUV2iK",
        "colab_type": "code",
        "colab": {}
      },
      "source": [
        "from sklearn.ensemble import ExtraTreesRegressor\n",
        "from scipy.stats import randint as sp_randint\n",
        "from scipy.stats import uniform\n",
        "from sklearn.model_selection import RandomizedSearchCV"
      ],
      "execution_count": 0,
      "outputs": []
    },
    {
      "cell_type": "markdown",
      "metadata": {
        "id": "xK6V2vBfV6bi",
        "colab_type": "text"
      },
      "source": [
        "Example hyperparameter search"
      ]
    },
    {
      "cell_type": "code",
      "metadata": {
        "id": "f_WmbcojuyKU",
        "colab_type": "code",
        "colab": {}
      },
      "source": [
        "parameter_grid = {\n",
        "\n",
        "  'n_estimators': sp_randint(1,50),\n",
        "  'max_depth':  sp_randint(1,40),\n",
        "  'min_samples_split': uniform(0.01,0.199)\n",
        "\n",
        "}"
      ],
      "execution_count": 0,
      "outputs": []
    },
    {
      "cell_type": "code",
      "metadata": {
        "id": "PllVnTe8Pmn6",
        "colab_type": "code",
        "colab": {}
      },
      "source": [
        "extra_trees_search = ExtraTreesRegressor()\n",
        "random_search = RandomizedSearchCV(extra_trees_search, parameter_grid, cv=5, n_jobs=-1, random_state=42)\n",
        "random_search.fit(train_set_x,train_set_y)\n",
        "\n",
        "result = pd.concat([pd.DataFrame(random_search.cv_results_[\"params\"]),pd.DataFrame(random_search.cv_results_[\"mean_test_score\"], columns=[\"Score\"])],axis=1)\n",
        "result.sort_values(by=\"Score\", ascending=False, inplace=True)\n",
        "result"
      ],
      "execution_count": 0,
      "outputs": []
    },
    {
      "cell_type": "markdown",
      "metadata": {
        "id": "1AEhPTk4W1AS",
        "colab_type": "text"
      },
      "source": [
        "Selecting final extra trees model\n"
      ]
    },
    {
      "cell_type": "code",
      "metadata": {
        "id": "mstAQXRvT_2O",
        "colab_type": "code",
        "colab": {}
      },
      "source": [
        "extra_trees_final = ExtraTreesRegressor(bootstrap=False, ccp_alpha=0.0, criterion='mse',\n",
        "                    max_depth=None, max_features='auto', max_leaf_nodes=None,\n",
        "                    max_samples=None, min_impurity_decrease=0.0,\n",
        "                    min_impurity_split=None, min_samples_leaf=1,\n",
        "                    min_samples_split=2, min_weight_fraction_leaf=0.0,\n",
        "                    n_estimators=10, n_jobs=-1, oob_score=False,\n",
        "                    random_state=None, verbose=3, warm_start=False)"
      ],
      "execution_count": 0,
      "outputs": []
    },
    {
      "cell_type": "code",
      "metadata": {
        "id": "Rga4cDi1UDHe",
        "colab_type": "code",
        "colab": {}
      },
      "source": [
        "%%time\n",
        "extra_trees_final.fit(train_set_x, train_set_y)"
      ],
      "execution_count": 0,
      "outputs": []
    },
    {
      "cell_type": "code",
      "metadata": {
        "id": "LpWY-spaVatd",
        "colab_type": "code",
        "outputId": "49f0d0be-ebba-4711-d2db-33805bd7cdc1",
        "colab": {
          "base_uri": "https://localhost:8080/",
          "height": 85
        }
      },
      "source": [
        "extra_trees_final.score(test_set_x, test_set_y)"
      ],
      "execution_count": 0,
      "outputs": [
        {
          "output_type": "stream",
          "text": [
            "[Parallel(n_jobs=4)]: Using backend ThreadingBackend with 4 concurrent workers.\n",
            "[Parallel(n_jobs=4)]: Done   7 out of  10 | elapsed:    0.3s remaining:    0.1s\n",
            "[Parallel(n_jobs=4)]: Done  10 out of  10 | elapsed:    0.4s finished\n"
          ],
          "name": "stderr"
        },
        {
          "output_type": "execute_result",
          "data": {
            "text/plain": [
              "0.9598494134785569"
            ]
          },
          "metadata": {
            "tags": []
          },
          "execution_count": 61
        }
      ]
    },
    {
      "cell_type": "markdown",
      "metadata": {
        "id": "95r3nUU6WVzS",
        "colab_type": "text"
      },
      "source": [
        "Final extra trees score is 0.960"
      ]
    },
    {
      "cell_type": "markdown",
      "metadata": {
        "id": "bBuNvsRJUbQZ",
        "colab_type": "text"
      },
      "source": [
        "### Extreme Boosting ###"
      ]
    },
    {
      "cell_type": "code",
      "metadata": {
        "id": "eddN9EmRlZFN",
        "colab_type": "code",
        "outputId": "74a5a8b6-f635-4bdb-b745-e9356b6035ce",
        "colab": {
          "base_uri": "https://localhost:8080/",
          "height": 68
        }
      },
      "source": [
        "!pip3 install xgboost\n"
      ],
      "execution_count": 0,
      "outputs": [
        {
          "output_type": "stream",
          "text": [
            "Requirement already satisfied: xgboost in /usr/local/lib/python3.6/dist-packages (0.90)\n",
            "Requirement already satisfied: numpy in /usr/local/lib/python3.6/dist-packages (from xgboost) (1.18.2)\n",
            "Requirement already satisfied: scipy in /usr/local/lib/python3.6/dist-packages (from xgboost) (1.4.1)\n"
          ],
          "name": "stdout"
        }
      ]
    },
    {
      "cell_type": "code",
      "metadata": {
        "id": "vdYqoCbwFu0A",
        "colab_type": "code",
        "colab": {}
      },
      "source": [
        "from sklearn.model_selection import RandomizedSearchCV\n",
        "from scipy.stats import randint as sp_randint\n",
        "from scipy.stats import uniform\n",
        "import xgboost as xgb\n"
      ],
      "execution_count": 0,
      "outputs": []
    },
    {
      "cell_type": "markdown",
      "metadata": {
        "id": "_6BlZMHCHC-V",
        "colab_type": "text"
      },
      "source": [
        "Example random search over hyperparameters"
      ]
    },
    {
      "cell_type": "code",
      "metadata": {
        "id": "mtag2-MxaN6C",
        "colab_type": "code",
        "outputId": "2a239d6b-df63-44e3-80a9-c8adeb4d42eb",
        "colab": {
          "base_uri": "https://localhost:8080/",
          "height": 938
        }
      },
      "source": [
        "parameter_grid4 = {\n",
        "\n",
        "  'min_child_weight': sp_randint(15,17),\n",
        "  'max_depth':  sp_randint(13,16),\n",
        "  'gamma': uniform(1.260,0.001),\n",
        "  'subsample': uniform(0.86, 0.02),\n",
        " 'colsample_bytree': uniform(0.71,0.08),\n",
        "  'n_estimators': sp_randint(225,240)\n",
        "\n",
        "}\n",
        "\n",
        "xgb_model4 = xgb.XGBRegressor(tree_method='gpu_hist', objective=\"reg:squarederror\") #tree method gpu_hist allows gpu usage\n",
        "\n",
        "random_search_xgb4 = RandomizedSearchCV(xgb_model4, parameter_grid4, cv=5, random_state=42, verbose=10, error_score='raise', n_iter=5)\n",
        "\n",
        "random_search_xgb4.fit(train_set_x,train_set_y)\n",
        "\n",
        "result = pd.concat([pd.DataFrame(random_search_xgb4.cv_results_[\"params\"]),pd.DataFrame(random_search_xgb4.cv_results_[\"mean_test_score\"], columns=[\"Score\"])],axis=1)\n",
        "result.sort_values(by=\"Score\", ascending=False, inplace=True)\n",
        "result"
      ],
      "execution_count": 0,
      "outputs": [
        {
          "output_type": "stream",
          "text": [
            "Fitting 3 folds for each of 5 candidates, totalling 15 fits\n",
            "[CV] colsample_bytree=0.7399632095077889, gamma=1.2609507143064098, max_depth=15, min_child_weight=16, n_estimators=237, subsample=0.8719370031589297 \n"
          ],
          "name": "stdout"
        },
        {
          "output_type": "stream",
          "text": [
            "[Parallel(n_jobs=1)]: Using backend SequentialBackend with 1 concurrent workers.\n"
          ],
          "name": "stderr"
        },
        {
          "output_type": "stream",
          "text": [
            "[CV]  colsample_bytree=0.7399632095077889, gamma=1.2609507143064098, max_depth=15, min_child_weight=16, n_estimators=237, subsample=0.8719370031589297, score=0.959, total=  26.7s\n",
            "[CV] colsample_bytree=0.7399632095077889, gamma=1.2609507143064098, max_depth=15, min_child_weight=16, n_estimators=237, subsample=0.8719370031589297 \n"
          ],
          "name": "stdout"
        },
        {
          "output_type": "stream",
          "text": [
            "[Parallel(n_jobs=1)]: Done   1 out of   1 | elapsed:   26.7s remaining:    0.0s\n"
          ],
          "name": "stderr"
        },
        {
          "output_type": "stream",
          "text": [
            "[CV]  colsample_bytree=0.7399632095077889, gamma=1.2609507143064098, max_depth=15, min_child_weight=16, n_estimators=237, subsample=0.8719370031589297, score=0.958, total=  26.7s\n",
            "[CV] colsample_bytree=0.7399632095077889, gamma=1.2609507143064098, max_depth=15, min_child_weight=16, n_estimators=237, subsample=0.8719370031589297 \n"
          ],
          "name": "stdout"
        },
        {
          "output_type": "stream",
          "text": [
            "[Parallel(n_jobs=1)]: Done   2 out of   2 | elapsed:   53.5s remaining:    0.0s\n"
          ],
          "name": "stderr"
        },
        {
          "output_type": "stream",
          "text": [
            "[CV]  colsample_bytree=0.7399632095077889, gamma=1.2609507143064098, max_depth=15, min_child_weight=16, n_estimators=237, subsample=0.8719370031589297, score=0.959, total=  26.2s\n",
            "[CV] colsample_bytree=0.7456666202282872, gamma=1.260099974915818, max_depth=15, min_child_weight=16, n_estimators=229, subsample=0.8720223002348642 \n"
          ],
          "name": "stdout"
        },
        {
          "output_type": "stream",
          "text": [
            "[Parallel(n_jobs=1)]: Done   3 out of   3 | elapsed:  1.3min remaining:    0.0s\n"
          ],
          "name": "stderr"
        },
        {
          "output_type": "stream",
          "text": [
            "[CV]  colsample_bytree=0.7456666202282872, gamma=1.260099974915818, max_depth=15, min_child_weight=16, n_estimators=229, subsample=0.8720223002348642, score=0.959, total=  26.2s\n",
            "[CV] colsample_bytree=0.7456666202282872, gamma=1.260099974915818, max_depth=15, min_child_weight=16, n_estimators=229, subsample=0.8720223002348642 \n"
          ],
          "name": "stdout"
        },
        {
          "output_type": "stream",
          "text": [
            "[Parallel(n_jobs=1)]: Done   4 out of   4 | elapsed:  1.8min remaining:    0.0s\n"
          ],
          "name": "stderr"
        },
        {
          "output_type": "stream",
          "text": [
            "[CV]  colsample_bytree=0.7456666202282872, gamma=1.260099974915818, max_depth=15, min_child_weight=16, n_estimators=229, subsample=0.8720223002348642, score=0.957, total=  25.9s\n",
            "[CV] colsample_bytree=0.7456666202282872, gamma=1.260099974915818, max_depth=15, min_child_weight=16, n_estimators=229, subsample=0.8720223002348642 \n"
          ],
          "name": "stdout"
        },
        {
          "output_type": "stream",
          "text": [
            "[Parallel(n_jobs=1)]: Done   5 out of   5 | elapsed:  2.2min remaining:    0.0s\n"
          ],
          "name": "stderr"
        },
        {
          "output_type": "stream",
          "text": [
            "[CV]  colsample_bytree=0.7456666202282872, gamma=1.260099974915818, max_depth=15, min_child_weight=16, n_estimators=229, subsample=0.8720223002348642, score=0.959, total=  25.8s\n",
            "[CV] colsample_bytree=0.7666458062236836, gamma=1.2600205844942958, max_depth=14, min_child_weight=16, n_estimators=236, subsample=0.878771054180315 \n"
          ],
          "name": "stdout"
        },
        {
          "output_type": "stream",
          "text": [
            "[Parallel(n_jobs=1)]: Done   6 out of   6 | elapsed:  2.6min remaining:    0.0s\n"
          ],
          "name": "stderr"
        },
        {
          "output_type": "stream",
          "text": [
            "[CV]  colsample_bytree=0.7666458062236836, gamma=1.2600205844942958, max_depth=14, min_child_weight=16, n_estimators=236, subsample=0.878771054180315, score=0.959, total=  22.8s\n",
            "[CV] colsample_bytree=0.7666458062236836, gamma=1.2600205844942958, max_depth=14, min_child_weight=16, n_estimators=236, subsample=0.878771054180315 \n"
          ],
          "name": "stdout"
        },
        {
          "output_type": "stream",
          "text": [
            "[Parallel(n_jobs=1)]: Done   7 out of   7 | elapsed:  3.0min remaining:    0.0s\n"
          ],
          "name": "stderr"
        },
        {
          "output_type": "stream",
          "text": [
            "[CV]  colsample_bytree=0.7666458062236836, gamma=1.2600205844942958, max_depth=14, min_child_weight=16, n_estimators=236, subsample=0.878771054180315, score=0.957, total=  22.6s\n",
            "[CV] colsample_bytree=0.7666458062236836, gamma=1.2600205844942958, max_depth=14, min_child_weight=16, n_estimators=236, subsample=0.878771054180315 \n"
          ],
          "name": "stdout"
        },
        {
          "output_type": "stream",
          "text": [
            "[Parallel(n_jobs=1)]: Done   8 out of   8 | elapsed:  3.4min remaining:    0.0s\n"
          ],
          "name": "stderr"
        },
        {
          "output_type": "stream",
          "text": [
            "[CV]  colsample_bytree=0.7666458062236836, gamma=1.2600205844942958, max_depth=14, min_child_weight=16, n_estimators=236, subsample=0.878771054180315, score=0.959, total=  22.6s\n",
            "[CV] colsample_bytree=0.7100623012672811, gamma=1.2609922115592913, max_depth=13, min_child_weight=16, n_estimators=234, subsample=0.8704951286326448 \n"
          ],
          "name": "stdout"
        },
        {
          "output_type": "stream",
          "text": [
            "[Parallel(n_jobs=1)]: Done   9 out of   9 | elapsed:  3.8min remaining:    0.0s\n"
          ],
          "name": "stderr"
        },
        {
          "output_type": "stream",
          "text": [
            "[CV]  colsample_bytree=0.7100623012672811, gamma=1.2609922115592913, max_depth=13, min_child_weight=16, n_estimators=234, subsample=0.8704951286326448, score=0.958, total=  19.0s\n",
            "[CV] colsample_bytree=0.7100623012672811, gamma=1.2609922115592913, max_depth=13, min_child_weight=16, n_estimators=234, subsample=0.8704951286326448 \n",
            "[CV]  colsample_bytree=0.7100623012672811, gamma=1.2609922115592913, max_depth=13, min_child_weight=16, n_estimators=234, subsample=0.8704951286326448, score=0.957, total=  18.9s\n",
            "[CV] colsample_bytree=0.7100623012672811, gamma=1.2609922115592913, max_depth=13, min_child_weight=16, n_estimators=234, subsample=0.8704951286326448 \n",
            "[CV]  colsample_bytree=0.7100623012672811, gamma=1.2609922115592913, max_depth=13, min_child_weight=16, n_estimators=234, subsample=0.8704951286326448, score=0.959, total=  18.8s\n",
            "[CV] colsample_bytree=0.7445556014913692, gamma=1.260291229140198, max_depth=15, min_child_weight=15, n_estimators=234, subsample=0.8609333132642722 \n",
            "[CV]  colsample_bytree=0.7445556014913692, gamma=1.260291229140198, max_depth=15, min_child_weight=15, n_estimators=234, subsample=0.8609333132642722, score=0.958, total=  27.0s\n",
            "[CV] colsample_bytree=0.7445556014913692, gamma=1.260291229140198, max_depth=15, min_child_weight=15, n_estimators=234, subsample=0.8609333132642722 \n",
            "[CV]  colsample_bytree=0.7445556014913692, gamma=1.260291229140198, max_depth=15, min_child_weight=15, n_estimators=234, subsample=0.8609333132642722, score=0.957, total=  26.7s\n",
            "[CV] colsample_bytree=0.7445556014913692, gamma=1.260291229140198, max_depth=15, min_child_weight=15, n_estimators=234, subsample=0.8609333132642722 \n",
            "[CV]  colsample_bytree=0.7445556014913692, gamma=1.260291229140198, max_depth=15, min_child_weight=15, n_estimators=234, subsample=0.8609333132642722, score=0.959, total=  26.6s\n"
          ],
          "name": "stdout"
        },
        {
          "output_type": "stream",
          "text": [
            "[Parallel(n_jobs=1)]: Done  15 out of  15 | elapsed:  6.0min finished\n"
          ],
          "name": "stderr"
        },
        {
          "output_type": "execute_result",
          "data": {
            "text/html": [
              "<div>\n",
              "<style scoped>\n",
              "    .dataframe tbody tr th:only-of-type {\n",
              "        vertical-align: middle;\n",
              "    }\n",
              "\n",
              "    .dataframe tbody tr th {\n",
              "        vertical-align: top;\n",
              "    }\n",
              "\n",
              "    .dataframe thead th {\n",
              "        text-align: right;\n",
              "    }\n",
              "</style>\n",
              "<table border=\"1\" class=\"dataframe\">\n",
              "  <thead>\n",
              "    <tr style=\"text-align: right;\">\n",
              "      <th></th>\n",
              "      <th>colsample_bytree</th>\n",
              "      <th>gamma</th>\n",
              "      <th>max_depth</th>\n",
              "      <th>min_child_weight</th>\n",
              "      <th>n_estimators</th>\n",
              "      <th>subsample</th>\n",
              "      <th>Score</th>\n",
              "    </tr>\n",
              "  </thead>\n",
              "  <tbody>\n",
              "    <tr>\n",
              "      <th>1</th>\n",
              "      <td>0.745667</td>\n",
              "      <td>1.260100</td>\n",
              "      <td>15</td>\n",
              "      <td>16</td>\n",
              "      <td>229</td>\n",
              "      <td>0.872022</td>\n",
              "      <td>0.958369</td>\n",
              "    </tr>\n",
              "    <tr>\n",
              "      <th>2</th>\n",
              "      <td>0.766646</td>\n",
              "      <td>1.260021</td>\n",
              "      <td>14</td>\n",
              "      <td>16</td>\n",
              "      <td>236</td>\n",
              "      <td>0.878771</td>\n",
              "      <td>0.958349</td>\n",
              "    </tr>\n",
              "    <tr>\n",
              "      <th>0</th>\n",
              "      <td>0.739963</td>\n",
              "      <td>1.260951</td>\n",
              "      <td>15</td>\n",
              "      <td>16</td>\n",
              "      <td>237</td>\n",
              "      <td>0.871937</td>\n",
              "      <td>0.958315</td>\n",
              "    </tr>\n",
              "    <tr>\n",
              "      <th>4</th>\n",
              "      <td>0.744556</td>\n",
              "      <td>1.260291</td>\n",
              "      <td>15</td>\n",
              "      <td>15</td>\n",
              "      <td>234</td>\n",
              "      <td>0.860933</td>\n",
              "      <td>0.958272</td>\n",
              "    </tr>\n",
              "    <tr>\n",
              "      <th>3</th>\n",
              "      <td>0.710062</td>\n",
              "      <td>1.260992</td>\n",
              "      <td>13</td>\n",
              "      <td>16</td>\n",
              "      <td>234</td>\n",
              "      <td>0.870495</td>\n",
              "      <td>0.957775</td>\n",
              "    </tr>\n",
              "  </tbody>\n",
              "</table>\n",
              "</div>"
            ],
            "text/plain": [
              "   colsample_bytree     gamma  max_depth  ...  n_estimators  subsample     Score\n",
              "1          0.745667  1.260100         15  ...           229   0.872022  0.958369\n",
              "2          0.766646  1.260021         14  ...           236   0.878771  0.958349\n",
              "0          0.739963  1.260951         15  ...           237   0.871937  0.958315\n",
              "4          0.744556  1.260291         15  ...           234   0.860933  0.958272\n",
              "3          0.710062  1.260992         13  ...           234   0.870495  0.957775\n",
              "\n",
              "[5 rows x 7 columns]"
            ]
          },
          "metadata": {
            "tags": []
          },
          "execution_count": 22
        }
      ]
    },
    {
      "cell_type": "markdown",
      "metadata": {
        "id": "RA615l8HV-mA",
        "colab_type": "text"
      },
      "source": [
        "Final model\n"
      ]
    },
    {
      "cell_type": "code",
      "metadata": {
        "id": "-TlsGr2OhO-n",
        "colab_type": "code",
        "colab": {}
      },
      "source": [
        "xgb_model_final = xgb.XGBRegressor(tree_method='gpu_hist', objective=\"reg:squarederror\",\n",
        "                                   colsample_bytree=0.745667, gamma=1.260100, max_depth=15,\n",
        "                                   min_child_weight=16, n_estimators=229, subsample=0.872022,\n",
        "                                   verbosity=3, random_state=42, seed=42)\n"
      ],
      "execution_count": 0,
      "outputs": []
    },
    {
      "cell_type": "code",
      "metadata": {
        "id": "tQEMJLmfiArU",
        "colab_type": "code",
        "outputId": "93a594d3-2ff2-4df5-9ea2-90d537d198be",
        "colab": {
          "base_uri": "https://localhost:8080/",
          "height": 153
        }
      },
      "source": [
        "xgb_model_final.fit(train_set_x,train_set_y)\n"
      ],
      "execution_count": 0,
      "outputs": [
        {
          "output_type": "execute_result",
          "data": {
            "text/plain": [
              "XGBRegressor(base_score=0.5, booster='gbtree', colsample_bylevel=1,\n",
              "             colsample_bynode=1, colsample_bytree=0.745667, gamma=1.2601,\n",
              "             importance_type='gain', learning_rate=0.1, max_delta_step=0,\n",
              "             max_depth=15, min_child_weight=16, missing=None, n_estimators=229,\n",
              "             n_jobs=1, nthread=None, objective='reg:squarederror',\n",
              "             random_state=42, reg_alpha=0, reg_lambda=1, scale_pos_weight=1,\n",
              "             seed=None, silent=None, subsample=0.872022, tree_method='gpu_hist',\n",
              "             verbosity=3)"
            ]
          },
          "metadata": {
            "tags": []
          },
          "execution_count": 65
        }
      ]
    },
    {
      "cell_type": "code",
      "metadata": {
        "id": "j_74aGJyid1q",
        "colab_type": "code",
        "outputId": "e435103c-8517-4917-ed77-97539987c1e2",
        "colab": {
          "base_uri": "https://localhost:8080/",
          "height": 34
        }
      },
      "source": [
        "xgb_model_final.score(test_set_x, test_set_y)"
      ],
      "execution_count": 0,
      "outputs": [
        {
          "output_type": "execute_result",
          "data": {
            "text/plain": [
              "0.9627299228249108"
            ]
          },
          "metadata": {
            "tags": []
          },
          "execution_count": 15
        }
      ]
    },
    {
      "cell_type": "markdown",
      "metadata": {
        "id": "cMtbLt_MWCBS",
        "colab_type": "text"
      },
      "source": [
        "Final XGBoost test score is 0.962\n"
      ]
    },
    {
      "cell_type": "code",
      "metadata": {
        "id": "AoB6XJOxHGjE",
        "colab_type": "code",
        "colab": {}
      },
      "source": [
        "xgb_model_final.save_model('final_model_seeded.json')\n",
        "\n"
      ],
      "execution_count": 0,
      "outputs": []
    },
    {
      "cell_type": "code",
      "metadata": {
        "id": "ZSkxnRvM9ueS",
        "colab_type": "code",
        "colab": {}
      },
      "source": [
        "#here i use a cpu implementation. specify hist method and n_jobs=-1\n",
        "\n",
        "xgb_model_final_cpu = xgb.XGBRegressor(tree_method='hist', objective=\"reg:squarederror\",\n",
        "                                   colsample_bytree=0.745667, gamma=1.260100, max_depth=15,\n",
        "                                   min_child_weight=16, n_estimators=229, subsample=0.872022,\n",
        "                                   verbosity=3, random_state=42, seed=42, n_jobs=-1)"
      ],
      "execution_count": 0,
      "outputs": []
    },
    {
      "cell_type": "code",
      "metadata": {
        "id": "uRIFq2xh98Gh",
        "colab_type": "code",
        "colab": {}
      },
      "source": [
        "xgb_model_final_cpu.fit(train_set_x_prepared,train_set_y)\n"
      ],
      "execution_count": 0,
      "outputs": []
    },
    {
      "cell_type": "code",
      "metadata": {
        "id": "EFkMaSkFBHeK",
        "colab_type": "code",
        "outputId": "1ab048d2-6fda-4cc0-8448-f99b0edabfab",
        "colab": {
          "base_uri": "https://localhost:8080/",
          "height": 34
        }
      },
      "source": [
        "xgb_model_final_cpu.score(test_set_x_prepared, test_set_y)"
      ],
      "execution_count": 0,
      "outputs": [
        {
          "output_type": "execute_result",
          "data": {
            "text/plain": [
              "0.9625006208900734"
            ]
          },
          "metadata": {
            "tags": []
          },
          "execution_count": 17
        }
      ]
    },
    {
      "cell_type": "markdown",
      "metadata": {
        "id": "UH6Jyovd9ILp",
        "colab_type": "text"
      },
      "source": [
        "#Plots#"
      ]
    },
    {
      "cell_type": "markdown",
      "metadata": {
        "id": "Vvoteo549KqI",
        "colab_type": "text"
      },
      "source": [
        "## Plot of prediction vs actual ##"
      ]
    },
    {
      "cell_type": "code",
      "metadata": {
        "id": "gM40jQDp9HxK",
        "colab_type": "code",
        "colab": {}
      },
      "source": [
        "# xgb final model"
      ],
      "execution_count": 0,
      "outputs": []
    },
    {
      "cell_type": "code",
      "metadata": {
        "id": "lsJN_9A1_R-c",
        "colab_type": "code",
        "colab": {}
      },
      "source": [
        "import joblib\n",
        "xgb_model = joblib.load('final_model_cpu.pkl')  #choose the appropriate model\n",
        "from sklearn.metrics import r2_score"
      ],
      "execution_count": 0,
      "outputs": []
    },
    {
      "cell_type": "code",
      "metadata": {
        "id": "VMo1yaLTM0hG",
        "colab_type": "code",
        "colab": {}
      },
      "source": [
        "r2 = round(xgb_model.score(test_set_x,test_set_y),2)"
      ],
      "execution_count": 0,
      "outputs": []
    },
    {
      "cell_type": "code",
      "metadata": {
        "id": "7P7Ug9_h_hu7",
        "colab_type": "code",
        "colab": {}
      },
      "source": [
        "#plot a graph\n",
        "\n",
        "import matplotlib.pyplot as plt\n",
        "import string"
      ],
      "execution_count": 0,
      "outputs": []
    },
    {
      "cell_type": "code",
      "metadata": {
        "id": "xQ_L9CS7AN4Q",
        "colab_type": "code",
        "colab": {}
      },
      "source": [
        "test_x_predict = xgb_model.predict(test_set_x)"
      ],
      "execution_count": 0,
      "outputs": []
    },
    {
      "cell_type": "code",
      "metadata": {
        "id": "ChXohLOlFNmS",
        "colab_type": "code",
        "colab": {}
      },
      "source": [
        "max_x = test_set_y['maize_a_2010'].max()\n",
        "max_y = max(test_x_predict)\n",
        "\n",
        "max_axis = max(max_x, max_y) + 1000 #adds a bit to the max axis so that we can see the max point easily\n",
        "\n",
        "min_x = test_set_y['maize_a_2010'].min()\n",
        "min_y = min(test_x_predict)\n",
        "\n",
        "min_axis = min(min_x, min_y) -1000"
      ],
      "execution_count": 0,
      "outputs": []
    },
    {
      "cell_type": "code",
      "metadata": {
        "id": "9HMXLeKiJCuZ",
        "colab_type": "code",
        "colab": {}
      },
      "source": [
        "#equation of line for prediction vs real values\n",
        "\n",
        "from sklearn.linear_model import LinearRegression as lin_reg\n",
        "\n",
        "model = lin_reg(fit_intercept=True)\n",
        "\n",
        "model.fit(test_set_y,test_x_predict)\n",
        "\n",
        "intercept = model.intercept_\n",
        "gradient = model.coef_\n",
        "\n",
        "intercept_round = int(round(intercept,0))\n",
        "gradient_round = round(gradient[0],2)"
      ],
      "execution_count": 0,
      "outputs": []
    },
    {
      "cell_type": "code",
      "metadata": {
        "id": "byixm9D8X_m_",
        "colab_type": "code",
        "colab": {}
      },
      "source": [
        "#residuals\n",
        "\n",
        "residual = test_x_predict-test_set_y.to_numpy().reshape(1,-1)\n",
        "\n",
        "max_residual = residual.max()\n",
        "min_residual = residual.min()"
      ],
      "execution_count": 0,
      "outputs": []
    },
    {
      "cell_type": "code",
      "metadata": {
        "id": "fT_sAUSMXx-s",
        "colab_type": "code",
        "outputId": "13ec19ad-2673-4dbf-d909-d8008a3bcb38",
        "colab": {
          "base_uri": "https://localhost:8080/",
          "height": 578
        }
      },
      "source": [
        "plt.style.use('seaborn-pastel')\n",
        "\n",
        "fig, ax = plt.subplots(2,2, figsize=(8,8))\n",
        "\n",
        "major_ticks = np.arange(min_axis, max_axis, 5000)\n",
        "minor_ticks = np.arange(min_axis, max_axis, 2500)\n",
        "\n",
        "\n",
        "ax[0,0].scatter(x=test_set_y, y=test_x_predict, alpha=0.1, c='b', marker=\".\")\n",
        "ax[0,0].set_xlim([0,max_axis])\n",
        "ax[0,0].set_xticks(major_ticks)\n",
        "ax[0,0].set_xticks(minor_ticks, minor=True)\n",
        "\n",
        "\n",
        "ax[0,0].set_ylim([0,max_axis])\n",
        "ax[0,0].set_yticks(major_ticks)\n",
        "ax[0,0].set_yticks(minor_ticks, minor=True)\n",
        "\n",
        "ax[0,0].grid(which='minor', color='whitesmoke')\n",
        "ax[0,0].grid(which='major', color='gainsboro')\n",
        "ax[0,0].set_axisbelow\n",
        "\n",
        "ax[0,0].tick_params(labelsize=8.5)\n",
        "\n",
        "\n",
        "ax[0,0].set_aspect('equal', 'box')\n",
        "\n",
        "ax[0,0].plot(np.arange(min_axis,max_axis,10),np.arange(min_axis,max_axis,10),linewidth=1, linestyle='dashed', c='r') #1:1 line\n",
        "\n",
        "#specify linear regression line (line through predictions vs truth)\n",
        "\n",
        "x = np.arange(min_axis,max_axis,10)\n",
        "y = gradient*x + intercept\n",
        "ax[0,0].plot(x,y,linewidth=1, c='dimgrey') \n",
        "\n",
        "\n",
        "ax[0,0].set(xlabel= 'Actual', ylabel = 'Predicted')\n",
        "ax[0,0].text(x=2000, y=30000, s=f'$R^2$={r2}\\ny={gradient_round}x+{intercept_round}', ma = 'left', size=10)\n",
        "\n",
        "####################################################################\n",
        "##Plot for Residuals##\n",
        "\n",
        "#major_ticks_2 = np.arange(0, max_axis, 4000)\n",
        "#minor_ticks_2 = np.arange(0, max_axis, 2000)\n",
        "\n",
        "\n",
        "ax[1,0].scatter(x=test_x_predict, y=residual, alpha=0.1, c='b', marker=\".\")\n",
        "ax[1,0].set_xlim([0,max_axis])\n",
        "ax[1,0].set_xticks(major_ticks)\n",
        "ax[1,0].set_xticks(minor_ticks, minor=True)\n",
        "\n",
        "\n",
        "ax[1,0].set_ylim([min_residual,max_residual])\n",
        "#ax[1,0].set_yticks(major_ticks)\n",
        "#ax[1,0].set_yticks(minor_ticks, minor=True)\n",
        "\n",
        "ax[1,0].grid(which='minor', color='whitesmoke')\n",
        "ax[1,0].grid(which='major', color='gainsboro')\n",
        "ax[1,0].set_axisbelow\n",
        "\n",
        "ax[1,0].tick_params(labelsize=8.5)\n",
        "\n",
        "#plot y=0 line\n",
        "ax[1,0].plot(np.arange(0,max_axis,10),np.linspace(0,0,len(np.arange(0,max_axis,10))),linewidth=1, linestyle='dashed', c='k') \n",
        "\n",
        "\n",
        "\n",
        "ax[1,0].set(xlabel= 'Actual Yield', ylabel = 'Residual')\n",
        "\n",
        "###########################################################################\n",
        "\n",
        "plt.suptitle('Yield', fontsize=14, fontweight='bold', x=0.5, y=0.99)\n",
        "\n",
        "\n",
        "ax = ax.flat\n",
        "\n",
        "for n, axis in enumerate(ax):\n",
        "\n",
        "    axis.imshow(np.random.randn(10,10), interpolation='none')    \n",
        "    axis.text(-0.23, 1.06, string.ascii_uppercase[n], transform=axis.transAxes, \n",
        "            size=10, weight='bold')\n",
        "    \n",
        "fig.tight_layout(pad=2.3)\n",
        "\n",
        "\n",
        "########\n",
        "\n",
        "plt.show()\n",
        "\n",
        "#put units"
      ],
      "execution_count": 0,
      "outputs": [
        {
          "output_type": "display_data",
          "data": {
            "image/png": "[encoded data removed]",
            "text/plain": [
              "<Figure size 576x576 with 4 Axes>"
            ]
          },
          "metadata": {
            "tags": []
          }
        }
      ]
    },
    {
      "cell_type": "code",
      "metadata": {
        "id": "z8_7BFiGggE6",
        "colab_type": "code",
        "colab": {}
      },
      "source": [
        ""
      ],
      "execution_count": 0,
      "outputs": []
    }
  ]
}