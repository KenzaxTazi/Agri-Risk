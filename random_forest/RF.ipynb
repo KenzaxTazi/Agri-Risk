{
 "cells": [
  {
   "cell_type": "code",
   "execution_count": 1,
   "metadata": {},
   "outputs": [],
   "source": [
    "import xarray as xr\n",
    "import pandas as pd"
   ]
  },
  {
   "cell_type": "code",
   "execution_count": 2,
   "metadata": {},
   "outputs": [],
   "source": [
    "from osgeo import gdal"
   ]
  },
  {
   "cell_type": "code",
   "execution_count": 3,
   "metadata": {},
   "outputs": [],
   "source": [
    "import numpy as np"
   ]
  },
  {
   "cell_type": "markdown",
   "metadata": {},
   "source": [
    "## Import high-resolution crop yield data for 2000, 2010; select a crop"
   ]
  },
  {
   "cell_type": "code",
   "execution_count": 4,
   "metadata": {},
   "outputs": [],
   "source": [
    "wheat_2000 = gdal.Open('crop_yields/2000/spam2000V3r107_global_Y_WHEA_A.tif').ReadAsArray()"
   ]
  },
  {
   "cell_type": "code",
   "execution_count": 5,
   "metadata": {},
   "outputs": [],
   "source": [
    "test = gdal.Open('crop_yields/2000/spam2000V3r107_global_Y_WHEA_A.tif')"
   ]
  },
  {
   "cell_type": "code",
   "execution_count": 6,
   "metadata": {},
   "outputs": [
    {
     "data": {
      "text/plain": [
       "array([[-1., -1., -1., ..., -1., -1., -1.],\n",
       "       [-1., -1., -1., ..., -1., -1., -1.],\n",
       "       [-1., -1., -1., ..., -1., -1., -1.],\n",
       "       ...,\n",
       "       [-1., -1., -1., ..., -1., -1., -1.],\n",
       "       [-1., -1., -1., ..., -1., -1., -1.],\n",
       "       [-1., -1., -1., ..., -1., -1., -1.]], dtype=float32)"
      ]
     },
     "execution_count": 6,
     "metadata": {},
     "output_type": "execute_result"
    }
   ],
   "source": [
    "wheat_2000"
   ]
  },
  {
   "cell_type": "code",
   "execution_count": 7,
   "metadata": {},
   "outputs": [
    {
     "data": {
      "text/html": [
       "<div>\n",
       "<style scoped>\n",
       "    .dataframe tbody tr th:only-of-type {\n",
       "        vertical-align: middle;\n",
       "    }\n",
       "\n",
       "    .dataframe tbody tr th {\n",
       "        vertical-align: top;\n",
       "    }\n",
       "\n",
       "    .dataframe thead th {\n",
       "        text-align: right;\n",
       "    }\n",
       "</style>\n",
       "<table border=\"1\" class=\"dataframe\">\n",
       "  <thead>\n",
       "    <tr style=\"text-align: right;\">\n",
       "      <th></th>\n",
       "      <th>0</th>\n",
       "      <th>1</th>\n",
       "      <th>2</th>\n",
       "      <th>3</th>\n",
       "      <th>4</th>\n",
       "      <th>5</th>\n",
       "      <th>6</th>\n",
       "      <th>7</th>\n",
       "      <th>8</th>\n",
       "      <th>9</th>\n",
       "      <th>...</th>\n",
       "      <th>4310</th>\n",
       "      <th>4311</th>\n",
       "      <th>4312</th>\n",
       "      <th>4313</th>\n",
       "      <th>4314</th>\n",
       "      <th>4315</th>\n",
       "      <th>4316</th>\n",
       "      <th>4317</th>\n",
       "      <th>4318</th>\n",
       "      <th>4319</th>\n",
       "    </tr>\n",
       "  </thead>\n",
       "  <tbody>\n",
       "    <tr>\n",
       "      <th>0</th>\n",
       "      <td>-1.0</td>\n",
       "      <td>-1.0</td>\n",
       "      <td>-1.0</td>\n",
       "      <td>-1.0</td>\n",
       "      <td>-1.0</td>\n",
       "      <td>-1.0</td>\n",
       "      <td>-1.0</td>\n",
       "      <td>-1.0</td>\n",
       "      <td>-1.0</td>\n",
       "      <td>-1.0</td>\n",
       "      <td>...</td>\n",
       "      <td>-1.0</td>\n",
       "      <td>-1.0</td>\n",
       "      <td>-1.0</td>\n",
       "      <td>-1.0</td>\n",
       "      <td>-1.0</td>\n",
       "      <td>-1.0</td>\n",
       "      <td>-1.0</td>\n",
       "      <td>-1.0</td>\n",
       "      <td>-1.0</td>\n",
       "      <td>-1.0</td>\n",
       "    </tr>\n",
       "    <tr>\n",
       "      <th>1</th>\n",
       "      <td>-1.0</td>\n",
       "      <td>-1.0</td>\n",
       "      <td>-1.0</td>\n",
       "      <td>-1.0</td>\n",
       "      <td>-1.0</td>\n",
       "      <td>-1.0</td>\n",
       "      <td>-1.0</td>\n",
       "      <td>-1.0</td>\n",
       "      <td>-1.0</td>\n",
       "      <td>-1.0</td>\n",
       "      <td>...</td>\n",
       "      <td>-1.0</td>\n",
       "      <td>-1.0</td>\n",
       "      <td>-1.0</td>\n",
       "      <td>-1.0</td>\n",
       "      <td>-1.0</td>\n",
       "      <td>-1.0</td>\n",
       "      <td>-1.0</td>\n",
       "      <td>-1.0</td>\n",
       "      <td>-1.0</td>\n",
       "      <td>-1.0</td>\n",
       "    </tr>\n",
       "    <tr>\n",
       "      <th>2</th>\n",
       "      <td>-1.0</td>\n",
       "      <td>-1.0</td>\n",
       "      <td>-1.0</td>\n",
       "      <td>-1.0</td>\n",
       "      <td>-1.0</td>\n",
       "      <td>-1.0</td>\n",
       "      <td>-1.0</td>\n",
       "      <td>-1.0</td>\n",
       "      <td>-1.0</td>\n",
       "      <td>-1.0</td>\n",
       "      <td>...</td>\n",
       "      <td>-1.0</td>\n",
       "      <td>-1.0</td>\n",
       "      <td>-1.0</td>\n",
       "      <td>-1.0</td>\n",
       "      <td>-1.0</td>\n",
       "      <td>-1.0</td>\n",
       "      <td>-1.0</td>\n",
       "      <td>-1.0</td>\n",
       "      <td>-1.0</td>\n",
       "      <td>-1.0</td>\n",
       "    </tr>\n",
       "    <tr>\n",
       "      <th>3</th>\n",
       "      <td>-1.0</td>\n",
       "      <td>-1.0</td>\n",
       "      <td>-1.0</td>\n",
       "      <td>-1.0</td>\n",
       "      <td>-1.0</td>\n",
       "      <td>-1.0</td>\n",
       "      <td>-1.0</td>\n",
       "      <td>-1.0</td>\n",
       "      <td>-1.0</td>\n",
       "      <td>-1.0</td>\n",
       "      <td>...</td>\n",
       "      <td>-1.0</td>\n",
       "      <td>-1.0</td>\n",
       "      <td>-1.0</td>\n",
       "      <td>-1.0</td>\n",
       "      <td>-1.0</td>\n",
       "      <td>-1.0</td>\n",
       "      <td>-1.0</td>\n",
       "      <td>-1.0</td>\n",
       "      <td>-1.0</td>\n",
       "      <td>-1.0</td>\n",
       "    </tr>\n",
       "    <tr>\n",
       "      <th>4</th>\n",
       "      <td>-1.0</td>\n",
       "      <td>-1.0</td>\n",
       "      <td>-1.0</td>\n",
       "      <td>-1.0</td>\n",
       "      <td>-1.0</td>\n",
       "      <td>-1.0</td>\n",
       "      <td>-1.0</td>\n",
       "      <td>-1.0</td>\n",
       "      <td>-1.0</td>\n",
       "      <td>-1.0</td>\n",
       "      <td>...</td>\n",
       "      <td>-1.0</td>\n",
       "      <td>-1.0</td>\n",
       "      <td>-1.0</td>\n",
       "      <td>-1.0</td>\n",
       "      <td>-1.0</td>\n",
       "      <td>-1.0</td>\n",
       "      <td>-1.0</td>\n",
       "      <td>-1.0</td>\n",
       "      <td>-1.0</td>\n",
       "      <td>-1.0</td>\n",
       "    </tr>\n",
       "    <tr>\n",
       "      <th>...</th>\n",
       "      <td>...</td>\n",
       "      <td>...</td>\n",
       "      <td>...</td>\n",
       "      <td>...</td>\n",
       "      <td>...</td>\n",
       "      <td>...</td>\n",
       "      <td>...</td>\n",
       "      <td>...</td>\n",
       "      <td>...</td>\n",
       "      <td>...</td>\n",
       "      <td>...</td>\n",
       "      <td>...</td>\n",
       "      <td>...</td>\n",
       "      <td>...</td>\n",
       "      <td>...</td>\n",
       "      <td>...</td>\n",
       "      <td>...</td>\n",
       "      <td>...</td>\n",
       "      <td>...</td>\n",
       "      <td>...</td>\n",
       "      <td>...</td>\n",
       "    </tr>\n",
       "    <tr>\n",
       "      <th>2155</th>\n",
       "      <td>-1.0</td>\n",
       "      <td>-1.0</td>\n",
       "      <td>-1.0</td>\n",
       "      <td>-1.0</td>\n",
       "      <td>-1.0</td>\n",
       "      <td>-1.0</td>\n",
       "      <td>-1.0</td>\n",
       "      <td>-1.0</td>\n",
       "      <td>-1.0</td>\n",
       "      <td>-1.0</td>\n",
       "      <td>...</td>\n",
       "      <td>-1.0</td>\n",
       "      <td>-1.0</td>\n",
       "      <td>-1.0</td>\n",
       "      <td>-1.0</td>\n",
       "      <td>-1.0</td>\n",
       "      <td>-1.0</td>\n",
       "      <td>-1.0</td>\n",
       "      <td>-1.0</td>\n",
       "      <td>-1.0</td>\n",
       "      <td>-1.0</td>\n",
       "    </tr>\n",
       "    <tr>\n",
       "      <th>2156</th>\n",
       "      <td>-1.0</td>\n",
       "      <td>-1.0</td>\n",
       "      <td>-1.0</td>\n",
       "      <td>-1.0</td>\n",
       "      <td>-1.0</td>\n",
       "      <td>-1.0</td>\n",
       "      <td>-1.0</td>\n",
       "      <td>-1.0</td>\n",
       "      <td>-1.0</td>\n",
       "      <td>-1.0</td>\n",
       "      <td>...</td>\n",
       "      <td>-1.0</td>\n",
       "      <td>-1.0</td>\n",
       "      <td>-1.0</td>\n",
       "      <td>-1.0</td>\n",
       "      <td>-1.0</td>\n",
       "      <td>-1.0</td>\n",
       "      <td>-1.0</td>\n",
       "      <td>-1.0</td>\n",
       "      <td>-1.0</td>\n",
       "      <td>-1.0</td>\n",
       "    </tr>\n",
       "    <tr>\n",
       "      <th>2157</th>\n",
       "      <td>-1.0</td>\n",
       "      <td>-1.0</td>\n",
       "      <td>-1.0</td>\n",
       "      <td>-1.0</td>\n",
       "      <td>-1.0</td>\n",
       "      <td>-1.0</td>\n",
       "      <td>-1.0</td>\n",
       "      <td>-1.0</td>\n",
       "      <td>-1.0</td>\n",
       "      <td>-1.0</td>\n",
       "      <td>...</td>\n",
       "      <td>-1.0</td>\n",
       "      <td>-1.0</td>\n",
       "      <td>-1.0</td>\n",
       "      <td>-1.0</td>\n",
       "      <td>-1.0</td>\n",
       "      <td>-1.0</td>\n",
       "      <td>-1.0</td>\n",
       "      <td>-1.0</td>\n",
       "      <td>-1.0</td>\n",
       "      <td>-1.0</td>\n",
       "    </tr>\n",
       "    <tr>\n",
       "      <th>2158</th>\n",
       "      <td>-1.0</td>\n",
       "      <td>-1.0</td>\n",
       "      <td>-1.0</td>\n",
       "      <td>-1.0</td>\n",
       "      <td>-1.0</td>\n",
       "      <td>-1.0</td>\n",
       "      <td>-1.0</td>\n",
       "      <td>-1.0</td>\n",
       "      <td>-1.0</td>\n",
       "      <td>-1.0</td>\n",
       "      <td>...</td>\n",
       "      <td>-1.0</td>\n",
       "      <td>-1.0</td>\n",
       "      <td>-1.0</td>\n",
       "      <td>-1.0</td>\n",
       "      <td>-1.0</td>\n",
       "      <td>-1.0</td>\n",
       "      <td>-1.0</td>\n",
       "      <td>-1.0</td>\n",
       "      <td>-1.0</td>\n",
       "      <td>-1.0</td>\n",
       "    </tr>\n",
       "    <tr>\n",
       "      <th>2159</th>\n",
       "      <td>-1.0</td>\n",
       "      <td>-1.0</td>\n",
       "      <td>-1.0</td>\n",
       "      <td>-1.0</td>\n",
       "      <td>-1.0</td>\n",
       "      <td>-1.0</td>\n",
       "      <td>-1.0</td>\n",
       "      <td>-1.0</td>\n",
       "      <td>-1.0</td>\n",
       "      <td>-1.0</td>\n",
       "      <td>...</td>\n",
       "      <td>-1.0</td>\n",
       "      <td>-1.0</td>\n",
       "      <td>-1.0</td>\n",
       "      <td>-1.0</td>\n",
       "      <td>-1.0</td>\n",
       "      <td>-1.0</td>\n",
       "      <td>-1.0</td>\n",
       "      <td>-1.0</td>\n",
       "      <td>-1.0</td>\n",
       "      <td>-1.0</td>\n",
       "    </tr>\n",
       "  </tbody>\n",
       "</table>\n",
       "<p>2160 rows × 4320 columns</p>\n",
       "</div>"
      ],
      "text/plain": [
       "      0     1     2     3     4     5     6     7     8     9     ...  4310  \\\n",
       "0     -1.0  -1.0  -1.0  -1.0  -1.0  -1.0  -1.0  -1.0  -1.0  -1.0  ...  -1.0   \n",
       "1     -1.0  -1.0  -1.0  -1.0  -1.0  -1.0  -1.0  -1.0  -1.0  -1.0  ...  -1.0   \n",
       "2     -1.0  -1.0  -1.0  -1.0  -1.0  -1.0  -1.0  -1.0  -1.0  -1.0  ...  -1.0   \n",
       "3     -1.0  -1.0  -1.0  -1.0  -1.0  -1.0  -1.0  -1.0  -1.0  -1.0  ...  -1.0   \n",
       "4     -1.0  -1.0  -1.0  -1.0  -1.0  -1.0  -1.0  -1.0  -1.0  -1.0  ...  -1.0   \n",
       "...    ...   ...   ...   ...   ...   ...   ...   ...   ...   ...  ...   ...   \n",
       "2155  -1.0  -1.0  -1.0  -1.0  -1.0  -1.0  -1.0  -1.0  -1.0  -1.0  ...  -1.0   \n",
       "2156  -1.0  -1.0  -1.0  -1.0  -1.0  -1.0  -1.0  -1.0  -1.0  -1.0  ...  -1.0   \n",
       "2157  -1.0  -1.0  -1.0  -1.0  -1.0  -1.0  -1.0  -1.0  -1.0  -1.0  ...  -1.0   \n",
       "2158  -1.0  -1.0  -1.0  -1.0  -1.0  -1.0  -1.0  -1.0  -1.0  -1.0  ...  -1.0   \n",
       "2159  -1.0  -1.0  -1.0  -1.0  -1.0  -1.0  -1.0  -1.0  -1.0  -1.0  ...  -1.0   \n",
       "\n",
       "      4311  4312  4313  4314  4315  4316  4317  4318  4319  \n",
       "0     -1.0  -1.0  -1.0  -1.0  -1.0  -1.0  -1.0  -1.0  -1.0  \n",
       "1     -1.0  -1.0  -1.0  -1.0  -1.0  -1.0  -1.0  -1.0  -1.0  \n",
       "2     -1.0  -1.0  -1.0  -1.0  -1.0  -1.0  -1.0  -1.0  -1.0  \n",
       "3     -1.0  -1.0  -1.0  -1.0  -1.0  -1.0  -1.0  -1.0  -1.0  \n",
       "4     -1.0  -1.0  -1.0  -1.0  -1.0  -1.0  -1.0  -1.0  -1.0  \n",
       "...    ...   ...   ...   ...   ...   ...   ...   ...   ...  \n",
       "2155  -1.0  -1.0  -1.0  -1.0  -1.0  -1.0  -1.0  -1.0  -1.0  \n",
       "2156  -1.0  -1.0  -1.0  -1.0  -1.0  -1.0  -1.0  -1.0  -1.0  \n",
       "2157  -1.0  -1.0  -1.0  -1.0  -1.0  -1.0  -1.0  -1.0  -1.0  \n",
       "2158  -1.0  -1.0  -1.0  -1.0  -1.0  -1.0  -1.0  -1.0  -1.0  \n",
       "2159  -1.0  -1.0  -1.0  -1.0  -1.0  -1.0  -1.0  -1.0  -1.0  \n",
       "\n",
       "[2160 rows x 4320 columns]"
      ]
     },
     "execution_count": 7,
     "metadata": {},
     "output_type": "execute_result"
    }
   ],
   "source": [
    "wheat_2000_df = pd.DataFrame(wheat_2000)\n",
    "wheat_2000_df"
   ]
  },
  {
   "cell_type": "code",
   "execution_count": 8,
   "metadata": {},
   "outputs": [],
   "source": [
    "# for some reason all the areas with zero yield are = -1 ?\n",
    "wheat_2000_df[wheat_2000_df < 0] = 0"
   ]
  },
  {
   "cell_type": "code",
   "execution_count": 9,
   "metadata": {},
   "outputs": [
    {
     "data": {
      "text/plain": [
       "(2160, 4320)"
      ]
     },
     "execution_count": 9,
     "metadata": {},
     "output_type": "execute_result"
    }
   ],
   "source": [
    "wheat_2000_df.shape"
   ]
  },
  {
   "cell_type": "code",
   "execution_count": 10,
   "metadata": {},
   "outputs": [],
   "source": [
    "wheat_2010 = gdal.Open('crop_yields/2010/spam2010V1r1_global_Y_WHEA_A.tif').ReadAsArray()"
   ]
  },
  {
   "cell_type": "code",
   "execution_count": 11,
   "metadata": {},
   "outputs": [],
   "source": [
    "wheat_2010_df = pd.DataFrame(wheat_2010)\n",
    "#wheat_2010_df"
   ]
  },
  {
   "cell_type": "code",
   "execution_count": 12,
   "metadata": {},
   "outputs": [],
   "source": [
    "wheat_2010_df[wheat_2010_df < 0] = 0"
   ]
  },
  {
   "cell_type": "code",
   "execution_count": 13,
   "metadata": {},
   "outputs": [
    {
     "data": {
      "text/plain": [
       "(2160, 4320)"
      ]
     },
     "execution_count": 13,
     "metadata": {},
     "output_type": "execute_result"
    }
   ],
   "source": [
    "wheat_2010_df.shape"
   ]
  },
  {
   "cell_type": "markdown",
   "metadata": {},
   "source": [
    "## Visualize crop datasets"
   ]
  },
  {
   "cell_type": "code",
   "execution_count": 14,
   "metadata": {},
   "outputs": [],
   "source": [
    "import matplotlib.pyplot as plt"
   ]
  },
  {
   "cell_type": "code",
   "execution_count": 15,
   "metadata": {},
   "outputs": [
    {
     "data": {
      "image/png": "[encoded data removed]",
      "text/plain": [
       "<Figure size 1332x540 with 2 Axes>"
      ]
     },
     "metadata": {
      "needs_background": "light"
     },
     "output_type": "display_data"
    }
   ],
   "source": [
    "fig, ax = plt.subplots()\n",
    "fig.set_size_inches(18.5, 7.5)\n",
    "ax.set_title('Global Wheat Yield, 2000 (tonnes/ha)')\n",
    "wheat_yield_plot = ax.imshow(wheat_2000_df, cmap='gist_heat_r', extent=[-180, 180, -90, 90])\n",
    "cbar = fig.colorbar(wheat_yield_plot)\n",
    "ax.grid(True)\n",
    "\n",
    "plt.show()"
   ]
  },
  {
   "cell_type": "code",
   "execution_count": 16,
   "metadata": {},
   "outputs": [
    {
     "data": {
      "image/png": "[encoded data removed]",
      "text/plain": [
       "<Figure size 1332x540 with 2 Axes>"
      ]
     },
     "metadata": {
      "needs_background": "light"
     },
     "output_type": "display_data"
    }
   ],
   "source": [
    "fig, ax = plt.subplots()\n",
    "fig.set_size_inches(18.5, 7.5)\n",
    "ax.set_title('Global Wheat Yield, 2010 (tonnes/ha)')\n",
    "wheat_yield_plot = ax.imshow(wheat_2010_df, cmap='gist_heat_r', extent=[-180, 180, -90, 90])\n",
    "cbar = fig.colorbar(wheat_yield_plot)\n",
    "ax.grid(True)\n",
    "\n",
    "plt.show()"
   ]
  },
  {
   "cell_type": "code",
   "execution_count": 17,
   "metadata": {},
   "outputs": [],
   "source": [
    "# need to look more closely at the dataset info - not sure if this is like for like?\n",
    "# (what are the different wheat data files?)"
   ]
  },
  {
   "cell_type": "markdown",
   "metadata": {},
   "source": [
    "## getting crop yield arrays into correct format"
   ]
  },
  {
   "cell_type": "code",
   "execution_count": 18,
   "metadata": {},
   "outputs": [],
   "source": [
    "import rasterio\n",
    "from affine import Affine\n",
    "from pyproj import Proj, transform"
   ]
  },
  {
   "cell_type": "code",
   "execution_count": 19,
   "metadata": {},
   "outputs": [
    {
     "name": "stdout",
     "output_type": "stream",
     "text": [
      "(1, 2160, 4320)\n"
     ]
    },
    {
     "name": "stderr",
     "output_type": "stream",
     "text": [
      "/Library/Frameworks/Python.framework/Versions/3.6/lib/python3.6/site-packages/ipykernel_launcher.py:15: DeprecationWarning: Right multiplication will be prohibited in version 3.0\n",
      "  from ipykernel import kernelapp as app\n"
     ]
    }
   ],
   "source": [
    "# routine to assign a latitude and longitude to every pixel\n",
    "\n",
    "with rasterio.open('crop_yields/2000/spam2000V3r107_global_Y_WHEA_A.tif') as r:\n",
    "    T0 = r.transform  # upper-left pixel corner affine transform\n",
    "    p1 = Proj(r.crs)\n",
    "    A = r.read()  # pixel values\n",
    "    print(A.shape)\n",
    "\n",
    "# All rows and columns\n",
    "cols, rows = np.meshgrid(np.arange(A.shape[2]), np.arange(A.shape[1]))\n",
    "\n",
    "# Get affine transform for pixel centres\n",
    "T1 = T0 * Affine.translation(0.5, 0.5)\n",
    "# Function to convert pixel row/column index (from 0) to easting/northing at centre\n",
    "rc2en = lambda r, c: (c, r) * T1\n",
    "\n",
    "# All eastings and northings (there is probably a faster way to do this)\n",
    "eastings, northings = np.vectorize(rc2en, otypes=[np.float, np.float])(rows, cols)\n",
    "\n",
    "# Project all longitudes, latitudes\n",
    "p2 = Proj(proj='latlong',datum='WGS84')\n",
    "longs, lats = transform(p1, p2, eastings, northings)"
   ]
  },
  {
   "cell_type": "code",
   "execution_count": 20,
   "metadata": {},
   "outputs": [
    {
     "name": "stdout",
     "output_type": "stream",
     "text": [
      "[-179.9583335 -179.8750005 -179.7916675 ...  179.7902275  179.8735605\n",
      "  179.9568935] [ 89.9583335  89.8750005  89.7916675 ... -89.7909475 -89.8742805\n",
      " -89.9576135]\n"
     ]
    }
   ],
   "source": [
    "x_longs = longs[0]\n",
    "y_lats = lats[:,0]\n",
    "print(x_longs,y_lats)"
   ]
  },
  {
   "cell_type": "code",
   "execution_count": 21,
   "metadata": {},
   "outputs": [],
   "source": [
    "wheat_2000_df.index = y_lats\n",
    "wheat_2000_df.columns = x_longs\n",
    "#wheat_2000_df"
   ]
  },
  {
   "cell_type": "code",
   "execution_count": 22,
   "metadata": {},
   "outputs": [],
   "source": [
    "wheat_2000_df = wheat_2000_df.stack().reset_index()"
   ]
  },
  {
   "cell_type": "code",
   "execution_count": 23,
   "metadata": {},
   "outputs": [],
   "source": [
    "wheat_2000_df.columns = ['lat','lon','2000_yield']"
   ]
  },
  {
   "cell_type": "code",
   "execution_count": 24,
   "metadata": {},
   "outputs": [],
   "source": [
    "# go from image array to indexed by lat/lon\n",
    "\n",
    "#wheat_2000_df = wheat_2000_df.stack().reset_index()\n",
    "#wheat_2000_df.columns = ['lat','lon', '2000_yield']\n",
    "#wheat_2000_df"
   ]
  },
  {
   "cell_type": "code",
   "execution_count": 25,
   "metadata": {},
   "outputs": [],
   "source": [
    "# not sure if correct :/ (directly mapping pixel values to lat/lon)\n",
    "\n",
    "#crop_lons = np.linspace(-180,180,4320)\n",
    "#crop_lats = np.linspace(-90,90,2160)\n",
    "\n",
    "#lons_dict = dict(zip(range(0,4320),crop_lons))\n",
    "#lats_dict = dict(zip(range(0,2160),crop_lats))"
   ]
  },
  {
   "cell_type": "code",
   "execution_count": 26,
   "metadata": {},
   "outputs": [],
   "source": [
    "#wheat_2000_df['lat'] = wheat_2000_df['lat'].map(lats_dict)\n",
    "#wheat_2000_df['lon'] = wheat_2000_df['lon'].map(lons_dict)\n",
    "#wheat_2000_df"
   ]
  },
  {
   "cell_type": "code",
   "execution_count": 27,
   "metadata": {},
   "outputs": [],
   "source": [
    "#wheat_2010_df = wheat_2010_df.stack().reset_index()\n",
    "#wheat_2010_df.columns = ['lat','lon', '2010_yield']\n",
    "#wheat_2010_df"
   ]
  },
  {
   "cell_type": "code",
   "execution_count": 28,
   "metadata": {},
   "outputs": [],
   "source": [
    "#wheat_2010_df['lat'] = wheat_2010_df['lat'].map(lats_dict)\n",
    "#wheat_2010_df['lon'] = wheat_2010_df['lon'].map(lons_dict)\n",
    "#wheat_2010_df"
   ]
  },
  {
   "cell_type": "code",
   "execution_count": 29,
   "metadata": {},
   "outputs": [],
   "source": [
    "wheat_2010_df.index = y_lats\n",
    "wheat_2010_df.columns = x_longs"
   ]
  },
  {
   "cell_type": "code",
   "execution_count": 30,
   "metadata": {},
   "outputs": [],
   "source": [
    "wheat_2010_df = wheat_2010_df.stack().reset_index()\n",
    "wheat_2010_df.columns = ['lat','lon','2010_yield']"
   ]
  },
  {
   "cell_type": "code",
   "execution_count": 31,
   "metadata": {},
   "outputs": [
    {
     "data": {
      "text/html": [
       "<div>\n",
       "<style scoped>\n",
       "    .dataframe tbody tr th:only-of-type {\n",
       "        vertical-align: middle;\n",
       "    }\n",
       "\n",
       "    .dataframe tbody tr th {\n",
       "        vertical-align: top;\n",
       "    }\n",
       "\n",
       "    .dataframe thead th {\n",
       "        text-align: right;\n",
       "    }\n",
       "</style>\n",
       "<table border=\"1\" class=\"dataframe\">\n",
       "  <thead>\n",
       "    <tr style=\"text-align: right;\">\n",
       "      <th></th>\n",
       "      <th>lat</th>\n",
       "      <th>lon</th>\n",
       "      <th>2010_yield</th>\n",
       "      <th>historical_yield</th>\n",
       "    </tr>\n",
       "  </thead>\n",
       "  <tbody>\n",
       "    <tr>\n",
       "      <th>0</th>\n",
       "      <td>89.958333</td>\n",
       "      <td>-179.958334</td>\n",
       "      <td>0.0</td>\n",
       "      <td>0.0</td>\n",
       "    </tr>\n",
       "    <tr>\n",
       "      <th>1</th>\n",
       "      <td>89.958333</td>\n",
       "      <td>-179.875000</td>\n",
       "      <td>0.0</td>\n",
       "      <td>0.0</td>\n",
       "    </tr>\n",
       "    <tr>\n",
       "      <th>2</th>\n",
       "      <td>89.958333</td>\n",
       "      <td>-179.791668</td>\n",
       "      <td>0.0</td>\n",
       "      <td>0.0</td>\n",
       "    </tr>\n",
       "    <tr>\n",
       "      <th>3</th>\n",
       "      <td>89.958333</td>\n",
       "      <td>-179.708335</td>\n",
       "      <td>0.0</td>\n",
       "      <td>0.0</td>\n",
       "    </tr>\n",
       "    <tr>\n",
       "      <th>4</th>\n",
       "      <td>89.958333</td>\n",
       "      <td>-179.625001</td>\n",
       "      <td>0.0</td>\n",
       "      <td>0.0</td>\n",
       "    </tr>\n",
       "    <tr>\n",
       "      <th>...</th>\n",
       "      <td>...</td>\n",
       "      <td>...</td>\n",
       "      <td>...</td>\n",
       "      <td>...</td>\n",
       "    </tr>\n",
       "    <tr>\n",
       "      <th>9331195</th>\n",
       "      <td>-89.957614</td>\n",
       "      <td>179.623562</td>\n",
       "      <td>0.0</td>\n",
       "      <td>0.0</td>\n",
       "    </tr>\n",
       "    <tr>\n",
       "      <th>9331196</th>\n",
       "      <td>-89.957614</td>\n",
       "      <td>179.706895</td>\n",
       "      <td>0.0</td>\n",
       "      <td>0.0</td>\n",
       "    </tr>\n",
       "    <tr>\n",
       "      <th>9331197</th>\n",
       "      <td>-89.957614</td>\n",
       "      <td>179.790227</td>\n",
       "      <td>0.0</td>\n",
       "      <td>0.0</td>\n",
       "    </tr>\n",
       "    <tr>\n",
       "      <th>9331198</th>\n",
       "      <td>-89.957614</td>\n",
       "      <td>179.873561</td>\n",
       "      <td>0.0</td>\n",
       "      <td>0.0</td>\n",
       "    </tr>\n",
       "    <tr>\n",
       "      <th>9331199</th>\n",
       "      <td>-89.957614</td>\n",
       "      <td>179.956894</td>\n",
       "      <td>0.0</td>\n",
       "      <td>0.0</td>\n",
       "    </tr>\n",
       "  </tbody>\n",
       "</table>\n",
       "<p>9331200 rows × 4 columns</p>\n",
       "</div>"
      ],
      "text/plain": [
       "               lat         lon  2010_yield  historical_yield\n",
       "0        89.958333 -179.958334         0.0               0.0\n",
       "1        89.958333 -179.875000         0.0               0.0\n",
       "2        89.958333 -179.791668         0.0               0.0\n",
       "3        89.958333 -179.708335         0.0               0.0\n",
       "4        89.958333 -179.625001         0.0               0.0\n",
       "...            ...         ...         ...               ...\n",
       "9331195 -89.957614  179.623562         0.0               0.0\n",
       "9331196 -89.957614  179.706895         0.0               0.0\n",
       "9331197 -89.957614  179.790227         0.0               0.0\n",
       "9331198 -89.957614  179.873561         0.0               0.0\n",
       "9331199 -89.957614  179.956894         0.0               0.0\n",
       "\n",
       "[9331200 rows x 4 columns]"
      ]
     },
     "execution_count": 31,
     "metadata": {},
     "output_type": "execute_result"
    }
   ],
   "source": [
    "wheat_2010_df['historical_yield']= wheat_2000_df['2000_yield']\n",
    "wheat_2010_df"
   ]
  },
  {
   "cell_type": "markdown",
   "metadata": {},
   "source": [
    "## Train/test split"
   ]
  },
  {
   "cell_type": "code",
   "execution_count": 32,
   "metadata": {},
   "outputs": [],
   "source": [
    "from sklearn.model_selection import StratifiedShuffleSplit"
   ]
  },
  {
   "cell_type": "code",
   "execution_count": 33,
   "metadata": {},
   "outputs": [
    {
     "data": {
      "text/html": [
       "<div>\n",
       "<style scoped>\n",
       "    .dataframe tbody tr th:only-of-type {\n",
       "        vertical-align: middle;\n",
       "    }\n",
       "\n",
       "    .dataframe tbody tr th {\n",
       "        vertical-align: top;\n",
       "    }\n",
       "\n",
       "    .dataframe thead th {\n",
       "        text-align: right;\n",
       "    }\n",
       "</style>\n",
       "<table border=\"1\" class=\"dataframe\">\n",
       "  <thead>\n",
       "    <tr style=\"text-align: right;\">\n",
       "      <th></th>\n",
       "      <th>lat</th>\n",
       "      <th>lon</th>\n",
       "      <th>2010_yield</th>\n",
       "      <th>historical_yield</th>\n",
       "    </tr>\n",
       "  </thead>\n",
       "  <tbody>\n",
       "    <tr>\n",
       "      <th>0</th>\n",
       "      <td>89.958333</td>\n",
       "      <td>-179.958334</td>\n",
       "      <td>0.0</td>\n",
       "      <td>0.0</td>\n",
       "    </tr>\n",
       "    <tr>\n",
       "      <th>1</th>\n",
       "      <td>89.958333</td>\n",
       "      <td>-179.875000</td>\n",
       "      <td>0.0</td>\n",
       "      <td>0.0</td>\n",
       "    </tr>\n",
       "    <tr>\n",
       "      <th>2</th>\n",
       "      <td>89.958333</td>\n",
       "      <td>-179.791668</td>\n",
       "      <td>0.0</td>\n",
       "      <td>0.0</td>\n",
       "    </tr>\n",
       "    <tr>\n",
       "      <th>3</th>\n",
       "      <td>89.958333</td>\n",
       "      <td>-179.708335</td>\n",
       "      <td>0.0</td>\n",
       "      <td>0.0</td>\n",
       "    </tr>\n",
       "    <tr>\n",
       "      <th>4</th>\n",
       "      <td>89.958333</td>\n",
       "      <td>-179.625001</td>\n",
       "      <td>0.0</td>\n",
       "      <td>0.0</td>\n",
       "    </tr>\n",
       "    <tr>\n",
       "      <th>...</th>\n",
       "      <td>...</td>\n",
       "      <td>...</td>\n",
       "      <td>...</td>\n",
       "      <td>...</td>\n",
       "    </tr>\n",
       "    <tr>\n",
       "      <th>9331195</th>\n",
       "      <td>-89.957614</td>\n",
       "      <td>179.623562</td>\n",
       "      <td>0.0</td>\n",
       "      <td>0.0</td>\n",
       "    </tr>\n",
       "    <tr>\n",
       "      <th>9331196</th>\n",
       "      <td>-89.957614</td>\n",
       "      <td>179.706895</td>\n",
       "      <td>0.0</td>\n",
       "      <td>0.0</td>\n",
       "    </tr>\n",
       "    <tr>\n",
       "      <th>9331197</th>\n",
       "      <td>-89.957614</td>\n",
       "      <td>179.790227</td>\n",
       "      <td>0.0</td>\n",
       "      <td>0.0</td>\n",
       "    </tr>\n",
       "    <tr>\n",
       "      <th>9331198</th>\n",
       "      <td>-89.957614</td>\n",
       "      <td>179.873561</td>\n",
       "      <td>0.0</td>\n",
       "      <td>0.0</td>\n",
       "    </tr>\n",
       "    <tr>\n",
       "      <th>9331199</th>\n",
       "      <td>-89.957614</td>\n",
       "      <td>179.956894</td>\n",
       "      <td>0.0</td>\n",
       "      <td>0.0</td>\n",
       "    </tr>\n",
       "  </tbody>\n",
       "</table>\n",
       "<p>9331200 rows × 4 columns</p>\n",
       "</div>"
      ],
      "text/plain": [
       "               lat         lon  2010_yield  historical_yield\n",
       "0        89.958333 -179.958334         0.0               0.0\n",
       "1        89.958333 -179.875000         0.0               0.0\n",
       "2        89.958333 -179.791668         0.0               0.0\n",
       "3        89.958333 -179.708335         0.0               0.0\n",
       "4        89.958333 -179.625001         0.0               0.0\n",
       "...            ...         ...         ...               ...\n",
       "9331195 -89.957614  179.623562         0.0               0.0\n",
       "9331196 -89.957614  179.706895         0.0               0.0\n",
       "9331197 -89.957614  179.790227         0.0               0.0\n",
       "9331198 -89.957614  179.873561         0.0               0.0\n",
       "9331199 -89.957614  179.956894         0.0               0.0\n",
       "\n",
       "[9331200 rows x 4 columns]"
      ]
     },
     "execution_count": 33,
     "metadata": {},
     "output_type": "execute_result"
    }
   ],
   "source": [
    "wheat_2010_df"
   ]
  },
  {
   "cell_type": "code",
   "execution_count": 34,
   "metadata": {},
   "outputs": [],
   "source": [
    "# Divide into stratified validation and training data\n",
    "split = StratifiedShuffleSplit(n_splits=1, test_size=0.2, random_state=42)\n",
    "for train_index, test_index in split.split(wheat_2010_df, wheat_2010_df['lat'],wheat_2010_df['lon']):\n",
    "    train_df = wheat_2010_df.loc[train_index]\n",
    "    test_df = wheat_2010_df.loc[test_index]"
   ]
  },
  {
   "cell_type": "markdown",
   "metadata": {},
   "source": [
    "## Random Forest using *only* historical yields (with lon/lat info)"
   ]
  },
  {
   "cell_type": "code",
   "execution_count": 35,
   "metadata": {},
   "outputs": [],
   "source": [
    "from sklearn.ensemble import RandomForestRegressor"
   ]
  },
  {
   "cell_type": "code",
   "execution_count": 36,
   "metadata": {},
   "outputs": [],
   "source": [
    "train_df = train_df[train_df['2010_yield'] != 0.0] # dropping rows where 2010 yield is zero\n",
    "test_df = test_df[test_df[\"2010_yield\"] != 0.0]"
   ]
  },
  {
   "cell_type": "code",
   "execution_count": 37,
   "metadata": {},
   "outputs": [],
   "source": [
    "X_train = train_df.copy().drop([\"2010_yield\"],axis=1)\n",
    "Y_train = train_df.copy()[\"2010_yield\"]\n",
    "X_test = test_df.copy().drop([\"2010_yield\"],axis=1)\n",
    "Y_test = test_df.copy()[\"2010_yield\"]\n",
    "\n",
    "X_column_names = X_train.columns.values.tolist()"
   ]
  },
  {
   "cell_type": "code",
   "execution_count": 96,
   "metadata": {},
   "outputs": [
    {
     "data": {
      "text/plain": [
       "RandomForestRegressor(bootstrap=True, criterion='mse', max_depth=None,\n",
       "                      max_features='auto', max_leaf_nodes=None,\n",
       "                      min_impurity_decrease=0.0, min_impurity_split=None,\n",
       "                      min_samples_leaf=1, min_samples_split=2,\n",
       "                      min_weight_fraction_leaf=0.0, n_estimators=500, n_jobs=-1,\n",
       "                      oob_score=True, random_state=None, verbose=0,\n",
       "                      warm_start=False)"
      ]
     },
     "execution_count": 96,
     "metadata": {},
     "output_type": "execute_result"
    }
   ],
   "source": [
    "rnd_reg = RandomForestRegressor(n_estimators=500, n_jobs=-1,oob_score=True)\n",
    "rnd_reg.fit(X_train, Y_train)"
   ]
  },
  {
   "cell_type": "code",
   "execution_count": 97,
   "metadata": {},
   "outputs": [
    {
     "data": {
      "text/plain": [
       "0.9658487309643183"
      ]
     },
     "execution_count": 97,
     "metadata": {},
     "output_type": "execute_result"
    }
   ],
   "source": [
    "rnd_reg.score(X_train, Y_train) # score for training set"
   ]
  },
  {
   "cell_type": "code",
   "execution_count": 98,
   "metadata": {},
   "outputs": [
    {
     "data": {
      "text/plain": [
       "0.7485931462027773"
      ]
     },
     "execution_count": 98,
     "metadata": {},
     "output_type": "execute_result"
    }
   ],
   "source": [
    "rnd_reg.oob_score_ # out-of-bag score"
   ]
  },
  {
   "cell_type": "code",
   "execution_count": 99,
   "metadata": {},
   "outputs": [
    {
     "data": {
      "text/plain": [
       "0.748489615055687"
      ]
     },
     "execution_count": 99,
     "metadata": {},
     "output_type": "execute_result"
    }
   ],
   "source": [
    "rnd_reg.score(X_test, Y_test)"
   ]
  },
  {
   "cell_type": "markdown",
   "metadata": {},
   "source": [
    "## Random Forest using *only* historical yields (without lon/lat info)"
   ]
  },
  {
   "cell_type": "code",
   "execution_count": 39,
   "metadata": {},
   "outputs": [],
   "source": [
    "X_train = X_train.copy().drop([\"lat\"],axis=1).drop([\"lon\"],axis=1)\n",
    "X_test= X_test.copy().drop([\"lat\"],axis=1).drop([\"lon\"],axis=1)\n",
    "X_column_names = X_train.columns.values.tolist()"
   ]
  },
  {
   "cell_type": "code",
   "execution_count": 40,
   "metadata": {},
   "outputs": [
    {
     "data": {
      "text/plain": [
       "RandomForestRegressor(bootstrap=True, criterion='mse', max_depth=None,\n",
       "                      max_features='auto', max_leaf_nodes=None,\n",
       "                      min_impurity_decrease=0.0, min_impurity_split=None,\n",
       "                      min_samples_leaf=1, min_samples_split=2,\n",
       "                      min_weight_fraction_leaf=0.0, n_estimators=500, n_jobs=-1,\n",
       "                      oob_score=True, random_state=None, verbose=0,\n",
       "                      warm_start=False)"
      ]
     },
     "execution_count": 40,
     "metadata": {},
     "output_type": "execute_result"
    }
   ],
   "source": [
    "rnd_reg = RandomForestRegressor(n_estimators=500, n_jobs=-1,oob_score=True)\n",
    "rnd_reg.fit(X_train, Y_train)"
   ]
  },
  {
   "cell_type": "code",
   "execution_count": 41,
   "metadata": {},
   "outputs": [
    {
     "data": {
      "text/plain": [
       "0.4920353577368891"
      ]
     },
     "execution_count": 41,
     "metadata": {},
     "output_type": "execute_result"
    }
   ],
   "source": [
    "rnd_reg.score(X_train, Y_train) # score for training set"
   ]
  },
  {
   "cell_type": "code",
   "execution_count": 42,
   "metadata": {},
   "outputs": [
    {
     "data": {
      "text/plain": [
       "0.29898721731950717"
      ]
     },
     "execution_count": 42,
     "metadata": {},
     "output_type": "execute_result"
    }
   ],
   "source": [
    "rnd_reg.oob_score_ # out-of-bag score"
   ]
  },
  {
   "cell_type": "code",
   "execution_count": 43,
   "metadata": {},
   "outputs": [
    {
     "data": {
      "text/plain": [
       "0.29295983105375056"
      ]
     },
     "execution_count": 43,
     "metadata": {},
     "output_type": "execute_result"
    }
   ],
   "source": [
    "rnd_reg.score(X_test, Y_test)\n",
    "\n",
    "# historical yield only"
   ]
  },
  {
   "cell_type": "markdown",
   "metadata": {},
   "source": [
    "## Import ERA-Interim agroclimatic indicators and select the years 2000, 2010"
   ]
  },
  {
   "cell_type": "code",
   "execution_count": 44,
   "metadata": {},
   "outputs": [],
   "source": [
    "dry = xr.open_dataset(\"ac_indicators/CDD_C3S-glob-agric_WFDEI_hist_season_19810101-20101231_v1.nc\")"
   ]
  },
  {
   "cell_type": "code",
   "execution_count": 45,
   "metadata": {},
   "outputs": [
    {
     "data": {
      "text/html": [
       "<pre>&lt;xarray.Dataset&gt;\n",
       "Dimensions:      (bounds: 2, lat: 360, lon: 720, time: 119)\n",
       "Coordinates:\n",
       "  * time         (time) datetime64[ns] 1981-04-16 1981-07-16 ... 2010-10-16\n",
       "  * lat          (lat) float64 -89.75 -89.25 -88.75 -88.25 ... 88.75 89.25 89.75\n",
       "  * lon          (lon) float64 -179.8 -179.2 -178.8 -178.2 ... 178.8 179.2 179.8\n",
       "Dimensions without coordinates: bounds\n",
       "Data variables:\n",
       "    time_bounds  (time, bounds) datetime64[ns] ...\n",
       "    CDD          (time, lat, lon) float32 ...\n",
       "Attributes:\n",
       "    title:          CDD index from ECA drought indices\n",
       "    institution:    Copernicus Climate Change Service\n",
       "    comment:        \n",
       "    history:         \\n2019-04-26 12:53:02 Calculation of CDD indice (seasona...\n",
       "    summary:        \n",
       "    Conventions:    CF-1.7\n",
       "    contact:        https://climate.copernicus.eu\n",
       "    project:        C3S_422 Global Agriculture\n",
       "    creation_date:  2019-04-26T12:53:02GMT\n",
       "    lineage:        \n",
       "    keywords:       \n",
       "    license:        \n",
       "    references:     Tank, A.K., 2010. European Climate Assessment and Dataset...\n",
       "    source:         The WFDEI meteorological forcing data set: WATCH Forcing ...</pre>"
      ],
      "text/plain": [
       "<xarray.Dataset>\n",
       "Dimensions:      (bounds: 2, lat: 360, lon: 720, time: 119)\n",
       "Coordinates:\n",
       "  * time         (time) datetime64[ns] 1981-04-16 1981-07-16 ... 2010-10-16\n",
       "  * lat          (lat) float64 -89.75 -89.25 -88.75 -88.25 ... 88.75 89.25 89.75\n",
       "  * lon          (lon) float64 -179.8 -179.2 -178.8 -178.2 ... 178.8 179.2 179.8\n",
       "Dimensions without coordinates: bounds\n",
       "Data variables:\n",
       "    time_bounds  (time, bounds) datetime64[ns] ...\n",
       "    CDD          (time, lat, lon) float32 ...\n",
       "Attributes:\n",
       "    title:          CDD index from ECA drought indices\n",
       "    institution:    Copernicus Climate Change Service\n",
       "    comment:        \n",
       "    history:         \\n2019-04-26 12:53:02 Calculation of CDD indice (seasona...\n",
       "    summary:        \n",
       "    Conventions:    CF-1.7\n",
       "    contact:        https://climate.copernicus.eu\n",
       "    project:        C3S_422 Global Agriculture\n",
       "    creation_date:  2019-04-26T12:53:02GMT\n",
       "    lineage:        \n",
       "    keywords:       \n",
       "    license:        \n",
       "    references:     Tank, A.K., 2010. European Climate Assessment and Dataset...\n",
       "    source:         The WFDEI meteorological forcing data set: WATCH Forcing ..."
      ]
     },
     "execution_count": 45,
     "metadata": {},
     "output_type": "execute_result"
    }
   ],
   "source": [
    "dry"
   ]
  },
  {
   "cell_type": "code",
   "execution_count": 46,
   "metadata": {},
   "outputs": [
    {
     "data": {
      "text/html": [
       "<pre>&lt;xarray.DataArray &#x27;CDD&#x27; (lat: 360, lon: 720)&gt;\n",
       "array([[nan, nan, nan, ..., nan, nan, nan],\n",
       "       [nan, nan, nan, ..., nan, nan, nan],\n",
       "       [nan, nan, nan, ..., nan, nan, nan],\n",
       "       ...,\n",
       "       [nan, nan, nan, ..., nan, nan, nan],\n",
       "       [nan, nan, nan, ..., nan, nan, nan],\n",
       "       [nan, nan, nan, ..., nan, nan, nan]], dtype=float32)\n",
       "Coordinates:\n",
       "  * lat      (lat) float64 -89.75 -89.25 -88.75 -88.25 ... 88.75 89.25 89.75\n",
       "  * lon      (lon) float64 -179.8 -179.2 -178.8 -178.2 ... 178.8 179.2 179.8</pre>"
      ],
      "text/plain": [
       "<xarray.DataArray 'CDD' (lat: 360, lon: 720)>\n",
       "array([[nan, nan, nan, ..., nan, nan, nan],\n",
       "       [nan, nan, nan, ..., nan, nan, nan],\n",
       "       [nan, nan, nan, ..., nan, nan, nan],\n",
       "       ...,\n",
       "       [nan, nan, nan, ..., nan, nan, nan],\n",
       "       [nan, nan, nan, ..., nan, nan, nan],\n",
       "       [nan, nan, nan, ..., nan, nan, nan]], dtype=float32)\n",
       "Coordinates:\n",
       "  * lat      (lat) float64 -89.75 -89.25 -88.75 -88.25 ... 88.75 89.25 89.75\n",
       "  * lon      (lon) float64 -179.8 -179.2 -178.8 -178.2 ... 178.8 179.2 179.8"
      ]
     },
     "execution_count": 46,
     "metadata": {},
     "output_type": "execute_result"
    }
   ],
   "source": [
    "CDD_winter = (dry.CDD).sel(time = '2010-01-16T00:00:00.000000000')\n",
    "CDD_spring = (dry.CDD).sel(time = '2010-04-16T00:00:00.000000000')\n",
    "CDD_summer = (dry.CDD).sel(time = '2010-07-16T00:00:00.000000000')\n",
    "CDD_autumn = (dry.CDD).sel(time = '2010-10-16T00:00:00.000000000')\n",
    "CDD_sum_2010 = CDD_winter + CDD_spring + CDD_summer + CDD_autumn\n",
    "CDD_sum_2010"
   ]
  },
  {
   "cell_type": "code",
   "execution_count": 47,
   "metadata": {},
   "outputs": [
    {
     "data": {
      "text/html": [
       "<pre>&lt;xarray.Dataset&gt;\n",
       "Dimensions:      (bounds: 2, lat: 360, lon: 720, time: 119)\n",
       "Coordinates:\n",
       "  * time         (time) datetime64[ns] 1981-04-16 1981-07-16 ... 2010-10-16\n",
       "  * lat          (lat) float64 -89.75 -89.25 -88.75 -88.25 ... 88.75 89.25 89.75\n",
       "  * lon          (lon) float64 -179.8 -179.2 -178.8 -178.2 ... 178.8 179.2 179.8\n",
       "Dimensions without coordinates: bounds\n",
       "Data variables:\n",
       "    time_bounds  (time, bounds) datetime64[ns] ...\n",
       "    CWD          (time, lat, lon) float32 ...\n",
       "Attributes:\n",
       "    title:          CWD index from ECA rain indices\n",
       "    institution:    Copernicus Climate Change Service\n",
       "    comment:        \n",
       "    history:         \\n2019-04-26 12:57:59 Calculation of CWD indice (seasona...\n",
       "    summary:        \n",
       "    Conventions:    CF-1.7\n",
       "    contact:        https://climate.copernicus.eu\n",
       "    project:        C3S_422 Global Agriculture\n",
       "    creation_date:  2019-04-26T12:57:59GMT\n",
       "    lineage:        \n",
       "    keywords:       \n",
       "    license:        \n",
       "    references:     Tank, A.K., 2010. European Climate Assessment and Dataset...\n",
       "    source:         The WFDEI meteorological forcing data set: WATCH Forcing ...</pre>"
      ],
      "text/plain": [
       "<xarray.Dataset>\n",
       "Dimensions:      (bounds: 2, lat: 360, lon: 720, time: 119)\n",
       "Coordinates:\n",
       "  * time         (time) datetime64[ns] 1981-04-16 1981-07-16 ... 2010-10-16\n",
       "  * lat          (lat) float64 -89.75 -89.25 -88.75 -88.25 ... 88.75 89.25 89.75\n",
       "  * lon          (lon) float64 -179.8 -179.2 -178.8 -178.2 ... 178.8 179.2 179.8\n",
       "Dimensions without coordinates: bounds\n",
       "Data variables:\n",
       "    time_bounds  (time, bounds) datetime64[ns] ...\n",
       "    CWD          (time, lat, lon) float32 ...\n",
       "Attributes:\n",
       "    title:          CWD index from ECA rain indices\n",
       "    institution:    Copernicus Climate Change Service\n",
       "    comment:        \n",
       "    history:         \\n2019-04-26 12:57:59 Calculation of CWD indice (seasona...\n",
       "    summary:        \n",
       "    Conventions:    CF-1.7\n",
       "    contact:        https://climate.copernicus.eu\n",
       "    project:        C3S_422 Global Agriculture\n",
       "    creation_date:  2019-04-26T12:57:59GMT\n",
       "    lineage:        \n",
       "    keywords:       \n",
       "    license:        \n",
       "    references:     Tank, A.K., 2010. European Climate Assessment and Dataset...\n",
       "    source:         The WFDEI meteorological forcing data set: WATCH Forcing ..."
      ]
     },
     "execution_count": 47,
     "metadata": {},
     "output_type": "execute_result"
    }
   ],
   "source": [
    "wet = xr.open_dataset(\"ac_indicators/CWD_C3S-glob-agric_WFDEI_hist_season_19810101-20101231_v1.nc\")\n",
    "wet"
   ]
  },
  {
   "cell_type": "code",
   "execution_count": 48,
   "metadata": {},
   "outputs": [
    {
     "data": {
      "text/html": [
       "<pre>&lt;xarray.DataArray &#x27;CWD&#x27; (lat: 360, lon: 720)&gt;\n",
       "array([[nan, nan, nan, ..., nan, nan, nan],\n",
       "       [nan, nan, nan, ..., nan, nan, nan],\n",
       "       [nan, nan, nan, ..., nan, nan, nan],\n",
       "       ...,\n",
       "       [nan, nan, nan, ..., nan, nan, nan],\n",
       "       [nan, nan, nan, ..., nan, nan, nan],\n",
       "       [nan, nan, nan, ..., nan, nan, nan]], dtype=float32)\n",
       "Coordinates:\n",
       "  * lat      (lat) float64 -89.75 -89.25 -88.75 -88.25 ... 88.75 89.25 89.75\n",
       "  * lon      (lon) float64 -179.8 -179.2 -178.8 -178.2 ... 178.8 179.2 179.8</pre>"
      ],
      "text/plain": [
       "<xarray.DataArray 'CWD' (lat: 360, lon: 720)>\n",
       "array([[nan, nan, nan, ..., nan, nan, nan],\n",
       "       [nan, nan, nan, ..., nan, nan, nan],\n",
       "       [nan, nan, nan, ..., nan, nan, nan],\n",
       "       ...,\n",
       "       [nan, nan, nan, ..., nan, nan, nan],\n",
       "       [nan, nan, nan, ..., nan, nan, nan],\n",
       "       [nan, nan, nan, ..., nan, nan, nan]], dtype=float32)\n",
       "Coordinates:\n",
       "  * lat      (lat) float64 -89.75 -89.25 -88.75 -88.25 ... 88.75 89.25 89.75\n",
       "  * lon      (lon) float64 -179.8 -179.2 -178.8 -178.2 ... 178.8 179.2 179.8"
      ]
     },
     "execution_count": 48,
     "metadata": {},
     "output_type": "execute_result"
    }
   ],
   "source": [
    "CWD_winter = (wet.CWD).sel(time = '2010-01-16T00:00:00.000000000')\n",
    "CWD_spring = (wet.CWD).sel(time = '2010-04-16T00:00:00.000000000')\n",
    "CWD_summer = (wet.CWD).sel(time = '2010-07-16T00:00:00.000000000')\n",
    "CWD_autumn = (wet.CWD).sel(time = '2010-10-16T00:00:00.000000000')\n",
    "CWD_sum_2010 = CWD_winter + CWD_spring + CWD_summer + CWD_autumn\n",
    "CWD_sum_2010"
   ]
  },
  {
   "cell_type": "code",
   "execution_count": 49,
   "metadata": {},
   "outputs": [
    {
     "data": {
      "text/html": [
       "<pre>&lt;xarray.Dataset&gt;\n",
       "Dimensions:      (bounds: 2, lat: 360, lon: 720, time: 119)\n",
       "Coordinates:\n",
       "  * time         (time) datetime64[ns] 1981-04-16 1981-07-16 ... 2010-10-16\n",
       "  * lat          (lat) float64 -89.75 -89.25 -88.75 -88.25 ... 88.75 89.25 89.75\n",
       "  * lon          (lon) float64 -179.8 -179.2 -178.8 -178.2 ... 178.8 179.2 179.8\n",
       "Dimensions without coordinates: bounds\n",
       "Data variables:\n",
       "    time_bounds  (time, bounds) datetime64[ns] ...\n",
       "    CFD          (time, lat, lon) float32 ...\n",
       "Attributes:\n",
       "    title:          CFD index from ECA cold indices\n",
       "    institution:    Copernicus Climate Change Service\n",
       "    comment:        \n",
       "    history:         \\n2019-04-26 12:53:15 Calculation of CFD indice (seasona...\n",
       "    summary:        \n",
       "    Conventions:    CF-1.7\n",
       "    contact:        https://climate.copernicus.eu\n",
       "    project:        C3S_422 Global Agriculture\n",
       "    creation_date:  2019-04-26T12:53:15GMT\n",
       "    lineage:        \n",
       "    keywords:       \n",
       "    license:        \n",
       "    references:     Tank, A.K., 2010. European Climate Assessment and Dataset...\n",
       "    source:         The WFDEI meteorological forcing data set: WATCH Forcing ...</pre>"
      ],
      "text/plain": [
       "<xarray.Dataset>\n",
       "Dimensions:      (bounds: 2, lat: 360, lon: 720, time: 119)\n",
       "Coordinates:\n",
       "  * time         (time) datetime64[ns] 1981-04-16 1981-07-16 ... 2010-10-16\n",
       "  * lat          (lat) float64 -89.75 -89.25 -88.75 -88.25 ... 88.75 89.25 89.75\n",
       "  * lon          (lon) float64 -179.8 -179.2 -178.8 -178.2 ... 178.8 179.2 179.8\n",
       "Dimensions without coordinates: bounds\n",
       "Data variables:\n",
       "    time_bounds  (time, bounds) datetime64[ns] ...\n",
       "    CFD          (time, lat, lon) float32 ...\n",
       "Attributes:\n",
       "    title:          CFD index from ECA cold indices\n",
       "    institution:    Copernicus Climate Change Service\n",
       "    comment:        \n",
       "    history:         \\n2019-04-26 12:53:15 Calculation of CFD indice (seasona...\n",
       "    summary:        \n",
       "    Conventions:    CF-1.7\n",
       "    contact:        https://climate.copernicus.eu\n",
       "    project:        C3S_422 Global Agriculture\n",
       "    creation_date:  2019-04-26T12:53:15GMT\n",
       "    lineage:        \n",
       "    keywords:       \n",
       "    license:        \n",
       "    references:     Tank, A.K., 2010. European Climate Assessment and Dataset...\n",
       "    source:         The WFDEI meteorological forcing data set: WATCH Forcing ..."
      ]
     },
     "execution_count": 49,
     "metadata": {},
     "output_type": "execute_result"
    }
   ],
   "source": [
    "frost = xr.open_dataset(\"ac_indicators/CFD_C3S-glob-agric_WFDEI_hist_season_19810101-20101231_v1.nc\")\n",
    "frost"
   ]
  },
  {
   "cell_type": "code",
   "execution_count": 50,
   "metadata": {},
   "outputs": [
    {
     "data": {
      "text/html": [
       "<pre>&lt;xarray.DataArray &#x27;CFD&#x27; (lat: 360, lon: 720)&gt;\n",
       "array([[nan, nan, nan, ..., nan, nan, nan],\n",
       "       [nan, nan, nan, ..., nan, nan, nan],\n",
       "       [nan, nan, nan, ..., nan, nan, nan],\n",
       "       ...,\n",
       "       [nan, nan, nan, ..., nan, nan, nan],\n",
       "       [nan, nan, nan, ..., nan, nan, nan],\n",
       "       [nan, nan, nan, ..., nan, nan, nan]], dtype=float32)\n",
       "Coordinates:\n",
       "  * lat      (lat) float64 -89.75 -89.25 -88.75 -88.25 ... 88.75 89.25 89.75\n",
       "  * lon      (lon) float64 -179.8 -179.2 -178.8 -178.2 ... 178.8 179.2 179.8</pre>"
      ],
      "text/plain": [
       "<xarray.DataArray 'CFD' (lat: 360, lon: 720)>\n",
       "array([[nan, nan, nan, ..., nan, nan, nan],\n",
       "       [nan, nan, nan, ..., nan, nan, nan],\n",
       "       [nan, nan, nan, ..., nan, nan, nan],\n",
       "       ...,\n",
       "       [nan, nan, nan, ..., nan, nan, nan],\n",
       "       [nan, nan, nan, ..., nan, nan, nan],\n",
       "       [nan, nan, nan, ..., nan, nan, nan]], dtype=float32)\n",
       "Coordinates:\n",
       "  * lat      (lat) float64 -89.75 -89.25 -88.75 -88.25 ... 88.75 89.25 89.75\n",
       "  * lon      (lon) float64 -179.8 -179.2 -178.8 -178.2 ... 178.8 179.2 179.8"
      ]
     },
     "execution_count": 50,
     "metadata": {},
     "output_type": "execute_result"
    }
   ],
   "source": [
    "CFD_winter = (frost.CFD).sel(time = '2010-01-16T00:00:00.000000000')\n",
    "CFD_spring = (frost.CFD).sel(time = '2010-04-16T00:00:00.000000000')\n",
    "CFD_summer = (frost.CFD).sel(time = '2010-07-16T00:00:00.000000000')\n",
    "CFD_autumn = (frost.CFD).sel(time = '2010-10-16T00:00:00.000000000')\n",
    "CFD_sum_2010 = CFD_winter + CFD_spring + CFD_summer + CFD_autumn\n",
    "CFD_sum_2010"
   ]
  },
  {
   "cell_type": "markdown",
   "metadata": {},
   "source": [
    "## Resample agroclimatic indicators datasets on scale of yield datasets by interpolation"
   ]
  },
  {
   "cell_type": "code",
   "execution_count": 51,
   "metadata": {},
   "outputs": [],
   "source": [
    "# resampling\n",
    "lons_new = np.linspace(-180, 180, 4320)\n",
    "lats_new = np.linspace(-90, 90, 2160)\n",
    "CWD = CWD_sum_2010.interp(coords={'lat':lats_new, 'lon':lons_new}, method='nearest').to_dataframe()\n",
    "CFD = CFD_sum_2010.interp(coords={'lat':lats_new, 'lon':lons_new}, method='nearest').to_dataframe()\n",
    "CDD = CDD_sum_2010.interp(coords={'lat':lats_new, 'lon':lons_new}, method='nearest').to_dataframe()"
   ]
  },
  {
   "cell_type": "code",
   "execution_count": 56,
   "metadata": {},
   "outputs": [
    {
     "data": {
      "text/html": [
       "<div>\n",
       "<style scoped>\n",
       "    .dataframe tbody tr th:only-of-type {\n",
       "        vertical-align: middle;\n",
       "    }\n",
       "\n",
       "    .dataframe tbody tr th {\n",
       "        vertical-align: top;\n",
       "    }\n",
       "\n",
       "    .dataframe thead th {\n",
       "        text-align: right;\n",
       "    }\n",
       "</style>\n",
       "<table border=\"1\" class=\"dataframe\">\n",
       "  <thead>\n",
       "    <tr style=\"text-align: right;\">\n",
       "      <th></th>\n",
       "      <th>lat</th>\n",
       "      <th>lon</th>\n",
       "      <th>2010_yield</th>\n",
       "      <th>historical_yield</th>\n",
       "    </tr>\n",
       "  </thead>\n",
       "  <tbody>\n",
       "    <tr>\n",
       "      <th>0</th>\n",
       "      <td>89.958333</td>\n",
       "      <td>-179.958334</td>\n",
       "      <td>0.0</td>\n",
       "      <td>0.0</td>\n",
       "    </tr>\n",
       "    <tr>\n",
       "      <th>1</th>\n",
       "      <td>89.958333</td>\n",
       "      <td>-179.875000</td>\n",
       "      <td>0.0</td>\n",
       "      <td>0.0</td>\n",
       "    </tr>\n",
       "    <tr>\n",
       "      <th>2</th>\n",
       "      <td>89.958333</td>\n",
       "      <td>-179.791668</td>\n",
       "      <td>0.0</td>\n",
       "      <td>0.0</td>\n",
       "    </tr>\n",
       "    <tr>\n",
       "      <th>3</th>\n",
       "      <td>89.958333</td>\n",
       "      <td>-179.708335</td>\n",
       "      <td>0.0</td>\n",
       "      <td>0.0</td>\n",
       "    </tr>\n",
       "    <tr>\n",
       "      <th>4</th>\n",
       "      <td>89.958333</td>\n",
       "      <td>-179.625001</td>\n",
       "      <td>0.0</td>\n",
       "      <td>0.0</td>\n",
       "    </tr>\n",
       "    <tr>\n",
       "      <th>...</th>\n",
       "      <td>...</td>\n",
       "      <td>...</td>\n",
       "      <td>...</td>\n",
       "      <td>...</td>\n",
       "    </tr>\n",
       "    <tr>\n",
       "      <th>9331195</th>\n",
       "      <td>-89.957614</td>\n",
       "      <td>179.623562</td>\n",
       "      <td>0.0</td>\n",
       "      <td>0.0</td>\n",
       "    </tr>\n",
       "    <tr>\n",
       "      <th>9331196</th>\n",
       "      <td>-89.957614</td>\n",
       "      <td>179.706895</td>\n",
       "      <td>0.0</td>\n",
       "      <td>0.0</td>\n",
       "    </tr>\n",
       "    <tr>\n",
       "      <th>9331197</th>\n",
       "      <td>-89.957614</td>\n",
       "      <td>179.790227</td>\n",
       "      <td>0.0</td>\n",
       "      <td>0.0</td>\n",
       "    </tr>\n",
       "    <tr>\n",
       "      <th>9331198</th>\n",
       "      <td>-89.957614</td>\n",
       "      <td>179.873561</td>\n",
       "      <td>0.0</td>\n",
       "      <td>0.0</td>\n",
       "    </tr>\n",
       "    <tr>\n",
       "      <th>9331199</th>\n",
       "      <td>-89.957614</td>\n",
       "      <td>179.956894</td>\n",
       "      <td>0.0</td>\n",
       "      <td>0.0</td>\n",
       "    </tr>\n",
       "  </tbody>\n",
       "</table>\n",
       "<p>9331200 rows × 4 columns</p>\n",
       "</div>"
      ],
      "text/plain": [
       "               lat         lon  2010_yield  historical_yield\n",
       "0        89.958333 -179.958334         0.0               0.0\n",
       "1        89.958333 -179.875000         0.0               0.0\n",
       "2        89.958333 -179.791668         0.0               0.0\n",
       "3        89.958333 -179.708335         0.0               0.0\n",
       "4        89.958333 -179.625001         0.0               0.0\n",
       "...            ...         ...         ...               ...\n",
       "9331195 -89.957614  179.623562         0.0               0.0\n",
       "9331196 -89.957614  179.706895         0.0               0.0\n",
       "9331197 -89.957614  179.790227         0.0               0.0\n",
       "9331198 -89.957614  179.873561         0.0               0.0\n",
       "9331199 -89.957614  179.956894         0.0               0.0\n",
       "\n",
       "[9331200 rows x 4 columns]"
      ]
     },
     "execution_count": 56,
     "metadata": {},
     "output_type": "execute_result"
    }
   ],
   "source": [
    "wheat_2010_df"
   ]
  },
  {
   "cell_type": "code",
   "execution_count": 90,
   "metadata": {},
   "outputs": [],
   "source": [
    "#wheat_2010_df.index"
   ]
  },
  {
   "cell_type": "code",
   "execution_count": 89,
   "metadata": {},
   "outputs": [],
   "source": [
    "#CWD.reset_index()['CWD']"
   ]
  },
  {
   "cell_type": "code",
   "execution_count": 88,
   "metadata": {},
   "outputs": [],
   "source": [
    "#CWD.reset_index()"
   ]
  },
  {
   "cell_type": "code",
   "execution_count": 71,
   "metadata": {},
   "outputs": [
    {
     "data": {
      "text/html": [
       "<div>\n",
       "<style scoped>\n",
       "    .dataframe tbody tr th:only-of-type {\n",
       "        vertical-align: middle;\n",
       "    }\n",
       "\n",
       "    .dataframe tbody tr th {\n",
       "        vertical-align: top;\n",
       "    }\n",
       "\n",
       "    .dataframe thead th {\n",
       "        text-align: right;\n",
       "    }\n",
       "</style>\n",
       "<table border=\"1\" class=\"dataframe\">\n",
       "  <thead>\n",
       "    <tr style=\"text-align: right;\">\n",
       "      <th></th>\n",
       "      <th>lat</th>\n",
       "      <th>lon</th>\n",
       "      <th>2010_yield</th>\n",
       "      <th>historical_yield</th>\n",
       "      <th>CWD</th>\n",
       "      <th>CFD</th>\n",
       "      <th>CDD</th>\n",
       "    </tr>\n",
       "  </thead>\n",
       "  <tbody>\n",
       "    <tr>\n",
       "      <th>0</th>\n",
       "      <td>89.958333</td>\n",
       "      <td>-179.958334</td>\n",
       "      <td>0.0</td>\n",
       "      <td>0.0</td>\n",
       "      <td>NaN</td>\n",
       "      <td>NaN</td>\n",
       "      <td>NaN</td>\n",
       "    </tr>\n",
       "    <tr>\n",
       "      <th>1</th>\n",
       "      <td>89.958333</td>\n",
       "      <td>-179.875000</td>\n",
       "      <td>0.0</td>\n",
       "      <td>0.0</td>\n",
       "      <td>NaN</td>\n",
       "      <td>NaN</td>\n",
       "      <td>NaN</td>\n",
       "    </tr>\n",
       "    <tr>\n",
       "      <th>2</th>\n",
       "      <td>89.958333</td>\n",
       "      <td>-179.791668</td>\n",
       "      <td>0.0</td>\n",
       "      <td>0.0</td>\n",
       "      <td>NaN</td>\n",
       "      <td>NaN</td>\n",
       "      <td>NaN</td>\n",
       "    </tr>\n",
       "    <tr>\n",
       "      <th>3</th>\n",
       "      <td>89.958333</td>\n",
       "      <td>-179.708335</td>\n",
       "      <td>0.0</td>\n",
       "      <td>0.0</td>\n",
       "      <td>NaN</td>\n",
       "      <td>NaN</td>\n",
       "      <td>NaN</td>\n",
       "    </tr>\n",
       "    <tr>\n",
       "      <th>4</th>\n",
       "      <td>89.958333</td>\n",
       "      <td>-179.625001</td>\n",
       "      <td>0.0</td>\n",
       "      <td>0.0</td>\n",
       "      <td>NaN</td>\n",
       "      <td>NaN</td>\n",
       "      <td>NaN</td>\n",
       "    </tr>\n",
       "    <tr>\n",
       "      <th>...</th>\n",
       "      <td>...</td>\n",
       "      <td>...</td>\n",
       "      <td>...</td>\n",
       "      <td>...</td>\n",
       "      <td>...</td>\n",
       "      <td>...</td>\n",
       "      <td>...</td>\n",
       "    </tr>\n",
       "    <tr>\n",
       "      <th>9331195</th>\n",
       "      <td>-89.957614</td>\n",
       "      <td>179.623562</td>\n",
       "      <td>0.0</td>\n",
       "      <td>0.0</td>\n",
       "      <td>NaN</td>\n",
       "      <td>NaN</td>\n",
       "      <td>NaN</td>\n",
       "    </tr>\n",
       "    <tr>\n",
       "      <th>9331196</th>\n",
       "      <td>-89.957614</td>\n",
       "      <td>179.706895</td>\n",
       "      <td>0.0</td>\n",
       "      <td>0.0</td>\n",
       "      <td>NaN</td>\n",
       "      <td>NaN</td>\n",
       "      <td>NaN</td>\n",
       "    </tr>\n",
       "    <tr>\n",
       "      <th>9331197</th>\n",
       "      <td>-89.957614</td>\n",
       "      <td>179.790227</td>\n",
       "      <td>0.0</td>\n",
       "      <td>0.0</td>\n",
       "      <td>NaN</td>\n",
       "      <td>NaN</td>\n",
       "      <td>NaN</td>\n",
       "    </tr>\n",
       "    <tr>\n",
       "      <th>9331198</th>\n",
       "      <td>-89.957614</td>\n",
       "      <td>179.873561</td>\n",
       "      <td>0.0</td>\n",
       "      <td>0.0</td>\n",
       "      <td>NaN</td>\n",
       "      <td>NaN</td>\n",
       "      <td>NaN</td>\n",
       "    </tr>\n",
       "    <tr>\n",
       "      <th>9331199</th>\n",
       "      <td>-89.957614</td>\n",
       "      <td>179.956894</td>\n",
       "      <td>0.0</td>\n",
       "      <td>0.0</td>\n",
       "      <td>NaN</td>\n",
       "      <td>NaN</td>\n",
       "      <td>NaN</td>\n",
       "    </tr>\n",
       "  </tbody>\n",
       "</table>\n",
       "<p>9331200 rows × 7 columns</p>\n",
       "</div>"
      ],
      "text/plain": [
       "               lat         lon  2010_yield  historical_yield  CWD  CFD  CDD\n",
       "0        89.958333 -179.958334         0.0               0.0  NaN  NaN  NaN\n",
       "1        89.958333 -179.875000         0.0               0.0  NaN  NaN  NaN\n",
       "2        89.958333 -179.791668         0.0               0.0  NaN  NaN  NaN\n",
       "3        89.958333 -179.708335         0.0               0.0  NaN  NaN  NaN\n",
       "4        89.958333 -179.625001         0.0               0.0  NaN  NaN  NaN\n",
       "...            ...         ...         ...               ...  ...  ...  ...\n",
       "9331195 -89.957614  179.623562         0.0               0.0  NaN  NaN  NaN\n",
       "9331196 -89.957614  179.706895         0.0               0.0  NaN  NaN  NaN\n",
       "9331197 -89.957614  179.790227         0.0               0.0  NaN  NaN  NaN\n",
       "9331198 -89.957614  179.873561         0.0               0.0  NaN  NaN  NaN\n",
       "9331199 -89.957614  179.956894         0.0               0.0  NaN  NaN  NaN\n",
       "\n",
       "[9331200 rows x 7 columns]"
      ]
     },
     "execution_count": 71,
     "metadata": {},
     "output_type": "execute_result"
    }
   ],
   "source": [
    "wheat_2010_df['CWD']=CWD.reset_index()['CWD']\n",
    "wheat_2010_df['CFD']=CFD.reset_index()['CFD']\n",
    "wheat_2010_df['CDD']=CDD.reset_index()['CDD']\n",
    "\n",
    "wheat_2010_df"
   ]
  },
  {
   "cell_type": "code",
   "execution_count": 72,
   "metadata": {},
   "outputs": [],
   "source": [
    "#wheat_2010_aci = pd.concat([wheat_2010_df,CWD,CDD,CFD],axis=1)\n",
    "#wheat_2010_aci"
   ]
  },
  {
   "cell_type": "code",
   "execution_count": 74,
   "metadata": {},
   "outputs": [],
   "source": [
    "wheat_2010_aci = wheat_2010_df.dropna()"
   ]
  },
  {
   "cell_type": "code",
   "execution_count": 75,
   "metadata": {},
   "outputs": [
    {
     "data": {
      "text/html": [
       "<div>\n",
       "<style scoped>\n",
       "    .dataframe tbody tr th:only-of-type {\n",
       "        vertical-align: middle;\n",
       "    }\n",
       "\n",
       "    .dataframe tbody tr th {\n",
       "        vertical-align: top;\n",
       "    }\n",
       "\n",
       "    .dataframe thead th {\n",
       "        text-align: right;\n",
       "    }\n",
       "</style>\n",
       "<table border=\"1\" class=\"dataframe\">\n",
       "  <thead>\n",
       "    <tr style=\"text-align: right;\">\n",
       "      <th></th>\n",
       "      <th>index</th>\n",
       "      <th>lat</th>\n",
       "      <th>lon</th>\n",
       "      <th>2010_yield</th>\n",
       "      <th>historical_yield</th>\n",
       "      <th>CWD</th>\n",
       "      <th>CFD</th>\n",
       "      <th>CDD</th>\n",
       "    </tr>\n",
       "  </thead>\n",
       "  <tbody>\n",
       "    <tr>\n",
       "      <th>0</th>\n",
       "      <td>1763898</td>\n",
       "      <td>55.958469</td>\n",
       "      <td>-68.458780</td>\n",
       "      <td>0.0</td>\n",
       "      <td>0.0</td>\n",
       "      <td>49.0</td>\n",
       "      <td>16.0</td>\n",
       "      <td>21.0</td>\n",
       "    </tr>\n",
       "    <tr>\n",
       "      <th>1</th>\n",
       "      <td>1763899</td>\n",
       "      <td>55.958469</td>\n",
       "      <td>-68.375447</td>\n",
       "      <td>0.0</td>\n",
       "      <td>0.0</td>\n",
       "      <td>49.0</td>\n",
       "      <td>16.0</td>\n",
       "      <td>21.0</td>\n",
       "    </tr>\n",
       "    <tr>\n",
       "      <th>2</th>\n",
       "      <td>1763900</td>\n",
       "      <td>55.958469</td>\n",
       "      <td>-68.292113</td>\n",
       "      <td>0.0</td>\n",
       "      <td>0.0</td>\n",
       "      <td>49.0</td>\n",
       "      <td>16.0</td>\n",
       "      <td>21.0</td>\n",
       "    </tr>\n",
       "    <tr>\n",
       "      <th>3</th>\n",
       "      <td>1763901</td>\n",
       "      <td>55.958469</td>\n",
       "      <td>-68.208781</td>\n",
       "      <td>0.0</td>\n",
       "      <td>0.0</td>\n",
       "      <td>49.0</td>\n",
       "      <td>16.0</td>\n",
       "      <td>21.0</td>\n",
       "    </tr>\n",
       "    <tr>\n",
       "      <th>4</th>\n",
       "      <td>1763902</td>\n",
       "      <td>55.958469</td>\n",
       "      <td>-68.125448</td>\n",
       "      <td>0.0</td>\n",
       "      <td>0.0</td>\n",
       "      <td>49.0</td>\n",
       "      <td>16.0</td>\n",
       "      <td>21.0</td>\n",
       "    </tr>\n",
       "    <tr>\n",
       "      <th>...</th>\n",
       "      <td>...</td>\n",
       "      <td>...</td>\n",
       "      <td>...</td>\n",
       "      <td>...</td>\n",
       "      <td>...</td>\n",
       "      <td>...</td>\n",
       "      <td>...</td>\n",
       "      <td>...</td>\n",
       "    </tr>\n",
       "    <tr>\n",
       "      <th>2426611</th>\n",
       "      <td>9017653</td>\n",
       "      <td>-83.957638</td>\n",
       "      <td>-28.875605</td>\n",
       "      <td>0.0</td>\n",
       "      <td>0.0</td>\n",
       "      <td>3.0</td>\n",
       "      <td>282.0</td>\n",
       "      <td>292.0</td>\n",
       "    </tr>\n",
       "    <tr>\n",
       "      <th>2426612</th>\n",
       "      <td>9017654</td>\n",
       "      <td>-83.957638</td>\n",
       "      <td>-28.792271</td>\n",
       "      <td>0.0</td>\n",
       "      <td>0.0</td>\n",
       "      <td>3.0</td>\n",
       "      <td>282.0</td>\n",
       "      <td>292.0</td>\n",
       "    </tr>\n",
       "    <tr>\n",
       "      <th>2426613</th>\n",
       "      <td>9017655</td>\n",
       "      <td>-83.957638</td>\n",
       "      <td>-28.708938</td>\n",
       "      <td>0.0</td>\n",
       "      <td>0.0</td>\n",
       "      <td>3.0</td>\n",
       "      <td>282.0</td>\n",
       "      <td>292.0</td>\n",
       "    </tr>\n",
       "    <tr>\n",
       "      <th>2426614</th>\n",
       "      <td>9017656</td>\n",
       "      <td>-83.957638</td>\n",
       "      <td>-28.625606</td>\n",
       "      <td>0.0</td>\n",
       "      <td>0.0</td>\n",
       "      <td>3.0</td>\n",
       "      <td>282.0</td>\n",
       "      <td>292.0</td>\n",
       "    </tr>\n",
       "    <tr>\n",
       "      <th>2426615</th>\n",
       "      <td>9017657</td>\n",
       "      <td>-83.957638</td>\n",
       "      <td>-28.542272</td>\n",
       "      <td>0.0</td>\n",
       "      <td>0.0</td>\n",
       "      <td>3.0</td>\n",
       "      <td>282.0</td>\n",
       "      <td>292.0</td>\n",
       "    </tr>\n",
       "  </tbody>\n",
       "</table>\n",
       "<p>2426616 rows × 8 columns</p>\n",
       "</div>"
      ],
      "text/plain": [
       "           index        lat        lon  2010_yield  historical_yield   CWD  \\\n",
       "0        1763898  55.958469 -68.458780         0.0               0.0  49.0   \n",
       "1        1763899  55.958469 -68.375447         0.0               0.0  49.0   \n",
       "2        1763900  55.958469 -68.292113         0.0               0.0  49.0   \n",
       "3        1763901  55.958469 -68.208781         0.0               0.0  49.0   \n",
       "4        1763902  55.958469 -68.125448         0.0               0.0  49.0   \n",
       "...          ...        ...        ...         ...               ...   ...   \n",
       "2426611  9017653 -83.957638 -28.875605         0.0               0.0   3.0   \n",
       "2426612  9017654 -83.957638 -28.792271         0.0               0.0   3.0   \n",
       "2426613  9017655 -83.957638 -28.708938         0.0               0.0   3.0   \n",
       "2426614  9017656 -83.957638 -28.625606         0.0               0.0   3.0   \n",
       "2426615  9017657 -83.957638 -28.542272         0.0               0.0   3.0   \n",
       "\n",
       "           CFD    CDD  \n",
       "0         16.0   21.0  \n",
       "1         16.0   21.0  \n",
       "2         16.0   21.0  \n",
       "3         16.0   21.0  \n",
       "4         16.0   21.0  \n",
       "...        ...    ...  \n",
       "2426611  282.0  292.0  \n",
       "2426612  282.0  292.0  \n",
       "2426613  282.0  292.0  \n",
       "2426614  282.0  292.0  \n",
       "2426615  282.0  292.0  \n",
       "\n",
       "[2426616 rows x 8 columns]"
      ]
     },
     "execution_count": 75,
     "metadata": {},
     "output_type": "execute_result"
    }
   ],
   "source": [
    "wheat_2010_aci_final=wheat_2010_aci.reset_index()\n",
    "wheat_2010_aci_final"
   ]
  },
  {
   "cell_type": "markdown",
   "metadata": {},
   "source": [
    "## Train a random forest to predict 2010 yields based on 2000 yields + 2010 agroclimatic indicators *with* lat/lon"
   ]
  },
  {
   "cell_type": "code",
   "execution_count": 76,
   "metadata": {},
   "outputs": [],
   "source": [
    "# train/test split\n",
    "\n",
    "split = StratifiedShuffleSplit(n_splits=1, test_size=0.2, random_state=42)\n",
    "for train_index, test_index in split.split(wheat_2010_aci_final, wheat_2010_aci_final['lat'],wheat_2010_aci_final['lon']):\n",
    "    train_df = wheat_2010_aci_final.loc[train_index]\n",
    "    test_df = wheat_2010_aci_final.loc[test_index]"
   ]
  },
  {
   "cell_type": "code",
   "execution_count": 77,
   "metadata": {},
   "outputs": [],
   "source": [
    "train_df = train_df[train_df['2010_yield'] != 0.0] # dropping rows where 2010 yield is zero\n",
    "test_df = test_df[test_df[\"2010_yield\"] != 0.0]"
   ]
  },
  {
   "cell_type": "code",
   "execution_count": 78,
   "metadata": {},
   "outputs": [],
   "source": [
    "X_train = train_df.copy().drop([\"2010_yield\"],axis=1)\n",
    "Y_train = train_df.copy()[\"2010_yield\"]\n",
    "X_test = test_df.copy().drop([\"2010_yield\"],axis=1)\n",
    "Y_test = test_df.copy()[\"2010_yield\"]\n",
    "\n",
    "X_column_names = X_train.columns.values.tolist()"
   ]
  },
  {
   "cell_type": "code",
   "execution_count": 79,
   "metadata": {},
   "outputs": [
    {
     "data": {
      "text/plain": [
       "RandomForestRegressor(bootstrap=True, criterion='mse', max_depth=None,\n",
       "                      max_features='auto', max_leaf_nodes=None,\n",
       "                      min_impurity_decrease=0.0, min_impurity_split=None,\n",
       "                      min_samples_leaf=1, min_samples_split=2,\n",
       "                      min_weight_fraction_leaf=0.0, n_estimators=500, n_jobs=-1,\n",
       "                      oob_score=True, random_state=None, verbose=0,\n",
       "                      warm_start=False)"
      ]
     },
     "execution_count": 79,
     "metadata": {},
     "output_type": "execute_result"
    }
   ],
   "source": [
    "rnd_reg = RandomForestRegressor(n_estimators=500, n_jobs=-1,oob_score=True)\n",
    "rnd_reg.fit(X_train, Y_train)"
   ]
  },
  {
   "cell_type": "code",
   "execution_count": 80,
   "metadata": {},
   "outputs": [
    {
     "data": {
      "text/plain": [
       "0.9726912518973625"
      ]
     },
     "execution_count": 80,
     "metadata": {},
     "output_type": "execute_result"
    }
   ],
   "source": [
    "rnd_reg.score(X_train, Y_train) # score for training set"
   ]
  },
  {
   "cell_type": "code",
   "execution_count": 81,
   "metadata": {},
   "outputs": [
    {
     "data": {
      "text/plain": [
       "0.7974365774004056"
      ]
     },
     "execution_count": 81,
     "metadata": {},
     "output_type": "execute_result"
    }
   ],
   "source": [
    "rnd_reg.oob_score_ # out-of-bag score"
   ]
  },
  {
   "cell_type": "code",
   "execution_count": 82,
   "metadata": {},
   "outputs": [
    {
     "data": {
      "text/plain": [
       "0.8065762453477304"
      ]
     },
     "execution_count": 82,
     "metadata": {},
     "output_type": "execute_result"
    }
   ],
   "source": [
    "rnd_reg.score(X_test, Y_test)"
   ]
  },
  {
   "cell_type": "markdown",
   "metadata": {},
   "source": [
    "#### Train a random forest regressor to predict 2010 yields based on 2000 yields + 2010 agroclimatic indicators *without* lat/lon"
   ]
  },
  {
   "cell_type": "code",
   "execution_count": 91,
   "metadata": {},
   "outputs": [],
   "source": [
    "#X_train = X_train.copy().drop([\"lat\"],axis=1).drop([\"lon\"],axis=1)\n",
    "#X_test= X_test.copy().drop([\"lat\"],axis=1).drop([\"lon\"],axis=1)\n",
    "#X_column_names = X_train.columns.values.tolist()"
   ]
  },
  {
   "cell_type": "code",
   "execution_count": 92,
   "metadata": {},
   "outputs": [],
   "source": [
    "#rnd_reg = RandomForestRegressor(n_estimators=500, n_jobs=-1,oob_score=True)\n",
    "#rnd_reg.fit(X_train, Y_train)"
   ]
  },
  {
   "cell_type": "code",
   "execution_count": 93,
   "metadata": {},
   "outputs": [],
   "source": [
    "#rnd_reg.score(X_train, Y_train) # score for training set"
   ]
  },
  {
   "cell_type": "code",
   "execution_count": 94,
   "metadata": {},
   "outputs": [],
   "source": [
    "#rnd_reg.oob_score_ # out-of-bag score"
   ]
  },
  {
   "cell_type": "code",
   "execution_count": 95,
   "metadata": {},
   "outputs": [],
   "source": [
    "#rnd_reg.score(X_test, Y_test)"
   ]
  },
  {
   "cell_type": "markdown",
   "metadata": {},
   "source": [
    "# RESULTS #\n",
    "\n",
    "## historical yield only ##\n",
    "\n",
    "0.305\n",
    "\n",
    "0.293 (coordinate method update)\n",
    "\n",
    "## historical yield + lat/lon ##\n",
    "\n",
    "0.808\n",
    "\n",
    "0.748 (coordinate method update)\n",
    "\n",
    "\n",
    "## historical yield + lat/lon + agroclimatic indicators ##\n",
    "\n",
    "0.804\n",
    "\n",
    "0.807 (coordinate method update)"
   ]
  },
  {
   "cell_type": "code",
   "execution_count": null,
   "metadata": {},
   "outputs": [],
   "source": []
  }
 ],
 "metadata": {
  "kernelspec": {
   "display_name": "Python 3",
   "language": "python",
   "name": "python3"
  },
  "language_info": {
   "codemirror_mode": {
    "name": "ipython",
    "version": 3
   },
   "file_extension": ".py",
   "mimetype": "text/x-python",
   "name": "python",
   "nbconvert_exporter": "python",
   "pygments_lexer": "ipython3",
   "version": "3.6.5"
  }
 },
 "nbformat": 4,
 "nbformat_minor": 2
}
