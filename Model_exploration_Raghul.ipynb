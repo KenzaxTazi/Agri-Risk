{
  "nbformat": 4,
  "nbformat_minor": 0,
  "metadata": {
    "colab": {
      "name": "Model_exploration_Raghul.ipynb",
      "provenance": [],
      "collapsed_sections": [],
      "toc_visible": true,
      "mount_file_id": "14G0Plb1oiIIrM0gA6OqMXuYWQXXowgWJ",
      "authorship_tag": "ABX9TyPT/6zkERNJW3rVhsFec19W",
      "include_colab_link": true
    },
    "kernelspec": {
      "name": "python3",
      "display_name": "Python 3"
    }
  },
  "cells": [
    {
      "cell_type": "markdown",
      "metadata": {
        "id": "view-in-github",
        "colab_type": "text"
      },
      "source": [
        "<a href=\"https://colab.research.google.com/github/KenzaxTazi/Agri-Risk/blob/master/Model_exploration_Raghul.ipynb\" target=\"_parent\"><img src=\"https://colab.research.google.com/assets/colab-badge.svg\" alt=\"Open In Colab\"/></a>"
      ]
    },
    {
      "cell_type": "code",
      "metadata": {
        "id": "ZEeE5bv5GfwF",
        "colab_type": "code",
        "colab": {
          "base_uri": "https://localhost:8080/",
          "height": 35
        },
        "outputId": "7b7a40bf-50ab-44d6-a934-c75eb0a9eab4"
      },
      "source": [
        "!pip install tqdm==4.42.1\n"
      ],
      "execution_count": 1,
      "outputs": [
        {
          "output_type": "stream",
          "text": [
            "Requirement already satisfied: tqdm==4.42.1 in /usr/local/lib/python3.6/dist-packages (4.42.1)\n"
          ],
          "name": "stdout"
        }
      ]
    },
    {
      "cell_type": "code",
      "metadata": {
        "id": "f8smQ57MVOmq",
        "colab_type": "code",
        "outputId": "f350c77b-f181-4c9e-fad0-fc2674b8ab6e",
        "colab": {
          "base_uri": "https://localhost:8080/",
          "height": 595
        }
      },
      "source": [
        "!pip install requests\n",
        "!pip install tabulate\n",
        "!pip install \"colorama>=0.3.8\"\n",
        "!pip install future\n",
        "\n",
        "!pip install -f http://h2o-release.s3.amazonaws.com/h2o/latest_stable_Py.html h2o\n",
        "\n"
      ],
      "execution_count": 2,
      "outputs": [
        {
          "output_type": "stream",
          "text": [
            "Requirement already satisfied: requests in /usr/local/lib/python3.6/dist-packages (2.21.0)\n",
            "Requirement already satisfied: urllib3<1.25,>=1.21.1 in /usr/local/lib/python3.6/dist-packages (from requests) (1.24.3)\n",
            "Requirement already satisfied: certifi>=2017.4.17 in /usr/local/lib/python3.6/dist-packages (from requests) (2019.11.28)\n",
            "Requirement already satisfied: idna<2.9,>=2.5 in /usr/local/lib/python3.6/dist-packages (from requests) (2.8)\n",
            "Requirement already satisfied: chardet<3.1.0,>=3.0.2 in /usr/local/lib/python3.6/dist-packages (from requests) (3.0.4)\n",
            "Requirement already satisfied: tabulate in /usr/local/lib/python3.6/dist-packages (0.8.6)\n",
            "Collecting colorama>=0.3.8\n",
            "  Downloading https://files.pythonhosted.org/packages/c9/dc/45cdef1b4d119eb96316b3117e6d5708a08029992b2fee2c143c7a0a5cc5/colorama-0.4.3-py2.py3-none-any.whl\n",
            "Installing collected packages: colorama\n",
            "Successfully installed colorama-0.4.3\n",
            "Requirement already satisfied: future in /usr/local/lib/python3.6/dist-packages (0.16.0)\n",
            "Looking in links: http://h2o-release.s3.amazonaws.com/h2o/latest_stable_Py.html\n",
            "\u001b[33mWARNING: The repository located at h2o-release.s3.amazonaws.com is not a trusted or secure host and is being ignored. If this repository is available via HTTPS we recommend you use HTTPS instead, otherwise you may silence this warning and allow it anyway with '--trusted-host h2o-release.s3.amazonaws.com'.\u001b[0m\n",
            "Collecting h2o\n",
            "\u001b[?25l  Downloading https://files.pythonhosted.org/packages/ef/f5/23c0d33d0b4880cbb09327ba8bc0072d366bc80eada9122bd6758ef1d365/h2o-3.28.0.3.tar.gz (126.2MB)\n",
            "\u001b[K     |████████████████████████████████| 126.2MB 78kB/s \n",
            "\u001b[?25hRequirement already satisfied: requests in /usr/local/lib/python3.6/dist-packages (from h2o) (2.21.0)\n",
            "Requirement already satisfied: tabulate in /usr/local/lib/python3.6/dist-packages (from h2o) (0.8.6)\n",
            "Requirement already satisfied: future in /usr/local/lib/python3.6/dist-packages (from h2o) (0.16.0)\n",
            "Requirement already satisfied: colorama>=0.3.8 in /usr/local/lib/python3.6/dist-packages (from h2o) (0.4.3)\n",
            "Requirement already satisfied: certifi>=2017.4.17 in /usr/local/lib/python3.6/dist-packages (from requests->h2o) (2019.11.28)\n",
            "Requirement already satisfied: idna<2.9,>=2.5 in /usr/local/lib/python3.6/dist-packages (from requests->h2o) (2.8)\n",
            "Requirement already satisfied: urllib3<1.25,>=1.21.1 in /usr/local/lib/python3.6/dist-packages (from requests->h2o) (1.24.3)\n",
            "Requirement already satisfied: chardet<3.1.0,>=3.0.2 in /usr/local/lib/python3.6/dist-packages (from requests->h2o) (3.0.4)\n",
            "Building wheels for collected packages: h2o\n",
            "  Building wheel for h2o (setup.py) ... \u001b[?25l\u001b[?25hdone\n",
            "  Created wheel for h2o: filename=h2o-3.28.0.3-py2.py3-none-any.whl size=126303006 sha256=ac57133de6f9189347a878da649946a4214afa84321bcd062d9d36808ceab891\n",
            "  Stored in directory: /root/.cache/pip/wheels/fa/7c/ce/95ae52b4d3f1b14a27c3c961c1f94635aee841ab1eec3aeeca\n",
            "Successfully built h2o\n",
            "Installing collected packages: h2o\n",
            "Successfully installed h2o-3.28.0.3\n"
          ],
          "name": "stdout"
        }
      ]
    },
    {
      "cell_type": "code",
      "metadata": {
        "id": "IMkLCgwC19RJ",
        "colab_type": "code",
        "outputId": "08b7b9f2-9d01-4f8a-ddca-b0a26cc3994d",
        "colab": {
          "base_uri": "https://localhost:8080/",
          "height": 35
        }
      },
      "source": [
        "from google.colab import drive\n",
        "drive.mount('/content/drive')"
      ],
      "execution_count": 3,
      "outputs": [
        {
          "output_type": "stream",
          "text": [
            "Drive already mounted at /content/drive; to attempt to forcibly remount, call drive.mount(\"/content/drive\", force_remount=True).\n"
          ],
          "name": "stdout"
        }
      ]
    },
    {
      "cell_type": "code",
      "metadata": {
        "id": "ZA5OTap12UVr",
        "colab_type": "code",
        "colab": {}
      },
      "source": [
        "import pandas as pd\n",
        "import xarray as xr\n",
        "import numpy as np\n"
      ],
      "execution_count": 0,
      "outputs": []
    },
    {
      "cell_type": "code",
      "metadata": {
        "id": "dCnxus8i3R2G",
        "colab_type": "code",
        "colab": {}
      },
      "source": [
        "import os, sys\n",
        "\n",
        "path = '/content/drive/My Drive/Team Plants/data'\n",
        "os.chdir(path)"
      ],
      "execution_count": 0,
      "outputs": []
    },
    {
      "cell_type": "markdown",
      "metadata": {
        "id": "YikP_E0-6hth",
        "colab_type": "text"
      },
      "source": [
        "# Import full dataset # "
      ]
    },
    {
      "cell_type": "markdown",
      "metadata": {
        "id": "axqKX3vK6k2c",
        "colab_type": "text"
      },
      "source": [
        "Here, we import the below dataset"
      ]
    },
    {
      "cell_type": "code",
      "metadata": {
        "id": "W1Fji_SW2V80",
        "colab_type": "code",
        "colab": {}
      },
      "source": [
        "dataset = pd.read_csv(\"head_of_soils_recommendations_MGM.csv\")"
      ],
      "execution_count": 0,
      "outputs": []
    },
    {
      "cell_type": "code",
      "metadata": {
        "id": "Kti0IJLyI6gW",
        "colab_type": "code",
        "outputId": "11aa4a71-2fcc-40ed-823d-60e158e669f5",
        "colab": {
          "base_uri": "https://localhost:8080/",
          "height": 490
        }
      },
      "source": [
        "dataset"
      ],
      "execution_count": 0,
      "outputs": [
        {
          "output_type": "execute_result",
          "data": {
            "text/html": [
              "<div>\n",
              "<style scoped>\n",
              "    .dataframe tbody tr th:only-of-type {\n",
              "        vertical-align: middle;\n",
              "    }\n",
              "\n",
              "    .dataframe tbody tr th {\n",
              "        vertical-align: top;\n",
              "    }\n",
              "\n",
              "    .dataframe thead th {\n",
              "        text-align: right;\n",
              "    }\n",
              "</style>\n",
              "<table border=\"1\" class=\"dataframe\">\n",
              "  <thead>\n",
              "    <tr style=\"text-align: right;\">\n",
              "      <th></th>\n",
              "      <th>Unnamed: 0</th>\n",
              "      <th>Unnamed: 0.1</th>\n",
              "      <th>alloc_key</th>\n",
              "      <th>x</th>\n",
              "      <th>y</th>\n",
              "      <th>iso3</th>\n",
              "      <th>maize_a_2010</th>\n",
              "      <th>maize_a_2005</th>\n",
              "      <th>nearest_lat</th>\n",
              "      <th>nearest_lon</th>\n",
              "      <th>CDD-Q1-2010</th>\n",
              "      <th>CDD-Q2-2010</th>\n",
              "      <th>CDD-Q3-2010</th>\n",
              "      <th>CDD-Q4-2010</th>\n",
              "      <th>CDD-Q1-2005</th>\n",
              "      <th>CDD-Q2-2005</th>\n",
              "      <th>CDD-Q3-2005</th>\n",
              "      <th>CDD-Q4-2005</th>\n",
              "      <th>CFD-Q1-2010</th>\n",
              "      <th>CFD-Q2-2010</th>\n",
              "      <th>CFD-Q3-2010</th>\n",
              "      <th>CFD-Q4-2010</th>\n",
              "      <th>CFD-Q1-2005</th>\n",
              "      <th>CFD-Q2-2005</th>\n",
              "      <th>CFD-Q3-2005</th>\n",
              "      <th>CFD-Q4-2005</th>\n",
              "      <th>CWD-Q1-2010</th>\n",
              "      <th>CWD-Q2-2010</th>\n",
              "      <th>CWD-Q3-2010</th>\n",
              "      <th>CWD-Q4-2010</th>\n",
              "      <th>CWD-Q1-2005</th>\n",
              "      <th>CWD-Q2-2005</th>\n",
              "      <th>CWD-Q3-2005</th>\n",
              "      <th>CWD-Q4-2005</th>\n",
              "      <th>WW-Q1-2010</th>\n",
              "      <th>WW-Q2-2010</th>\n",
              "      <th>WW-Q3-2010</th>\n",
              "      <th>WW-Q4-2010</th>\n",
              "      <th>WW-Q1-2005</th>\n",
              "      <th>WW-Q2-2005</th>\n",
              "      <th>...</th>\n",
              "      <th>FD-04-05-2010</th>\n",
              "      <th>FD-04-05-2005</th>\n",
              "      <th>FD-05-05-2010</th>\n",
              "      <th>FD-05-05-2005</th>\n",
              "      <th>FD-06-05-2010</th>\n",
              "      <th>FD-06-05-2005</th>\n",
              "      <th>FD-07-05-2010</th>\n",
              "      <th>FD-07-05-2005</th>\n",
              "      <th>FD-08-05-2010</th>\n",
              "      <th>FD-08-05-2005</th>\n",
              "      <th>FD-09-05-2010</th>\n",
              "      <th>FD-09-05-2005</th>\n",
              "      <th>FD-10-05-2010</th>\n",
              "      <th>FD-10-05-2005</th>\n",
              "      <th>FD-11-05-2010</th>\n",
              "      <th>FD-11-05-2005</th>\n",
              "      <th>FD-12-05-2010</th>\n",
              "      <th>FD-12-05-2005</th>\n",
              "      <th>FD-01-15-2010</th>\n",
              "      <th>FD-01-15-2005</th>\n",
              "      <th>FD-02-15-2010</th>\n",
              "      <th>FD-02-15-2005</th>\n",
              "      <th>FD-03-15-2010</th>\n",
              "      <th>FD-03-15-2005</th>\n",
              "      <th>FD-04-15-2010</th>\n",
              "      <th>FD-04-15-2005</th>\n",
              "      <th>FD-05-15-2010</th>\n",
              "      <th>FD-05-15-2005</th>\n",
              "      <th>FD-06-15-2010</th>\n",
              "      <th>FD-06-15-2005</th>\n",
              "      <th>FD-07-15-2010</th>\n",
              "      <th>FD-07-15-2005</th>\n",
              "      <th>FD-08-15-2010</th>\n",
              "      <th>FD-08-15-2005</th>\n",
              "      <th>FD-09-15-2010</th>\n",
              "      <th>FD-09-15-2005</th>\n",
              "      <th>FD-10-15-2010</th>\n",
              "      <th>FD-10-15-2005</th>\n",
              "      <th>soil_types</th>\n",
              "      <th>climate_zones</th>\n",
              "    </tr>\n",
              "  </thead>\n",
              "  <tbody>\n",
              "    <tr>\n",
              "      <th>0</th>\n",
              "      <td>0</td>\n",
              "      <td>0</td>\n",
              "      <td>4383640</td>\n",
              "      <td>123.291667</td>\n",
              "      <td>53.541667</td>\n",
              "      <td>CHN</td>\n",
              "      <td>3918.1</td>\n",
              "      <td>2819.2</td>\n",
              "      <td>53.75</td>\n",
              "      <td>123.25</td>\n",
              "      <td>27.0</td>\n",
              "      <td>29.0</td>\n",
              "      <td>9.0</td>\n",
              "      <td>17.0</td>\n",
              "      <td>57.0</td>\n",
              "      <td>33.0</td>\n",
              "      <td>14.0</td>\n",
              "      <td>36.0</td>\n",
              "      <td>90.0</td>\n",
              "      <td>61.0</td>\n",
              "      <td>0.0</td>\n",
              "      <td>65.0</td>\n",
              "      <td>90.0</td>\n",
              "      <td>65.0</td>\n",
              "      <td>1.0</td>\n",
              "      <td>64.0</td>\n",
              "      <td>3.0</td>\n",
              "      <td>5.0</td>\n",
              "      <td>6.0</td>\n",
              "      <td>4.0</td>\n",
              "      <td>2.0</td>\n",
              "      <td>3.0</td>\n",
              "      <td>7.0</td>\n",
              "      <td>5.0</td>\n",
              "      <td>3.0</td>\n",
              "      <td>0.0</td>\n",
              "      <td>1.0</td>\n",
              "      <td>2.0</td>\n",
              "      <td>0.0</td>\n",
              "      <td>0.0</td>\n",
              "      <td>...</td>\n",
              "      <td>10.0</td>\n",
              "      <td>10.0</td>\n",
              "      <td>7.0</td>\n",
              "      <td>7.0</td>\n",
              "      <td>0.0</td>\n",
              "      <td>1.0</td>\n",
              "      <td>0.0</td>\n",
              "      <td>0.0</td>\n",
              "      <td>0.0</td>\n",
              "      <td>0.0</td>\n",
              "      <td>1.0</td>\n",
              "      <td>0.0</td>\n",
              "      <td>10.0</td>\n",
              "      <td>10.0</td>\n",
              "      <td>10.0</td>\n",
              "      <td>10.0</td>\n",
              "      <td>10.0</td>\n",
              "      <td>10.0</td>\n",
              "      <td>10.0</td>\n",
              "      <td>10.0</td>\n",
              "      <td>10.0</td>\n",
              "      <td>10.0</td>\n",
              "      <td>10.0</td>\n",
              "      <td>10.0</td>\n",
              "      <td>10.0</td>\n",
              "      <td>10.0</td>\n",
              "      <td>3.0</td>\n",
              "      <td>7.0</td>\n",
              "      <td>0.0</td>\n",
              "      <td>0.0</td>\n",
              "      <td>0.0</td>\n",
              "      <td>0.0</td>\n",
              "      <td>0.0</td>\n",
              "      <td>1.0</td>\n",
              "      <td>7.0</td>\n",
              "      <td>0.0</td>\n",
              "      <td>10.0</td>\n",
              "      <td>10.0</td>\n",
              "      <td>40</td>\n",
              "      <td>9</td>\n",
              "    </tr>\n",
              "    <tr>\n",
              "      <th>1</th>\n",
              "      <td>1</td>\n",
              "      <td>3</td>\n",
              "      <td>4393629</td>\n",
              "      <td>122.375000</td>\n",
              "      <td>53.458333</td>\n",
              "      <td>CHN</td>\n",
              "      <td>3119.3</td>\n",
              "      <td>2028.5</td>\n",
              "      <td>53.25</td>\n",
              "      <td>122.25</td>\n",
              "      <td>27.0</td>\n",
              "      <td>22.0</td>\n",
              "      <td>9.0</td>\n",
              "      <td>17.0</td>\n",
              "      <td>34.0</td>\n",
              "      <td>49.0</td>\n",
              "      <td>10.0</td>\n",
              "      <td>13.0</td>\n",
              "      <td>90.0</td>\n",
              "      <td>61.0</td>\n",
              "      <td>1.0</td>\n",
              "      <td>65.0</td>\n",
              "      <td>90.0</td>\n",
              "      <td>65.0</td>\n",
              "      <td>1.0</td>\n",
              "      <td>64.0</td>\n",
              "      <td>3.0</td>\n",
              "      <td>5.0</td>\n",
              "      <td>4.0</td>\n",
              "      <td>4.0</td>\n",
              "      <td>1.0</td>\n",
              "      <td>2.0</td>\n",
              "      <td>8.0</td>\n",
              "      <td>3.0</td>\n",
              "      <td>2.0</td>\n",
              "      <td>0.0</td>\n",
              "      <td>2.0</td>\n",
              "      <td>1.0</td>\n",
              "      <td>0.0</td>\n",
              "      <td>0.0</td>\n",
              "      <td>...</td>\n",
              "      <td>10.0</td>\n",
              "      <td>10.0</td>\n",
              "      <td>6.0</td>\n",
              "      <td>7.0</td>\n",
              "      <td>1.0</td>\n",
              "      <td>1.0</td>\n",
              "      <td>0.0</td>\n",
              "      <td>0.0</td>\n",
              "      <td>0.0</td>\n",
              "      <td>0.0</td>\n",
              "      <td>1.0</td>\n",
              "      <td>1.0</td>\n",
              "      <td>10.0</td>\n",
              "      <td>10.0</td>\n",
              "      <td>10.0</td>\n",
              "      <td>10.0</td>\n",
              "      <td>10.0</td>\n",
              "      <td>10.0</td>\n",
              "      <td>10.0</td>\n",
              "      <td>10.0</td>\n",
              "      <td>10.0</td>\n",
              "      <td>10.0</td>\n",
              "      <td>10.0</td>\n",
              "      <td>10.0</td>\n",
              "      <td>10.0</td>\n",
              "      <td>10.0</td>\n",
              "      <td>4.0</td>\n",
              "      <td>6.0</td>\n",
              "      <td>0.0</td>\n",
              "      <td>0.0</td>\n",
              "      <td>0.0</td>\n",
              "      <td>0.0</td>\n",
              "      <td>0.0</td>\n",
              "      <td>0.0</td>\n",
              "      <td>5.0</td>\n",
              "      <td>0.0</td>\n",
              "      <td>10.0</td>\n",
              "      <td>10.0</td>\n",
              "      <td>40</td>\n",
              "      <td>9</td>\n",
              "    </tr>\n",
              "    <tr>\n",
              "      <th>2</th>\n",
              "      <td>2</td>\n",
              "      <td>8</td>\n",
              "      <td>4403648</td>\n",
              "      <td>123.958333</td>\n",
              "      <td>53.375000</td>\n",
              "      <td>CHN</td>\n",
              "      <td>3230.1</td>\n",
              "      <td>2337.9</td>\n",
              "      <td>53.25</td>\n",
              "      <td>123.75</td>\n",
              "      <td>27.0</td>\n",
              "      <td>22.0</td>\n",
              "      <td>9.0</td>\n",
              "      <td>16.0</td>\n",
              "      <td>48.0</td>\n",
              "      <td>49.0</td>\n",
              "      <td>11.0</td>\n",
              "      <td>11.0</td>\n",
              "      <td>90.0</td>\n",
              "      <td>61.0</td>\n",
              "      <td>1.0</td>\n",
              "      <td>65.0</td>\n",
              "      <td>90.0</td>\n",
              "      <td>65.0</td>\n",
              "      <td>2.0</td>\n",
              "      <td>61.0</td>\n",
              "      <td>3.0</td>\n",
              "      <td>5.0</td>\n",
              "      <td>4.0</td>\n",
              "      <td>3.0</td>\n",
              "      <td>2.0</td>\n",
              "      <td>3.0</td>\n",
              "      <td>5.0</td>\n",
              "      <td>3.0</td>\n",
              "      <td>1.0</td>\n",
              "      <td>1.0</td>\n",
              "      <td>2.0</td>\n",
              "      <td>0.0</td>\n",
              "      <td>0.0</td>\n",
              "      <td>0.0</td>\n",
              "      <td>...</td>\n",
              "      <td>10.0</td>\n",
              "      <td>10.0</td>\n",
              "      <td>8.0</td>\n",
              "      <td>7.0</td>\n",
              "      <td>1.0</td>\n",
              "      <td>2.0</td>\n",
              "      <td>0.0</td>\n",
              "      <td>0.0</td>\n",
              "      <td>0.0</td>\n",
              "      <td>0.0</td>\n",
              "      <td>1.0</td>\n",
              "      <td>0.0</td>\n",
              "      <td>10.0</td>\n",
              "      <td>10.0</td>\n",
              "      <td>10.0</td>\n",
              "      <td>10.0</td>\n",
              "      <td>10.0</td>\n",
              "      <td>10.0</td>\n",
              "      <td>10.0</td>\n",
              "      <td>10.0</td>\n",
              "      <td>10.0</td>\n",
              "      <td>10.0</td>\n",
              "      <td>10.0</td>\n",
              "      <td>10.0</td>\n",
              "      <td>10.0</td>\n",
              "      <td>10.0</td>\n",
              "      <td>3.0</td>\n",
              "      <td>4.0</td>\n",
              "      <td>0.0</td>\n",
              "      <td>0.0</td>\n",
              "      <td>0.0</td>\n",
              "      <td>0.0</td>\n",
              "      <td>0.0</td>\n",
              "      <td>1.0</td>\n",
              "      <td>5.0</td>\n",
              "      <td>1.0</td>\n",
              "      <td>10.0</td>\n",
              "      <td>10.0</td>\n",
              "      <td>40</td>\n",
              "      <td>6</td>\n",
              "    </tr>\n",
              "    <tr>\n",
              "      <th>3</th>\n",
              "      <td>3</td>\n",
              "      <td>9</td>\n",
              "      <td>4403649</td>\n",
              "      <td>124.041667</td>\n",
              "      <td>53.375000</td>\n",
              "      <td>CHN</td>\n",
              "      <td>3119.3</td>\n",
              "      <td>2010.2</td>\n",
              "      <td>53.25</td>\n",
              "      <td>124.25</td>\n",
              "      <td>20.0</td>\n",
              "      <td>22.0</td>\n",
              "      <td>9.0</td>\n",
              "      <td>17.0</td>\n",
              "      <td>48.0</td>\n",
              "      <td>49.0</td>\n",
              "      <td>11.0</td>\n",
              "      <td>37.0</td>\n",
              "      <td>90.0</td>\n",
              "      <td>61.0</td>\n",
              "      <td>0.0</td>\n",
              "      <td>65.0</td>\n",
              "      <td>90.0</td>\n",
              "      <td>65.0</td>\n",
              "      <td>1.0</td>\n",
              "      <td>61.0</td>\n",
              "      <td>3.0</td>\n",
              "      <td>5.0</td>\n",
              "      <td>4.0</td>\n",
              "      <td>3.0</td>\n",
              "      <td>2.0</td>\n",
              "      <td>3.0</td>\n",
              "      <td>5.0</td>\n",
              "      <td>3.0</td>\n",
              "      <td>1.0</td>\n",
              "      <td>1.0</td>\n",
              "      <td>3.0</td>\n",
              "      <td>0.0</td>\n",
              "      <td>0.0</td>\n",
              "      <td>0.0</td>\n",
              "      <td>...</td>\n",
              "      <td>10.0</td>\n",
              "      <td>10.0</td>\n",
              "      <td>8.0</td>\n",
              "      <td>6.0</td>\n",
              "      <td>0.0</td>\n",
              "      <td>1.0</td>\n",
              "      <td>0.0</td>\n",
              "      <td>0.0</td>\n",
              "      <td>0.0</td>\n",
              "      <td>0.0</td>\n",
              "      <td>1.0</td>\n",
              "      <td>0.0</td>\n",
              "      <td>10.0</td>\n",
              "      <td>10.0</td>\n",
              "      <td>10.0</td>\n",
              "      <td>10.0</td>\n",
              "      <td>10.0</td>\n",
              "      <td>10.0</td>\n",
              "      <td>10.0</td>\n",
              "      <td>10.0</td>\n",
              "      <td>10.0</td>\n",
              "      <td>10.0</td>\n",
              "      <td>10.0</td>\n",
              "      <td>10.0</td>\n",
              "      <td>10.0</td>\n",
              "      <td>10.0</td>\n",
              "      <td>3.0</td>\n",
              "      <td>4.0</td>\n",
              "      <td>0.0</td>\n",
              "      <td>0.0</td>\n",
              "      <td>0.0</td>\n",
              "      <td>0.0</td>\n",
              "      <td>0.0</td>\n",
              "      <td>0.0</td>\n",
              "      <td>4.0</td>\n",
              "      <td>1.0</td>\n",
              "      <td>10.0</td>\n",
              "      <td>10.0</td>\n",
              "      <td>40</td>\n",
              "      <td>6</td>\n",
              "    </tr>\n",
              "    <tr>\n",
              "      <th>4</th>\n",
              "      <td>4</td>\n",
              "      <td>10</td>\n",
              "      <td>4413637</td>\n",
              "      <td>123.041667</td>\n",
              "      <td>53.291667</td>\n",
              "      <td>CHN</td>\n",
              "      <td>3918.1</td>\n",
              "      <td>2819.2</td>\n",
              "      <td>53.25</td>\n",
              "      <td>123.25</td>\n",
              "      <td>27.0</td>\n",
              "      <td>29.0</td>\n",
              "      <td>9.0</td>\n",
              "      <td>16.0</td>\n",
              "      <td>27.0</td>\n",
              "      <td>49.0</td>\n",
              "      <td>8.0</td>\n",
              "      <td>14.0</td>\n",
              "      <td>90.0</td>\n",
              "      <td>61.0</td>\n",
              "      <td>1.0</td>\n",
              "      <td>73.0</td>\n",
              "      <td>90.0</td>\n",
              "      <td>65.0</td>\n",
              "      <td>1.0</td>\n",
              "      <td>61.0</td>\n",
              "      <td>3.0</td>\n",
              "      <td>5.0</td>\n",
              "      <td>4.0</td>\n",
              "      <td>4.0</td>\n",
              "      <td>2.0</td>\n",
              "      <td>2.0</td>\n",
              "      <td>7.0</td>\n",
              "      <td>3.0</td>\n",
              "      <td>3.0</td>\n",
              "      <td>0.0</td>\n",
              "      <td>1.0</td>\n",
              "      <td>1.0</td>\n",
              "      <td>0.0</td>\n",
              "      <td>0.0</td>\n",
              "      <td>...</td>\n",
              "      <td>10.0</td>\n",
              "      <td>10.0</td>\n",
              "      <td>8.0</td>\n",
              "      <td>8.0</td>\n",
              "      <td>2.0</td>\n",
              "      <td>2.0</td>\n",
              "      <td>0.0</td>\n",
              "      <td>0.0</td>\n",
              "      <td>0.0</td>\n",
              "      <td>0.0</td>\n",
              "      <td>1.0</td>\n",
              "      <td>0.0</td>\n",
              "      <td>10.0</td>\n",
              "      <td>10.0</td>\n",
              "      <td>10.0</td>\n",
              "      <td>10.0</td>\n",
              "      <td>10.0</td>\n",
              "      <td>10.0</td>\n",
              "      <td>10.0</td>\n",
              "      <td>10.0</td>\n",
              "      <td>10.0</td>\n",
              "      <td>10.0</td>\n",
              "      <td>10.0</td>\n",
              "      <td>10.0</td>\n",
              "      <td>10.0</td>\n",
              "      <td>10.0</td>\n",
              "      <td>4.0</td>\n",
              "      <td>7.0</td>\n",
              "      <td>0.0</td>\n",
              "      <td>0.0</td>\n",
              "      <td>0.0</td>\n",
              "      <td>0.0</td>\n",
              "      <td>0.0</td>\n",
              "      <td>1.0</td>\n",
              "      <td>5.0</td>\n",
              "      <td>1.0</td>\n",
              "      <td>10.0</td>\n",
              "      <td>10.0</td>\n",
              "      <td>40</td>\n",
              "      <td>9</td>\n",
              "    </tr>\n",
              "    <tr>\n",
              "      <th>...</th>\n",
              "      <td>...</td>\n",
              "      <td>...</td>\n",
              "      <td>...</td>\n",
              "      <td>...</td>\n",
              "      <td>...</td>\n",
              "      <td>...</td>\n",
              "      <td>...</td>\n",
              "      <td>...</td>\n",
              "      <td>...</td>\n",
              "      <td>...</td>\n",
              "      <td>...</td>\n",
              "      <td>...</td>\n",
              "      <td>...</td>\n",
              "      <td>...</td>\n",
              "      <td>...</td>\n",
              "      <td>...</td>\n",
              "      <td>...</td>\n",
              "      <td>...</td>\n",
              "      <td>...</td>\n",
              "      <td>...</td>\n",
              "      <td>...</td>\n",
              "      <td>...</td>\n",
              "      <td>...</td>\n",
              "      <td>...</td>\n",
              "      <td>...</td>\n",
              "      <td>...</td>\n",
              "      <td>...</td>\n",
              "      <td>...</td>\n",
              "      <td>...</td>\n",
              "      <td>...</td>\n",
              "      <td>...</td>\n",
              "      <td>...</td>\n",
              "      <td>...</td>\n",
              "      <td>...</td>\n",
              "      <td>...</td>\n",
              "      <td>...</td>\n",
              "      <td>...</td>\n",
              "      <td>...</td>\n",
              "      <td>...</td>\n",
              "      <td>...</td>\n",
              "      <td>...</td>\n",
              "      <td>...</td>\n",
              "      <td>...</td>\n",
              "      <td>...</td>\n",
              "      <td>...</td>\n",
              "      <td>...</td>\n",
              "      <td>...</td>\n",
              "      <td>...</td>\n",
              "      <td>...</td>\n",
              "      <td>...</td>\n",
              "      <td>...</td>\n",
              "      <td>...</td>\n",
              "      <td>...</td>\n",
              "      <td>...</td>\n",
              "      <td>...</td>\n",
              "      <td>...</td>\n",
              "      <td>...</td>\n",
              "      <td>...</td>\n",
              "      <td>...</td>\n",
              "      <td>...</td>\n",
              "      <td>...</td>\n",
              "      <td>...</td>\n",
              "      <td>...</td>\n",
              "      <td>...</td>\n",
              "      <td>...</td>\n",
              "      <td>...</td>\n",
              "      <td>...</td>\n",
              "      <td>...</td>\n",
              "      <td>...</td>\n",
              "      <td>...</td>\n",
              "      <td>...</td>\n",
              "      <td>...</td>\n",
              "      <td>...</td>\n",
              "      <td>...</td>\n",
              "      <td>...</td>\n",
              "      <td>...</td>\n",
              "      <td>...</td>\n",
              "      <td>...</td>\n",
              "      <td>...</td>\n",
              "      <td>...</td>\n",
              "      <td>...</td>\n",
              "    </tr>\n",
              "    <tr>\n",
              "      <th>427053</th>\n",
              "      <td>427053</td>\n",
              "      <td>832697</td>\n",
              "      <td>7660984</td>\n",
              "      <td>-98.041667</td>\n",
              "      <td>26.208333</td>\n",
              "      <td>USA</td>\n",
              "      <td>6148.3</td>\n",
              "      <td>6278.7</td>\n",
              "      <td>26.25</td>\n",
              "      <td>-97.25</td>\n",
              "      <td>16.0</td>\n",
              "      <td>23.0</td>\n",
              "      <td>33.0</td>\n",
              "      <td>16.0</td>\n",
              "      <td>12.0</td>\n",
              "      <td>48.0</td>\n",
              "      <td>24.0</td>\n",
              "      <td>19.0</td>\n",
              "      <td>1.0</td>\n",
              "      <td>0.0</td>\n",
              "      <td>0.0</td>\n",
              "      <td>0.0</td>\n",
              "      <td>3.0</td>\n",
              "      <td>0.0</td>\n",
              "      <td>0.0</td>\n",
              "      <td>0.0</td>\n",
              "      <td>3.0</td>\n",
              "      <td>11.0</td>\n",
              "      <td>13.0</td>\n",
              "      <td>10.0</td>\n",
              "      <td>3.0</td>\n",
              "      <td>2.0</td>\n",
              "      <td>6.0</td>\n",
              "      <td>7.0</td>\n",
              "      <td>1.0</td>\n",
              "      <td>0.0</td>\n",
              "      <td>0.0</td>\n",
              "      <td>2.0</td>\n",
              "      <td>0.0</td>\n",
              "      <td>0.0</td>\n",
              "      <td>...</td>\n",
              "      <td>0.0</td>\n",
              "      <td>0.0</td>\n",
              "      <td>0.0</td>\n",
              "      <td>0.0</td>\n",
              "      <td>0.0</td>\n",
              "      <td>0.0</td>\n",
              "      <td>0.0</td>\n",
              "      <td>0.0</td>\n",
              "      <td>0.0</td>\n",
              "      <td>0.0</td>\n",
              "      <td>0.0</td>\n",
              "      <td>0.0</td>\n",
              "      <td>0.0</td>\n",
              "      <td>0.0</td>\n",
              "      <td>0.0</td>\n",
              "      <td>0.0</td>\n",
              "      <td>0.0</td>\n",
              "      <td>1.0</td>\n",
              "      <td>0.0</td>\n",
              "      <td>0.0</td>\n",
              "      <td>0.0</td>\n",
              "      <td>0.0</td>\n",
              "      <td>0.0</td>\n",
              "      <td>0.0</td>\n",
              "      <td>0.0</td>\n",
              "      <td>0.0</td>\n",
              "      <td>0.0</td>\n",
              "      <td>0.0</td>\n",
              "      <td>0.0</td>\n",
              "      <td>0.0</td>\n",
              "      <td>0.0</td>\n",
              "      <td>0.0</td>\n",
              "      <td>0.0</td>\n",
              "      <td>0.0</td>\n",
              "      <td>0.0</td>\n",
              "      <td>0.0</td>\n",
              "      <td>0.0</td>\n",
              "      <td>0.0</td>\n",
              "      <td>76</td>\n",
              "      <td>-997</td>\n",
              "    </tr>\n",
              "    <tr>\n",
              "      <th>427054</th>\n",
              "      <td>427054</td>\n",
              "      <td>832720</td>\n",
              "      <td>7670981</td>\n",
              "      <td>-98.291667</td>\n",
              "      <td>26.125000</td>\n",
              "      <td>USA</td>\n",
              "      <td>5713.1</td>\n",
              "      <td>5832.9</td>\n",
              "      <td>26.25</td>\n",
              "      <td>-97.25</td>\n",
              "      <td>16.0</td>\n",
              "      <td>23.0</td>\n",
              "      <td>33.0</td>\n",
              "      <td>16.0</td>\n",
              "      <td>12.0</td>\n",
              "      <td>48.0</td>\n",
              "      <td>24.0</td>\n",
              "      <td>19.0</td>\n",
              "      <td>1.0</td>\n",
              "      <td>0.0</td>\n",
              "      <td>0.0</td>\n",
              "      <td>0.0</td>\n",
              "      <td>3.0</td>\n",
              "      <td>0.0</td>\n",
              "      <td>0.0</td>\n",
              "      <td>0.0</td>\n",
              "      <td>3.0</td>\n",
              "      <td>11.0</td>\n",
              "      <td>13.0</td>\n",
              "      <td>10.0</td>\n",
              "      <td>3.0</td>\n",
              "      <td>2.0</td>\n",
              "      <td>6.0</td>\n",
              "      <td>7.0</td>\n",
              "      <td>1.0</td>\n",
              "      <td>0.0</td>\n",
              "      <td>0.0</td>\n",
              "      <td>2.0</td>\n",
              "      <td>0.0</td>\n",
              "      <td>0.0</td>\n",
              "      <td>...</td>\n",
              "      <td>0.0</td>\n",
              "      <td>0.0</td>\n",
              "      <td>0.0</td>\n",
              "      <td>0.0</td>\n",
              "      <td>0.0</td>\n",
              "      <td>0.0</td>\n",
              "      <td>0.0</td>\n",
              "      <td>0.0</td>\n",
              "      <td>0.0</td>\n",
              "      <td>0.0</td>\n",
              "      <td>0.0</td>\n",
              "      <td>0.0</td>\n",
              "      <td>0.0</td>\n",
              "      <td>0.0</td>\n",
              "      <td>0.0</td>\n",
              "      <td>0.0</td>\n",
              "      <td>0.0</td>\n",
              "      <td>1.0</td>\n",
              "      <td>0.0</td>\n",
              "      <td>0.0</td>\n",
              "      <td>0.0</td>\n",
              "      <td>0.0</td>\n",
              "      <td>0.0</td>\n",
              "      <td>0.0</td>\n",
              "      <td>0.0</td>\n",
              "      <td>0.0</td>\n",
              "      <td>0.0</td>\n",
              "      <td>0.0</td>\n",
              "      <td>0.0</td>\n",
              "      <td>0.0</td>\n",
              "      <td>0.0</td>\n",
              "      <td>0.0</td>\n",
              "      <td>0.0</td>\n",
              "      <td>0.0</td>\n",
              "      <td>0.0</td>\n",
              "      <td>0.0</td>\n",
              "      <td>0.0</td>\n",
              "      <td>0.0</td>\n",
              "      <td>76</td>\n",
              "      <td>-997</td>\n",
              "    </tr>\n",
              "    <tr>\n",
              "      <th>427055</th>\n",
              "      <td>427055</td>\n",
              "      <td>832721</td>\n",
              "      <td>7670982</td>\n",
              "      <td>-98.208333</td>\n",
              "      <td>26.125000</td>\n",
              "      <td>USA</td>\n",
              "      <td>5939.7</td>\n",
              "      <td>6106.9</td>\n",
              "      <td>26.25</td>\n",
              "      <td>-97.25</td>\n",
              "      <td>16.0</td>\n",
              "      <td>23.0</td>\n",
              "      <td>33.0</td>\n",
              "      <td>16.0</td>\n",
              "      <td>12.0</td>\n",
              "      <td>48.0</td>\n",
              "      <td>24.0</td>\n",
              "      <td>19.0</td>\n",
              "      <td>1.0</td>\n",
              "      <td>0.0</td>\n",
              "      <td>0.0</td>\n",
              "      <td>0.0</td>\n",
              "      <td>3.0</td>\n",
              "      <td>0.0</td>\n",
              "      <td>0.0</td>\n",
              "      <td>0.0</td>\n",
              "      <td>3.0</td>\n",
              "      <td>11.0</td>\n",
              "      <td>13.0</td>\n",
              "      <td>10.0</td>\n",
              "      <td>3.0</td>\n",
              "      <td>2.0</td>\n",
              "      <td>6.0</td>\n",
              "      <td>7.0</td>\n",
              "      <td>1.0</td>\n",
              "      <td>0.0</td>\n",
              "      <td>0.0</td>\n",
              "      <td>2.0</td>\n",
              "      <td>0.0</td>\n",
              "      <td>0.0</td>\n",
              "      <td>...</td>\n",
              "      <td>0.0</td>\n",
              "      <td>0.0</td>\n",
              "      <td>0.0</td>\n",
              "      <td>0.0</td>\n",
              "      <td>0.0</td>\n",
              "      <td>0.0</td>\n",
              "      <td>0.0</td>\n",
              "      <td>0.0</td>\n",
              "      <td>0.0</td>\n",
              "      <td>0.0</td>\n",
              "      <td>0.0</td>\n",
              "      <td>0.0</td>\n",
              "      <td>0.0</td>\n",
              "      <td>0.0</td>\n",
              "      <td>0.0</td>\n",
              "      <td>0.0</td>\n",
              "      <td>0.0</td>\n",
              "      <td>1.0</td>\n",
              "      <td>0.0</td>\n",
              "      <td>0.0</td>\n",
              "      <td>0.0</td>\n",
              "      <td>0.0</td>\n",
              "      <td>0.0</td>\n",
              "      <td>0.0</td>\n",
              "      <td>0.0</td>\n",
              "      <td>0.0</td>\n",
              "      <td>0.0</td>\n",
              "      <td>0.0</td>\n",
              "      <td>0.0</td>\n",
              "      <td>0.0</td>\n",
              "      <td>0.0</td>\n",
              "      <td>0.0</td>\n",
              "      <td>0.0</td>\n",
              "      <td>0.0</td>\n",
              "      <td>0.0</td>\n",
              "      <td>0.0</td>\n",
              "      <td>0.0</td>\n",
              "      <td>0.0</td>\n",
              "      <td>76</td>\n",
              "      <td>-997</td>\n",
              "    </tr>\n",
              "    <tr>\n",
              "      <th>427056</th>\n",
              "      <td>427056</td>\n",
              "      <td>832722</td>\n",
              "      <td>7670983</td>\n",
              "      <td>-98.125000</td>\n",
              "      <td>26.125000</td>\n",
              "      <td>USA</td>\n",
              "      <td>6050.9</td>\n",
              "      <td>6107.8</td>\n",
              "      <td>26.25</td>\n",
              "      <td>-97.25</td>\n",
              "      <td>16.0</td>\n",
              "      <td>23.0</td>\n",
              "      <td>33.0</td>\n",
              "      <td>16.0</td>\n",
              "      <td>12.0</td>\n",
              "      <td>48.0</td>\n",
              "      <td>24.0</td>\n",
              "      <td>19.0</td>\n",
              "      <td>1.0</td>\n",
              "      <td>0.0</td>\n",
              "      <td>0.0</td>\n",
              "      <td>0.0</td>\n",
              "      <td>3.0</td>\n",
              "      <td>0.0</td>\n",
              "      <td>0.0</td>\n",
              "      <td>0.0</td>\n",
              "      <td>3.0</td>\n",
              "      <td>11.0</td>\n",
              "      <td>13.0</td>\n",
              "      <td>10.0</td>\n",
              "      <td>3.0</td>\n",
              "      <td>2.0</td>\n",
              "      <td>6.0</td>\n",
              "      <td>7.0</td>\n",
              "      <td>1.0</td>\n",
              "      <td>0.0</td>\n",
              "      <td>0.0</td>\n",
              "      <td>2.0</td>\n",
              "      <td>0.0</td>\n",
              "      <td>0.0</td>\n",
              "      <td>...</td>\n",
              "      <td>0.0</td>\n",
              "      <td>0.0</td>\n",
              "      <td>0.0</td>\n",
              "      <td>0.0</td>\n",
              "      <td>0.0</td>\n",
              "      <td>0.0</td>\n",
              "      <td>0.0</td>\n",
              "      <td>0.0</td>\n",
              "      <td>0.0</td>\n",
              "      <td>0.0</td>\n",
              "      <td>0.0</td>\n",
              "      <td>0.0</td>\n",
              "      <td>0.0</td>\n",
              "      <td>0.0</td>\n",
              "      <td>0.0</td>\n",
              "      <td>0.0</td>\n",
              "      <td>0.0</td>\n",
              "      <td>1.0</td>\n",
              "      <td>0.0</td>\n",
              "      <td>0.0</td>\n",
              "      <td>0.0</td>\n",
              "      <td>0.0</td>\n",
              "      <td>0.0</td>\n",
              "      <td>0.0</td>\n",
              "      <td>0.0</td>\n",
              "      <td>0.0</td>\n",
              "      <td>0.0</td>\n",
              "      <td>0.0</td>\n",
              "      <td>0.0</td>\n",
              "      <td>0.0</td>\n",
              "      <td>0.0</td>\n",
              "      <td>0.0</td>\n",
              "      <td>0.0</td>\n",
              "      <td>0.0</td>\n",
              "      <td>0.0</td>\n",
              "      <td>0.0</td>\n",
              "      <td>0.0</td>\n",
              "      <td>0.0</td>\n",
              "      <td>76</td>\n",
              "      <td>-997</td>\n",
              "    </tr>\n",
              "    <tr>\n",
              "      <th>427057</th>\n",
              "      <td>427057</td>\n",
              "      <td>832723</td>\n",
              "      <td>7670984</td>\n",
              "      <td>-98.041667</td>\n",
              "      <td>26.125000</td>\n",
              "      <td>USA</td>\n",
              "      <td>6111.0</td>\n",
              "      <td>6131.7</td>\n",
              "      <td>26.25</td>\n",
              "      <td>-97.25</td>\n",
              "      <td>16.0</td>\n",
              "      <td>23.0</td>\n",
              "      <td>33.0</td>\n",
              "      <td>16.0</td>\n",
              "      <td>12.0</td>\n",
              "      <td>48.0</td>\n",
              "      <td>24.0</td>\n",
              "      <td>19.0</td>\n",
              "      <td>1.0</td>\n",
              "      <td>0.0</td>\n",
              "      <td>0.0</td>\n",
              "      <td>0.0</td>\n",
              "      <td>3.0</td>\n",
              "      <td>0.0</td>\n",
              "      <td>0.0</td>\n",
              "      <td>0.0</td>\n",
              "      <td>3.0</td>\n",
              "      <td>11.0</td>\n",
              "      <td>13.0</td>\n",
              "      <td>10.0</td>\n",
              "      <td>3.0</td>\n",
              "      <td>2.0</td>\n",
              "      <td>6.0</td>\n",
              "      <td>7.0</td>\n",
              "      <td>1.0</td>\n",
              "      <td>0.0</td>\n",
              "      <td>0.0</td>\n",
              "      <td>2.0</td>\n",
              "      <td>0.0</td>\n",
              "      <td>0.0</td>\n",
              "      <td>...</td>\n",
              "      <td>0.0</td>\n",
              "      <td>0.0</td>\n",
              "      <td>0.0</td>\n",
              "      <td>0.0</td>\n",
              "      <td>0.0</td>\n",
              "      <td>0.0</td>\n",
              "      <td>0.0</td>\n",
              "      <td>0.0</td>\n",
              "      <td>0.0</td>\n",
              "      <td>0.0</td>\n",
              "      <td>0.0</td>\n",
              "      <td>0.0</td>\n",
              "      <td>0.0</td>\n",
              "      <td>0.0</td>\n",
              "      <td>0.0</td>\n",
              "      <td>0.0</td>\n",
              "      <td>0.0</td>\n",
              "      <td>1.0</td>\n",
              "      <td>0.0</td>\n",
              "      <td>0.0</td>\n",
              "      <td>0.0</td>\n",
              "      <td>0.0</td>\n",
              "      <td>0.0</td>\n",
              "      <td>0.0</td>\n",
              "      <td>0.0</td>\n",
              "      <td>0.0</td>\n",
              "      <td>0.0</td>\n",
              "      <td>0.0</td>\n",
              "      <td>0.0</td>\n",
              "      <td>0.0</td>\n",
              "      <td>0.0</td>\n",
              "      <td>0.0</td>\n",
              "      <td>0.0</td>\n",
              "      <td>0.0</td>\n",
              "      <td>0.0</td>\n",
              "      <td>0.0</td>\n",
              "      <td>0.0</td>\n",
              "      <td>0.0</td>\n",
              "      <td>76</td>\n",
              "      <td>-997</td>\n",
              "    </tr>\n",
              "  </tbody>\n",
              "</table>\n",
              "<p>427058 rows × 176 columns</p>\n",
              "</div>"
            ],
            "text/plain": [
              "        Unnamed: 0  Unnamed: 0.1  ...  soil_types  climate_zones\n",
              "0                0             0  ...          40              9\n",
              "1                1             3  ...          40              9\n",
              "2                2             8  ...          40              6\n",
              "3                3             9  ...          40              6\n",
              "4                4            10  ...          40              9\n",
              "...            ...           ...  ...         ...            ...\n",
              "427053      427053        832697  ...          76           -997\n",
              "427054      427054        832720  ...          76           -997\n",
              "427055      427055        832721  ...          76           -997\n",
              "427056      427056        832722  ...          76           -997\n",
              "427057      427057        832723  ...          76           -997\n",
              "\n",
              "[427058 rows x 176 columns]"
            ]
          },
          "metadata": {
            "tags": []
          },
          "execution_count": 8
        }
      ]
    },
    {
      "cell_type": "code",
      "metadata": {
        "id": "c1QgV7KTHULI",
        "colab_type": "code",
        "colab": {}
      },
      "source": [
        "data = dataset.copy()"
      ],
      "execution_count": 0,
      "outputs": []
    },
    {
      "cell_type": "markdown",
      "metadata": {
        "id": "qglC5r2-AKDC",
        "colab_type": "text"
      },
      "source": [
        "## Data processing ## "
      ]
    },
    {
      "cell_type": "markdown",
      "metadata": {
        "id": "fbf3MmsNGWIE",
        "colab_type": "text"
      },
      "source": [
        "We now use Ed's script to process the data somewhat. Here we exclude the 10 day features."
      ]
    },
    {
      "cell_type": "code",
      "metadata": {
        "id": "55usFvQXGc0P",
        "colab_type": "code",
        "outputId": "220d681f-489d-4934-f44f-ac0dc3b68333",
        "colab": {
          "base_uri": "https://localhost:8080/",
          "height": 107
        }
      },
      "source": [
        "# Create a custom data set adding in the features you want. It reads an already computed \n",
        "# dataset but you can then remove features to see the effect on score.\n",
        "from sklearn.model_selection import train_test_split\n",
        "import pandas as pd\n",
        "from tqdm import tqdm\n",
        "tqdm.pandas()\n",
        "import xarray as xr\n",
        "import matplotlib.pyplot as plt\n",
        "import numpy as np\n",
        "import random\n",
        "\n",
        "random_seed = 42\n",
        "#random.seed(a=random_seed)\n",
        "#np.random_seed(random_seed)\n",
        "\n",
        "read_file_path = f\"head_of_soils_recommendations_MGM.csv\"\n",
        "\n",
        "# Only read a sample fraction of the data, speeds things up, but you'll get worse performance.\n",
        "# Use 1.0 as the sample fraction to get the full data set\n",
        "sample_fraction = 0.9\n",
        "data = pd.read_csv(read_file_path, skiprows=lambda i: i>0 and random.random() > sample_fraction)\n",
        "\n",
        "limit_change_in_yield = True\n",
        "limit = 0.5\n",
        "\n",
        "include_coordinates = True\n",
        "include_2005_maize = True\n",
        "include_seasonal = True\n",
        "include_ten_day = False\n",
        "include_2005_climate = True\n",
        "include_soil_type = True\n",
        "include_growing_zones = True\n",
        "include_climate_zones = True\n",
        "\n",
        "# Remove datapoints where yield changes by more than 50%. This is unlikely to be\n",
        "# due to changes in climate change.\n",
        "\n",
        "if limit_change_in_yield:\n",
        "    data = data[abs(data['maize_a_2010'] - data['maize_a_2005']) / data['maize_a_2005'] < limit]\n",
        "\n",
        "# Choose a subset of your features! (must already exist in original file)\n",
        "ten_day_features = [\n",
        "    'BEDD',\n",
        "    'R20mm',\n",
        "    'DTR'\n",
        "]\n",
        "\n",
        "seasonal_features = [\n",
        "    'CDD',\n",
        "    'CFD',\n",
        "    'CWD',\n",
        "    'WW',\n",
        "    'WSDI',\n",
        "    'CSDI'\n",
        "]\n",
        "\n",
        "features = []\n",
        "\n",
        "if include_growing_zones:\n",
        "    growing_zones = [\n",
        "        'Inland water bodies',\n",
        "        'Subtropics - summer rainfall',\n",
        "        'Subtropics - winter rainfall',\n",
        "        'Temperature - continental',\n",
        "        'Temperature - oceanic',\n",
        "        'Temperature - subcontinental',\n",
        "        'Tropics'\n",
        "    ]\n",
        "    \n",
        "    \n",
        "if include_soil_type:\n",
        "    features = features + ['soil_types']\n",
        "\n",
        "        \n",
        "if include_climate_zones:\n",
        "    features = features + ['climate_zones']\n",
        "\n",
        "if include_2005_climate:\n",
        "    years = ['2010', '2005']\n",
        "else:\n",
        "    years = ['2010']\n",
        "\n",
        "if include_seasonal:\n",
        "    seasons = ['Q1', 'Q2', 'Q3', 'Q4']\n",
        "    years = ['2010', '2005']\n",
        "    for feature in seasonal_features:\n",
        "        for season in seasons:\n",
        "            for year in years:\n",
        "                features.append(f'{feature}-{season}-{year}')\n",
        "\n",
        "if include_ten_day:\n",
        "    days = ['05', '15', '25']\n",
        "    years = ['2010', '2005']\n",
        "    months = ['01', '02', '03', '04', '05', '06', '07', '08', '09', '10', '11', '12']\n",
        "    for feature in ten_day_features:\n",
        "        for day in days:\n",
        "            for month in months:\n",
        "                for year in years:\n",
        "                    features.append(f'{feature}-{month}-{day}-{year}')\n",
        "\n",
        "if include_coordinates:\n",
        "    coordinates = [\n",
        "        'x',\n",
        "        'y'\n",
        "    ]\n",
        "    features = features + coordinates\n",
        "    \n",
        "if include_2005_maize:\n",
        "    features = features + ['maize_a_2005']\n",
        "\n",
        "target = 'maize_a_2010'\n",
        "data = data.dropna()\n",
        "\n",
        "X = data[features]\n",
        "X.drop('x', axis=1, inplace=True) #drop x but keep y so we can tell something about the hemispheres and seasons\n",
        "\n",
        "\n",
        "y = data[[target]]\n",
        "train_set_x, test_set_x, train_set_y, test_set_y = train_test_split(X, y, test_size=0.2, random_state=random_seed)\n",
        "del X\n",
        "del y\n",
        "del data"
      ],
      "execution_count": 9,
      "outputs": [
        {
          "output_type": "stream",
          "text": [
            "/usr/local/lib/python3.6/dist-packages/pandas/core/frame.py:4117: SettingWithCopyWarning: \n",
            "A value is trying to be set on a copy of a slice from a DataFrame\n",
            "\n",
            "See the caveats in the documentation: http://pandas.pydata.org/pandas-docs/stable/user_guide/indexing.html#returning-a-view-versus-a-copy\n",
            "  errors=errors,\n"
          ],
          "name": "stderr"
        }
      ]
    },
    {
      "cell_type": "code",
      "metadata": {
        "id": "HQYkGAQh4Lg_",
        "colab_type": "code",
        "colab": {}
      },
      "source": [
        "# drop features we don't want\n",
        "\n",
        "#dataset = dataset.drop(['x','y','iso3_2005','Unnamed: 0', 'Unnamed: 0.1','Unnamed: 0.1.1', 'Unnamed: 0.1.1.1', 'Unnamed: 0.1.1.1.1', 'delta_maiz', 'maiz_percent_change'], axis=1)"
      ],
      "execution_count": 0,
      "outputs": []
    },
    {
      "cell_type": "code",
      "metadata": {
        "id": "4w8a5ihsKzzj",
        "colab_type": "code",
        "outputId": "9af78a1c-0ccf-4016-f560-0b6161fceedc",
        "colab": {
          "base_uri": "https://localhost:8080/",
          "height": 473
        }
      },
      "source": [
        "train_set_x"
      ],
      "execution_count": 0,
      "outputs": [
        {
          "output_type": "execute_result",
          "data": {
            "text/html": [
              "<div>\n",
              "<style scoped>\n",
              "    .dataframe tbody tr th:only-of-type {\n",
              "        vertical-align: middle;\n",
              "    }\n",
              "\n",
              "    .dataframe tbody tr th {\n",
              "        vertical-align: top;\n",
              "    }\n",
              "\n",
              "    .dataframe thead th {\n",
              "        text-align: right;\n",
              "    }\n",
              "</style>\n",
              "<table border=\"1\" class=\"dataframe\">\n",
              "  <thead>\n",
              "    <tr style=\"text-align: right;\">\n",
              "      <th></th>\n",
              "      <th>soil_types</th>\n",
              "      <th>climate_zones</th>\n",
              "      <th>CDD-Q1-2010</th>\n",
              "      <th>CDD-Q1-2005</th>\n",
              "      <th>CDD-Q2-2010</th>\n",
              "      <th>CDD-Q2-2005</th>\n",
              "      <th>CDD-Q3-2010</th>\n",
              "      <th>CDD-Q3-2005</th>\n",
              "      <th>CDD-Q4-2010</th>\n",
              "      <th>CDD-Q4-2005</th>\n",
              "      <th>CFD-Q1-2010</th>\n",
              "      <th>CFD-Q1-2005</th>\n",
              "      <th>CFD-Q2-2010</th>\n",
              "      <th>CFD-Q2-2005</th>\n",
              "      <th>CFD-Q3-2010</th>\n",
              "      <th>CFD-Q3-2005</th>\n",
              "      <th>CFD-Q4-2010</th>\n",
              "      <th>CFD-Q4-2005</th>\n",
              "      <th>CWD-Q1-2010</th>\n",
              "      <th>CWD-Q1-2005</th>\n",
              "      <th>CWD-Q2-2010</th>\n",
              "      <th>CWD-Q2-2005</th>\n",
              "      <th>CWD-Q3-2010</th>\n",
              "      <th>CWD-Q3-2005</th>\n",
              "      <th>CWD-Q4-2010</th>\n",
              "      <th>CWD-Q4-2005</th>\n",
              "      <th>WW-Q1-2010</th>\n",
              "      <th>WW-Q1-2005</th>\n",
              "      <th>WW-Q2-2010</th>\n",
              "      <th>WW-Q2-2005</th>\n",
              "      <th>WW-Q3-2010</th>\n",
              "      <th>WW-Q3-2005</th>\n",
              "      <th>WW-Q4-2010</th>\n",
              "      <th>WW-Q4-2005</th>\n",
              "      <th>WSDI-Q1-2010</th>\n",
              "      <th>WSDI-Q1-2005</th>\n",
              "      <th>WSDI-Q2-2010</th>\n",
              "      <th>WSDI-Q2-2005</th>\n",
              "      <th>WSDI-Q3-2010</th>\n",
              "      <th>WSDI-Q3-2005</th>\n",
              "      <th>WSDI-Q4-2010</th>\n",
              "      <th>WSDI-Q4-2005</th>\n",
              "      <th>CSDI-Q1-2010</th>\n",
              "      <th>CSDI-Q1-2005</th>\n",
              "      <th>CSDI-Q2-2010</th>\n",
              "      <th>CSDI-Q2-2005</th>\n",
              "      <th>CSDI-Q3-2010</th>\n",
              "      <th>CSDI-Q3-2005</th>\n",
              "      <th>CSDI-Q4-2010</th>\n",
              "      <th>CSDI-Q4-2005</th>\n",
              "      <th>y</th>\n",
              "      <th>maize_a_2005</th>\n",
              "    </tr>\n",
              "  </thead>\n",
              "  <tbody>\n",
              "    <tr>\n",
              "      <th>56592</th>\n",
              "      <td>40</td>\n",
              "      <td>1</td>\n",
              "      <td>57.0</td>\n",
              "      <td>90.0</td>\n",
              "      <td>92.0</td>\n",
              "      <td>59.0</td>\n",
              "      <td>10.0</td>\n",
              "      <td>14.0</td>\n",
              "      <td>24.0</td>\n",
              "      <td>67.0</td>\n",
              "      <td>0.0</td>\n",
              "      <td>0.0</td>\n",
              "      <td>0.0</td>\n",
              "      <td>0.0</td>\n",
              "      <td>0.0</td>\n",
              "      <td>0.0</td>\n",
              "      <td>0.0</td>\n",
              "      <td>0.0</td>\n",
              "      <td>1.0</td>\n",
              "      <td>0.0</td>\n",
              "      <td>0.0</td>\n",
              "      <td>2.0</td>\n",
              "      <td>49.0</td>\n",
              "      <td>11.0</td>\n",
              "      <td>15.0</td>\n",
              "      <td>19.0</td>\n",
              "      <td>0.0</td>\n",
              "      <td>0.0</td>\n",
              "      <td>0.0</td>\n",
              "      <td>0.0</td>\n",
              "      <td>3.0</td>\n",
              "      <td>0.0</td>\n",
              "      <td>0.0</td>\n",
              "      <td>1.0</td>\n",
              "      <td>0.0</td>\n",
              "      <td>0.0</td>\n",
              "      <td>27.0</td>\n",
              "      <td>0.0</td>\n",
              "      <td>0.0</td>\n",
              "      <td>6.0</td>\n",
              "      <td>8.0</td>\n",
              "      <td>0.0</td>\n",
              "      <td>0.0</td>\n",
              "      <td>6.0</td>\n",
              "      <td>0.0</td>\n",
              "      <td>6.0</td>\n",
              "      <td>0.0</td>\n",
              "      <td>0.0</td>\n",
              "      <td>0.0</td>\n",
              "      <td>6.0</td>\n",
              "      <td>24.208333</td>\n",
              "      <td>943.0</td>\n",
              "    </tr>\n",
              "    <tr>\n",
              "      <th>223807</th>\n",
              "      <td>91</td>\n",
              "      <td>-997</td>\n",
              "      <td>7.0</td>\n",
              "      <td>17.0</td>\n",
              "      <td>9.0</td>\n",
              "      <td>9.0</td>\n",
              "      <td>16.0</td>\n",
              "      <td>29.0</td>\n",
              "      <td>12.0</td>\n",
              "      <td>9.0</td>\n",
              "      <td>0.0</td>\n",
              "      <td>0.0</td>\n",
              "      <td>0.0</td>\n",
              "      <td>0.0</td>\n",
              "      <td>0.0</td>\n",
              "      <td>0.0</td>\n",
              "      <td>0.0</td>\n",
              "      <td>0.0</td>\n",
              "      <td>13.0</td>\n",
              "      <td>6.0</td>\n",
              "      <td>4.0</td>\n",
              "      <td>7.0</td>\n",
              "      <td>4.0</td>\n",
              "      <td>6.0</td>\n",
              "      <td>3.0</td>\n",
              "      <td>5.0</td>\n",
              "      <td>0.0</td>\n",
              "      <td>0.0</td>\n",
              "      <td>1.0</td>\n",
              "      <td>1.0</td>\n",
              "      <td>0.0</td>\n",
              "      <td>0.0</td>\n",
              "      <td>0.0</td>\n",
              "      <td>0.0</td>\n",
              "      <td>0.0</td>\n",
              "      <td>0.0</td>\n",
              "      <td>0.0</td>\n",
              "      <td>0.0</td>\n",
              "      <td>0.0</td>\n",
              "      <td>6.0</td>\n",
              "      <td>0.0</td>\n",
              "      <td>0.0</td>\n",
              "      <td>0.0</td>\n",
              "      <td>0.0</td>\n",
              "      <td>0.0</td>\n",
              "      <td>0.0</td>\n",
              "      <td>0.0</td>\n",
              "      <td>0.0</td>\n",
              "      <td>0.0</td>\n",
              "      <td>0.0</td>\n",
              "      <td>-28.291667</td>\n",
              "      <td>1740.2</td>\n",
              "    </tr>\n",
              "    <tr>\n",
              "      <th>188591</th>\n",
              "      <td>25</td>\n",
              "      <td>1</td>\n",
              "      <td>1.0</td>\n",
              "      <td>1.0</td>\n",
              "      <td>15.0</td>\n",
              "      <td>9.0</td>\n",
              "      <td>43.0</td>\n",
              "      <td>51.0</td>\n",
              "      <td>25.0</td>\n",
              "      <td>4.0</td>\n",
              "      <td>0.0</td>\n",
              "      <td>0.0</td>\n",
              "      <td>0.0</td>\n",
              "      <td>0.0</td>\n",
              "      <td>0.0</td>\n",
              "      <td>0.0</td>\n",
              "      <td>0.0</td>\n",
              "      <td>0.0</td>\n",
              "      <td>71.0</td>\n",
              "      <td>55.0</td>\n",
              "      <td>32.0</td>\n",
              "      <td>40.0</td>\n",
              "      <td>2.0</td>\n",
              "      <td>1.0</td>\n",
              "      <td>45.0</td>\n",
              "      <td>27.0</td>\n",
              "      <td>15.0</td>\n",
              "      <td>6.0</td>\n",
              "      <td>3.0</td>\n",
              "      <td>5.0</td>\n",
              "      <td>1.0</td>\n",
              "      <td>0.0</td>\n",
              "      <td>5.0</td>\n",
              "      <td>7.0</td>\n",
              "      <td>0.0</td>\n",
              "      <td>0.0</td>\n",
              "      <td>6.0</td>\n",
              "      <td>6.0</td>\n",
              "      <td>0.0</td>\n",
              "      <td>0.0</td>\n",
              "      <td>0.0</td>\n",
              "      <td>0.0</td>\n",
              "      <td>0.0</td>\n",
              "      <td>0.0</td>\n",
              "      <td>0.0</td>\n",
              "      <td>0.0</td>\n",
              "      <td>0.0</td>\n",
              "      <td>0.0</td>\n",
              "      <td>0.0</td>\n",
              "      <td>0.0</td>\n",
              "      <td>-10.291667</td>\n",
              "      <td>3817.2</td>\n",
              "    </tr>\n",
              "    <tr>\n",
              "      <th>176435</th>\n",
              "      <td>7</td>\n",
              "      <td>1</td>\n",
              "      <td>9.0</td>\n",
              "      <td>5.0</td>\n",
              "      <td>2.0</td>\n",
              "      <td>5.0</td>\n",
              "      <td>4.0</td>\n",
              "      <td>13.0</td>\n",
              "      <td>1.0</td>\n",
              "      <td>2.0</td>\n",
              "      <td>0.0</td>\n",
              "      <td>0.0</td>\n",
              "      <td>0.0</td>\n",
              "      <td>0.0</td>\n",
              "      <td>0.0</td>\n",
              "      <td>0.0</td>\n",
              "      <td>0.0</td>\n",
              "      <td>0.0</td>\n",
              "      <td>12.0</td>\n",
              "      <td>19.0</td>\n",
              "      <td>30.0</td>\n",
              "      <td>52.0</td>\n",
              "      <td>22.0</td>\n",
              "      <td>7.0</td>\n",
              "      <td>22.0</td>\n",
              "      <td>28.0</td>\n",
              "      <td>1.0</td>\n",
              "      <td>0.0</td>\n",
              "      <td>13.0</td>\n",
              "      <td>2.0</td>\n",
              "      <td>2.0</td>\n",
              "      <td>0.0</td>\n",
              "      <td>1.0</td>\n",
              "      <td>1.0</td>\n",
              "      <td>0.0</td>\n",
              "      <td>0.0</td>\n",
              "      <td>0.0</td>\n",
              "      <td>0.0</td>\n",
              "      <td>0.0</td>\n",
              "      <td>0.0</td>\n",
              "      <td>0.0</td>\n",
              "      <td>0.0</td>\n",
              "      <td>0.0</td>\n",
              "      <td>0.0</td>\n",
              "      <td>0.0</td>\n",
              "      <td>0.0</td>\n",
              "      <td>0.0</td>\n",
              "      <td>0.0</td>\n",
              "      <td>0.0</td>\n",
              "      <td>0.0</td>\n",
              "      <td>3.541667</td>\n",
              "      <td>1922.8</td>\n",
              "    </tr>\n",
              "    <tr>\n",
              "      <th>64412</th>\n",
              "      <td>4</td>\n",
              "      <td>1</td>\n",
              "      <td>22.0</td>\n",
              "      <td>39.0</td>\n",
              "      <td>10.0</td>\n",
              "      <td>8.0</td>\n",
              "      <td>1.0</td>\n",
              "      <td>1.0</td>\n",
              "      <td>19.0</td>\n",
              "      <td>10.0</td>\n",
              "      <td>0.0</td>\n",
              "      <td>0.0</td>\n",
              "      <td>0.0</td>\n",
              "      <td>0.0</td>\n",
              "      <td>0.0</td>\n",
              "      <td>0.0</td>\n",
              "      <td>0.0</td>\n",
              "      <td>0.0</td>\n",
              "      <td>3.0</td>\n",
              "      <td>2.0</td>\n",
              "      <td>11.0</td>\n",
              "      <td>11.0</td>\n",
              "      <td>50.0</td>\n",
              "      <td>60.0</td>\n",
              "      <td>32.0</td>\n",
              "      <td>21.0</td>\n",
              "      <td>0.0</td>\n",
              "      <td>0.0</td>\n",
              "      <td>0.0</td>\n",
              "      <td>0.0</td>\n",
              "      <td>21.0</td>\n",
              "      <td>8.0</td>\n",
              "      <td>9.0</td>\n",
              "      <td>2.0</td>\n",
              "      <td>9.0</td>\n",
              "      <td>8.0</td>\n",
              "      <td>8.0</td>\n",
              "      <td>0.0</td>\n",
              "      <td>0.0</td>\n",
              "      <td>0.0</td>\n",
              "      <td>6.0</td>\n",
              "      <td>0.0</td>\n",
              "      <td>0.0</td>\n",
              "      <td>6.0</td>\n",
              "      <td>0.0</td>\n",
              "      <td>0.0</td>\n",
              "      <td>0.0</td>\n",
              "      <td>0.0</td>\n",
              "      <td>9.0</td>\n",
              "      <td>0.0</td>\n",
              "      <td>22.208333</td>\n",
              "      <td>2309.0</td>\n",
              "    </tr>\n",
              "    <tr>\n",
              "      <th>...</th>\n",
              "      <td>...</td>\n",
              "      <td>...</td>\n",
              "      <td>...</td>\n",
              "      <td>...</td>\n",
              "      <td>...</td>\n",
              "      <td>...</td>\n",
              "      <td>...</td>\n",
              "      <td>...</td>\n",
              "      <td>...</td>\n",
              "      <td>...</td>\n",
              "      <td>...</td>\n",
              "      <td>...</td>\n",
              "      <td>...</td>\n",
              "      <td>...</td>\n",
              "      <td>...</td>\n",
              "      <td>...</td>\n",
              "      <td>...</td>\n",
              "      <td>...</td>\n",
              "      <td>...</td>\n",
              "      <td>...</td>\n",
              "      <td>...</td>\n",
              "      <td>...</td>\n",
              "      <td>...</td>\n",
              "      <td>...</td>\n",
              "      <td>...</td>\n",
              "      <td>...</td>\n",
              "      <td>...</td>\n",
              "      <td>...</td>\n",
              "      <td>...</td>\n",
              "      <td>...</td>\n",
              "      <td>...</td>\n",
              "      <td>...</td>\n",
              "      <td>...</td>\n",
              "      <td>...</td>\n",
              "      <td>...</td>\n",
              "      <td>...</td>\n",
              "      <td>...</td>\n",
              "      <td>...</td>\n",
              "      <td>...</td>\n",
              "      <td>...</td>\n",
              "      <td>...</td>\n",
              "      <td>...</td>\n",
              "      <td>...</td>\n",
              "      <td>...</td>\n",
              "      <td>...</td>\n",
              "      <td>...</td>\n",
              "      <td>...</td>\n",
              "      <td>...</td>\n",
              "      <td>...</td>\n",
              "      <td>...</td>\n",
              "      <td>...</td>\n",
              "      <td>...</td>\n",
              "    </tr>\n",
              "    <tr>\n",
              "      <th>149615</th>\n",
              "      <td>95</td>\n",
              "      <td>5</td>\n",
              "      <td>6.0</td>\n",
              "      <td>17.0</td>\n",
              "      <td>8.0</td>\n",
              "      <td>16.0</td>\n",
              "      <td>26.0</td>\n",
              "      <td>30.0</td>\n",
              "      <td>25.0</td>\n",
              "      <td>18.0</td>\n",
              "      <td>25.0</td>\n",
              "      <td>79.0</td>\n",
              "      <td>11.0</td>\n",
              "      <td>18.0</td>\n",
              "      <td>0.0</td>\n",
              "      <td>0.0</td>\n",
              "      <td>7.0</td>\n",
              "      <td>11.0</td>\n",
              "      <td>11.0</td>\n",
              "      <td>3.0</td>\n",
              "      <td>3.0</td>\n",
              "      <td>6.0</td>\n",
              "      <td>7.0</td>\n",
              "      <td>2.0</td>\n",
              "      <td>5.0</td>\n",
              "      <td>6.0</td>\n",
              "      <td>7.0</td>\n",
              "      <td>4.0</td>\n",
              "      <td>0.0</td>\n",
              "      <td>2.0</td>\n",
              "      <td>0.0</td>\n",
              "      <td>0.0</td>\n",
              "      <td>2.0</td>\n",
              "      <td>0.0</td>\n",
              "      <td>0.0</td>\n",
              "      <td>0.0</td>\n",
              "      <td>0.0</td>\n",
              "      <td>0.0</td>\n",
              "      <td>0.0</td>\n",
              "      <td>0.0</td>\n",
              "      <td>13.0</td>\n",
              "      <td>0.0</td>\n",
              "      <td>0.0</td>\n",
              "      <td>0.0</td>\n",
              "      <td>0.0</td>\n",
              "      <td>0.0</td>\n",
              "      <td>0.0</td>\n",
              "      <td>0.0</td>\n",
              "      <td>0.0</td>\n",
              "      <td>0.0</td>\n",
              "      <td>39.291667</td>\n",
              "      <td>5771.2</td>\n",
              "    </tr>\n",
              "    <tr>\n",
              "      <th>332256</th>\n",
              "      <td>40</td>\n",
              "      <td>1</td>\n",
              "      <td>5.0</td>\n",
              "      <td>6.0</td>\n",
              "      <td>31.0</td>\n",
              "      <td>34.0</td>\n",
              "      <td>63.0</td>\n",
              "      <td>92.0</td>\n",
              "      <td>60.0</td>\n",
              "      <td>67.0</td>\n",
              "      <td>0.0</td>\n",
              "      <td>0.0</td>\n",
              "      <td>0.0</td>\n",
              "      <td>0.0</td>\n",
              "      <td>0.0</td>\n",
              "      <td>0.0</td>\n",
              "      <td>0.0</td>\n",
              "      <td>0.0</td>\n",
              "      <td>17.0</td>\n",
              "      <td>16.0</td>\n",
              "      <td>7.0</td>\n",
              "      <td>4.0</td>\n",
              "      <td>1.0</td>\n",
              "      <td>0.0</td>\n",
              "      <td>9.0</td>\n",
              "      <td>4.0</td>\n",
              "      <td>1.0</td>\n",
              "      <td>4.0</td>\n",
              "      <td>0.0</td>\n",
              "      <td>0.0</td>\n",
              "      <td>0.0</td>\n",
              "      <td>0.0</td>\n",
              "      <td>0.0</td>\n",
              "      <td>0.0</td>\n",
              "      <td>0.0</td>\n",
              "      <td>0.0</td>\n",
              "      <td>0.0</td>\n",
              "      <td>6.0</td>\n",
              "      <td>0.0</td>\n",
              "      <td>0.0</td>\n",
              "      <td>0.0</td>\n",
              "      <td>0.0</td>\n",
              "      <td>0.0</td>\n",
              "      <td>0.0</td>\n",
              "      <td>0.0</td>\n",
              "      <td>0.0</td>\n",
              "      <td>0.0</td>\n",
              "      <td>0.0</td>\n",
              "      <td>0.0</td>\n",
              "      <td>0.0</td>\n",
              "      <td>-17.375000</td>\n",
              "      <td>1010.5</td>\n",
              "    </tr>\n",
              "    <tr>\n",
              "      <th>164359</th>\n",
              "      <td>84</td>\n",
              "      <td>1</td>\n",
              "      <td>38.0</td>\n",
              "      <td>44.0</td>\n",
              "      <td>39.0</td>\n",
              "      <td>21.0</td>\n",
              "      <td>5.0</td>\n",
              "      <td>9.0</td>\n",
              "      <td>27.0</td>\n",
              "      <td>33.0</td>\n",
              "      <td>6.0</td>\n",
              "      <td>7.0</td>\n",
              "      <td>1.0</td>\n",
              "      <td>0.0</td>\n",
              "      <td>0.0</td>\n",
              "      <td>0.0</td>\n",
              "      <td>5.0</td>\n",
              "      <td>2.0</td>\n",
              "      <td>3.0</td>\n",
              "      <td>1.0</td>\n",
              "      <td>4.0</td>\n",
              "      <td>6.0</td>\n",
              "      <td>14.0</td>\n",
              "      <td>21.0</td>\n",
              "      <td>11.0</td>\n",
              "      <td>11.0</td>\n",
              "      <td>0.0</td>\n",
              "      <td>0.0</td>\n",
              "      <td>0.0</td>\n",
              "      <td>0.0</td>\n",
              "      <td>4.0</td>\n",
              "      <td>9.0</td>\n",
              "      <td>0.0</td>\n",
              "      <td>0.0</td>\n",
              "      <td>6.0</td>\n",
              "      <td>0.0</td>\n",
              "      <td>0.0</td>\n",
              "      <td>0.0</td>\n",
              "      <td>0.0</td>\n",
              "      <td>0.0</td>\n",
              "      <td>7.0</td>\n",
              "      <td>0.0</td>\n",
              "      <td>0.0</td>\n",
              "      <td>0.0</td>\n",
              "      <td>0.0</td>\n",
              "      <td>0.0</td>\n",
              "      <td>0.0</td>\n",
              "      <td>0.0</td>\n",
              "      <td>0.0</td>\n",
              "      <td>0.0</td>\n",
              "      <td>19.375000</td>\n",
              "      <td>4132.8</td>\n",
              "    </tr>\n",
              "    <tr>\n",
              "      <th>184249</th>\n",
              "      <td>50</td>\n",
              "      <td>1</td>\n",
              "      <td>13.0</td>\n",
              "      <td>27.0</td>\n",
              "      <td>12.0</td>\n",
              "      <td>14.0</td>\n",
              "      <td>49.0</td>\n",
              "      <td>54.0</td>\n",
              "      <td>50.0</td>\n",
              "      <td>91.0</td>\n",
              "      <td>0.0</td>\n",
              "      <td>0.0</td>\n",
              "      <td>0.0</td>\n",
              "      <td>0.0</td>\n",
              "      <td>0.0</td>\n",
              "      <td>0.0</td>\n",
              "      <td>0.0</td>\n",
              "      <td>0.0</td>\n",
              "      <td>7.0</td>\n",
              "      <td>4.0</td>\n",
              "      <td>10.0</td>\n",
              "      <td>14.0</td>\n",
              "      <td>4.0</td>\n",
              "      <td>2.0</td>\n",
              "      <td>8.0</td>\n",
              "      <td>0.0</td>\n",
              "      <td>0.0</td>\n",
              "      <td>0.0</td>\n",
              "      <td>0.0</td>\n",
              "      <td>1.0</td>\n",
              "      <td>1.0</td>\n",
              "      <td>0.0</td>\n",
              "      <td>0.0</td>\n",
              "      <td>0.0</td>\n",
              "      <td>0.0</td>\n",
              "      <td>0.0</td>\n",
              "      <td>0.0</td>\n",
              "      <td>0.0</td>\n",
              "      <td>0.0</td>\n",
              "      <td>0.0</td>\n",
              "      <td>22.0</td>\n",
              "      <td>0.0</td>\n",
              "      <td>0.0</td>\n",
              "      <td>0.0</td>\n",
              "      <td>0.0</td>\n",
              "      <td>0.0</td>\n",
              "      <td>0.0</td>\n",
              "      <td>0.0</td>\n",
              "      <td>0.0</td>\n",
              "      <td>0.0</td>\n",
              "      <td>-7.208333</td>\n",
              "      <td>875.7</td>\n",
              "    </tr>\n",
              "    <tr>\n",
              "      <th>151894</th>\n",
              "      <td>74</td>\n",
              "      <td>-32768</td>\n",
              "      <td>20.0</td>\n",
              "      <td>9.0</td>\n",
              "      <td>25.0</td>\n",
              "      <td>18.0</td>\n",
              "      <td>21.0</td>\n",
              "      <td>16.0</td>\n",
              "      <td>7.0</td>\n",
              "      <td>13.0</td>\n",
              "      <td>2.0</td>\n",
              "      <td>8.0</td>\n",
              "      <td>0.0</td>\n",
              "      <td>2.0</td>\n",
              "      <td>0.0</td>\n",
              "      <td>0.0</td>\n",
              "      <td>0.0</td>\n",
              "      <td>0.0</td>\n",
              "      <td>7.0</td>\n",
              "      <td>5.0</td>\n",
              "      <td>6.0</td>\n",
              "      <td>7.0</td>\n",
              "      <td>5.0</td>\n",
              "      <td>3.0</td>\n",
              "      <td>5.0</td>\n",
              "      <td>12.0</td>\n",
              "      <td>1.0</td>\n",
              "      <td>2.0</td>\n",
              "      <td>0.0</td>\n",
              "      <td>0.0</td>\n",
              "      <td>0.0</td>\n",
              "      <td>0.0</td>\n",
              "      <td>1.0</td>\n",
              "      <td>1.0</td>\n",
              "      <td>0.0</td>\n",
              "      <td>0.0</td>\n",
              "      <td>0.0</td>\n",
              "      <td>0.0</td>\n",
              "      <td>0.0</td>\n",
              "      <td>0.0</td>\n",
              "      <td>0.0</td>\n",
              "      <td>0.0</td>\n",
              "      <td>0.0</td>\n",
              "      <td>0.0</td>\n",
              "      <td>0.0</td>\n",
              "      <td>0.0</td>\n",
              "      <td>0.0</td>\n",
              "      <td>0.0</td>\n",
              "      <td>0.0</td>\n",
              "      <td>0.0</td>\n",
              "      <td>38.625000</td>\n",
              "      <td>13761.5</td>\n",
              "    </tr>\n",
              "  </tbody>\n",
              "</table>\n",
              "<p>243618 rows × 52 columns</p>\n",
              "</div>"
            ],
            "text/plain": [
              "        soil_types  climate_zones  ...          y  maize_a_2005\n",
              "56592           40              1  ...  24.208333         943.0\n",
              "223807          91           -997  ... -28.291667        1740.2\n",
              "188591          25              1  ... -10.291667        3817.2\n",
              "176435           7              1  ...   3.541667        1922.8\n",
              "64412            4              1  ...  22.208333        2309.0\n",
              "...            ...            ...  ...        ...           ...\n",
              "149615          95              5  ...  39.291667        5771.2\n",
              "332256          40              1  ... -17.375000        1010.5\n",
              "164359          84              1  ...  19.375000        4132.8\n",
              "184249          50              1  ...  -7.208333         875.7\n",
              "151894          74         -32768  ...  38.625000       13761.5\n",
              "\n",
              "[243618 rows x 52 columns]"
            ]
          },
          "metadata": {
            "tags": []
          },
          "execution_count": 41
        }
      ]
    },
    {
      "cell_type": "code",
      "metadata": {
        "id": "cXLwut26In1X",
        "colab_type": "code",
        "colab": {}
      },
      "source": [
        "#dataset.dropna(inplace=True)"
      ],
      "execution_count": 0,
      "outputs": []
    },
    {
      "cell_type": "markdown",
      "metadata": {
        "id": "a-YuFKu5BkVl",
        "colab_type": "text"
      },
      "source": [
        "### Create train test split ### "
      ]
    },
    {
      "cell_type": "code",
      "metadata": {
        "id": "QAsEW5ZxBmXy",
        "colab_type": "code",
        "colab": {}
      },
      "source": [
        "#from sklearn.model_selection import train_test_split\n",
        "\n",
        "#train_set, test_set = train_test_split(dataset, test_size=0.2, random_state=42)\n",
        "\n",
        "#train_set_x = train_set.drop(\"maiz_a_2010\",axis=1)\n",
        "#train_set_y = train_set[\"maiz_a_2010\"]\n",
        "\n",
        "#test_set_x = test_set.drop(\"maiz_a_2010\",axis=1)\n",
        "#test_set_y = test_set[\"maiz_a_2010\"]"
      ],
      "execution_count": 0,
      "outputs": []
    },
    {
      "cell_type": "markdown",
      "metadata": {
        "id": "X5iL1UNtCn6z",
        "colab_type": "text"
      },
      "source": [
        "### One-hot encode categorical features ###\n"
      ]
    },
    {
      "cell_type": "code",
      "metadata": {
        "id": "c4-MFY3-CnY9",
        "colab_type": "code",
        "colab": {}
      },
      "source": [
        "categorical_variables = [\"climate_zones\",\n",
        "                         \"soil_types\"\n",
        "                       \n",
        "                         ]"
      ],
      "execution_count": 0,
      "outputs": []
    },
    {
      "cell_type": "code",
      "metadata": {
        "id": "EZvVgCdZGgaA",
        "colab_type": "code",
        "colab": {}
      },
      "source": [
        "categories=[]\n",
        "\n",
        "for i in categorical_variables:\n",
        "  a = list(dataset[i].unique())\n",
        "  categories.append(a)\n"
      ],
      "execution_count": 0,
      "outputs": []
    },
    {
      "cell_type": "code",
      "metadata": {
        "id": "stJzoQPZDQ6R",
        "colab_type": "code",
        "colab": {}
      },
      "source": [
        "df_num = train_set_x.copy()\n",
        "\n",
        "for i in categorical_variables:\n",
        "  df_num.drop(i, axis=1, inplace=True)"
      ],
      "execution_count": 0,
      "outputs": []
    },
    {
      "cell_type": "markdown",
      "metadata": {
        "id": "RNEvCR6XQZ2n",
        "colab_type": "text"
      },
      "source": [
        "Below pipeline didn't work one time for the onehotencoding so it's been commented out and replaced."
      ]
    },
    {
      "cell_type": "code",
      "metadata": {
        "id": "iq5Kf9HdDuWA",
        "colab_type": "code",
        "colab": {}
      },
      "source": [
        "# from sklearn.base import BaseEstimator, TransformerMixin\n",
        "\n",
        "# class DataFrameSelector(BaseEstimator, TransformerMixin):\n",
        "#   def __init__(self,attribute_names):\n",
        "#     self.attribute_names = attribute_names\n",
        "#   def fit(self, X, y=None):\n",
        "#     return self\n",
        "#   def transform(self, X):\n",
        "#     return X[self.attribute_names].values\n",
        "\n",
        "# from sklearn.pipeline import Pipeline, FeatureUnion\n",
        "# from sklearn.preprocessing import OneHotEncoder\n",
        "\n",
        "# num_attributes = list(df_num)\n",
        "# cat_attribs = categorical_variables\n",
        "\n",
        "# num_pipeline = Pipeline([\n",
        "#                          ('selector', DataFrameSelector(num_attributes)),\n",
        "# ])\n",
        "\n",
        "# cat_pipeline = Pipeline([\n",
        "#                          ('selector', DataFrameSelector(cat_attribs)),\n",
        "#                          ('one_hot_encoder', OneHotEncoder(categories = categories)),\n",
        "                         \n",
        "# ])\n",
        "\n",
        "# full_pipeline = FeatureUnion(transformer_list=[\n",
        "#                   (\"num_pipeline\",num_pipeline),\n",
        "#                   (\"cat_pipeline\", cat_pipeline)\n",
        "# ])"
      ],
      "execution_count": 0,
      "outputs": []
    },
    {
      "cell_type": "code",
      "metadata": {
        "id": "coheRmoQN5c5",
        "colab_type": "code",
        "colab": {}
      },
      "source": [
        "from sklearn.preprocessing import OneHotEncoder\n",
        "from sklearn.compose import ColumnTransformer\n",
        "\n",
        "ct = ColumnTransformer([\n",
        "                        (\"selector\", OneHotEncoder(), [0,1])], \n",
        "                        remainder = 'passthrough')\n",
        "\n",
        "#0 and 1 refer to the categorical column names - these need to be changed so they are selected automatically and not manually as done here"
      ],
      "execution_count": 0,
      "outputs": []
    },
    {
      "cell_type": "code",
      "metadata": {
        "id": "t2O7WVPtD8Ou",
        "colab_type": "code",
        "colab": {}
      },
      "source": [
        "train_set_x_prepared = ct.fit_transform(train_set_x)\n"
      ],
      "execution_count": 0,
      "outputs": []
    },
    {
      "cell_type": "code",
      "metadata": {
        "id": "YpEqv2dxP7-X",
        "colab_type": "code",
        "outputId": "026ddb0f-2960-47d0-8c27-14aa27f910e3",
        "colab": {
          "base_uri": "https://localhost:8080/",
          "height": 35
        }
      },
      "source": [
        "train_set_x_prepared.shape"
      ],
      "execution_count": 0,
      "outputs": [
        {
          "output_type": "execute_result",
          "data": {
            "text/plain": [
              "(243624, 154)"
            ]
          },
          "metadata": {
            "tags": []
          },
          "execution_count": 60
        }
      ]
    },
    {
      "cell_type": "code",
      "metadata": {
        "id": "SLYbYFRiEFtc",
        "colab_type": "code",
        "colab": {}
      },
      "source": [
        "test_set_x_prepared = ct.transform(test_set_x)\n"
      ],
      "execution_count": 0,
      "outputs": []
    },
    {
      "cell_type": "code",
      "metadata": {
        "id": "VkgW01AzUjYG",
        "colab_type": "code",
        "outputId": "fea3d23b-390d-4279-88ae-a5aedd6ef25f",
        "colab": {
          "base_uri": "https://localhost:8080/",
          "height": 439
        }
      },
      "source": [
        "pd.DataFrame(train_set_x_prepared)"
      ],
      "execution_count": 0,
      "outputs": [
        {
          "output_type": "execute_result",
          "data": {
            "text/html": [
              "<div>\n",
              "<style scoped>\n",
              "    .dataframe tbody tr th:only-of-type {\n",
              "        vertical-align: middle;\n",
              "    }\n",
              "\n",
              "    .dataframe tbody tr th {\n",
              "        vertical-align: top;\n",
              "    }\n",
              "\n",
              "    .dataframe thead th {\n",
              "        text-align: right;\n",
              "    }\n",
              "</style>\n",
              "<table border=\"1\" class=\"dataframe\">\n",
              "  <thead>\n",
              "    <tr style=\"text-align: right;\">\n",
              "      <th></th>\n",
              "      <th>0</th>\n",
              "      <th>1</th>\n",
              "      <th>2</th>\n",
              "      <th>3</th>\n",
              "      <th>4</th>\n",
              "      <th>5</th>\n",
              "      <th>6</th>\n",
              "      <th>7</th>\n",
              "      <th>8</th>\n",
              "      <th>9</th>\n",
              "      <th>10</th>\n",
              "      <th>11</th>\n",
              "      <th>12</th>\n",
              "      <th>13</th>\n",
              "      <th>14</th>\n",
              "      <th>15</th>\n",
              "      <th>16</th>\n",
              "      <th>17</th>\n",
              "      <th>18</th>\n",
              "      <th>19</th>\n",
              "      <th>20</th>\n",
              "      <th>21</th>\n",
              "      <th>22</th>\n",
              "      <th>23</th>\n",
              "      <th>24</th>\n",
              "      <th>25</th>\n",
              "      <th>26</th>\n",
              "      <th>27</th>\n",
              "      <th>28</th>\n",
              "      <th>29</th>\n",
              "      <th>30</th>\n",
              "      <th>31</th>\n",
              "      <th>32</th>\n",
              "      <th>33</th>\n",
              "      <th>34</th>\n",
              "      <th>35</th>\n",
              "      <th>36</th>\n",
              "      <th>37</th>\n",
              "      <th>38</th>\n",
              "      <th>39</th>\n",
              "      <th>...</th>\n",
              "      <th>114</th>\n",
              "      <th>115</th>\n",
              "      <th>116</th>\n",
              "      <th>117</th>\n",
              "      <th>118</th>\n",
              "      <th>119</th>\n",
              "      <th>120</th>\n",
              "      <th>121</th>\n",
              "      <th>122</th>\n",
              "      <th>123</th>\n",
              "      <th>124</th>\n",
              "      <th>125</th>\n",
              "      <th>126</th>\n",
              "      <th>127</th>\n",
              "      <th>128</th>\n",
              "      <th>129</th>\n",
              "      <th>130</th>\n",
              "      <th>131</th>\n",
              "      <th>132</th>\n",
              "      <th>133</th>\n",
              "      <th>134</th>\n",
              "      <th>135</th>\n",
              "      <th>136</th>\n",
              "      <th>137</th>\n",
              "      <th>138</th>\n",
              "      <th>139</th>\n",
              "      <th>140</th>\n",
              "      <th>141</th>\n",
              "      <th>142</th>\n",
              "      <th>143</th>\n",
              "      <th>144</th>\n",
              "      <th>145</th>\n",
              "      <th>146</th>\n",
              "      <th>147</th>\n",
              "      <th>148</th>\n",
              "      <th>149</th>\n",
              "      <th>150</th>\n",
              "      <th>151</th>\n",
              "      <th>152</th>\n",
              "      <th>153</th>\n",
              "    </tr>\n",
              "  </thead>\n",
              "  <tbody>\n",
              "    <tr>\n",
              "      <th>0</th>\n",
              "      <td>0.0</td>\n",
              "      <td>0.0</td>\n",
              "      <td>0.0</td>\n",
              "      <td>0.0</td>\n",
              "      <td>0.0</td>\n",
              "      <td>0.0</td>\n",
              "      <td>0.0</td>\n",
              "      <td>0.0</td>\n",
              "      <td>0.0</td>\n",
              "      <td>0.0</td>\n",
              "      <td>0.0</td>\n",
              "      <td>0.0</td>\n",
              "      <td>0.0</td>\n",
              "      <td>0.0</td>\n",
              "      <td>0.0</td>\n",
              "      <td>0.0</td>\n",
              "      <td>0.0</td>\n",
              "      <td>0.0</td>\n",
              "      <td>0.0</td>\n",
              "      <td>0.0</td>\n",
              "      <td>0.0</td>\n",
              "      <td>0.0</td>\n",
              "      <td>0.0</td>\n",
              "      <td>0.0</td>\n",
              "      <td>0.0</td>\n",
              "      <td>0.0</td>\n",
              "      <td>0.0</td>\n",
              "      <td>0.0</td>\n",
              "      <td>1.0</td>\n",
              "      <td>0.0</td>\n",
              "      <td>0.0</td>\n",
              "      <td>0.0</td>\n",
              "      <td>0.0</td>\n",
              "      <td>0.0</td>\n",
              "      <td>0.0</td>\n",
              "      <td>0.0</td>\n",
              "      <td>0.0</td>\n",
              "      <td>0.0</td>\n",
              "      <td>0.0</td>\n",
              "      <td>0.0</td>\n",
              "      <td>...</td>\n",
              "      <td>0.0</td>\n",
              "      <td>0.0</td>\n",
              "      <td>0.0</td>\n",
              "      <td>0.0</td>\n",
              "      <td>0.0</td>\n",
              "      <td>0.0</td>\n",
              "      <td>1.0</td>\n",
              "      <td>1.0</td>\n",
              "      <td>13.0</td>\n",
              "      <td>9.0</td>\n",
              "      <td>89.0</td>\n",
              "      <td>92.0</td>\n",
              "      <td>16.0</td>\n",
              "      <td>12.0</td>\n",
              "      <td>0.0</td>\n",
              "      <td>0.0</td>\n",
              "      <td>1.0</td>\n",
              "      <td>0.0</td>\n",
              "      <td>7.0</td>\n",
              "      <td>11.0</td>\n",
              "      <td>2.0</td>\n",
              "      <td>3.0</td>\n",
              "      <td>15.0</td>\n",
              "      <td>0.0</td>\n",
              "      <td>6.0</td>\n",
              "      <td>0.0</td>\n",
              "      <td>0.0</td>\n",
              "      <td>0.0</td>\n",
              "      <td>0.0</td>\n",
              "      <td>0.0</td>\n",
              "      <td>0.0</td>\n",
              "      <td>0.0</td>\n",
              "      <td>0.0</td>\n",
              "      <td>0.0</td>\n",
              "      <td>0.0</td>\n",
              "      <td>0.0</td>\n",
              "      <td>0.0</td>\n",
              "      <td>0.0</td>\n",
              "      <td>24.208333</td>\n",
              "      <td>3941.3</td>\n",
              "    </tr>\n",
              "    <tr>\n",
              "      <th>1</th>\n",
              "      <td>0.0</td>\n",
              "      <td>0.0</td>\n",
              "      <td>0.0</td>\n",
              "      <td>0.0</td>\n",
              "      <td>0.0</td>\n",
              "      <td>0.0</td>\n",
              "      <td>0.0</td>\n",
              "      <td>0.0</td>\n",
              "      <td>0.0</td>\n",
              "      <td>0.0</td>\n",
              "      <td>0.0</td>\n",
              "      <td>0.0</td>\n",
              "      <td>0.0</td>\n",
              "      <td>0.0</td>\n",
              "      <td>0.0</td>\n",
              "      <td>0.0</td>\n",
              "      <td>0.0</td>\n",
              "      <td>0.0</td>\n",
              "      <td>0.0</td>\n",
              "      <td>0.0</td>\n",
              "      <td>1.0</td>\n",
              "      <td>0.0</td>\n",
              "      <td>0.0</td>\n",
              "      <td>0.0</td>\n",
              "      <td>0.0</td>\n",
              "      <td>0.0</td>\n",
              "      <td>0.0</td>\n",
              "      <td>0.0</td>\n",
              "      <td>0.0</td>\n",
              "      <td>0.0</td>\n",
              "      <td>0.0</td>\n",
              "      <td>0.0</td>\n",
              "      <td>0.0</td>\n",
              "      <td>0.0</td>\n",
              "      <td>0.0</td>\n",
              "      <td>0.0</td>\n",
              "      <td>0.0</td>\n",
              "      <td>0.0</td>\n",
              "      <td>0.0</td>\n",
              "      <td>0.0</td>\n",
              "      <td>...</td>\n",
              "      <td>0.0</td>\n",
              "      <td>0.0</td>\n",
              "      <td>1.0</td>\n",
              "      <td>0.0</td>\n",
              "      <td>0.0</td>\n",
              "      <td>0.0</td>\n",
              "      <td>14.0</td>\n",
              "      <td>10.0</td>\n",
              "      <td>8.0</td>\n",
              "      <td>6.0</td>\n",
              "      <td>6.0</td>\n",
              "      <td>8.0</td>\n",
              "      <td>7.0</td>\n",
              "      <td>8.0</td>\n",
              "      <td>4.0</td>\n",
              "      <td>0.0</td>\n",
              "      <td>1.0</td>\n",
              "      <td>5.0</td>\n",
              "      <td>3.0</td>\n",
              "      <td>4.0</td>\n",
              "      <td>1.0</td>\n",
              "      <td>1.0</td>\n",
              "      <td>0.0</td>\n",
              "      <td>0.0</td>\n",
              "      <td>0.0</td>\n",
              "      <td>0.0</td>\n",
              "      <td>0.0</td>\n",
              "      <td>0.0</td>\n",
              "      <td>0.0</td>\n",
              "      <td>0.0</td>\n",
              "      <td>0.0</td>\n",
              "      <td>0.0</td>\n",
              "      <td>0.0</td>\n",
              "      <td>0.0</td>\n",
              "      <td>0.0</td>\n",
              "      <td>0.0</td>\n",
              "      <td>0.0</td>\n",
              "      <td>0.0</td>\n",
              "      <td>-28.458333</td>\n",
              "      <td>5159.6</td>\n",
              "    </tr>\n",
              "    <tr>\n",
              "      <th>2</th>\n",
              "      <td>0.0</td>\n",
              "      <td>0.0</td>\n",
              "      <td>0.0</td>\n",
              "      <td>0.0</td>\n",
              "      <td>0.0</td>\n",
              "      <td>0.0</td>\n",
              "      <td>0.0</td>\n",
              "      <td>0.0</td>\n",
              "      <td>0.0</td>\n",
              "      <td>0.0</td>\n",
              "      <td>0.0</td>\n",
              "      <td>0.0</td>\n",
              "      <td>0.0</td>\n",
              "      <td>0.0</td>\n",
              "      <td>0.0</td>\n",
              "      <td>0.0</td>\n",
              "      <td>0.0</td>\n",
              "      <td>0.0</td>\n",
              "      <td>0.0</td>\n",
              "      <td>0.0</td>\n",
              "      <td>0.0</td>\n",
              "      <td>0.0</td>\n",
              "      <td>0.0</td>\n",
              "      <td>0.0</td>\n",
              "      <td>0.0</td>\n",
              "      <td>0.0</td>\n",
              "      <td>0.0</td>\n",
              "      <td>0.0</td>\n",
              "      <td>0.0</td>\n",
              "      <td>0.0</td>\n",
              "      <td>0.0</td>\n",
              "      <td>0.0</td>\n",
              "      <td>0.0</td>\n",
              "      <td>0.0</td>\n",
              "      <td>0.0</td>\n",
              "      <td>0.0</td>\n",
              "      <td>0.0</td>\n",
              "      <td>0.0</td>\n",
              "      <td>0.0</td>\n",
              "      <td>0.0</td>\n",
              "      <td>...</td>\n",
              "      <td>10.0</td>\n",
              "      <td>28.0</td>\n",
              "      <td>0.0</td>\n",
              "      <td>0.0</td>\n",
              "      <td>17.0</td>\n",
              "      <td>12.0</td>\n",
              "      <td>3.0</td>\n",
              "      <td>5.0</td>\n",
              "      <td>3.0</td>\n",
              "      <td>4.0</td>\n",
              "      <td>6.0</td>\n",
              "      <td>7.0</td>\n",
              "      <td>4.0</td>\n",
              "      <td>3.0</td>\n",
              "      <td>2.0</td>\n",
              "      <td>1.0</td>\n",
              "      <td>1.0</td>\n",
              "      <td>1.0</td>\n",
              "      <td>8.0</td>\n",
              "      <td>1.0</td>\n",
              "      <td>5.0</td>\n",
              "      <td>3.0</td>\n",
              "      <td>0.0</td>\n",
              "      <td>0.0</td>\n",
              "      <td>0.0</td>\n",
              "      <td>0.0</td>\n",
              "      <td>0.0</td>\n",
              "      <td>0.0</td>\n",
              "      <td>0.0</td>\n",
              "      <td>0.0</td>\n",
              "      <td>0.0</td>\n",
              "      <td>0.0</td>\n",
              "      <td>0.0</td>\n",
              "      <td>0.0</td>\n",
              "      <td>0.0</td>\n",
              "      <td>0.0</td>\n",
              "      <td>0.0</td>\n",
              "      <td>0.0</td>\n",
              "      <td>44.375000</td>\n",
              "      <td>10113.1</td>\n",
              "    </tr>\n",
              "    <tr>\n",
              "      <th>3</th>\n",
              "      <td>0.0</td>\n",
              "      <td>0.0</td>\n",
              "      <td>0.0</td>\n",
              "      <td>0.0</td>\n",
              "      <td>0.0</td>\n",
              "      <td>0.0</td>\n",
              "      <td>0.0</td>\n",
              "      <td>0.0</td>\n",
              "      <td>0.0</td>\n",
              "      <td>0.0</td>\n",
              "      <td>0.0</td>\n",
              "      <td>0.0</td>\n",
              "      <td>0.0</td>\n",
              "      <td>0.0</td>\n",
              "      <td>0.0</td>\n",
              "      <td>0.0</td>\n",
              "      <td>0.0</td>\n",
              "      <td>0.0</td>\n",
              "      <td>0.0</td>\n",
              "      <td>0.0</td>\n",
              "      <td>0.0</td>\n",
              "      <td>0.0</td>\n",
              "      <td>0.0</td>\n",
              "      <td>0.0</td>\n",
              "      <td>0.0</td>\n",
              "      <td>0.0</td>\n",
              "      <td>0.0</td>\n",
              "      <td>0.0</td>\n",
              "      <td>0.0</td>\n",
              "      <td>0.0</td>\n",
              "      <td>0.0</td>\n",
              "      <td>0.0</td>\n",
              "      <td>0.0</td>\n",
              "      <td>0.0</td>\n",
              "      <td>0.0</td>\n",
              "      <td>0.0</td>\n",
              "      <td>0.0</td>\n",
              "      <td>0.0</td>\n",
              "      <td>0.0</td>\n",
              "      <td>0.0</td>\n",
              "      <td>...</td>\n",
              "      <td>0.0</td>\n",
              "      <td>0.0</td>\n",
              "      <td>0.0</td>\n",
              "      <td>0.0</td>\n",
              "      <td>0.0</td>\n",
              "      <td>0.0</td>\n",
              "      <td>44.0</td>\n",
              "      <td>8.0</td>\n",
              "      <td>34.0</td>\n",
              "      <td>41.0</td>\n",
              "      <td>49.0</td>\n",
              "      <td>16.0</td>\n",
              "      <td>46.0</td>\n",
              "      <td>64.0</td>\n",
              "      <td>1.0</td>\n",
              "      <td>0.0</td>\n",
              "      <td>6.0</td>\n",
              "      <td>2.0</td>\n",
              "      <td>1.0</td>\n",
              "      <td>2.0</td>\n",
              "      <td>0.0</td>\n",
              "      <td>0.0</td>\n",
              "      <td>0.0</td>\n",
              "      <td>7.0</td>\n",
              "      <td>0.0</td>\n",
              "      <td>0.0</td>\n",
              "      <td>0.0</td>\n",
              "      <td>0.0</td>\n",
              "      <td>0.0</td>\n",
              "      <td>0.0</td>\n",
              "      <td>0.0</td>\n",
              "      <td>0.0</td>\n",
              "      <td>0.0</td>\n",
              "      <td>0.0</td>\n",
              "      <td>0.0</td>\n",
              "      <td>0.0</td>\n",
              "      <td>0.0</td>\n",
              "      <td>0.0</td>\n",
              "      <td>-0.625000</td>\n",
              "      <td>2111.6</td>\n",
              "    </tr>\n",
              "    <tr>\n",
              "      <th>4</th>\n",
              "      <td>0.0</td>\n",
              "      <td>0.0</td>\n",
              "      <td>0.0</td>\n",
              "      <td>0.0</td>\n",
              "      <td>0.0</td>\n",
              "      <td>0.0</td>\n",
              "      <td>0.0</td>\n",
              "      <td>0.0</td>\n",
              "      <td>0.0</td>\n",
              "      <td>0.0</td>\n",
              "      <td>0.0</td>\n",
              "      <td>0.0</td>\n",
              "      <td>0.0</td>\n",
              "      <td>0.0</td>\n",
              "      <td>0.0</td>\n",
              "      <td>0.0</td>\n",
              "      <td>0.0</td>\n",
              "      <td>0.0</td>\n",
              "      <td>0.0</td>\n",
              "      <td>0.0</td>\n",
              "      <td>0.0</td>\n",
              "      <td>0.0</td>\n",
              "      <td>0.0</td>\n",
              "      <td>0.0</td>\n",
              "      <td>0.0</td>\n",
              "      <td>0.0</td>\n",
              "      <td>0.0</td>\n",
              "      <td>0.0</td>\n",
              "      <td>0.0</td>\n",
              "      <td>0.0</td>\n",
              "      <td>0.0</td>\n",
              "      <td>0.0</td>\n",
              "      <td>0.0</td>\n",
              "      <td>0.0</td>\n",
              "      <td>0.0</td>\n",
              "      <td>0.0</td>\n",
              "      <td>0.0</td>\n",
              "      <td>0.0</td>\n",
              "      <td>0.0</td>\n",
              "      <td>0.0</td>\n",
              "      <td>...</td>\n",
              "      <td>0.0</td>\n",
              "      <td>0.0</td>\n",
              "      <td>0.0</td>\n",
              "      <td>0.0</td>\n",
              "      <td>0.0</td>\n",
              "      <td>0.0</td>\n",
              "      <td>2.0</td>\n",
              "      <td>5.0</td>\n",
              "      <td>2.0</td>\n",
              "      <td>2.0</td>\n",
              "      <td>79.0</td>\n",
              "      <td>62.0</td>\n",
              "      <td>10.0</td>\n",
              "      <td>18.0</td>\n",
              "      <td>0.0</td>\n",
              "      <td>0.0</td>\n",
              "      <td>0.0</td>\n",
              "      <td>0.0</td>\n",
              "      <td>9.0</td>\n",
              "      <td>1.0</td>\n",
              "      <td>0.0</td>\n",
              "      <td>2.0</td>\n",
              "      <td>0.0</td>\n",
              "      <td>0.0</td>\n",
              "      <td>15.0</td>\n",
              "      <td>0.0</td>\n",
              "      <td>0.0</td>\n",
              "      <td>0.0</td>\n",
              "      <td>15.0</td>\n",
              "      <td>0.0</td>\n",
              "      <td>0.0</td>\n",
              "      <td>0.0</td>\n",
              "      <td>0.0</td>\n",
              "      <td>0.0</td>\n",
              "      <td>0.0</td>\n",
              "      <td>0.0</td>\n",
              "      <td>0.0</td>\n",
              "      <td>0.0</td>\n",
              "      <td>22.125000</td>\n",
              "      <td>1788.7</td>\n",
              "    </tr>\n",
              "    <tr>\n",
              "      <th>...</th>\n",
              "      <td>...</td>\n",
              "      <td>...</td>\n",
              "      <td>...</td>\n",
              "      <td>...</td>\n",
              "      <td>...</td>\n",
              "      <td>...</td>\n",
              "      <td>...</td>\n",
              "      <td>...</td>\n",
              "      <td>...</td>\n",
              "      <td>...</td>\n",
              "      <td>...</td>\n",
              "      <td>...</td>\n",
              "      <td>...</td>\n",
              "      <td>...</td>\n",
              "      <td>...</td>\n",
              "      <td>...</td>\n",
              "      <td>...</td>\n",
              "      <td>...</td>\n",
              "      <td>...</td>\n",
              "      <td>...</td>\n",
              "      <td>...</td>\n",
              "      <td>...</td>\n",
              "      <td>...</td>\n",
              "      <td>...</td>\n",
              "      <td>...</td>\n",
              "      <td>...</td>\n",
              "      <td>...</td>\n",
              "      <td>...</td>\n",
              "      <td>...</td>\n",
              "      <td>...</td>\n",
              "      <td>...</td>\n",
              "      <td>...</td>\n",
              "      <td>...</td>\n",
              "      <td>...</td>\n",
              "      <td>...</td>\n",
              "      <td>...</td>\n",
              "      <td>...</td>\n",
              "      <td>...</td>\n",
              "      <td>...</td>\n",
              "      <td>...</td>\n",
              "      <td>...</td>\n",
              "      <td>...</td>\n",
              "      <td>...</td>\n",
              "      <td>...</td>\n",
              "      <td>...</td>\n",
              "      <td>...</td>\n",
              "      <td>...</td>\n",
              "      <td>...</td>\n",
              "      <td>...</td>\n",
              "      <td>...</td>\n",
              "      <td>...</td>\n",
              "      <td>...</td>\n",
              "      <td>...</td>\n",
              "      <td>...</td>\n",
              "      <td>...</td>\n",
              "      <td>...</td>\n",
              "      <td>...</td>\n",
              "      <td>...</td>\n",
              "      <td>...</td>\n",
              "      <td>...</td>\n",
              "      <td>...</td>\n",
              "      <td>...</td>\n",
              "      <td>...</td>\n",
              "      <td>...</td>\n",
              "      <td>...</td>\n",
              "      <td>...</td>\n",
              "      <td>...</td>\n",
              "      <td>...</td>\n",
              "      <td>...</td>\n",
              "      <td>...</td>\n",
              "      <td>...</td>\n",
              "      <td>...</td>\n",
              "      <td>...</td>\n",
              "      <td>...</td>\n",
              "      <td>...</td>\n",
              "      <td>...</td>\n",
              "      <td>...</td>\n",
              "      <td>...</td>\n",
              "      <td>...</td>\n",
              "      <td>...</td>\n",
              "      <td>...</td>\n",
              "    </tr>\n",
              "    <tr>\n",
              "      <th>243619</th>\n",
              "      <td>0.0</td>\n",
              "      <td>0.0</td>\n",
              "      <td>0.0</td>\n",
              "      <td>0.0</td>\n",
              "      <td>0.0</td>\n",
              "      <td>0.0</td>\n",
              "      <td>0.0</td>\n",
              "      <td>1.0</td>\n",
              "      <td>0.0</td>\n",
              "      <td>0.0</td>\n",
              "      <td>0.0</td>\n",
              "      <td>0.0</td>\n",
              "      <td>0.0</td>\n",
              "      <td>0.0</td>\n",
              "      <td>0.0</td>\n",
              "      <td>0.0</td>\n",
              "      <td>0.0</td>\n",
              "      <td>0.0</td>\n",
              "      <td>0.0</td>\n",
              "      <td>0.0</td>\n",
              "      <td>0.0</td>\n",
              "      <td>0.0</td>\n",
              "      <td>0.0</td>\n",
              "      <td>0.0</td>\n",
              "      <td>0.0</td>\n",
              "      <td>0.0</td>\n",
              "      <td>0.0</td>\n",
              "      <td>0.0</td>\n",
              "      <td>0.0</td>\n",
              "      <td>0.0</td>\n",
              "      <td>0.0</td>\n",
              "      <td>0.0</td>\n",
              "      <td>0.0</td>\n",
              "      <td>0.0</td>\n",
              "      <td>0.0</td>\n",
              "      <td>0.0</td>\n",
              "      <td>0.0</td>\n",
              "      <td>0.0</td>\n",
              "      <td>0.0</td>\n",
              "      <td>0.0</td>\n",
              "      <td>...</td>\n",
              "      <td>5.0</td>\n",
              "      <td>4.0</td>\n",
              "      <td>0.0</td>\n",
              "      <td>0.0</td>\n",
              "      <td>1.0</td>\n",
              "      <td>1.0</td>\n",
              "      <td>9.0</td>\n",
              "      <td>4.0</td>\n",
              "      <td>7.0</td>\n",
              "      <td>4.0</td>\n",
              "      <td>5.0</td>\n",
              "      <td>4.0</td>\n",
              "      <td>3.0</td>\n",
              "      <td>5.0</td>\n",
              "      <td>6.0</td>\n",
              "      <td>0.0</td>\n",
              "      <td>0.0</td>\n",
              "      <td>0.0</td>\n",
              "      <td>0.0</td>\n",
              "      <td>0.0</td>\n",
              "      <td>0.0</td>\n",
              "      <td>0.0</td>\n",
              "      <td>0.0</td>\n",
              "      <td>0.0</td>\n",
              "      <td>0.0</td>\n",
              "      <td>0.0</td>\n",
              "      <td>0.0</td>\n",
              "      <td>0.0</td>\n",
              "      <td>0.0</td>\n",
              "      <td>0.0</td>\n",
              "      <td>0.0</td>\n",
              "      <td>0.0</td>\n",
              "      <td>8.0</td>\n",
              "      <td>6.0</td>\n",
              "      <td>0.0</td>\n",
              "      <td>0.0</td>\n",
              "      <td>0.0</td>\n",
              "      <td>0.0</td>\n",
              "      <td>39.208333</td>\n",
              "      <td>11711.3</td>\n",
              "    </tr>\n",
              "    <tr>\n",
              "      <th>243620</th>\n",
              "      <td>0.0</td>\n",
              "      <td>0.0</td>\n",
              "      <td>0.0</td>\n",
              "      <td>0.0</td>\n",
              "      <td>0.0</td>\n",
              "      <td>0.0</td>\n",
              "      <td>0.0</td>\n",
              "      <td>0.0</td>\n",
              "      <td>0.0</td>\n",
              "      <td>0.0</td>\n",
              "      <td>0.0</td>\n",
              "      <td>0.0</td>\n",
              "      <td>0.0</td>\n",
              "      <td>0.0</td>\n",
              "      <td>0.0</td>\n",
              "      <td>0.0</td>\n",
              "      <td>0.0</td>\n",
              "      <td>0.0</td>\n",
              "      <td>0.0</td>\n",
              "      <td>0.0</td>\n",
              "      <td>0.0</td>\n",
              "      <td>0.0</td>\n",
              "      <td>0.0</td>\n",
              "      <td>0.0</td>\n",
              "      <td>0.0</td>\n",
              "      <td>0.0</td>\n",
              "      <td>0.0</td>\n",
              "      <td>0.0</td>\n",
              "      <td>0.0</td>\n",
              "      <td>0.0</td>\n",
              "      <td>0.0</td>\n",
              "      <td>0.0</td>\n",
              "      <td>0.0</td>\n",
              "      <td>0.0</td>\n",
              "      <td>0.0</td>\n",
              "      <td>0.0</td>\n",
              "      <td>0.0</td>\n",
              "      <td>0.0</td>\n",
              "      <td>0.0</td>\n",
              "      <td>0.0</td>\n",
              "      <td>...</td>\n",
              "      <td>0.0</td>\n",
              "      <td>0.0</td>\n",
              "      <td>0.0</td>\n",
              "      <td>0.0</td>\n",
              "      <td>0.0</td>\n",
              "      <td>0.0</td>\n",
              "      <td>15.0</td>\n",
              "      <td>21.0</td>\n",
              "      <td>17.0</td>\n",
              "      <td>22.0</td>\n",
              "      <td>0.0</td>\n",
              "      <td>0.0</td>\n",
              "      <td>18.0</td>\n",
              "      <td>5.0</td>\n",
              "      <td>0.0</td>\n",
              "      <td>1.0</td>\n",
              "      <td>0.0</td>\n",
              "      <td>0.0</td>\n",
              "      <td>0.0</td>\n",
              "      <td>0.0</td>\n",
              "      <td>0.0</td>\n",
              "      <td>0.0</td>\n",
              "      <td>8.0</td>\n",
              "      <td>0.0</td>\n",
              "      <td>0.0</td>\n",
              "      <td>12.0</td>\n",
              "      <td>6.0</td>\n",
              "      <td>0.0</td>\n",
              "      <td>8.0</td>\n",
              "      <td>6.0</td>\n",
              "      <td>6.0</td>\n",
              "      <td>0.0</td>\n",
              "      <td>0.0</td>\n",
              "      <td>0.0</td>\n",
              "      <td>0.0</td>\n",
              "      <td>0.0</td>\n",
              "      <td>0.0</td>\n",
              "      <td>6.0</td>\n",
              "      <td>-17.541667</td>\n",
              "      <td>1373.9</td>\n",
              "    </tr>\n",
              "    <tr>\n",
              "      <th>243621</th>\n",
              "      <td>0.0</td>\n",
              "      <td>0.0</td>\n",
              "      <td>0.0</td>\n",
              "      <td>0.0</td>\n",
              "      <td>0.0</td>\n",
              "      <td>0.0</td>\n",
              "      <td>0.0</td>\n",
              "      <td>0.0</td>\n",
              "      <td>0.0</td>\n",
              "      <td>0.0</td>\n",
              "      <td>0.0</td>\n",
              "      <td>0.0</td>\n",
              "      <td>0.0</td>\n",
              "      <td>0.0</td>\n",
              "      <td>0.0</td>\n",
              "      <td>0.0</td>\n",
              "      <td>0.0</td>\n",
              "      <td>0.0</td>\n",
              "      <td>0.0</td>\n",
              "      <td>0.0</td>\n",
              "      <td>0.0</td>\n",
              "      <td>0.0</td>\n",
              "      <td>0.0</td>\n",
              "      <td>0.0</td>\n",
              "      <td>0.0</td>\n",
              "      <td>0.0</td>\n",
              "      <td>0.0</td>\n",
              "      <td>0.0</td>\n",
              "      <td>0.0</td>\n",
              "      <td>0.0</td>\n",
              "      <td>0.0</td>\n",
              "      <td>0.0</td>\n",
              "      <td>0.0</td>\n",
              "      <td>0.0</td>\n",
              "      <td>0.0</td>\n",
              "      <td>0.0</td>\n",
              "      <td>0.0</td>\n",
              "      <td>0.0</td>\n",
              "      <td>0.0</td>\n",
              "      <td>0.0</td>\n",
              "      <td>...</td>\n",
              "      <td>0.0</td>\n",
              "      <td>0.0</td>\n",
              "      <td>0.0</td>\n",
              "      <td>0.0</td>\n",
              "      <td>0.0</td>\n",
              "      <td>0.0</td>\n",
              "      <td>10.0</td>\n",
              "      <td>11.0</td>\n",
              "      <td>24.0</td>\n",
              "      <td>19.0</td>\n",
              "      <td>19.0</td>\n",
              "      <td>23.0</td>\n",
              "      <td>24.0</td>\n",
              "      <td>24.0</td>\n",
              "      <td>5.0</td>\n",
              "      <td>0.0</td>\n",
              "      <td>4.0</td>\n",
              "      <td>4.0</td>\n",
              "      <td>0.0</td>\n",
              "      <td>1.0</td>\n",
              "      <td>1.0</td>\n",
              "      <td>3.0</td>\n",
              "      <td>0.0</td>\n",
              "      <td>0.0</td>\n",
              "      <td>0.0</td>\n",
              "      <td>0.0</td>\n",
              "      <td>0.0</td>\n",
              "      <td>0.0</td>\n",
              "      <td>0.0</td>\n",
              "      <td>0.0</td>\n",
              "      <td>0.0</td>\n",
              "      <td>16.0</td>\n",
              "      <td>0.0</td>\n",
              "      <td>0.0</td>\n",
              "      <td>0.0</td>\n",
              "      <td>0.0</td>\n",
              "      <td>0.0</td>\n",
              "      <td>0.0</td>\n",
              "      <td>19.375000</td>\n",
              "      <td>1809.0</td>\n",
              "    </tr>\n",
              "    <tr>\n",
              "      <th>243622</th>\n",
              "      <td>0.0</td>\n",
              "      <td>0.0</td>\n",
              "      <td>0.0</td>\n",
              "      <td>0.0</td>\n",
              "      <td>0.0</td>\n",
              "      <td>0.0</td>\n",
              "      <td>0.0</td>\n",
              "      <td>0.0</td>\n",
              "      <td>0.0</td>\n",
              "      <td>0.0</td>\n",
              "      <td>0.0</td>\n",
              "      <td>0.0</td>\n",
              "      <td>0.0</td>\n",
              "      <td>0.0</td>\n",
              "      <td>0.0</td>\n",
              "      <td>0.0</td>\n",
              "      <td>0.0</td>\n",
              "      <td>0.0</td>\n",
              "      <td>0.0</td>\n",
              "      <td>0.0</td>\n",
              "      <td>0.0</td>\n",
              "      <td>0.0</td>\n",
              "      <td>0.0</td>\n",
              "      <td>0.0</td>\n",
              "      <td>0.0</td>\n",
              "      <td>0.0</td>\n",
              "      <td>0.0</td>\n",
              "      <td>0.0</td>\n",
              "      <td>0.0</td>\n",
              "      <td>0.0</td>\n",
              "      <td>0.0</td>\n",
              "      <td>0.0</td>\n",
              "      <td>0.0</td>\n",
              "      <td>0.0</td>\n",
              "      <td>0.0</td>\n",
              "      <td>0.0</td>\n",
              "      <td>0.0</td>\n",
              "      <td>0.0</td>\n",
              "      <td>0.0</td>\n",
              "      <td>0.0</td>\n",
              "      <td>...</td>\n",
              "      <td>0.0</td>\n",
              "      <td>0.0</td>\n",
              "      <td>0.0</td>\n",
              "      <td>0.0</td>\n",
              "      <td>0.0</td>\n",
              "      <td>0.0</td>\n",
              "      <td>16.0</td>\n",
              "      <td>26.0</td>\n",
              "      <td>23.0</td>\n",
              "      <td>30.0</td>\n",
              "      <td>2.0</td>\n",
              "      <td>1.0</td>\n",
              "      <td>9.0</td>\n",
              "      <td>6.0</td>\n",
              "      <td>0.0</td>\n",
              "      <td>5.0</td>\n",
              "      <td>2.0</td>\n",
              "      <td>10.0</td>\n",
              "      <td>0.0</td>\n",
              "      <td>0.0</td>\n",
              "      <td>0.0</td>\n",
              "      <td>1.0</td>\n",
              "      <td>0.0</td>\n",
              "      <td>0.0</td>\n",
              "      <td>0.0</td>\n",
              "      <td>0.0</td>\n",
              "      <td>0.0</td>\n",
              "      <td>0.0</td>\n",
              "      <td>0.0</td>\n",
              "      <td>0.0</td>\n",
              "      <td>0.0</td>\n",
              "      <td>0.0</td>\n",
              "      <td>0.0</td>\n",
              "      <td>0.0</td>\n",
              "      <td>0.0</td>\n",
              "      <td>0.0</td>\n",
              "      <td>0.0</td>\n",
              "      <td>0.0</td>\n",
              "      <td>-7.291667</td>\n",
              "      <td>1596.8</td>\n",
              "    </tr>\n",
              "    <tr>\n",
              "      <th>243623</th>\n",
              "      <td>0.0</td>\n",
              "      <td>0.0</td>\n",
              "      <td>0.0</td>\n",
              "      <td>0.0</td>\n",
              "      <td>0.0</td>\n",
              "      <td>0.0</td>\n",
              "      <td>0.0</td>\n",
              "      <td>0.0</td>\n",
              "      <td>0.0</td>\n",
              "      <td>0.0</td>\n",
              "      <td>0.0</td>\n",
              "      <td>0.0</td>\n",
              "      <td>0.0</td>\n",
              "      <td>0.0</td>\n",
              "      <td>0.0</td>\n",
              "      <td>0.0</td>\n",
              "      <td>0.0</td>\n",
              "      <td>0.0</td>\n",
              "      <td>0.0</td>\n",
              "      <td>0.0</td>\n",
              "      <td>0.0</td>\n",
              "      <td>0.0</td>\n",
              "      <td>0.0</td>\n",
              "      <td>0.0</td>\n",
              "      <td>0.0</td>\n",
              "      <td>0.0</td>\n",
              "      <td>0.0</td>\n",
              "      <td>0.0</td>\n",
              "      <td>0.0</td>\n",
              "      <td>0.0</td>\n",
              "      <td>0.0</td>\n",
              "      <td>0.0</td>\n",
              "      <td>0.0</td>\n",
              "      <td>0.0</td>\n",
              "      <td>0.0</td>\n",
              "      <td>0.0</td>\n",
              "      <td>0.0</td>\n",
              "      <td>0.0</td>\n",
              "      <td>0.0</td>\n",
              "      <td>0.0</td>\n",
              "      <td>...</td>\n",
              "      <td>7.0</td>\n",
              "      <td>10.0</td>\n",
              "      <td>0.0</td>\n",
              "      <td>0.0</td>\n",
              "      <td>5.0</td>\n",
              "      <td>5.0</td>\n",
              "      <td>13.0</td>\n",
              "      <td>3.0</td>\n",
              "      <td>3.0</td>\n",
              "      <td>6.0</td>\n",
              "      <td>7.0</td>\n",
              "      <td>2.0</td>\n",
              "      <td>3.0</td>\n",
              "      <td>4.0</td>\n",
              "      <td>7.0</td>\n",
              "      <td>1.0</td>\n",
              "      <td>0.0</td>\n",
              "      <td>1.0</td>\n",
              "      <td>1.0</td>\n",
              "      <td>0.0</td>\n",
              "      <td>4.0</td>\n",
              "      <td>1.0</td>\n",
              "      <td>9.0</td>\n",
              "      <td>0.0</td>\n",
              "      <td>0.0</td>\n",
              "      <td>0.0</td>\n",
              "      <td>0.0</td>\n",
              "      <td>0.0</td>\n",
              "      <td>12.0</td>\n",
              "      <td>0.0</td>\n",
              "      <td>0.0</td>\n",
              "      <td>0.0</td>\n",
              "      <td>0.0</td>\n",
              "      <td>0.0</td>\n",
              "      <td>0.0</td>\n",
              "      <td>0.0</td>\n",
              "      <td>0.0</td>\n",
              "      <td>0.0</td>\n",
              "      <td>38.625000</td>\n",
              "      <td>6314.4</td>\n",
              "    </tr>\n",
              "  </tbody>\n",
              "</table>\n",
              "<p>243624 rows × 154 columns</p>\n",
              "</div>"
            ],
            "text/plain": [
              "        0    1    2    3    4    5    ...  148  149  150  151        152      153\n",
              "0       0.0  0.0  0.0  0.0  0.0  0.0  ...  0.0  0.0  0.0  0.0  24.208333   3941.3\n",
              "1       0.0  0.0  0.0  0.0  0.0  0.0  ...  0.0  0.0  0.0  0.0 -28.458333   5159.6\n",
              "2       0.0  0.0  0.0  0.0  0.0  0.0  ...  0.0  0.0  0.0  0.0  44.375000  10113.1\n",
              "3       0.0  0.0  0.0  0.0  0.0  0.0  ...  0.0  0.0  0.0  0.0  -0.625000   2111.6\n",
              "4       0.0  0.0  0.0  0.0  0.0  0.0  ...  0.0  0.0  0.0  0.0  22.125000   1788.7\n",
              "...     ...  ...  ...  ...  ...  ...  ...  ...  ...  ...  ...        ...      ...\n",
              "243619  0.0  0.0  0.0  0.0  0.0  0.0  ...  0.0  0.0  0.0  0.0  39.208333  11711.3\n",
              "243620  0.0  0.0  0.0  0.0  0.0  0.0  ...  0.0  0.0  0.0  6.0 -17.541667   1373.9\n",
              "243621  0.0  0.0  0.0  0.0  0.0  0.0  ...  0.0  0.0  0.0  0.0  19.375000   1809.0\n",
              "243622  0.0  0.0  0.0  0.0  0.0  0.0  ...  0.0  0.0  0.0  0.0  -7.291667   1596.8\n",
              "243623  0.0  0.0  0.0  0.0  0.0  0.0  ...  0.0  0.0  0.0  0.0  38.625000   6314.4\n",
              "\n",
              "[243624 rows x 154 columns]"
            ]
          },
          "metadata": {
            "tags": []
          },
          "execution_count": 90
        }
      ]
    },
    {
      "cell_type": "markdown",
      "metadata": {
        "id": "6Bj3AFye_AJY",
        "colab_type": "text"
      },
      "source": [
        "### Rough feature engineering ### "
      ]
    },
    {
      "cell_type": "markdown",
      "metadata": {
        "id": "sPuAo8ud_8xE",
        "colab_type": "text"
      },
      "source": [
        "1. Exclude features with low variance"
      ]
    },
    {
      "cell_type": "code",
      "metadata": {
        "id": "nFlPES9j_DjK",
        "colab_type": "code",
        "colab": {}
      },
      "source": [
        "from sklearn.feature_selection import VarianceThreshold\n",
        "selector = VarianceThreshold(threshold=0.2)\n",
        "train_set_x_reduced = selector.fit_transform(train_set_x_prepared)\n",
        "test_set_x_reduced = selector.transform(test_set_x_prepared)"
      ],
      "execution_count": 0,
      "outputs": []
    },
    {
      "cell_type": "code",
      "metadata": {
        "id": "a0nxp1iD_xWb",
        "colab_type": "code",
        "outputId": "84477947-9f0e-44dd-815e-0e17ce34e0e6",
        "colab": {
          "base_uri": "https://localhost:8080/",
          "height": 35
        }
      },
      "source": [
        "train_set_x_reduced.shape"
      ],
      "execution_count": 0,
      "outputs": [
        {
          "output_type": "execute_result",
          "data": {
            "text/plain": [
              "(243695, 51)"
            ]
          },
          "metadata": {
            "tags": []
          },
          "execution_count": 58
        }
      ]
    },
    {
      "cell_type": "code",
      "metadata": {
        "id": "sapIJnE3UBye",
        "colab_type": "code",
        "outputId": "d82a44f4-7da6-4ca7-8d6b-066ce1e70a50",
        "colab": {
          "base_uri": "https://localhost:8080/",
          "height": 341
        }
      },
      "source": [
        "selector.get_support() #these are the features which are kept ... need to work out which ones they are"
      ],
      "execution_count": 0,
      "outputs": [
        {
          "output_type": "execute_result",
          "data": {
            "text/plain": [
              "array([False, False, False, False, False, False, False, False, False,\n",
              "       False, False, False, False, False, False, False, False, False,\n",
              "       False, False, False, False, False, False, False, False, False,\n",
              "       False, False, False, False, False, False, False, False, False,\n",
              "       False, False, False, False, False, False, False, False, False,\n",
              "       False, False, False, False, False, False, False, False, False,\n",
              "       False, False, False, False, False, False, False, False, False,\n",
              "       False, False, False, False, False, False, False, False, False,\n",
              "       False, False, False, False, False, False, False, False, False,\n",
              "       False, False, False, False, False, False, False, False, False,\n",
              "       False, False, False, False, False, False, False,  True, False,\n",
              "       False, False, False, False, False,  True,  True,  True,  True,\n",
              "        True,  True,  True,  True,  True,  True,  True,  True,  True,\n",
              "        True,  True,  True,  True,  True,  True,  True,  True,  True,\n",
              "        True,  True,  True,  True,  True,  True,  True,  True,  True,\n",
              "        True,  True,  True,  True,  True,  True,  True,  True,  True,\n",
              "        True,  True,  True,  True,  True,  True,  True,  True,  True,\n",
              "        True])"
            ]
          },
          "metadata": {
            "tags": []
          },
          "execution_count": 89
        }
      ]
    },
    {
      "cell_type": "markdown",
      "metadata": {
        "id": "VcE1utTIADeN",
        "colab_type": "text"
      },
      "source": [
        "2. Or/and train a simple extra trees model and select most important features"
      ]
    },
    {
      "cell_type": "code",
      "metadata": {
        "id": "i6ycm8lNAV5l",
        "colab_type": "code",
        "outputId": "5d91c409-2f4d-49b1-d7cb-30b05d888072",
        "colab": {
          "base_uri": "https://localhost:8080/",
          "height": 109
        }
      },
      "source": [
        "from sklearn.ensemble import ExtraTreesRegressor\n",
        "from sklearn.feature_selection import SelectFromModel\n",
        "\n",
        "simple_model = ExtraTreesRegressor(n_jobs=-1, verbose=1, n_estimators=10)\n",
        "simple_model = simple_model.fit(train_set_x_prepared, train_set_y)\n",
        "\n",
        "\n",
        "\n",
        "\n"
      ],
      "execution_count": 0,
      "outputs": [
        {
          "output_type": "stream",
          "text": [
            "/usr/local/lib/python3.6/dist-packages/ipykernel_launcher.py:5: DataConversionWarning: A column-vector y was passed when a 1d array was expected. Please change the shape of y to (n_samples,), for example using ravel().\n",
            "  \"\"\"\n",
            "[Parallel(n_jobs=-1)]: Using backend ThreadingBackend with 2 concurrent workers.\n",
            "[Parallel(n_jobs=-1)]: Done  10 out of  10 | elapsed:  1.2min finished\n"
          ],
          "name": "stderr"
        }
      ]
    },
    {
      "cell_type": "code",
      "metadata": {
        "id": "I4nEJYlDSk-2",
        "colab_type": "code",
        "outputId": "398ae6a2-4df1-46cd-e408-5fb8894e3a0d",
        "colab": {
          "base_uri": "https://localhost:8080/",
          "height": 71
        }
      },
      "source": [
        "simple_model.score(train_set_x_prepared, train_set_y) # we are able to fit to the training set at least"
      ],
      "execution_count": 0,
      "outputs": [
        {
          "output_type": "stream",
          "text": [
            "[Parallel(n_jobs=2)]: Using backend ThreadingBackend with 2 concurrent workers.\n",
            "[Parallel(n_jobs=2)]: Done  10 out of  10 | elapsed:    1.2s finished\n"
          ],
          "name": "stderr"
        },
        {
          "output_type": "execute_result",
          "data": {
            "text/plain": [
              "0.99981701893788"
            ]
          },
          "metadata": {
            "tags": []
          },
          "execution_count": 101
        }
      ]
    },
    {
      "cell_type": "code",
      "metadata": {
        "id": "6AP0nu92WnAi",
        "colab_type": "code",
        "outputId": "aecd0bd7-f8ed-4331-a620-3653350f1439",
        "colab": {
          "base_uri": "https://localhost:8080/",
          "height": 71
        }
      },
      "source": [
        "simple_model.score(test_set_x_prepared, test_set_y) "
      ],
      "execution_count": 0,
      "outputs": [
        {
          "output_type": "stream",
          "text": [
            "[Parallel(n_jobs=2)]: Using backend ThreadingBackend with 2 concurrent workers.\n",
            "[Parallel(n_jobs=2)]: Done  10 out of  10 | elapsed:    0.3s finished\n"
          ],
          "name": "stderr"
        },
        {
          "output_type": "execute_result",
          "data": {
            "text/plain": [
              "0.9668285578750894"
            ]
          },
          "metadata": {
            "tags": []
          },
          "execution_count": 105
        }
      ]
    },
    {
      "cell_type": "markdown",
      "metadata": {
        "id": "Xlx5cxTjU7BN",
        "colab_type": "text"
      },
      "source": [
        "The below selects features based on feature importance but only gives 4 features when selecting based on mean, so I've not done it here."
      ]
    },
    {
      "cell_type": "code",
      "metadata": {
        "id": "8mh5sFYySDYK",
        "colab_type": "code",
        "colab": {}
      },
      "source": [
        "# selector = SelectFromModel(simple_model, prefit=True)\n",
        "# train_set_x_reduced = selector.transform(train_set_x_prepared)\n",
        "# test_set_x_reduced = selector.transform(test_set_x_prepared)"
      ],
      "execution_count": 0,
      "outputs": []
    },
    {
      "cell_type": "markdown",
      "metadata": {
        "id": "F09SUXJfWh_u",
        "colab_type": "text"
      },
      "source": [
        "#### Feature engineering without one-hot encoding ####"
      ]
    },
    {
      "cell_type": "code",
      "metadata": {
        "id": "hHi4m-cPWkrn",
        "colab_type": "code",
        "colab": {}
      },
      "source": [
        "from sklearn.feature_selection import VarianceThreshold\n",
        "selector = VarianceThreshold(threshold=0.2)\n",
        "train_set_x_reduced_2 = selector.fit_transform(train_set_x)\n",
        "test_set_x_reduced_2 = selector.transform(test_set_x)"
      ],
      "execution_count": 0,
      "outputs": []
    },
    {
      "cell_type": "code",
      "metadata": {
        "id": "NQGs5xE4lhbE",
        "colab_type": "code",
        "outputId": "d5e168fa-f951-44a8-8785-c3389ec98802",
        "colab": {
          "base_uri": "https://localhost:8080/",
          "height": 34
        }
      },
      "source": [
        "train_set_x_reduced_2.shape"
      ],
      "execution_count": 0,
      "outputs": [
        {
          "output_type": "execute_result",
          "data": {
            "text/plain": [
              "(243618, 52)"
            ]
          },
          "metadata": {
            "tags": []
          },
          "execution_count": 44
        }
      ]
    },
    {
      "cell_type": "markdown",
      "metadata": {
        "id": "ceWVv9U5lm_2",
        "colab_type": "text"
      },
      "source": [
        "This doesn't decrease number of features. 52 is actually fine. So I don't keep the transformed features as it messes up with the indices.. (I'm sure I can sort it out but not for now)"
      ]
    },
    {
      "cell_type": "markdown",
      "metadata": {
        "id": "d2ss8SnsIVGg",
        "colab_type": "text"
      },
      "source": [
        "# Model exploration # "
      ]
    },
    {
      "cell_type": "markdown",
      "metadata": {
        "id": "KluTcmZTbHJ1",
        "colab_type": "text"
      },
      "source": [
        "## Which models can at least fit the training data? ##"
      ]
    },
    {
      "cell_type": "markdown",
      "metadata": {
        "id": "g_ogXEQ2bLVE",
        "colab_type": "text"
      },
      "source": [
        "### Random Forests ###\n"
      ]
    },
    {
      "cell_type": "markdown",
      "metadata": {
        "id": "TNZ7N6P1WQTj",
        "colab_type": "text"
      },
      "source": [
        "For this example we can run without doing the feature selection above."
      ]
    },
    {
      "cell_type": "code",
      "metadata": {
        "id": "HLFNZB5TIUCC",
        "colab_type": "code",
        "outputId": "69706118-ef4a-4aff-a883-b7640c19e1c4",
        "colab": {
          "base_uri": "https://localhost:8080/",
          "height": 190
        }
      },
      "source": [
        "from sklearn.ensemble import RandomForestRegressor\n",
        "\n",
        "rnd_reg = RandomForestRegressor(n_estimators=15, n_jobs=-1)\n",
        "rnd_reg.fit(train_set_x_prepared,train_set_y)"
      ],
      "execution_count": 0,
      "outputs": [
        {
          "output_type": "stream",
          "text": [
            "/usr/local/lib/python3.6/dist-packages/ipykernel_launcher.py:4: DataConversionWarning: A column-vector y was passed when a 1d array was expected. Please change the shape of y to (n_samples,), for example using ravel().\n",
            "  after removing the cwd from sys.path.\n"
          ],
          "name": "stderr"
        },
        {
          "output_type": "execute_result",
          "data": {
            "text/plain": [
              "RandomForestRegressor(bootstrap=True, ccp_alpha=0.0, criterion='mse',\n",
              "                      max_depth=None, max_features='auto', max_leaf_nodes=None,\n",
              "                      max_samples=None, min_impurity_decrease=0.0,\n",
              "                      min_impurity_split=None, min_samples_leaf=1,\n",
              "                      min_samples_split=2, min_weight_fraction_leaf=0.0,\n",
              "                      n_estimators=15, n_jobs=-1, oob_score=False,\n",
              "                      random_state=None, verbose=0, warm_start=False)"
            ]
          },
          "metadata": {
            "tags": []
          },
          "execution_count": 30
        }
      ]
    },
    {
      "cell_type": "markdown",
      "metadata": {
        "id": "xLJVEFcSJqRD",
        "colab_type": "text"
      },
      "source": [
        "Can we overfit to the training set? Does the model have enough sophisitication to overfit to the trainin set..."
      ]
    },
    {
      "cell_type": "code",
      "metadata": {
        "id": "hpOcxA0GIi6H",
        "colab_type": "code",
        "outputId": "480d75f0-9acf-40ff-a51f-ec3081f90f55",
        "colab": {
          "base_uri": "https://localhost:8080/",
          "height": 34
        }
      },
      "source": [
        "rnd_reg.score(train_set_x_prepared,train_set_y)"
      ],
      "execution_count": 0,
      "outputs": [
        {
          "output_type": "execute_result",
          "data": {
            "text/plain": [
              "0.9945966246464768"
            ]
          },
          "metadata": {
            "tags": []
          },
          "execution_count": 31
        }
      ]
    },
    {
      "cell_type": "code",
      "metadata": {
        "id": "NzUH2ROsESAs",
        "colab_type": "code",
        "outputId": "17a850f3-4324-4b7b-95b7-d8a4077419d2",
        "colab": {
          "base_uri": "https://localhost:8080/",
          "height": 34
        }
      },
      "source": [
        "rnd_reg.score(test_set_x_prepared,test_set_y)"
      ],
      "execution_count": 0,
      "outputs": [
        {
          "output_type": "execute_result",
          "data": {
            "text/plain": [
              "0.9686268838624702"
            ]
          },
          "metadata": {
            "tags": []
          },
          "execution_count": 32
        }
      ]
    },
    {
      "cell_type": "markdown",
      "metadata": {
        "id": "GRriw0SWWrnZ",
        "colab_type": "text"
      },
      "source": [
        "It could overfit if I train with enough max leaf nodes.\n",
        "\n",
        "\n"
      ]
    },
    {
      "cell_type": "markdown",
      "metadata": {
        "id": "AHBNJ6ukEJDk",
        "colab_type": "text"
      },
      "source": [
        "#### H2o implementation ####"
      ]
    },
    {
      "cell_type": "code",
      "metadata": {
        "id": "GSEfhu3qVXKh",
        "colab_type": "code",
        "outputId": "58164eea-9c7d-4249-e295-5015a3da6f0f",
        "colab": {
          "base_uri": "https://localhost:8080/",
          "height": 698
        }
      },
      "source": [
        "import h2o\n",
        "h2o.init(nthreads = -1, max_mem_size = 12)\n"
      ],
      "execution_count": 0,
      "outputs": [
        {
          "output_type": "stream",
          "text": [
            "Checking whether there is an H2O instance running at http://localhost:54321 ..... not found.\n",
            "Attempting to start a local H2O server...\n",
            "  Java Version: openjdk version \"11.0.6\" 2020-01-14; OpenJDK Runtime Environment (build 11.0.6+10-post-Ubuntu-1ubuntu118.04.1); OpenJDK 64-Bit Server VM (build 11.0.6+10-post-Ubuntu-1ubuntu118.04.1, mixed mode, sharing)\n",
            "  Starting server from /usr/local/lib/python3.6/dist-packages/h2o/backend/bin/h2o.jar\n",
            "  Ice root: /tmp/tmpyn0lo2_y\n",
            "  JVM stdout: /tmp/tmpyn0lo2_y/h2o_unknownUser_started_from_python.out\n",
            "  JVM stderr: /tmp/tmpyn0lo2_y/h2o_unknownUser_started_from_python.err\n",
            "  Server is running at http://127.0.0.1:54321\n",
            "Connecting to H2O server at http://127.0.0.1:54321 ... successful.\n"
          ],
          "name": "stdout"
        },
        {
          "output_type": "display_data",
          "data": {
            "text/html": [
              "<div style=\"overflow:auto\"><table style=\"width:50%\"><tr><td>H2O cluster uptime:</td>\n",
              "<td>02 secs</td></tr>\n",
              "<tr><td>H2O cluster timezone:</td>\n",
              "<td>Etc/UTC</td></tr>\n",
              "<tr><td>H2O data parsing timezone:</td>\n",
              "<td>UTC</td></tr>\n",
              "<tr><td>H2O cluster version:</td>\n",
              "<td>3.28.0.3</td></tr>\n",
              "<tr><td>H2O cluster version age:</td>\n",
              "<td>24 days </td></tr>\n",
              "<tr><td>H2O cluster name:</td>\n",
              "<td>H2O_from_python_unknownUser_1feeo2</td></tr>\n",
              "<tr><td>H2O cluster total nodes:</td>\n",
              "<td>1</td></tr>\n",
              "<tr><td>H2O cluster free memory:</td>\n",
              "<td>12 Gb</td></tr>\n",
              "<tr><td>H2O cluster total cores:</td>\n",
              "<td>2</td></tr>\n",
              "<tr><td>H2O cluster allowed cores:</td>\n",
              "<td>2</td></tr>\n",
              "<tr><td>H2O cluster status:</td>\n",
              "<td>accepting new members, healthy</td></tr>\n",
              "<tr><td>H2O connection url:</td>\n",
              "<td>http://127.0.0.1:54321</td></tr>\n",
              "<tr><td>H2O connection proxy:</td>\n",
              "<td>{'http': None, 'https': None}</td></tr>\n",
              "<tr><td>H2O internal security:</td>\n",
              "<td>False</td></tr>\n",
              "<tr><td>H2O API Extensions:</td>\n",
              "<td>Amazon S3, XGBoost, Algos, AutoML, Core V3, TargetEncoder, Core V4</td></tr>\n",
              "<tr><td>Python version:</td>\n",
              "<td>3.6.9 final</td></tr></table></div>"
            ],
            "text/plain": [
              "--------------------------  ------------------------------------------------------------------\n",
              "H2O cluster uptime:         02 secs\n",
              "H2O cluster timezone:       Etc/UTC\n",
              "H2O data parsing timezone:  UTC\n",
              "H2O cluster version:        3.28.0.3\n",
              "H2O cluster version age:    24 days\n",
              "H2O cluster name:           H2O_from_python_unknownUser_1feeo2\n",
              "H2O cluster total nodes:    1\n",
              "H2O cluster free memory:    12 Gb\n",
              "H2O cluster total cores:    2\n",
              "H2O cluster allowed cores:  2\n",
              "H2O cluster status:         accepting new members, healthy\n",
              "H2O connection url:         http://127.0.0.1:54321\n",
              "H2O connection proxy:       {'http': None, 'https': None}\n",
              "H2O internal security:      False\n",
              "H2O API Extensions:         Amazon S3, XGBoost, Algos, AutoML, Core V3, TargetEncoder, Core V4\n",
              "Python version:             3.6.9 final\n",
              "--------------------------  ------------------------------------------------------------------"
            ]
          },
          "metadata": {
            "tags": []
          }
        }
      ]
    },
    {
      "cell_type": "code",
      "metadata": {
        "id": "XierHQCIkPgy",
        "colab_type": "code",
        "outputId": "0ba5eeea-cb5f-452d-be46-63c06238fe86",
        "colab": {
          "base_uri": "https://localhost:8080/",
          "height": 34
        }
      },
      "source": [
        "train = pd.DataFrame(train_set_x).join(train_set_y)\n",
        "train = h2o.H2OFrame(train)\n"
      ],
      "execution_count": 0,
      "outputs": [
        {
          "output_type": "stream",
          "text": [
            "Parse progress: |█████████████████████████████████████████████████████████| 100%\n"
          ],
          "name": "stdout"
        }
      ]
    },
    {
      "cell_type": "code",
      "metadata": {
        "id": "21nIeVCO-BKI",
        "colab_type": "code",
        "outputId": "f5810645-1806-4471-fc5d-ff1282ea1c6b",
        "colab": {
          "base_uri": "https://localhost:8080/",
          "height": 34
        }
      },
      "source": [
        "test = pd.DataFrame(test_set_x).join(test_set_y)\n",
        "test = h2o.H2OFrame(test)"
      ],
      "execution_count": 0,
      "outputs": [
        {
          "output_type": "stream",
          "text": [
            "Parse progress: |█████████████████████████████████████████████████████████| 100%\n"
          ],
          "name": "stdout"
        }
      ]
    },
    {
      "cell_type": "code",
      "metadata": {
        "id": "m9VAMB4Em7rh",
        "colab_type": "code",
        "colab": {}
      },
      "source": [
        "\n",
        "x = train.col_names[:-1]    \n",
        "y = train.col_names[-1]  "
      ],
      "execution_count": 0,
      "outputs": []
    },
    {
      "cell_type": "code",
      "metadata": {
        "id": "a6BahowdVXz0",
        "colab_type": "code",
        "outputId": "4445f9bb-5f82-4fa9-b890-95304ede1377",
        "colab": {
          "base_uri": "https://localhost:8080/",
          "height": 34
        }
      },
      "source": [
        "from h2o.estimators.random_forest import H2ORandomForestEstimator\n",
        "rf_fit1 = H2ORandomForestEstimator(model_id='rf_fit1', seed=1, categorical_encoding='enum', max_depth=200)\n",
        "rf_fit1.train(x=x, y=y, training_frame=train, validation_frame=test)\n"
      ],
      "execution_count": 0,
      "outputs": [
        {
          "output_type": "stream",
          "text": [
            "drf Model Build progress: |███████████████████████████████████████████████| 100%\n"
          ],
          "name": "stdout"
        }
      ]
    },
    {
      "cell_type": "code",
      "metadata": {
        "id": "dwaypROIo_Vz",
        "colab_type": "code",
        "outputId": "271e84b3-f884-4d67-de48-0fb52b1eff6e",
        "colab": {
          "base_uri": "https://localhost:8080/",
          "height": 34
        }
      },
      "source": [
        "rf_fit1.r2()\n"
      ],
      "execution_count": 0,
      "outputs": [
        {
          "output_type": "execute_result",
          "data": {
            "text/plain": [
              "0.972332218086161"
            ]
          },
          "metadata": {
            "tags": []
          },
          "execution_count": 14
        }
      ]
    },
    {
      "cell_type": "code",
      "metadata": {
        "id": "7FdvE7G3samT",
        "colab_type": "code",
        "outputId": "7c40b326-504e-494b-d14d-8aaf6540b404",
        "colab": {
          "base_uri": "https://localhost:8080/",
          "height": 34
        }
      },
      "source": [
        "rf_fit1.r2(valid=True)"
      ],
      "execution_count": 0,
      "outputs": [
        {
          "output_type": "execute_result",
          "data": {
            "text/plain": [
              "0.9736595078639356"
            ]
          },
          "metadata": {
            "tags": []
          },
          "execution_count": 16
        }
      ]
    },
    {
      "cell_type": "code",
      "metadata": {
        "id": "Lk8pkCEapRnr",
        "colab_type": "code",
        "outputId": "b2e1c4ec-f285-4048-eda0-e6a2da137194",
        "colab": {
          "base_uri": "https://localhost:8080/",
          "height": 187
        }
      },
      "source": [
        "test = pd.DataFrame(test_set_x).join(test_set_y)\n",
        "test = h2o.H2OFrame(test)\n",
        "\n",
        "rf_fit1.model_performance(test_data=test)"
      ],
      "execution_count": 0,
      "outputs": [
        {
          "output_type": "stream",
          "text": [
            "Parse progress: |█████████████████████████████████████████████████████████| 100%\n",
            "\n",
            "ModelMetricsRegression: drf\n",
            "** Reported on test data. **\n",
            "\n",
            "MSE: 309762.0713281609\n",
            "RMSE: 556.5627290145836\n",
            "MAE: 312.822390934289\n",
            "RMSLE: 0.14385844917400437\n",
            "Mean Residual Deviance: 309762.0713281609\n"
          ],
          "name": "stdout"
        },
        {
          "output_type": "execute_result",
          "data": {
            "text/plain": [
              ""
            ]
          },
          "metadata": {
            "tags": []
          },
          "execution_count": 66
        }
      ]
    },
    {
      "cell_type": "markdown",
      "metadata": {
        "id": "N4aJWb-eW5_Q",
        "colab_type": "text"
      },
      "source": [
        "### Extra trees ###\n"
      ]
    },
    {
      "cell_type": "code",
      "metadata": {
        "id": "jUIeVzdoW74p",
        "colab_type": "code",
        "outputId": "1d7f9880-fa22-414d-d879-66e2e074e61e",
        "colab": {
          "base_uri": "https://localhost:8080/",
          "height": 156
        }
      },
      "source": [
        "from sklearn.ensemble import ExtraTreesRegressor\n",
        "\n",
        "extra_trees = ExtraTreesRegressor(n_jobs=-1, verbose=1, n_estimators=10)\n",
        "extra_trees = extra_trees.fit(train_set_x_prepared, train_set_y)\n",
        "\n",
        "extra_trees.score(train_set_x_prepared,train_set_y)"
      ],
      "execution_count": 0,
      "outputs": [
        {
          "output_type": "stream",
          "text": [
            "/usr/local/lib/python3.6/dist-packages/ipykernel_launcher.py:4: DataConversionWarning: A column-vector y was passed when a 1d array was expected. Please change the shape of y to (n_samples,), for example using ravel().\n",
            "  after removing the cwd from sys.path.\n",
            "[Parallel(n_jobs=-1)]: Using backend ThreadingBackend with 2 concurrent workers.\n",
            "[Parallel(n_jobs=-1)]: Done  10 out of  10 | elapsed:  1.3min finished\n",
            "[Parallel(n_jobs=2)]: Using backend ThreadingBackend with 2 concurrent workers.\n",
            "[Parallel(n_jobs=2)]: Done  10 out of  10 | elapsed:    1.1s finished\n"
          ],
          "name": "stderr"
        },
        {
          "output_type": "execute_result",
          "data": {
            "text/plain": [
              "0.9997909847775208"
            ]
          },
          "metadata": {
            "tags": []
          },
          "execution_count": 25
        }
      ]
    },
    {
      "cell_type": "code",
      "metadata": {
        "id": "vi5NMI54dnTF",
        "colab_type": "code",
        "outputId": "426cd6ea-b355-4a9b-d564-e066779c05b9",
        "colab": {
          "base_uri": "https://localhost:8080/",
          "height": 68
        }
      },
      "source": [
        "extra_trees.score(test_set_x_prepared,test_set_y)"
      ],
      "execution_count": 0,
      "outputs": [
        {
          "output_type": "stream",
          "text": [
            "[Parallel(n_jobs=2)]: Using backend ThreadingBackend with 2 concurrent workers.\n",
            "[Parallel(n_jobs=2)]: Done  10 out of  10 | elapsed:    0.3s finished\n"
          ],
          "name": "stderr"
        },
        {
          "output_type": "execute_result",
          "data": {
            "text/plain": [
              "0.9675384416331634"
            ]
          },
          "metadata": {
            "tags": []
          },
          "execution_count": 26
        }
      ]
    },
    {
      "cell_type": "markdown",
      "metadata": {
        "id": "hqNR8QILXdBa",
        "colab_type": "text"
      },
      "source": [
        "We can fit to the training set at least."
      ]
    },
    {
      "cell_type": "markdown",
      "metadata": {
        "id": "5XkeEpdVXpGT",
        "colab_type": "text"
      },
      "source": [
        "### Extreme Boosting ###"
      ]
    },
    {
      "cell_type": "code",
      "metadata": {
        "id": "Z5qVR631XnpS",
        "colab_type": "code",
        "outputId": "a708a659-efe0-4f67-d01c-e1d3f913afb2",
        "colab": {
          "base_uri": "https://localhost:8080/",
          "height": 71
        }
      },
      "source": [
        "!pip3 install xgboost"
      ],
      "execution_count": 0,
      "outputs": [
        {
          "output_type": "stream",
          "text": [
            "Requirement already satisfied: xgboost in /usr/local/lib/python3.6/dist-packages (0.90)\n",
            "Requirement already satisfied: numpy in /usr/local/lib/python3.6/dist-packages (from xgboost) (1.17.5)\n",
            "Requirement already satisfied: scipy in /usr/local/lib/python3.6/dist-packages (from xgboost) (1.4.1)\n"
          ],
          "name": "stdout"
        }
      ]
    },
    {
      "cell_type": "code",
      "metadata": {
        "id": "7arlBrliXmYV",
        "colab_type": "code",
        "colab": {}
      },
      "source": [
        "import xgboost as xgb\n"
      ],
      "execution_count": 0,
      "outputs": []
    },
    {
      "cell_type": "code",
      "metadata": {
        "id": "TIVZ60uIee3q",
        "colab_type": "code",
        "colab": {}
      },
      "source": [
        "xgbmodel = xgb.XGBRegressor(n_jobs=-1, verboxity=2, random_state=42, n_estimators=100, objective=\"reg:squarederror\", max_depth=20,)"
      ],
      "execution_count": 0,
      "outputs": []
    },
    {
      "cell_type": "code",
      "metadata": {
        "id": "HuUaTOhKfamI",
        "colab_type": "code",
        "outputId": "7a7c64ba-5c18-4dfa-acd9-22485f59ab44",
        "colab": {
          "base_uri": "https://localhost:8080/",
          "height": 143
        }
      },
      "source": [
        "xgbmodel.fit(train_set_x_prepared,train_set_y)"
      ],
      "execution_count": 0,
      "outputs": [
        {
          "output_type": "execute_result",
          "data": {
            "text/plain": [
              "XGBRegressor(base_score=0.5, booster='gbtree', colsample_bylevel=1,\n",
              "             colsample_bynode=1, colsample_bytree=1, gamma=0,\n",
              "             importance_type='gain', learning_rate=0.1, max_delta_step=0,\n",
              "             max_depth=20, min_child_weight=1, missing=None, n_estimators=100,\n",
              "             n_jobs=-1, nthread=None, objective='reg:squarederror',\n",
              "             random_state=42, reg_alpha=0, reg_lambda=1, scale_pos_weight=1,\n",
              "             seed=None, silent=None, subsample=1, verbosity=1, verboxity=2)"
            ]
          },
          "metadata": {
            "tags": []
          },
          "execution_count": 40
        }
      ]
    },
    {
      "cell_type": "code",
      "metadata": {
        "id": "pJjowMyHfgoY",
        "colab_type": "code",
        "colab": {}
      },
      "source": [
        "from sklearn.metrics import r2_score\n",
        "\n"
      ],
      "execution_count": 0,
      "outputs": []
    },
    {
      "cell_type": "code",
      "metadata": {
        "id": "NPDdv2N3gWak",
        "colab_type": "code",
        "outputId": "68a0f0ef-898b-4b76-a421-66221c062ffb",
        "colab": {
          "base_uri": "https://localhost:8080/",
          "height": 35
        }
      },
      "source": [
        "r2_score(train_set_y, xgbmodel.predict(train_set_x_prepared))"
      ],
      "execution_count": 0,
      "outputs": [
        {
          "output_type": "execute_result",
          "data": {
            "text/plain": [
              "0.9975928970862603"
            ]
          },
          "metadata": {
            "tags": []
          },
          "execution_count": 41
        }
      ]
    },
    {
      "cell_type": "code",
      "metadata": {
        "id": "f9ZLpXS5gcMG",
        "colab_type": "code",
        "outputId": "741a082d-cbcc-4e75-bddd-dbbe2babdd09",
        "colab": {
          "base_uri": "https://localhost:8080/",
          "height": 419
        }
      },
      "source": [
        "train_set_y"
      ],
      "execution_count": 0,
      "outputs": [
        {
          "output_type": "execute_result",
          "data": {
            "text/html": [
              "<div>\n",
              "<style scoped>\n",
              "    .dataframe tbody tr th:only-of-type {\n",
              "        vertical-align: middle;\n",
              "    }\n",
              "\n",
              "    .dataframe tbody tr th {\n",
              "        vertical-align: top;\n",
              "    }\n",
              "\n",
              "    .dataframe thead th {\n",
              "        text-align: right;\n",
              "    }\n",
              "</style>\n",
              "<table border=\"1\" class=\"dataframe\">\n",
              "  <thead>\n",
              "    <tr style=\"text-align: right;\">\n",
              "      <th></th>\n",
              "      <th>maize_a_2010</th>\n",
              "    </tr>\n",
              "  </thead>\n",
              "  <tbody>\n",
              "    <tr>\n",
              "      <th>140076</th>\n",
              "      <td>5778.3</td>\n",
              "    </tr>\n",
              "    <tr>\n",
              "      <th>233620</th>\n",
              "      <td>7638.7</td>\n",
              "    </tr>\n",
              "    <tr>\n",
              "      <th>321377</th>\n",
              "      <td>1568.3</td>\n",
              "    </tr>\n",
              "    <tr>\n",
              "      <th>125005</th>\n",
              "      <td>5132.8</td>\n",
              "    </tr>\n",
              "    <tr>\n",
              "      <th>157050</th>\n",
              "      <td>2242.6</td>\n",
              "    </tr>\n",
              "    <tr>\n",
              "      <th>...</th>\n",
              "      <td>...</td>\n",
              "    </tr>\n",
              "    <tr>\n",
              "      <th>149710</th>\n",
              "      <td>2614.2</td>\n",
              "    </tr>\n",
              "    <tr>\n",
              "      <th>332415</th>\n",
              "      <td>618.8</td>\n",
              "    </tr>\n",
              "    <tr>\n",
              "      <th>164446</th>\n",
              "      <td>953.7</td>\n",
              "    </tr>\n",
              "    <tr>\n",
              "      <th>184376</th>\n",
              "      <td>1051.1</td>\n",
              "    </tr>\n",
              "    <tr>\n",
              "      <th>151963</th>\n",
              "      <td>5716.6</td>\n",
              "    </tr>\n",
              "  </tbody>\n",
              "</table>\n",
              "<p>243590 rows × 1 columns</p>\n",
              "</div>"
            ],
            "text/plain": [
              "        maize_a_2010\n",
              "140076        5778.3\n",
              "233620        7638.7\n",
              "321377        1568.3\n",
              "125005        5132.8\n",
              "157050        2242.6\n",
              "...              ...\n",
              "149710        2614.2\n",
              "332415         618.8\n",
              "164446         953.7\n",
              "184376        1051.1\n",
              "151963        5716.6\n",
              "\n",
              "[243590 rows x 1 columns]"
            ]
          },
          "metadata": {
            "tags": []
          },
          "execution_count": 44
        }
      ]
    },
    {
      "cell_type": "markdown",
      "metadata": {
        "id": "rkU6llLbNsgB",
        "colab_type": "text"
      },
      "source": [
        "## Hyperparameter tuning: search of parameter space ## "
      ]
    },
    {
      "cell_type": "code",
      "metadata": {
        "id": "BdTSVJEpOFuj",
        "colab_type": "code",
        "colab": {}
      },
      "source": [
        "from sklearn.model_selection import RandomizedSearchCV"
      ],
      "execution_count": 0,
      "outputs": []
    },
    {
      "cell_type": "code",
      "metadata": {
        "id": "e7X5KmUfPBoZ",
        "colab_type": "code",
        "colab": {}
      },
      "source": [
        "from scipy.stats import randint as sp_randint\n",
        "from scipy.stats import uniform"
      ],
      "execution_count": 0,
      "outputs": []
    },
    {
      "cell_type": "markdown",
      "metadata": {
        "id": "7lqMjBUITIH1",
        "colab_type": "text"
      },
      "source": [
        "### Random Forest (h2o) ###"
      ]
    },
    {
      "cell_type": "code",
      "metadata": {
        "id": "nOlKgqpkn5pE",
        "colab_type": "code",
        "colab": {}
      },
      "source": [
        "#create small version of train set#\n",
        "\n",
        "train_set_x_sample = train_set_x.sample(n=100, random_state=42)"
      ],
      "execution_count": 0,
      "outputs": []
    },
    {
      "cell_type": "code",
      "metadata": {
        "id": "4W6u3JsapdtW",
        "colab_type": "code",
        "colab": {}
      },
      "source": [
        "train_set_y_sample = train_set_y.sample(n=100, random_state=42)"
      ],
      "execution_count": 0,
      "outputs": []
    },
    {
      "cell_type": "code",
      "metadata": {
        "id": "0arMEzVXTO_o",
        "colab_type": "code",
        "outputId": "0196ba44-81c2-479b-ec13-38a1aee55299",
        "colab": {
          "base_uri": "https://localhost:8080/",
          "height": 555
        }
      },
      "source": [
        "import h2o\n",
        "h2o.init(nthreads = -1, max_mem_size = 12)\n",
        "\n",
        "train = pd.DataFrame(train_set_x_sample).join(train_set_y_sample)\n",
        "train = h2o.H2OFrame(train)\n"
      ],
      "execution_count": 206,
      "outputs": [
        {
          "output_type": "stream",
          "text": [
            "Checking whether there is an H2O instance running at http://localhost:54321 ..... not found.\n",
            "Attempting to start a local H2O server...\n",
            "  Java Version: openjdk version \"11.0.6\" 2020-01-14; OpenJDK Runtime Environment (build 11.0.6+10-post-Ubuntu-1ubuntu118.04.1); OpenJDK 64-Bit Server VM (build 11.0.6+10-post-Ubuntu-1ubuntu118.04.1, mixed mode, sharing)\n",
            "  Starting server from /usr/local/lib/python3.6/dist-packages/h2o/backend/bin/h2o.jar\n",
            "  Ice root: /tmp/tmpbzxrxu86\n",
            "  JVM stdout: /tmp/tmpbzxrxu86/h2o_unknownUser_started_from_python.out\n",
            "  JVM stderr: /tmp/tmpbzxrxu86/h2o_unknownUser_started_from_python.err\n",
            "  Server is running at http://127.0.0.1:54321\n",
            "Connecting to H2O server at http://127.0.0.1:54321 ... successful.\n"
          ],
          "name": "stdout"
        },
        {
          "output_type": "display_data",
          "data": {
            "text/html": [
              "<div style=\"overflow:auto\"><table style=\"width:50%\"><tr><td>H2O cluster uptime:</td>\n",
              "<td>02 secs</td></tr>\n",
              "<tr><td>H2O cluster timezone:</td>\n",
              "<td>Etc/UTC</td></tr>\n",
              "<tr><td>H2O data parsing timezone:</td>\n",
              "<td>UTC</td></tr>\n",
              "<tr><td>H2O cluster version:</td>\n",
              "<td>3.28.0.3</td></tr>\n",
              "<tr><td>H2O cluster version age:</td>\n",
              "<td>25 days </td></tr>\n",
              "<tr><td>H2O cluster name:</td>\n",
              "<td>H2O_from_python_unknownUser_ysulr2</td></tr>\n",
              "<tr><td>H2O cluster total nodes:</td>\n",
              "<td>1</td></tr>\n",
              "<tr><td>H2O cluster free memory:</td>\n",
              "<td>12 Gb</td></tr>\n",
              "<tr><td>H2O cluster total cores:</td>\n",
              "<td>2</td></tr>\n",
              "<tr><td>H2O cluster allowed cores:</td>\n",
              "<td>2</td></tr>\n",
              "<tr><td>H2O cluster status:</td>\n",
              "<td>accepting new members, healthy</td></tr>\n",
              "<tr><td>H2O connection url:</td>\n",
              "<td>http://127.0.0.1:54321</td></tr>\n",
              "<tr><td>H2O connection proxy:</td>\n",
              "<td>{'http': None, 'https': None}</td></tr>\n",
              "<tr><td>H2O internal security:</td>\n",
              "<td>False</td></tr>\n",
              "<tr><td>H2O API Extensions:</td>\n",
              "<td>Amazon S3, XGBoost, Algos, AutoML, Core V3, TargetEncoder, Core V4</td></tr>\n",
              "<tr><td>Python version:</td>\n",
              "<td>3.6.9 final</td></tr></table></div>"
            ],
            "text/plain": [
              "--------------------------  ------------------------------------------------------------------\n",
              "H2O cluster uptime:         02 secs\n",
              "H2O cluster timezone:       Etc/UTC\n",
              "H2O data parsing timezone:  UTC\n",
              "H2O cluster version:        3.28.0.3\n",
              "H2O cluster version age:    25 days\n",
              "H2O cluster name:           H2O_from_python_unknownUser_ysulr2\n",
              "H2O cluster total nodes:    1\n",
              "H2O cluster free memory:    12 Gb\n",
              "H2O cluster total cores:    2\n",
              "H2O cluster allowed cores:  2\n",
              "H2O cluster status:         accepting new members, healthy\n",
              "H2O connection url:         http://127.0.0.1:54321\n",
              "H2O connection proxy:       {'http': None, 'https': None}\n",
              "H2O internal security:      False\n",
              "H2O API Extensions:         Amazon S3, XGBoost, Algos, AutoML, Core V3, TargetEncoder, Core V4\n",
              "Python version:             3.6.9 final\n",
              "--------------------------  ------------------------------------------------------------------"
            ]
          },
          "metadata": {
            "tags": []
          }
        },
        {
          "output_type": "stream",
          "text": [
            "Parse progress: |█████████████████████████████████████████████████████████| 100%\n"
          ],
          "name": "stdout"
        }
      ]
    },
    {
      "cell_type": "code",
      "metadata": {
        "id": "lBACz52fTVF5",
        "colab_type": "code",
        "colab": {}
      },
      "source": [
        "x = train.col_names[:-1]    \n",
        "y = train.col_names[-1]  "
      ],
      "execution_count": 0,
      "outputs": []
    },
    {
      "cell_type": "code",
      "metadata": {
        "id": "30hlvLyxTpit",
        "colab_type": "code",
        "colab": {}
      },
      "source": [
        "from h2o.grid.grid_search import H2OGridSearch\n"
      ],
      "execution_count": 0,
      "outputs": []
    },
    {
      "cell_type": "code",
      "metadata": {
        "id": "3fY2svssTrRv",
        "colab_type": "code",
        "colab": {}
      },
      "source": [
        "#hyperparameters\n",
        "rf_parameters = {'max_depth': [200, 1000, 2000],\n",
        "                'ntrees': [10, 20, 30],\n",
        "                 'min_rows': [1, 100, 1000]}\n",
        "\n",
        "rf_parameters2 = {'max_depth': list(np.random.randint(200,5000,10)),\n",
        "                'ntrees': list(np.random.randint(10,20,10)),\n",
        "                 }\n",
        "\n",
        "# Search criteria\n"
      ],
      "execution_count": 0,
      "outputs": []
    },
    {
      "cell_type": "code",
      "metadata": {
        "id": "RwJl0B6oWLfQ",
        "colab_type": "code",
        "colab": {}
      },
      "source": [
        "from h2o.estimators.random_forest import H2ORandomForestEstimator\n",
        "\n",
        "rf_h2o = H2ORandomForestEstimator(model_id='rf_h2o', seed=1, categorical_encoding='enum', nfolds=4, keep_cross_validation_models=True)"
      ],
      "execution_count": 0,
      "outputs": []
    },
    {
      "cell_type": "code",
      "metadata": {
        "id": "kQsmiXnoX2EP",
        "colab_type": "code",
        "colab": {}
      },
      "source": [
        "rf_h2o_grid = H2OGridSearch(model=rf_h2o,\n",
        "                          grid_id='rf_h2o_grid',\n",
        "                          hyper_params=rf_parameters2,\n",
        "                         search_criteria = {'strategy': 'RandomDiscrete', 'max_models': 20}\n",
        "\n",
        "                          )"
      ],
      "execution_count": 0,
      "outputs": []
    },
    {
      "cell_type": "code",
      "metadata": {
        "id": "Ix1RYd6UY4DU",
        "colab_type": "code",
        "outputId": "8fafa4b7-4334-4158-a9e9-47e4a91fd4db",
        "colab": {
          "base_uri": "https://localhost:8080/",
          "height": 35
        }
      },
      "source": [
        "rf_h2o_grid.train(x=x, y=y, training_frame=train)"
      ],
      "execution_count": 215,
      "outputs": [
        {
          "output_type": "stream",
          "text": [
            "drf Grid Build progress: |████████████████████████████████████████████████| 100%\n"
          ],
          "name": "stdout"
        }
      ]
    },
    {
      "cell_type": "code",
      "metadata": {
        "id": "m0DnPUnJ4rMk",
        "colab_type": "code",
        "colab": {
          "base_uri": "https://localhost:8080/",
          "height": 575
        },
        "outputId": "810d6dd1-4818-4304-89b0-215db54722e6"
      },
      "source": [
        "rf_h2o_grid.show()"
      ],
      "execution_count": 216,
      "outputs": [
        {
          "output_type": "stream",
          "text": [
            "     max_depth ntrees             model_ids  residual_deviance\n",
            "0         3928     10  rf_h2o_grid_model_15  4391705.047062643\n",
            "1         4063     10  rf_h2o_grid_model_27  4391705.047062643\n",
            "2         2690     10  rf_h2o_grid_model_28  4391705.047062643\n",
            "3         2242     10  rf_h2o_grid_model_35  4391705.047062643\n",
            "4         3106     10  rf_h2o_grid_model_39  4391705.047062643\n",
            "5         3004     10   rf_h2o_grid_model_8  4391705.047062643\n",
            "6         3106     19  rf_h2o_grid_model_12  4453786.879002184\n",
            "7         2830     19  rf_h2o_grid_model_18  4453786.879002184\n",
            "8         3004     19   rf_h2o_grid_model_2  4453786.879002184\n",
            "9         4063     19  rf_h2o_grid_model_23  4453786.879002184\n",
            "10         845     18  rf_h2o_grid_model_20  4567539.050942978\n",
            "11        2690     18  rf_h2o_grid_model_29  4567539.050942978\n",
            "12        2830     18  rf_h2o_grid_model_36  4567539.050942978\n",
            "13        3106     18  rf_h2o_grid_model_38  4567539.050942978\n",
            "14        2472     18   rf_h2o_grid_model_5  4567539.050942978\n",
            "15        2242     17  rf_h2o_grid_model_10  4727517.330886522\n",
            "16         845     17  rf_h2o_grid_model_13  4727517.330886522\n",
            "17        2690     16   rf_h2o_grid_model_1  4778015.856323735\n",
            "18        3106     16  rf_h2o_grid_model_19  4778015.856323735\n",
            "19         200     16  rf_h2o_grid_model_26  4778015.856323735\n",
            "20        3928     16   rf_h2o_grid_model_4  4778015.856323735\n",
            "21        2242     16   rf_h2o_grid_model_6  4778015.856323735\n",
            "22        2472     16   rf_h2o_grid_model_9  4778015.856323735\n",
            "23        3928     14  rf_h2o_grid_model_14  4930958.065497372\n",
            "24        2830     14  rf_h2o_grid_model_16  4930958.065497372\n",
            "25        2472     14  rf_h2o_grid_model_24  4930958.065497372\n",
            "26        3004     14   rf_h2o_grid_model_3  4930958.065497372\n",
            "27        2242     15  rf_h2o_grid_model_11  5063314.672922898\n",
            "28        2830     15  rf_h2o_grid_model_37  5063314.672922898\n",
            "29        4063     15   rf_h2o_grid_model_7  5063314.672922898\n"
          ],
          "name": "stdout"
        }
      ]
    },
    {
      "cell_type": "code",
      "metadata": {
        "id": "ynDtvzxXdnrO",
        "colab_type": "code",
        "colab": {}
      },
      "source": [
        "gbm_gridperf2 = rf_h2o_grid.get_grid(sort_by='r2', decreasing=True)\n"
      ],
      "execution_count": 0,
      "outputs": []
    },
    {
      "cell_type": "code",
      "metadata": {
        "id": "-8MeHPIqqvbS",
        "colab_type": "code",
        "colab": {
          "base_uri": "https://localhost:8080/",
          "height": 575
        },
        "outputId": "cf473fce-a5b4-467d-b78a-a01f903985b9"
      },
      "source": [
        "gbm_gridperf2.get_grid()"
      ],
      "execution_count": 200,
      "outputs": [
        {
          "output_type": "stream",
          "text": [
            "     max_depth ntrees             model_ids                  r2\n",
            "0         3851     11  rf_h2o_grid_model_21   0.699807056511188\n",
            "1         1610     11  rf_h2o_grid_model_22   0.699807056511188\n",
            "2         2345     11  rf_h2o_grid_model_25   0.699807056511188\n",
            "3         1301     11  rf_h2o_grid_model_29   0.699807056511188\n",
            "4         1648     10   rf_h2o_grid_model_3  0.6845093334022347\n",
            "5         1986     10   rf_h2o_grid_model_4  0.6845093334022347\n",
            "6         1610     19  rf_h2o_grid_model_16  0.6800495078146043\n",
            "7         1301     19  rf_h2o_grid_model_18  0.6800495078146043\n",
            "8         2464     19  rf_h2o_grid_model_23  0.6800495078146043\n",
            "9         4940     19  rf_h2o_grid_model_26  0.6800495078146043\n",
            "10        4163     19  rf_h2o_grid_model_30  0.6800495078146043\n",
            "11        2464     18  rf_h2o_grid_model_19   0.671877795878588\n",
            "12        2345     18  rf_h2o_grid_model_24   0.671877795878588\n",
            "13        3586     18  rf_h2o_grid_model_27   0.671877795878588\n",
            "14        1986     13   rf_h2o_grid_model_1  0.6555022448080319\n",
            "15        4771     13  rf_h2o_grid_model_10  0.6555022448080319\n",
            "16         716     13  rf_h2o_grid_model_11  0.6555022448080319\n",
            "17         961     13  rf_h2o_grid_model_12  0.6555022448080319\n",
            "18        3955     13  rf_h2o_grid_model_14  0.6555022448080319\n",
            "19        1648     13   rf_h2o_grid_model_2  0.6555022448080319\n",
            "20        2345     13  rf_h2o_grid_model_20  0.6555022448080319\n",
            "21        4940     13  rf_h2o_grid_model_33  0.6555022448080319\n",
            "22        2852     13   rf_h2o_grid_model_8  0.6555022448080319\n",
            "23        4771     14  rf_h2o_grid_model_13   0.645770553719246\n",
            "24        3955     14   rf_h2o_grid_model_5   0.645770553719246\n",
            "25         961     14   rf_h2o_grid_model_6   0.645770553719246\n",
            "26        2852     14   rf_h2o_grid_model_7   0.645770553719246\n",
            "27         716     14   rf_h2o_grid_model_9   0.645770553719246\n",
            "28        4882     15  rf_h2o_grid_model_15  0.6362623390605163\n",
            "29        2345     15  rf_h2o_grid_model_31  0.6362623390605163\n"
          ],
          "name": "stdout"
        },
        {
          "output_type": "execute_result",
          "data": {
            "text/plain": [
              ""
            ]
          },
          "metadata": {
            "tags": []
          },
          "execution_count": 200
        }
      ]
    },
    {
      "cell_type": "code",
      "metadata": {
        "id": "eJEfVorJ0_ZQ",
        "colab_type": "code",
        "colab": {
          "base_uri": "https://localhost:8080/",
          "height": 35
        },
        "outputId": "c5451a61-bf03-49ff-c889-66a2711b5040"
      },
      "source": [
        "len(gbm_gridperf2.models)"
      ],
      "execution_count": 152,
      "outputs": [
        {
          "output_type": "execute_result",
          "data": {
            "text/plain": [
              "12"
            ]
          },
          "metadata": {
            "tags": []
          },
          "execution_count": 152
        }
      ]
    },
    {
      "cell_type": "code",
      "metadata": {
        "colab_type": "code",
        "outputId": "a6f7c03c-a923-418b-c7bd-a407d8f4bdcf",
        "id": "k7AWL8qJ0ro7",
        "colab": {
          "base_uri": "https://localhost:8080/",
          "height": 35
        }
      },
      "source": [
        "rf_h2o.train(x=x, y=y, training_frame=train)"
      ],
      "execution_count": 0,
      "outputs": [
        {
          "output_type": "stream",
          "text": [
            "drf Model Build progress: |███████████████████████████████████████████████| 100%\n"
          ],
          "name": "stdout"
        }
      ]
    },
    {
      "cell_type": "code",
      "metadata": {
        "id": "2Q6zDKZGzBSn",
        "colab_type": "code",
        "colab": {}
      },
      "source": [
        "#rf_h2o.cross_validation_models()"
      ],
      "execution_count": 0,
      "outputs": []
    },
    {
      "cell_type": "code",
      "metadata": {
        "id": "iW7Ucu0Yqhiv",
        "colab_type": "code",
        "colab": {
          "base_uri": "https://localhost:8080/",
          "height": 66
        },
        "outputId": "55900283-02d6-4eee-a3e8-27c4188f431b"
      },
      "source": [
        "h2o.shutdown()"
      ],
      "execution_count": 224,
      "outputs": [
        {
          "output_type": "stream",
          "text": [
            "/usr/local/lib/python3.6/dist-packages/ipykernel_launcher.py:1: DeprecationWarning: Deprecated, use ``h2o.cluster().shutdown()``.\n",
            "  \"\"\"Entry point for launching an IPython kernel.\n"
          ],
          "name": "stderr"
        },
        {
          "output_type": "stream",
          "text": [
            "H2O session _sid_b0ca closed.\n"
          ],
          "name": "stdout"
        }
      ]
    },
    {
      "cell_type": "markdown",
      "metadata": {
        "id": "z6vNPsr59WQP",
        "colab_type": "text"
      },
      "source": [
        "#### sklearn ####"
      ]
    },
    {
      "cell_type": "code",
      "metadata": {
        "id": "qo1eEcX69Y7J",
        "colab_type": "code",
        "colab": {}
      },
      "source": [
        "parameter_grid = {\n",
        "\n",
        "  'n_estimators': sp_randint(8,40),\n",
        "  'max_depth':  sp_randint(800,10000),\n",
        "  'min_samples_split': uniform(0.0001,0.8)\n",
        "\n",
        "}"
      ],
      "execution_count": 0,
      "outputs": []
    },
    {
      "cell_type": "code",
      "metadata": {
        "id": "FMCkEGiS9b70",
        "colab_type": "code",
        "colab": {}
      },
      "source": [
        "from sklearn.ensemble import RandomForestRegressor\n",
        "\n",
        "rnd_search = RandomForestRegressor()\n",
        "\n",
        "random_search_rf = RandomizedSearchCV(rnd_search, parameter_grid, cv=5, n_jobs=-1, random_state=42, verbose=10)"
      ],
      "execution_count": 0,
      "outputs": []
    },
    {
      "cell_type": "code",
      "metadata": {
        "id": "EGwtTYLd9ruA",
        "colab_type": "code",
        "colab": {
          "base_uri": "https://localhost:8080/",
          "height": 631
        },
        "outputId": "650348c7-fc3b-4172-d3e1-5bd2a60d4f14"
      },
      "source": [
        "random_search_rf.fit(train_set_x_prepared,train_set_y)"
      ],
      "execution_count": 230,
      "outputs": [
        {
          "output_type": "stream",
          "text": [
            "Fitting 5 folds for each of 10 candidates, totalling 50 fits\n"
          ],
          "name": "stdout"
        },
        {
          "output_type": "stream",
          "text": [
            "[Parallel(n_jobs=-1)]: Using backend LokyBackend with 2 concurrent workers.\n",
            "[Parallel(n_jobs=-1)]: Done   1 tasks      | elapsed:    2.4s\n",
            "[Parallel(n_jobs=-1)]: Done   4 tasks      | elapsed:    3.0s\n",
            "[Parallel(n_jobs=-1)]: Done   9 tasks      | elapsed:   26.2s\n",
            "[Parallel(n_jobs=-1)]: Done  14 tasks      | elapsed:  2.1min\n",
            "[Parallel(n_jobs=-1)]: Done  21 tasks      | elapsed:  2.8min\n",
            "[Parallel(n_jobs=-1)]: Done  28 tasks      | elapsed: 12.0min\n",
            "[Parallel(n_jobs=-1)]: Done  37 tasks      | elapsed: 15.9min\n",
            "[Parallel(n_jobs=-1)]: Done  46 tasks      | elapsed: 17.7min\n",
            "[Parallel(n_jobs=-1)]: Done  50 out of  50 | elapsed: 18.7min finished\n",
            "/usr/local/lib/python3.6/dist-packages/sklearn/model_selection/_search.py:739: DataConversionWarning: A column-vector y was passed when a 1d array was expected. Please change the shape of y to (n_samples,), for example using ravel().\n",
            "  self.best_estimator_.fit(X, y, **fit_params)\n"
          ],
          "name": "stderr"
        },
        {
          "output_type": "execute_result",
          "data": {
            "text/plain": [
              "RandomizedSearchCV(cv=5, error_score=nan,\n",
              "                   estimator=RandomForestRegressor(bootstrap=True,\n",
              "                                                   ccp_alpha=0.0,\n",
              "                                                   criterion='mse',\n",
              "                                                   max_depth=None,\n",
              "                                                   max_features='auto',\n",
              "                                                   max_leaf_nodes=None,\n",
              "                                                   max_samples=None,\n",
              "                                                   min_impurity_decrease=0.0,\n",
              "                                                   min_impurity_split=None,\n",
              "                                                   min_samples_leaf=1,\n",
              "                                                   min_samples_split=2,\n",
              "                                                   min_weight_fraction_leaf=0.0,\n",
              "                                                   n_estimators=100,\n",
              "                                                   n_jobs=None, oob_score=Fals...\n",
              "                   param_distributions={'max_depth': <scipy.stats._distn_infrastructure.rv_frozen object at 0x7f0740710128>,\n",
              "                                        'min_samples_split': <scipy.stats._distn_infrastructure.rv_frozen object at 0x7f07410e3908>,\n",
              "                                        'n_estimators': <scipy.stats._distn_infrastructure.rv_frozen object at 0x7f0740c436a0>},\n",
              "                   pre_dispatch='2*n_jobs', random_state=42, refit=True,\n",
              "                   return_train_score=False, scoring=None, verbose=10)"
            ]
          },
          "metadata": {
            "tags": []
          },
          "execution_count": 230
        }
      ]
    },
    {
      "cell_type": "code",
      "metadata": {
        "id": "LjR_Pu74-YVX",
        "colab_type": "code",
        "colab": {}
      },
      "source": [
        "#random_search_rf.cv_results_"
      ],
      "execution_count": 0,
      "outputs": []
    },
    {
      "cell_type": "code",
      "metadata": {
        "id": "ERjHF3VNGi93",
        "colab_type": "code",
        "colab": {}
      },
      "source": [
        "result = pd.concat([pd.DataFrame(random_search_rf.cv_results_[\"params\"]),pd.DataFrame(random_search_rf.cv_results_[\"mean_test_score\"], columns=[\"Score\"])],axis=1)\n"
      ],
      "execution_count": 0,
      "outputs": []
    },
    {
      "cell_type": "code",
      "metadata": {
        "id": "yjUnKZ3IGtP8",
        "colab_type": "code",
        "colab": {}
      },
      "source": [
        "result.sort_values(by=\"Score\", ascending=False, inplace=True)"
      ],
      "execution_count": 0,
      "outputs": []
    },
    {
      "cell_type": "code",
      "metadata": {
        "id": "BYP6xxcoHICf",
        "colab_type": "code",
        "colab": {
          "base_uri": "https://localhost:8080/",
          "height": 359
        },
        "outputId": "b821c5bb-b4d2-40b8-8236-704f45052711"
      },
      "source": [
        "result\n",
        "\n",
        "#clearly we need a smaller min_samples_split"
      ],
      "execution_count": 239,
      "outputs": [
        {
          "output_type": "execute_result",
          "data": {
            "text/html": [
              "<div>\n",
              "<style scoped>\n",
              "    .dataframe tbody tr th:only-of-type {\n",
              "        vertical-align: middle;\n",
              "    }\n",
              "\n",
              "    .dataframe tbody tr th {\n",
              "        vertical-align: top;\n",
              "    }\n",
              "\n",
              "    .dataframe thead th {\n",
              "        text-align: right;\n",
              "    }\n",
              "</style>\n",
              "<table border=\"1\" class=\"dataframe\">\n",
              "  <thead>\n",
              "    <tr style=\"text-align: right;\">\n",
              "      <th></th>\n",
              "      <th>max_depth</th>\n",
              "      <th>min_samples_split</th>\n",
              "      <th>n_estimators</th>\n",
              "      <th>Score</th>\n",
              "    </tr>\n",
              "  </thead>\n",
              "  <tbody>\n",
              "    <tr>\n",
              "      <th>5</th>\n",
              "      <td>7749</td>\n",
              "      <td>0.000723</td>\n",
              "      <td>35</td>\n",
              "      <td>0.952434</td>\n",
              "    </tr>\n",
              "    <tr>\n",
              "      <th>4</th>\n",
              "      <td>9122</td>\n",
              "      <td>0.016568</td>\n",
              "      <td>9</td>\n",
              "      <td>0.912773</td>\n",
              "    </tr>\n",
              "    <tr>\n",
              "      <th>2</th>\n",
              "      <td>7065</td>\n",
              "      <td>0.124896</td>\n",
              "      <td>18</td>\n",
              "      <td>0.869070</td>\n",
              "    </tr>\n",
              "    <tr>\n",
              "      <th>9</th>\n",
              "      <td>2847</td>\n",
              "      <td>0.233816</td>\n",
              "      <td>23</td>\n",
              "      <td>0.736472</td>\n",
              "    </tr>\n",
              "    <tr>\n",
              "      <th>7</th>\n",
              "      <td>7196</td>\n",
              "      <td>0.345656</td>\n",
              "      <td>24</td>\n",
              "      <td>0.722565</td>\n",
              "    </tr>\n",
              "    <tr>\n",
              "      <th>1</th>\n",
              "      <td>5991</td>\n",
              "      <td>0.479027</td>\n",
              "      <td>14</td>\n",
              "      <td>0.658738</td>\n",
              "    </tr>\n",
              "    <tr>\n",
              "      <th>6</th>\n",
              "      <td>7220</td>\n",
              "      <td>0.494085</td>\n",
              "      <td>33</td>\n",
              "      <td>0.658445</td>\n",
              "    </tr>\n",
              "    <tr>\n",
              "      <th>8</th>\n",
              "      <td>9466</td>\n",
              "      <td>0.489582</td>\n",
              "      <td>17</td>\n",
              "      <td>0.657863</td>\n",
              "    </tr>\n",
              "    <tr>\n",
              "      <th>3</th>\n",
              "      <td>6378</td>\n",
              "      <td>0.693041</td>\n",
              "      <td>11</td>\n",
              "      <td>-0.000022</td>\n",
              "    </tr>\n",
              "    <tr>\n",
              "      <th>0</th>\n",
              "      <td>8070</td>\n",
              "      <td>0.637334</td>\n",
              "      <td>22</td>\n",
              "      <td>-0.000023</td>\n",
              "    </tr>\n",
              "  </tbody>\n",
              "</table>\n",
              "</div>"
            ],
            "text/plain": [
              "   max_depth  min_samples_split  n_estimators     Score\n",
              "5       7749           0.000723            35  0.952434\n",
              "4       9122           0.016568             9  0.912773\n",
              "2       7065           0.124896            18  0.869070\n",
              "9       2847           0.233816            23  0.736472\n",
              "7       7196           0.345656            24  0.722565\n",
              "1       5991           0.479027            14  0.658738\n",
              "6       7220           0.494085            33  0.658445\n",
              "8       9466           0.489582            17  0.657863\n",
              "3       6378           0.693041            11 -0.000022\n",
              "0       8070           0.637334            22 -0.000023"
            ]
          },
          "metadata": {
            "tags": []
          },
          "execution_count": 239
        }
      ]
    },
    {
      "cell_type": "code",
      "metadata": {
        "id": "cZE8YUFCHV8v",
        "colab_type": "code",
        "colab": {}
      },
      "source": [
        "parameter_grid = {\n",
        "\n",
        "  'n_estimators': sp_randint(8,40),\n",
        "  'max_depth':  sp_randint(800,10000),\n",
        "  'min_samples_split': uniform(0,0.017)\n",
        "\n",
        "}\n",
        "\n",
        "from sklearn.ensemble import RandomForestRegressor\n",
        "\n",
        "rnd_search = RandomForestRegressor()\n",
        "\n",
        "random_search_rf2 = RandomizedSearchCV(rnd_search, parameter_grid, cv=5, n_jobs=-1, random_state=42, verbose=10)"
      ],
      "execution_count": 0,
      "outputs": []
    },
    {
      "cell_type": "code",
      "metadata": {
        "id": "_JuZ6XY5Hxzu",
        "colab_type": "code",
        "colab": {}
      },
      "source": [
        "random_search_rf2.fit(train_set_x_prepared,train_set_y)\n",
        "\n",
        "result2 = pd.concat([pd.DataFrame(random_search_rf2.cv_results_[\"params\"]),pd.DataFrame(random_search_rf2.cv_results_[\"mean_test_score\"], columns=[\"Score\"])],axis=1)\n",
        "result2.sort_values(by=\"Score\", ascending=False, inplace=True)\n",
        "\n",
        "print(result2)"
      ],
      "execution_count": 0,
      "outputs": []
    },
    {
      "cell_type": "markdown",
      "metadata": {
        "id": "sWA-acyiNz_S",
        "colab_type": "text"
      },
      "source": [
        "### Extra Trees ###"
      ]
    },
    {
      "cell_type": "code",
      "metadata": {
        "id": "f_WmbcojuyKU",
        "colab_type": "code",
        "colab": {}
      },
      "source": [
        "parameter_grid = {\n",
        "\n",
        "  'n_estimators': sp_randint(1,50),\n",
        "  'max_depth':  sp_randint(1,40),\n",
        "  'min_samples_split': uniform(0.01,0.199)\n",
        "\n",
        "}"
      ],
      "execution_count": 0,
      "outputs": []
    },
    {
      "cell_type": "code",
      "metadata": {
        "id": "PllVnTe8Pmn6",
        "colab_type": "code",
        "colab": {}
      },
      "source": [
        "from sklearn.ensemble import ExtraTreesRegressor\n",
        "\n",
        "extra_trees_search = ExtraTreesRegressor()"
      ],
      "execution_count": 0,
      "outputs": []
    },
    {
      "cell_type": "code",
      "metadata": {
        "id": "qYhzY1TLPnvP",
        "colab_type": "code",
        "colab": {}
      },
      "source": [
        "random_search = RandomizedSearchCV(extra_trees_search, parameter_grid, cv=5, n_jobs=-1, random_state=42)"
      ],
      "execution_count": 0,
      "outputs": []
    },
    {
      "cell_type": "code",
      "metadata": {
        "id": "xvWk1BPrTerz",
        "colab_type": "code",
        "outputId": "994e79fd-4a83-4d51-b2fa-10e16d743bf5",
        "colab": {
          "base_uri": "https://localhost:8080/",
          "height": 394
        }
      },
      "source": [
        "random_search.fit(train_set_x_prepared,train_set_y)"
      ],
      "execution_count": 0,
      "outputs": [
        {
          "output_type": "stream",
          "text": [
            "/usr/local/lib/python3.6/dist-packages/sklearn/model_selection/_search.py:739: DataConversionWarning: A column-vector y was passed when a 1d array was expected. Please change the shape of y to (n_samples,), for example using ravel().\n",
            "  self.best_estimator_.fit(X, y, **fit_params)\n"
          ],
          "name": "stderr"
        },
        {
          "output_type": "execute_result",
          "data": {
            "text/plain": [
              "RandomizedSearchCV(cv=5, error_score=nan,\n",
              "                   estimator=ExtraTreesRegressor(bootstrap=False, ccp_alpha=0.0,\n",
              "                                                 criterion='mse',\n",
              "                                                 max_depth=None,\n",
              "                                                 max_features='auto',\n",
              "                                                 max_leaf_nodes=None,\n",
              "                                                 max_samples=None,\n",
              "                                                 min_impurity_decrease=0.0,\n",
              "                                                 min_impurity_split=None,\n",
              "                                                 min_samples_leaf=1,\n",
              "                                                 min_samples_split=2,\n",
              "                                                 min_weight_fraction_leaf=0.0,\n",
              "                                                 n_estimators=100, n_jobs=None,\n",
              "                                                 oob_score=False...\n",
              "                   param_distributions={'max_depth': <scipy.stats._distn_infrastructure.rv_frozen object at 0x7ff3c8462fd0>,\n",
              "                                        'min_samples_split': <scipy.stats._distn_infrastructure.rv_frozen object at 0x7ff3c6863630>,\n",
              "                                        'n_estimators': <scipy.stats._distn_infrastructure.rv_frozen object at 0x7ff3c858a128>},\n",
              "                   pre_dispatch='2*n_jobs', random_state=42, refit=True,\n",
              "                   return_train_score=False, scoring=None, verbose=0)"
            ]
          },
          "metadata": {
            "tags": []
          },
          "execution_count": 20
        }
      ]
    },
    {
      "cell_type": "code",
      "metadata": {
        "id": "xVPO7l2uY7X_",
        "colab_type": "code",
        "outputId": "c2a9808a-2807-44d0-e264-442de06ad89a",
        "colab": {
          "base_uri": "https://localhost:8080/",
          "height": 1000
        }
      },
      "source": [
        "random_search.cv_results_"
      ],
      "execution_count": 0,
      "outputs": [
        {
          "output_type": "execute_result",
          "data": {
            "text/plain": [
              "{'mean_fit_time': array([ 72.47455616, 205.2609889 ,  70.10993247, 229.11446571,\n",
              "         10.60546746, 180.70490422,  43.5544241 , 138.95962658,\n",
              "        243.65751877,  62.53788862]),\n",
              " 'mean_score_time': array([0.13923707, 0.3873415 , 0.17662063, 0.42622657, 0.05305338,\n",
              "        0.2810226 , 0.09270654, 0.21287332, 0.28956146, 0.09422545]),\n",
              " 'mean_test_score': array([0.86505246, 0.87791248, 0.90934645, 0.89583211, 0.84559105,\n",
              "        0.86720167, 0.60017713, 0.89855338, 0.89839234, 0.85528205]),\n",
              " 'param_max_depth': masked_array(data=[39, 8, 19, 24, 24, 24, 2, 33, 25, 28],\n",
              "              mask=[False, False, False, False, False, False, False, False,\n",
              "                    False, False],\n",
              "        fill_value='?',\n",
              "             dtype=object),\n",
              " 'param_min_samples_split': masked_array(data=[0.16851205438518635, 0.12913303835521028,\n",
              "                    0.029895008247782573, 0.07640801361666534,\n",
              "                    0.13952680611682175, 0.17565608551928394,\n",
              "                    0.04618316847421303, 0.07054420634894801,\n",
              "                    0.06795459889941034, 0.2037773482494504],\n",
              "              mask=[False, False, False, False, False, False, False, False,\n",
              "                    False, False],\n",
              "        fill_value='?',\n",
              "             dtype=object),\n",
              " 'param_n_estimators': masked_array(data=[15, 39, 11, 40, 2, 38, 21, 22, 42, 15],\n",
              "              mask=[False, False, False, False, False, False, False, False,\n",
              "                    False, False],\n",
              "        fill_value='?',\n",
              "             dtype=object),\n",
              " 'params': [{'max_depth': 39,\n",
              "   'min_samples_split': 0.16851205438518635,\n",
              "   'n_estimators': 15},\n",
              "  {'max_depth': 8,\n",
              "   'min_samples_split': 0.12913303835521028,\n",
              "   'n_estimators': 39},\n",
              "  {'max_depth': 19,\n",
              "   'min_samples_split': 0.029895008247782573,\n",
              "   'n_estimators': 11},\n",
              "  {'max_depth': 24,\n",
              "   'min_samples_split': 0.07640801361666534,\n",
              "   'n_estimators': 40},\n",
              "  {'max_depth': 24,\n",
              "   'min_samples_split': 0.13952680611682175,\n",
              "   'n_estimators': 2},\n",
              "  {'max_depth': 24,\n",
              "   'min_samples_split': 0.17565608551928394,\n",
              "   'n_estimators': 38},\n",
              "  {'max_depth': 2,\n",
              "   'min_samples_split': 0.04618316847421303,\n",
              "   'n_estimators': 21},\n",
              "  {'max_depth': 33,\n",
              "   'min_samples_split': 0.07054420634894801,\n",
              "   'n_estimators': 22},\n",
              "  {'max_depth': 25,\n",
              "   'min_samples_split': 0.06795459889941034,\n",
              "   'n_estimators': 42},\n",
              "  {'max_depth': 28,\n",
              "   'min_samples_split': 0.2037773482494504,\n",
              "   'n_estimators': 15}],\n",
              " 'rank_test_score': array([ 7,  5,  1,  4,  9,  6, 10,  2,  3,  8], dtype=int32),\n",
              " 'split0_test_score': array([0.87601504, 0.87567964, 0.90871039, 0.89966439, 0.74978713,\n",
              "        0.86919213, 0.5513722 , 0.90024196, 0.90126845, 0.87381215]),\n",
              " 'split1_test_score': array([0.8686668 , 0.87767603, 0.91028417, 0.89102525, 0.87315735,\n",
              "        0.86645047, 0.62697981, 0.89454113, 0.89604238, 0.87228389]),\n",
              " 'split2_test_score': array([0.86036096, 0.88074761, 0.90781087, 0.89318903, 0.83202423,\n",
              "        0.88527674, 0.67119632, 0.90151423, 0.89805258, 0.86432844]),\n",
              " 'split3_test_score': array([0.86739277, 0.87348002, 0.91125071, 0.89736132, 0.88183274,\n",
              "        0.85467966, 0.57279524, 0.90081538, 0.89369962, 0.85534178]),\n",
              " 'split4_test_score': array([0.85282674, 0.88197911, 0.9086761 , 0.89792058, 0.8911538 ,\n",
              "        0.86040938, 0.57854208, 0.89565418, 0.9028987 , 0.81064397]),\n",
              " 'std_fit_time': array([ 3.01188835,  6.38847169,  2.13185771,  6.32381694,  0.78199475,\n",
              "         4.51327125,  0.31385335,  6.25712081, 11.22703287, 10.59612827]),\n",
              " 'std_score_time': array([0.00974575, 0.01827607, 0.00906916, 0.02092616, 0.0014685 ,\n",
              "        0.03673468, 0.01361092, 0.00773035, 0.01586123, 0.01719458]),\n",
              " 'std_test_score': array([0.00787651, 0.00313891, 0.00124237, 0.00320869, 0.05198418,\n",
              "        0.01033606, 0.04327095, 0.00287187, 0.00335376, 0.02326726])}"
            ]
          },
          "metadata": {
            "tags": []
          },
          "execution_count": 21
        }
      ]
    },
    {
      "cell_type": "code",
      "metadata": {
        "id": "UFyYD3jBZzSz",
        "colab_type": "code",
        "outputId": "85a9e1c6-0c1d-42c8-b126-fcbbc03441d6",
        "colab": {
          "base_uri": "https://localhost:8080/",
          "height": 153
        }
      },
      "source": [
        "random_search.best_estimator_"
      ],
      "execution_count": 0,
      "outputs": [
        {
          "output_type": "execute_result",
          "data": {
            "text/plain": [
              "ExtraTreesRegressor(bootstrap=False, ccp_alpha=0.0, criterion='mse',\n",
              "                    max_depth=19, max_features='auto', max_leaf_nodes=None,\n",
              "                    max_samples=None, min_impurity_decrease=0.0,\n",
              "                    min_impurity_split=None, min_samples_leaf=1,\n",
              "                    min_samples_split=0.029895008247782573,\n",
              "                    min_weight_fraction_leaf=0.0, n_estimators=11, n_jobs=None,\n",
              "                    oob_score=False, random_state=None, verbose=0,\n",
              "                    warm_start=False)"
            ]
          },
          "metadata": {
            "tags": []
          },
          "execution_count": 22
        }
      ]
    },
    {
      "cell_type": "code",
      "metadata": {
        "id": "hpCFkyP2Z3M1",
        "colab_type": "code",
        "outputId": "6df1e14e-78c8-4863-84d9-0743c805ad88",
        "colab": {
          "base_uri": "https://localhost:8080/",
          "height": 34
        }
      },
      "source": [
        "random_search.best_score_"
      ],
      "execution_count": 0,
      "outputs": [
        {
          "output_type": "execute_result",
          "data": {
            "text/plain": [
              "0.909346448145319"
            ]
          },
          "metadata": {
            "tags": []
          },
          "execution_count": 23
        }
      ]
    },
    {
      "cell_type": "code",
      "metadata": {
        "id": "lOBCiwx5a1WN",
        "colab_type": "code",
        "outputId": "39eb1594-219e-4f2c-9041-f1ceb4595f09",
        "colab": {
          "base_uri": "https://localhost:8080/",
          "height": 34
        }
      },
      "source": [
        "random_search.scorer_"
      ],
      "execution_count": 0,
      "outputs": [
        {
          "output_type": "execute_result",
          "data": {
            "text/plain": [
              "<function sklearn.metrics._scorer._passthrough_scorer>"
            ]
          },
          "metadata": {
            "tags": []
          },
          "execution_count": 24
        }
      ]
    },
    {
      "cell_type": "code",
      "metadata": {
        "id": "b2NkWINHl7qp",
        "colab_type": "code",
        "outputId": "9b2005f7-7f9a-4a50-d413-e2fd2b316e06",
        "colab": {
          "base_uri": "https://localhost:8080/",
          "height": 105
        }
      },
      "source": [
        "extra_trees3 = ExtraTreesRegressor(n_jobs=-1, verbose=1, n_estimators=10)\n",
        "extra_trees3 = extra_trees.fit(train_set_x_prepared, train_set_y)"
      ],
      "execution_count": 0,
      "outputs": [
        {
          "output_type": "stream",
          "text": [
            "/usr/local/lib/python3.6/dist-packages/ipykernel_launcher.py:2: DataConversionWarning: A column-vector y was passed when a 1d array was expected. Please change the shape of y to (n_samples,), for example using ravel().\n",
            "  \n",
            "[Parallel(n_jobs=-1)]: Using backend ThreadingBackend with 2 concurrent workers.\n",
            "[Parallel(n_jobs=-1)]: Done  10 out of  10 | elapsed:  1.4min finished\n"
          ],
          "name": "stderr"
        }
      ]
    },
    {
      "cell_type": "code",
      "metadata": {
        "id": "V6CyuQ1OmBJ1",
        "colab_type": "code",
        "outputId": "b2ca74e2-a35a-48d6-b581-75f2fe073c07",
        "colab": {
          "base_uri": "https://localhost:8080/",
          "height": 68
        }
      },
      "source": [
        "extra_trees3.score(test_set_x_prepared,test_set_y)"
      ],
      "execution_count": 0,
      "outputs": [
        {
          "output_type": "stream",
          "text": [
            "[Parallel(n_jobs=2)]: Using backend ThreadingBackend with 2 concurrent workers.\n",
            "[Parallel(n_jobs=2)]: Done  10 out of  10 | elapsed:    0.3s finished\n"
          ],
          "name": "stderr"
        },
        {
          "output_type": "execute_result",
          "data": {
            "text/plain": [
              "0.9678790055348738"
            ]
          },
          "metadata": {
            "tags": []
          },
          "execution_count": 29
        }
      ]
    },
    {
      "cell_type": "code",
      "metadata": {
        "id": "-jU-_X3smke1",
        "colab_type": "code",
        "outputId": "561744e8-b5f8-4de3-d36f-7a7bfcebd98b",
        "colab": {
          "base_uri": "https://localhost:8080/",
          "height": 136
        }
      },
      "source": [
        "extra_trees3"
      ],
      "execution_count": 0,
      "outputs": [
        {
          "output_type": "execute_result",
          "data": {
            "text/plain": [
              "ExtraTreesRegressor(bootstrap=False, ccp_alpha=0.0, criterion='mse',\n",
              "                    max_depth=None, max_features='auto', max_leaf_nodes=None,\n",
              "                    max_samples=None, min_impurity_decrease=0.0,\n",
              "                    min_impurity_split=None, min_samples_leaf=1,\n",
              "                    min_samples_split=2, min_weight_fraction_leaf=0.0,\n",
              "                    n_estimators=10, n_jobs=-1, oob_score=False,\n",
              "                    random_state=None, verbose=1, warm_start=False)"
            ]
          },
          "metadata": {
            "tags": []
          },
          "execution_count": 30
        }
      ]
    },
    {
      "cell_type": "code",
      "metadata": {
        "id": "GNHk_R8bD_-T",
        "colab_type": "code",
        "colab": {}
      },
      "source": [
        "parameter_grid = {\n",
        "\n",
        "  'n_estimators': sp_randint(9,30),\n",
        "  'max_depth':  sp_randint(9,45),\n",
        "  'min_samples_split': uniform(0.02,0.08)\n",
        "\n",
        "}\n",
        "\n",
        "from sklearn.ensemble import ExtraTreesRegressor\n",
        "\n",
        "extra_trees_search2 = ExtraTreesRegressor()\n",
        "\n",
        "random_search2 = RandomizedSearchCV(extra_trees_search2, parameter_grid, cv=5, n_jobs=-1, random_state=42, n_iter=40)"
      ],
      "execution_count": 0,
      "outputs": []
    },
    {
      "cell_type": "code",
      "metadata": {
        "id": "uVAShlkfE5J-",
        "colab_type": "code",
        "outputId": "fbba1a22-8814-48ca-86fc-86b7760a0853",
        "colab": {
          "base_uri": "https://localhost:8080/",
          "height": 394
        }
      },
      "source": [
        "random_search2.fit(train_set_x_prepared,train_set_y)"
      ],
      "execution_count": 0,
      "outputs": [
        {
          "output_type": "stream",
          "text": [
            "/usr/local/lib/python3.6/dist-packages/sklearn/model_selection/_search.py:739: DataConversionWarning: A column-vector y was passed when a 1d array was expected. Please change the shape of y to (n_samples,), for example using ravel().\n",
            "  self.best_estimator_.fit(X, y, **fit_params)\n"
          ],
          "name": "stderr"
        },
        {
          "output_type": "execute_result",
          "data": {
            "text/plain": [
              "RandomizedSearchCV(cv=5, error_score=nan,\n",
              "                   estimator=ExtraTreesRegressor(bootstrap=False, ccp_alpha=0.0,\n",
              "                                                 criterion='mse',\n",
              "                                                 max_depth=None,\n",
              "                                                 max_features='auto',\n",
              "                                                 max_leaf_nodes=None,\n",
              "                                                 max_samples=None,\n",
              "                                                 min_impurity_decrease=0.0,\n",
              "                                                 min_impurity_split=None,\n",
              "                                                 min_samples_leaf=1,\n",
              "                                                 min_samples_split=2,\n",
              "                                                 min_weight_fraction_leaf=0.0,\n",
              "                                                 n_estimators=100, n_jobs=None,\n",
              "                                                 oob_score=False...\n",
              "                   param_distributions={'max_depth': <scipy.stats._distn_infrastructure.rv_frozen object at 0x7f09678508d0>,\n",
              "                                        'min_samples_split': <scipy.stats._distn_infrastructure.rv_frozen object at 0x7f0967850a58>,\n",
              "                                        'n_estimators': <scipy.stats._distn_infrastructure.rv_frozen object at 0x7f0967850780>},\n",
              "                   pre_dispatch='2*n_jobs', random_state=42, refit=True,\n",
              "                   return_train_score=False, scoring=None, verbose=0)"
            ]
          },
          "metadata": {
            "tags": []
          },
          "execution_count": 20
        }
      ]
    },
    {
      "cell_type": "code",
      "metadata": {
        "id": "m-6F3caOE8AD",
        "colab_type": "code",
        "outputId": "56a73fa7-c673-44d4-b5c7-6858f5bd7345",
        "colab": {
          "base_uri": "https://localhost:8080/",
          "height": 1000
        }
      },
      "source": [
        "random_search2.cv_results_"
      ],
      "execution_count": 0,
      "outputs": [
        {
          "output_type": "execute_result",
          "data": {
            "text/plain": [
              "{'mean_fit_time': array([ 84.32273269, 148.47925954, 153.79277172,  55.99990792,\n",
              "        110.24842634, 161.64903345, 101.58182349,  86.62750764,\n",
              "         94.58214812,  62.96685677, 118.17540379,  95.687854  ,\n",
              "         53.96593237,  74.13843327, 127.88408675,  74.76687455,\n",
              "         63.06085238, 121.82361832,  81.41356611, 109.53628197,\n",
              "         87.55894737, 138.53733177, 104.67712998,  39.94230399,\n",
              "         37.11128922,  97.85231433,  49.55776749,  83.43548694,\n",
              "         72.72540288, 129.27159901,  64.36589737,  56.9669538 ,\n",
              "        113.62269115,  56.3964992 , 107.79695959, 108.51998024,\n",
              "        120.34500971, 155.27775283,  61.24376035,  93.25170255]),\n",
              " 'mean_score_time': array([0.16715827, 0.27495127, 0.30496855, 0.12990866, 0.21879888,\n",
              "        0.29295297, 0.19992509, 0.18271151, 0.1874197 , 0.13152809,\n",
              "        0.23628788, 0.19441452, 0.12681284, 0.16223497, 0.24922543,\n",
              "        0.16417675, 0.14648447, 0.25047307, 0.17102652, 0.22177305,\n",
              "        0.18186059, 0.260218  , 0.20654087, 0.09488735, 0.09155235,\n",
              "        0.21454659, 0.11312528, 0.17294822, 0.15126514, 0.24067822,\n",
              "        0.13436427, 0.12285309, 0.21889138, 0.12377958, 0.22690768,\n",
              "        0.22311049, 0.24255123, 0.2771297 , 0.13265309, 0.18811755]),\n",
              " 'mean_test_score': array([0.91262965, 0.91249753, 0.91587043, 0.90994606, 0.91526578,\n",
              "        0.91164138, 0.90932381, 0.90910773, 0.89573394, 0.89037453,\n",
              "        0.90564606, 0.89737161, 0.91550876, 0.90974174, 0.9163825 ,\n",
              "        0.90821112, 0.90756747, 0.91215995, 0.90605145, 0.90347153,\n",
              "        0.91435028, 0.90773729, 0.90769384, 0.89322736, 0.89534149,\n",
              "        0.91760167, 0.89946259, 0.9013619 , 0.89558739, 0.90930718,\n",
              "        0.89953602, 0.90228905, 0.90737407, 0.89612606, 0.91080328,\n",
              "        0.90420942, 0.91653648, 0.90451606, 0.89594793, 0.90350082]),\n",
              " 'param_max_depth': masked_array(data=[37, 29, 31, 44, 30, 38, 41, 33, 36, 11, 29, 12, 17, 28,\n",
              "                    16, 25, 12, 12, 34, 44, 23, 29, 32, 37, 33, 16, 25, 41,\n",
              "                    36, 20, 31, 43, 9, 22, 34, 35, 34, 40, 40, 31],\n",
              "              mask=[False, False, False, False, False, False, False, False,\n",
              "                    False, False, False, False, False, False, False, False,\n",
              "                    False, False, False, False, False, False, False, False,\n",
              "                    False, False, False, False, False, False, False, False,\n",
              "                    False, False, False, False, False, False, False, False],\n",
              "        fill_value='?',\n",
              "             dtype=object),\n",
              " 'param_min_samples_split': masked_array(data=[0.0346747831892931, 0.03248149123539492,\n",
              "                    0.024646688973455958, 0.031429345433755265,\n",
              "                    0.024512926322168022, 0.03698712885426209,\n",
              "                    0.04433937943676302, 0.04329833121584335,\n",
              "                    0.09790044150731674, 0.08879523253890564,\n",
              "                    0.056039940157563445, 0.09537614045478823,\n",
              "                    0.021277300177617135, 0.039282037282080934,\n",
              "                    0.02275108168921747, 0.04070239852800135,\n",
              "                    0.04493688608715288, 0.034788356442042166,\n",
              "                    0.05598033066958126, 0.06783199830488681,\n",
              "                    0.027079400164153562, 0.05109418317515856,\n",
              "                    0.04854026613548715, 0.08417575846032317,\n",
              "                    0.09895095492804139, 0.02044176936988819,\n",
              "                    0.076907356219892, 0.06847679798248091,\n",
              "                    0.08904827407004749, 0.046471841988211936,\n",
              "                    0.07350730021308859, 0.06730382301661818,\n",
              "                    0.05063414998030319, 0.08791310594128672,\n",
              "                    0.03887879357991646, 0.06181862635055953,\n",
              "                    0.022033530139527614, 0.07091283290110244,\n",
              "                    0.07564128691409021, 0.06835339034222539],\n",
              "              mask=[False, False, False, False, False, False, False, False,\n",
              "                    False, False, False, False, False, False, False, False,\n",
              "                    False, False, False, False, False, False, False, False,\n",
              "                    False, False, False, False, False, False, False, False,\n",
              "                    False, False, False, False, False, False, False, False],\n",
              "        fill_value='?',\n",
              "             dtype=object),\n",
              " 'param_n_estimators': masked_array(data=[16, 27, 29, 11, 20, 29, 20, 18, 23, 15, 26, 22, 10, 15,\n",
              "                    22, 16, 14, 26, 18, 24, 16, 26, 21, 9, 9, 19, 11, 18,\n",
              "                    16, 24, 13, 11, 23, 13, 22, 23, 21, 28, 13, 23],\n",
              "              mask=[False, False, False, False, False, False, False, False,\n",
              "                    False, False, False, False, False, False, False, False,\n",
              "                    False, False, False, False, False, False, False, False,\n",
              "                    False, False, False, False, False, False, False, False,\n",
              "                    False, False, False, False, False, False, False, False],\n",
              "        fill_value='?',\n",
              "             dtype=object),\n",
              " 'params': [{'max_depth': 37,\n",
              "   'min_samples_split': 0.0346747831892931,\n",
              "   'n_estimators': 16},\n",
              "  {'max_depth': 29,\n",
              "   'min_samples_split': 0.03248149123539492,\n",
              "   'n_estimators': 27},\n",
              "  {'max_depth': 31,\n",
              "   'min_samples_split': 0.024646688973455958,\n",
              "   'n_estimators': 29},\n",
              "  {'max_depth': 44,\n",
              "   'min_samples_split': 0.031429345433755265,\n",
              "   'n_estimators': 11},\n",
              "  {'max_depth': 30,\n",
              "   'min_samples_split': 0.024512926322168022,\n",
              "   'n_estimators': 20},\n",
              "  {'max_depth': 38,\n",
              "   'min_samples_split': 0.03698712885426209,\n",
              "   'n_estimators': 29},\n",
              "  {'max_depth': 41,\n",
              "   'min_samples_split': 0.04433937943676302,\n",
              "   'n_estimators': 20},\n",
              "  {'max_depth': 33,\n",
              "   'min_samples_split': 0.04329833121584335,\n",
              "   'n_estimators': 18},\n",
              "  {'max_depth': 36,\n",
              "   'min_samples_split': 0.09790044150731674,\n",
              "   'n_estimators': 23},\n",
              "  {'max_depth': 11,\n",
              "   'min_samples_split': 0.08879523253890564,\n",
              "   'n_estimators': 15},\n",
              "  {'max_depth': 29,\n",
              "   'min_samples_split': 0.056039940157563445,\n",
              "   'n_estimators': 26},\n",
              "  {'max_depth': 12,\n",
              "   'min_samples_split': 0.09537614045478823,\n",
              "   'n_estimators': 22},\n",
              "  {'max_depth': 17,\n",
              "   'min_samples_split': 0.021277300177617135,\n",
              "   'n_estimators': 10},\n",
              "  {'max_depth': 28,\n",
              "   'min_samples_split': 0.039282037282080934,\n",
              "   'n_estimators': 15},\n",
              "  {'max_depth': 16,\n",
              "   'min_samples_split': 0.02275108168921747,\n",
              "   'n_estimators': 22},\n",
              "  {'max_depth': 25,\n",
              "   'min_samples_split': 0.04070239852800135,\n",
              "   'n_estimators': 16},\n",
              "  {'max_depth': 12,\n",
              "   'min_samples_split': 0.04493688608715288,\n",
              "   'n_estimators': 14},\n",
              "  {'max_depth': 12,\n",
              "   'min_samples_split': 0.034788356442042166,\n",
              "   'n_estimators': 26},\n",
              "  {'max_depth': 34,\n",
              "   'min_samples_split': 0.05598033066958126,\n",
              "   'n_estimators': 18},\n",
              "  {'max_depth': 44,\n",
              "   'min_samples_split': 0.06783199830488681,\n",
              "   'n_estimators': 24},\n",
              "  {'max_depth': 23,\n",
              "   'min_samples_split': 0.027079400164153562,\n",
              "   'n_estimators': 16},\n",
              "  {'max_depth': 29,\n",
              "   'min_samples_split': 0.05109418317515856,\n",
              "   'n_estimators': 26},\n",
              "  {'max_depth': 32,\n",
              "   'min_samples_split': 0.04854026613548715,\n",
              "   'n_estimators': 21},\n",
              "  {'max_depth': 37,\n",
              "   'min_samples_split': 0.08417575846032317,\n",
              "   'n_estimators': 9},\n",
              "  {'max_depth': 33,\n",
              "   'min_samples_split': 0.09895095492804139,\n",
              "   'n_estimators': 9},\n",
              "  {'max_depth': 16,\n",
              "   'min_samples_split': 0.02044176936988819,\n",
              "   'n_estimators': 19},\n",
              "  {'max_depth': 25,\n",
              "   'min_samples_split': 0.076907356219892,\n",
              "   'n_estimators': 11},\n",
              "  {'max_depth': 41,\n",
              "   'min_samples_split': 0.06847679798248091,\n",
              "   'n_estimators': 18},\n",
              "  {'max_depth': 36,\n",
              "   'min_samples_split': 0.08904827407004749,\n",
              "   'n_estimators': 16},\n",
              "  {'max_depth': 20,\n",
              "   'min_samples_split': 0.046471841988211936,\n",
              "   'n_estimators': 24},\n",
              "  {'max_depth': 31,\n",
              "   'min_samples_split': 0.07350730021308859,\n",
              "   'n_estimators': 13},\n",
              "  {'max_depth': 43,\n",
              "   'min_samples_split': 0.06730382301661818,\n",
              "   'n_estimators': 11},\n",
              "  {'max_depth': 9,\n",
              "   'min_samples_split': 0.05063414998030319,\n",
              "   'n_estimators': 23},\n",
              "  {'max_depth': 22,\n",
              "   'min_samples_split': 0.08791310594128672,\n",
              "   'n_estimators': 13},\n",
              "  {'max_depth': 34,\n",
              "   'min_samples_split': 0.03887879357991646,\n",
              "   'n_estimators': 22},\n",
              "  {'max_depth': 35,\n",
              "   'min_samples_split': 0.06181862635055953,\n",
              "   'n_estimators': 23},\n",
              "  {'max_depth': 34,\n",
              "   'min_samples_split': 0.022033530139527614,\n",
              "   'n_estimators': 21},\n",
              "  {'max_depth': 40,\n",
              "   'min_samples_split': 0.07091283290110244,\n",
              "   'n_estimators': 28},\n",
              "  {'max_depth': 40,\n",
              "   'min_samples_split': 0.07564128691409021,\n",
              "   'n_estimators': 13},\n",
              "  {'max_depth': 31,\n",
              "   'min_samples_split': 0.06835339034222539,\n",
              "   'n_estimators': 23}],\n",
              " 'rank_test_score': array([ 8,  9,  4, 13,  6, 11, 15, 17, 36, 40, 24, 33,  5, 14,  3, 18, 21,\n",
              "        10, 23, 28,  7, 19, 20, 39, 38,  1, 32, 30, 37, 16, 31, 29, 22, 34,\n",
              "        12, 26,  2, 25, 35, 27], dtype=int32),\n",
              " 'split0_test_score': array([0.91368993, 0.91311657, 0.91699684, 0.91062359, 0.91647844,\n",
              "        0.91060619, 0.91129302, 0.91104156, 0.89705445, 0.89336478,\n",
              "        0.90325861, 0.89093441, 0.91688584, 0.91115672, 0.91837418,\n",
              "        0.90567669, 0.91075712, 0.9120833 , 0.9058116 , 0.90390958,\n",
              "        0.9153576 , 0.90985165, 0.90687722, 0.9013304 , 0.8937207 ,\n",
              "        0.91771466, 0.89815523, 0.90434172, 0.89107968, 0.91201885,\n",
              "        0.89315348, 0.90426999, 0.90303618, 0.89794472, 0.9105964 ,\n",
              "        0.90144616, 0.91663583, 0.9030837 , 0.90037927, 0.9052709 ]),\n",
              " 'split1_test_score': array([0.91133941, 0.91272807, 0.91693763, 0.90765451, 0.91524071,\n",
              "        0.91210514, 0.90860457, 0.90917246, 0.90064954, 0.90272049,\n",
              "        0.9029152 , 0.89790359, 0.91635928, 0.90930968, 0.91806261,\n",
              "        0.90917193, 0.90768478, 0.91492632, 0.90757476, 0.90237735,\n",
              "        0.91468444, 0.90917696, 0.90992688, 0.89579682, 0.88746829,\n",
              "        0.9172777 , 0.90063694, 0.90174057, 0.89966311, 0.9082193 ,\n",
              "        0.89781028, 0.90410935, 0.90860482, 0.90146379, 0.91216079,\n",
              "        0.90669524, 0.91716955, 0.90404586, 0.89113614, 0.9044507 ]),\n",
              " 'split2_test_score': array([0.91252195, 0.91162602, 0.9151374 , 0.90880295, 0.91428447,\n",
              "        0.91178755, 0.90874656, 0.90638841, 0.89284163, 0.88198493,\n",
              "        0.90771272, 0.89977969, 0.91539999, 0.90944063, 0.91409626,\n",
              "        0.90801638, 0.90437219, 0.91060006, 0.90572026, 0.90082735,\n",
              "        0.91224644, 0.90655768, 0.90858371, 0.88000225, 0.89159502,\n",
              "        0.91661151, 0.90049435, 0.90425606, 0.88666148, 0.90722493,\n",
              "        0.89783697, 0.90136112, 0.90711931, 0.89833305, 0.91083725,\n",
              "        0.9042668 , 0.91487515, 0.90577462, 0.89734768, 0.90682361]),\n",
              " 'split3_test_score': array([0.91375163, 0.91371335, 0.91415407, 0.91048891, 0.91445478,\n",
              "        0.91296402, 0.90912885, 0.90749799, 0.89907241, 0.88881782,\n",
              "        0.9103247 , 0.8980537 , 0.91452809, 0.9093267 , 0.91692618,\n",
              "        0.90815879, 0.90931435, 0.91226328, 0.90640751, 0.90581173,\n",
              "        0.91338418, 0.90870815, 0.90775513, 0.88704807, 0.90394376,\n",
              "        0.91893352, 0.89240411, 0.90034422, 0.90053585, 0.90994665,\n",
              "        0.90472676, 0.90366108, 0.9104701 , 0.89829774, 0.91096101,\n",
              "        0.90740692, 0.91786766, 0.90675341, 0.88798881, 0.90047197]),\n",
              " 'split4_test_score': array([0.91184531, 0.91130365, 0.91612623, 0.91216034, 0.91587051,\n",
              "        0.91074401, 0.90884606, 0.91143821, 0.88905167, 0.88498465,\n",
              "        0.90401907, 0.90018663, 0.9143706 , 0.90947499, 0.91445325,\n",
              "        0.9100318 , 0.90570891, 0.9109268 , 0.90474312, 0.90443163,\n",
              "        0.91607876, 0.904392  , 0.90532627, 0.90195924, 0.89997968,\n",
              "        0.91747097, 0.90562231, 0.89612694, 0.89999682, 0.90912619,\n",
              "        0.90415262, 0.89804371, 0.90763994, 0.88459098, 0.90946095,\n",
              "        0.90123198, 0.91613421, 0.90292269, 0.90288777, 0.90048693]),\n",
              " 'std_fit_time': array([ 1.59797157,  7.64327326,  1.85923315,  1.3090791 ,  5.57627411,\n",
              "         0.97801032,  2.2510307 ,  4.88896466,  2.27394429,  1.73516584,\n",
              "         2.40194669,  4.65060576,  2.73427089,  2.32083806,  5.58888537,\n",
              "         4.4208965 ,  1.71615956,  2.63722845,  0.89815759,  2.66173725,\n",
              "         2.83491347,  2.91913067,  5.58917643,  2.12784069,  1.08062422,\n",
              "         1.26712136,  1.6284128 ,  1.18056836,  1.53974743,  2.97625586,\n",
              "         2.16205676,  1.73718035,  4.52205326,  1.04046999,  0.64250544,\n",
              "         1.26574853,  7.4292209 ,  2.7755302 ,  3.13272899, 18.2212042 ]),\n",
              " 'std_score_time': array([0.00791032, 0.00386379, 0.00252348, 0.00236499, 0.00267562,\n",
              "        0.00387042, 0.00554932, 0.00682246, 0.00415335, 0.00372429,\n",
              "        0.00217314, 0.00435391, 0.00257449, 0.00119907, 0.00779487,\n",
              "        0.00272176, 0.00320714, 0.00333987, 0.00222992, 0.00858306,\n",
              "        0.0020113 , 0.00791112, 0.00788365, 0.00192503, 0.00097449,\n",
              "        0.00234892, 0.00197947, 0.00217361, 0.00170574, 0.00341183,\n",
              "        0.00230604, 0.00324428, 0.00542863, 0.0021916 , 0.00650888,\n",
              "        0.0141858 , 0.01059532, 0.00932076, 0.00296326, 0.03057535]),\n",
              " 'std_test_score': array([0.00096691, 0.00090548, 0.00109146, 0.00156299, 0.00083157,\n",
              "        0.00087894, 0.00099946, 0.0019576 , 0.0042443 , 0.00725567,\n",
              "        0.00289708, 0.00334392, 0.00098881, 0.00071034, 0.00179076,\n",
              "        0.00146301, 0.00231962, 0.00152468, 0.00093018, 0.00171925,\n",
              "        0.00137648, 0.0020034 , 0.0015527 , 0.00850405, 0.0059019 ,\n",
              "        0.00076014, 0.00428759, 0.00302785, 0.00566627, 0.00163181,\n",
              "        0.00435565, 0.0023666 , 0.00245165, 0.00590667, 0.0008618 ,\n",
              "        0.00256544, 0.0010104 , 0.00151005, 0.00559032, 0.00258201])}"
            ]
          },
          "metadata": {
            "tags": []
          },
          "execution_count": 21
        }
      ]
    },
    {
      "cell_type": "code",
      "metadata": {
        "id": "de9no4Z_jSJW",
        "colab_type": "code",
        "outputId": "b0869ed4-80ce-404b-b765-53669a648658",
        "colab": {
          "base_uri": "https://localhost:8080/",
          "height": 163
        }
      },
      "source": [
        "random_search2.best_score_"
      ],
      "execution_count": 0,
      "outputs": [
        {
          "output_type": "error",
          "ename": "NameError",
          "evalue": "ignored",
          "traceback": [
            "\u001b[0;31m---------------------------------------------------------------------------\u001b[0m",
            "\u001b[0;31mNameError\u001b[0m                                 Traceback (most recent call last)",
            "\u001b[0;32m<ipython-input-1-c9554d798499>\u001b[0m in \u001b[0;36m<module>\u001b[0;34m()\u001b[0m\n\u001b[0;32m----> 1\u001b[0;31m \u001b[0mrandom_search2\u001b[0m\u001b[0;34m.\u001b[0m\u001b[0mbest_score_\u001b[0m\u001b[0;34m\u001b[0m\u001b[0;34m\u001b[0m\u001b[0m\n\u001b[0m",
            "\u001b[0;31mNameError\u001b[0m: name 'random_search2' is not defined"
          ]
        }
      ]
    },
    {
      "cell_type": "code",
      "metadata": {
        "id": "X6dzMICvlY2Q",
        "colab_type": "code",
        "colab": {}
      },
      "source": [
        "from sklearn.model_selection import GridSearchCV"
      ],
      "execution_count": 0,
      "outputs": []
    },
    {
      "cell_type": "code",
      "metadata": {
        "id": "OaYANtBvj5a_",
        "colab_type": "code",
        "colab": {}
      },
      "source": [
        "parameter_grid = {\n",
        "\n",
        "  'n_estimators': [5, 10, 15] ,\n",
        "  'max_depth': [20, 100, 1000],\n",
        "  'min_samples_split': [0.0001, 0.02, 0.029]\n",
        "\n",
        "}\n",
        "\n",
        "from sklearn.ensemble import ExtraTreesRegressor\n",
        "\n",
        "extra_trees_search3 = ExtraTreesRegressor()\n",
        "\n",
        "random_search3 = GridSearchCV(extra_trees_search3, parameter_grid, cv=5, n_jobs=-1)"
      ],
      "execution_count": 0,
      "outputs": []
    },
    {
      "cell_type": "code",
      "metadata": {
        "id": "NQetZGsblr2z",
        "colab_type": "code",
        "outputId": "73dbc572-0b05-4ab9-af1a-c0fe05e33673",
        "colab": {
          "base_uri": "https://localhost:8080/",
          "height": 411
        }
      },
      "source": [
        "random_search3.fit(train_set_x_prepared,train_set_y)"
      ],
      "execution_count": 0,
      "outputs": [
        {
          "output_type": "stream",
          "text": [
            "/usr/local/lib/python3.6/dist-packages/sklearn/model_selection/_search.py:739: DataConversionWarning: A column-vector y was passed when a 1d array was expected. Please change the shape of y to (n_samples,), for example using ravel().\n",
            "  self.best_estimator_.fit(X, y, **fit_params)\n"
          ],
          "name": "stderr"
        },
        {
          "output_type": "execute_result",
          "data": {
            "text/plain": [
              "GridSearchCV(cv=5, error_score=nan,\n",
              "             estimator=ExtraTreesRegressor(bootstrap=False, ccp_alpha=0.0,\n",
              "                                           criterion='mse', max_depth=None,\n",
              "                                           max_features='auto',\n",
              "                                           max_leaf_nodes=None,\n",
              "                                           max_samples=None,\n",
              "                                           min_impurity_decrease=0.0,\n",
              "                                           min_impurity_split=None,\n",
              "                                           min_samples_leaf=1,\n",
              "                                           min_samples_split=2,\n",
              "                                           min_weight_fraction_leaf=0.0,\n",
              "                                           n_estimators=100, n_jobs=None,\n",
              "                                           oob_score=False, random_state=None,\n",
              "                                           verbose=0, warm_start=False),\n",
              "             iid='deprecated', n_jobs=-1,\n",
              "             param_grid={'max_depth': [20, 100, 1000],\n",
              "                         'min_samples_split': [0.0001, 0.02, 0.029],\n",
              "                         'n_estimators': [5, 10, 15]},\n",
              "             pre_dispatch='2*n_jobs', refit=True, return_train_score=False,\n",
              "             scoring=None, verbose=0)"
            ]
          },
          "metadata": {
            "tags": []
          },
          "execution_count": 17
        }
      ]
    },
    {
      "cell_type": "code",
      "metadata": {
        "id": "DGBdnAQIlwXV",
        "colab_type": "code",
        "outputId": "a491d850-f9ff-4f1c-ad2a-0408f93e9fb7",
        "colab": {
          "base_uri": "https://localhost:8080/",
          "height": 1000
        }
      },
      "source": [
        "random_search3.cv_results_"
      ],
      "execution_count": 0,
      "outputs": [
        {
          "output_type": "execute_result",
          "data": {
            "text/plain": [
              "{'mean_fit_time': array([ 34.28231077,  68.9629395 , 104.5328629 ,  28.32093906,\n",
              "         52.2639636 ,  83.54023104,  26.6851954 ,  54.81241307,\n",
              "         81.95760574,  37.08497033,  73.80888829, 108.7681221 ,\n",
              "         25.44611597,  53.38589854,  77.25632534,  26.40457644,\n",
              "         52.15934062,  78.49350448,  36.93231158,  74.08780155,\n",
              "        108.9596416 ,  26.66802902,  56.20716553,  82.1959415 ,\n",
              "         27.21377711,  52.96828947,  75.16814995]),\n",
              " 'mean_score_time': array([0.1204958 , 0.22945061, 0.32889905, 0.07954755, 0.12660527,\n",
              "        0.18292122, 0.07507524, 0.12489147, 0.17010279, 0.17162318,\n",
              "        0.30061865, 0.4392848 , 0.08324237, 0.13203239, 0.18280563,\n",
              "        0.07824707, 0.12936006, 0.175806  , 0.17596555, 0.30059633,\n",
              "        0.4516017 , 0.07989416, 0.13577571, 0.18510046, 0.07961636,\n",
              "        0.12783799, 0.15952253]),\n",
              " 'mean_test_score': array([0.95816917, 0.95927646, 0.9602826 , 0.9152354 , 0.91591678,\n",
              "        0.9184584 , 0.90999768, 0.91278388, 0.91289688, 0.96508428,\n",
              "        0.96721779, 0.96758213, 0.91622178, 0.9178164 , 0.9180914 ,\n",
              "        0.91073804, 0.91143229, 0.91254901, 0.9650159 , 0.96722659,\n",
              "        0.9677848 , 0.91514984, 0.91713957, 0.91702129, 0.91120455,\n",
              "        0.91253417, 0.91250285]),\n",
              " 'param_max_depth': masked_array(data=[20, 20, 20, 20, 20, 20, 20, 20, 20, 100, 100, 100, 100,\n",
              "                    100, 100, 100, 100, 100, 1000, 1000, 1000, 1000, 1000,\n",
              "                    1000, 1000, 1000, 1000],\n",
              "              mask=[False, False, False, False, False, False, False, False,\n",
              "                    False, False, False, False, False, False, False, False,\n",
              "                    False, False, False, False, False, False, False, False,\n",
              "                    False, False, False],\n",
              "        fill_value='?',\n",
              "             dtype=object),\n",
              " 'param_min_samples_split': masked_array(data=[0.0001, 0.0001, 0.0001, 0.02, 0.02, 0.02, 0.029, 0.029,\n",
              "                    0.029, 0.0001, 0.0001, 0.0001, 0.02, 0.02, 0.02, 0.029,\n",
              "                    0.029, 0.029, 0.0001, 0.0001, 0.0001, 0.02, 0.02, 0.02,\n",
              "                    0.029, 0.029, 0.029],\n",
              "              mask=[False, False, False, False, False, False, False, False,\n",
              "                    False, False, False, False, False, False, False, False,\n",
              "                    False, False, False, False, False, False, False, False,\n",
              "                    False, False, False],\n",
              "        fill_value='?',\n",
              "             dtype=object),\n",
              " 'param_n_estimators': masked_array(data=[5, 10, 15, 5, 10, 15, 5, 10, 15, 5, 10, 15, 5, 10, 15,\n",
              "                    5, 10, 15, 5, 10, 15, 5, 10, 15, 5, 10, 15],\n",
              "              mask=[False, False, False, False, False, False, False, False,\n",
              "                    False, False, False, False, False, False, False, False,\n",
              "                    False, False, False, False, False, False, False, False,\n",
              "                    False, False, False],\n",
              "        fill_value='?',\n",
              "             dtype=object),\n",
              " 'params': [{'max_depth': 20, 'min_samples_split': 0.0001, 'n_estimators': 5},\n",
              "  {'max_depth': 20, 'min_samples_split': 0.0001, 'n_estimators': 10},\n",
              "  {'max_depth': 20, 'min_samples_split': 0.0001, 'n_estimators': 15},\n",
              "  {'max_depth': 20, 'min_samples_split': 0.02, 'n_estimators': 5},\n",
              "  {'max_depth': 20, 'min_samples_split': 0.02, 'n_estimators': 10},\n",
              "  {'max_depth': 20, 'min_samples_split': 0.02, 'n_estimators': 15},\n",
              "  {'max_depth': 20, 'min_samples_split': 0.029, 'n_estimators': 5},\n",
              "  {'max_depth': 20, 'min_samples_split': 0.029, 'n_estimators': 10},\n",
              "  {'max_depth': 20, 'min_samples_split': 0.029, 'n_estimators': 15},\n",
              "  {'max_depth': 100, 'min_samples_split': 0.0001, 'n_estimators': 5},\n",
              "  {'max_depth': 100, 'min_samples_split': 0.0001, 'n_estimators': 10},\n",
              "  {'max_depth': 100, 'min_samples_split': 0.0001, 'n_estimators': 15},\n",
              "  {'max_depth': 100, 'min_samples_split': 0.02, 'n_estimators': 5},\n",
              "  {'max_depth': 100, 'min_samples_split': 0.02, 'n_estimators': 10},\n",
              "  {'max_depth': 100, 'min_samples_split': 0.02, 'n_estimators': 15},\n",
              "  {'max_depth': 100, 'min_samples_split': 0.029, 'n_estimators': 5},\n",
              "  {'max_depth': 100, 'min_samples_split': 0.029, 'n_estimators': 10},\n",
              "  {'max_depth': 100, 'min_samples_split': 0.029, 'n_estimators': 15},\n",
              "  {'max_depth': 1000, 'min_samples_split': 0.0001, 'n_estimators': 5},\n",
              "  {'max_depth': 1000, 'min_samples_split': 0.0001, 'n_estimators': 10},\n",
              "  {'max_depth': 1000, 'min_samples_split': 0.0001, 'n_estimators': 15},\n",
              "  {'max_depth': 1000, 'min_samples_split': 0.02, 'n_estimators': 5},\n",
              "  {'max_depth': 1000, 'min_samples_split': 0.02, 'n_estimators': 10},\n",
              "  {'max_depth': 1000, 'min_samples_split': 0.02, 'n_estimators': 15},\n",
              "  {'max_depth': 1000, 'min_samples_split': 0.029, 'n_estimators': 5},\n",
              "  {'max_depth': 1000, 'min_samples_split': 0.029, 'n_estimators': 10},\n",
              "  {'max_depth': 1000, 'min_samples_split': 0.029, 'n_estimators': 15}],\n",
              " 'rank_test_score': array([ 9,  8,  7, 17, 16, 10, 27, 20, 19,  5,  4,  2, 15, 12, 11, 26, 24,\n",
              "        21,  6,  3,  1, 18, 13, 14, 25, 22, 23], dtype=int32),\n",
              " 'split0_test_score': array([0.9586944 , 0.95976252, 0.96089958, 0.91562694, 0.91679529,\n",
              "        0.9202803 , 0.90329537, 0.91220002, 0.91181147, 0.966562  ,\n",
              "        0.96840059, 0.96890504, 0.91857125, 0.91860645, 0.91924674,\n",
              "        0.91180376, 0.90983356, 0.91334396, 0.96592639, 0.96826048,\n",
              "        0.96868443, 0.91476779, 0.91776033, 0.91751862, 0.91562208,\n",
              "        0.91277265, 0.91276369]),\n",
              " 'split1_test_score': array([0.9582712 , 0.96078693, 0.96142381, 0.91242315, 0.91391786,\n",
              "        0.91630497, 0.91055739, 0.9116902 , 0.91085005, 0.96506843,\n",
              "        0.96779402, 0.96751982, 0.9156896 , 0.91634554, 0.91584618,\n",
              "        0.90833407, 0.90909793, 0.90923072, 0.96515244, 0.96746277,\n",
              "        0.96859695, 0.91500614, 0.91607626, 0.91475168, 0.89963462,\n",
              "        0.90817671, 0.90668922]),\n",
              " 'split2_test_score': array([0.95697577, 0.95818277, 0.95967868, 0.91741551, 0.91520372,\n",
              "        0.9188546 , 0.91263485, 0.91351365, 0.91429649, 0.96441089,\n",
              "        0.96632333, 0.96680551, 0.91523106, 0.91858718, 0.91829677,\n",
              "        0.90937526, 0.91168605, 0.91202387, 0.96426956, 0.96625446,\n",
              "        0.96719279, 0.91553012, 0.91809025, 0.91818762, 0.909393  ,\n",
              "        0.91199154, 0.91333783]),\n",
              " 'split3_test_score': array([0.95824487, 0.95866145, 0.96040272, 0.91414066, 0.91633956,\n",
              "        0.91833408, 0.90993006, 0.9133027 , 0.9142965 , 0.96514178,\n",
              "        0.96727749, 0.96818994, 0.91528111, 0.91735942, 0.91904957,\n",
              "        0.90972937, 0.91410442, 0.91081242, 0.96503404, 0.96784142,\n",
              "        0.96770718, 0.91505562, 0.91744918, 0.91629162, 0.91599591,\n",
              "        0.91560647, 0.9145512 ]),\n",
              " 'split4_test_score': array([0.95865961, 0.95898864, 0.9590082 , 0.91657072, 0.91732746,\n",
              "        0.91851802, 0.91357075, 0.91321283, 0.91322988, 0.96423832,\n",
              "        0.96629354, 0.96649031, 0.91633585, 0.91818339, 0.91801777,\n",
              "        0.91444775, 0.91243948, 0.9173341 , 0.96469706, 0.9663138 ,\n",
              "        0.96674261, 0.91538952, 0.91632184, 0.91835691, 0.91537716,\n",
              "        0.91412347, 0.9151723 ]),\n",
              " 'std_fit_time': array([0.39979135, 2.10478913, 1.62483178, 1.03742608, 1.19820879,\n",
              "        1.25449674, 0.40034986, 1.9699382 , 3.75764894, 1.22356519,\n",
              "        2.20807536, 1.93372504, 0.82818211, 1.35714776, 1.73442662,\n",
              "        0.63969375, 1.80693047, 3.17850747, 0.53260807, 1.50115355,\n",
              "        4.00402046, 1.13728483, 2.54809338, 0.72650266, 0.77195053,\n",
              "        0.79200687, 8.40519785]),\n",
              " 'std_score_time': array([0.01094466, 0.01356064, 0.00813183, 0.00130513, 0.00148554,\n",
              "        0.00217323, 0.00070437, 0.00270805, 0.0047438 , 0.01198407,\n",
              "        0.00812554, 0.01678852, 0.00313753, 0.00107717, 0.00222873,\n",
              "        0.00110749, 0.00417595, 0.00289477, 0.01028767, 0.02212864,\n",
              "        0.01872227, 0.00098378, 0.00455988, 0.00205384, 0.00334585,\n",
              "        0.00279185, 0.02633161]),\n",
              " 'std_test_score': array([0.00062558, 0.00091378, 0.00085864, 0.00177744, 0.00122022,\n",
              "        0.00127535, 0.00360445, 0.00071032, 0.00137086, 0.00081931,\n",
              "        0.00082327, 0.00088528, 0.00123956, 0.00086316, 0.00121174,\n",
              "        0.00217032, 0.00180135, 0.00275069, 0.00054894, 0.00081006,\n",
              "        0.0007631 , 0.00027479, 0.00079803, 0.00134723, 0.00627738,\n",
              "        0.00250214, 0.00302936])}"
            ]
          },
          "metadata": {
            "tags": []
          },
          "execution_count": 18
        }
      ]
    },
    {
      "cell_type": "code",
      "metadata": {
        "id": "5Kv3pfc7lzkV",
        "colab_type": "code",
        "outputId": "2e2697e4-2059-4def-ab9a-f86292b6d9a4",
        "colab": {
          "base_uri": "https://localhost:8080/",
          "height": 34
        }
      },
      "source": [
        "random_search3.best_score_"
      ],
      "execution_count": 0,
      "outputs": [
        {
          "output_type": "execute_result",
          "data": {
            "text/plain": [
              "0.9677847951160079"
            ]
          },
          "metadata": {
            "tags": []
          },
          "execution_count": 19
        }
      ]
    },
    {
      "cell_type": "code",
      "metadata": {
        "id": "LSWAIDpwl6d3",
        "colab_type": "code",
        "outputId": "46186e6b-6afb-4b6f-e12d-ffc9552b7aff",
        "colab": {
          "base_uri": "https://localhost:8080/",
          "height": 136
        }
      },
      "source": [
        "random_search3.best_estimator_"
      ],
      "execution_count": 0,
      "outputs": [
        {
          "output_type": "execute_result",
          "data": {
            "text/plain": [
              "ExtraTreesRegressor(bootstrap=False, ccp_alpha=0.0, criterion='mse',\n",
              "                    max_depth=1000, max_features='auto', max_leaf_nodes=None,\n",
              "                    max_samples=None, min_impurity_decrease=0.0,\n",
              "                    min_impurity_split=None, min_samples_leaf=1,\n",
              "                    min_samples_split=0.0001, min_weight_fraction_leaf=0.0,\n",
              "                    n_estimators=15, n_jobs=None, oob_score=False,\n",
              "                    random_state=None, verbose=0, warm_start=False)"
            ]
          },
          "metadata": {
            "tags": []
          },
          "execution_count": 20
        }
      ]
    },
    {
      "cell_type": "markdown",
      "metadata": {
        "id": "bBuNvsRJUbQZ",
        "colab_type": "text"
      },
      "source": [
        "### Extreme Boosting ###"
      ]
    },
    {
      "cell_type": "code",
      "metadata": {
        "id": "71jGgTGATjJx",
        "colab_type": "code",
        "colab": {}
      },
      "source": [
        ""
      ],
      "execution_count": 0,
      "outputs": []
    }
  ]
}