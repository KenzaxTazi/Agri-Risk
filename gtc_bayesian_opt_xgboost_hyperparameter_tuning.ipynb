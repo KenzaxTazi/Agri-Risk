{
  "nbformat": 4,
  "nbformat_minor": 0,
  "metadata": {
    "colab": {
      "name": "gtc_bayesian_opt_xgboost_hyperparameter_tuning.ipynb",
      "provenance": [],
      "collapsed_sections": [],
      "toc_visible": true,
      "machine_shape": "hm",
      "include_colab_link": true
    },
    "kernelspec": {
      "name": "python3",
      "display_name": "Python 3"
    },
    "accelerator": "GPU"
  },
  "cells": [
    {
      "cell_type": "markdown",
      "metadata": {
        "id": "view-in-github",
        "colab_type": "text"
      },
      "source": [
        "<a href=\"https://colab.research.google.com/github/KenzaxTazi/Agri-Risk/blob/master/gtc_bayesian_opt_xgboost_hyperparameter_tuning.ipynb\" target=\"_parent\"><img src=\"https://colab.research.google.com/assets/colab-badge.svg\" alt=\"Open In Colab\"/></a>"
      ]
    },
    {
      "cell_type": "markdown",
      "metadata": {
        "colab_type": "text",
        "id": "NwCoEacCDmp_"
      },
      "source": [
        "# Extreme Boosting with Bayesian Optimisation###"
      ]
    },
    {
      "cell_type": "markdown",
      "metadata": {
        "id": "J8BO5ZkJExaB",
        "colab_type": "text"
      },
      "source": [
        "This script does not include the data importation and preparation sections; in order for this script to run, the following variables must already exist:\n",
        "\n",
        "*   train_set_x_prepared\n",
        "*   train_set_y\n",
        "*   train_set_x_prepared\n",
        "*   test_set_y"
      ]
    },
    {
      "cell_type": "code",
      "metadata": {
        "id": "eddN9EmRlZFN",
        "colab_type": "code",
        "outputId": "0cac9512-ae96-453e-e76d-89c69690dcff",
        "colab": {
          "base_uri": "https://localhost:8080/",
          "height": 68
        }
      },
      "source": [
        "#install required packages\n",
        "!pip3 install xgboost\n",
        "!pip install bayesian-optimization"
      ],
      "execution_count": 0,
      "outputs": [
        {
          "output_type": "stream",
          "text": [
            "Requirement already satisfied: xgboost in /usr/local/lib/python3.6/dist-packages (0.90)\n",
            "Requirement already satisfied: numpy in /usr/local/lib/python3.6/dist-packages (from xgboost) (1.18.2)\n",
            "Requirement already satisfied: scipy in /usr/local/lib/python3.6/dist-packages (from xgboost) (1.4.1)\n"
          ],
          "name": "stdout"
        }
      ]
    },
    {
      "cell_type": "code",
      "metadata": {
        "id": "vdYqoCbwFu0A",
        "colab_type": "code",
        "colab": {}
      },
      "source": [
        "#import packages\n",
        "from sklearn.model_selection import RandomizedSearchCV\n",
        "from scipy.stats import randint as sp_randint\n",
        "from scipy.stats import uniform\n",
        "import xgboost as xgb\n",
        "from sklearn.metrics import r2_score\n",
        "from bayes_opt import BayesianOptimization\n",
        "import xgboost as xgb\n",
        "from sklearn.metrics import mean_squared_error\n",
        "from sklearn.model_selection import KFold"
      ],
      "execution_count": 0,
      "outputs": []
    },
    {
      "cell_type": "code",
      "metadata": {
        "id": "JBWx0Y0khjst",
        "colab_type": "code",
        "colab": {}
      },
      "source": [
        "#converting the training set into XGBoost's Dmatrix object\n",
        "dtrain= xgb.DMatrix(train_set_x_prepared,label=train_set_y)\n",
        "\n",
        "#define bayesian optimization function for xgboost\n",
        "#specify the parameters you want to tune as keyword arguments\n",
        "def bo_tune_xgb(max_depth, \n",
        "                min_child_weight,\n",
        "                gamma, \n",
        "                subsample,\n",
        "                n_estimators, \n",
        "                colsample_bytree,\n",
        "                ):\n",
        "\n",
        "  params = {'max_depth': int(max_depth),\n",
        "            'min_child_weight': int(min_child_weight),\n",
        "            'gamma': gamma,\n",
        "            'n_estimators': int(n_estimators),\n",
        "            'colsample_bytree': colsample_bytree,\n",
        "            #'learning_rate': learning_rate,\n",
        "            'subsample': subsample, # 0.8\n",
        "            'eta': 0.5,\n",
        "            'eval_metric': 'rmse',\n",
        "            'tree_method': 'hist',\n",
        "            }\n",
        "\n",
        "  #cross validating with the specified parameters   \n",
        "  cv_result = xgb.cv(params, dtrain, num_boost_round=3, nfold=3, shuffle=False) #, verbose_eval=3)\n",
        "  \n",
        "  #return the negative RMSE\n",
        "  return  -1.0 * cv_result['test-rmse-mean'].iloc[-1]\n",
        "\n",
        "#Invoking the Bayesian Optimiser with the specified parameters to tune\n",
        "xgb_bo = BayesianOptimization(bo_tune_xgb,\n",
        "                              {'max_depth': (10, 30), # 20 to 30\n",
        "                               'min_child_weight': (10, 30),\n",
        "                               'gamma': (0.5, 0.8), #0.5 to 0.8\n",
        "                               'colsample_bytree': (0.7, 0.7), #0.7 to 1\n",
        "                               #'learning_rate': (0, 1),\n",
        "                               'subsample': (0.8, 0.8), #0.7 to 0.9\n",
        "                               'n_estimators': (100, 140) #100 to 140\n",
        "                              })\n",
        "\n",
        "#Performing Bayesian optimization for N iterations ('n_iter') with M steps of random exploration ('init_points') \n",
        "#with and acquisition function of expected improvement \n",
        "xgb_bo.maximize(n_iter=5, init_points=5, acq='ei')"
      ],
      "execution_count": 0,
      "outputs": []
    },
    {
      "cell_type": "code",
      "metadata": {
        "id": "did-WRrAwBtG",
        "colab_type": "code",
        "colab": {}
      },
      "source": [
        "#extracting the best parameters\n",
        "params = xgb_bo.max['params']\n",
        "\n",
        "#Converting the integer-valued parameters (e.g. max_depth and n_estimator) from float to int\n",
        "params['max_depth']= int(params['max_depth'])\n",
        "params['n_estimators']= int(params['n_estimators'])\n",
        "params['min_child_weight']= int(params['min_child_weight'])\n",
        "print(params)\n",
        "\n",
        "#Initialize and XGBRegressor with the tuned parameters and fit the training data\n",
        "from xgboost import XGBRegressor\n",
        "xgb_regressor = xgb.XGBRegressor(**params, tree_method='hist', objective=\"reg:squarederror\").fit(train_set_x_prepared,train_set_y)\n",
        "\n",
        "#predict for training set\n",
        "train_p = xgb_regressor.predict(train_set_x_prepared)\n",
        "\n",
        "#predict for test set\n",
        "test_p = xgb_regressor.predict(test_set_x_prepared)\n",
        "\n",
        "print(\"r2 score for train set: \", r2_score(train_p,train_set_y))\n",
        "print(\"r2 score for test set: \", r2_score(test_p,test_set_y))"
      ],
      "execution_count": 0,
      "outputs": []
    }
  ]
}