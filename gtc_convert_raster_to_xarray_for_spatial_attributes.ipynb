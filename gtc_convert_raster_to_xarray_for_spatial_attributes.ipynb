{
  "nbformat": 4,
  "nbformat_minor": 0,
  "metadata": {
    "colab": {
      "name": "gtc_convert_raster_to_xarray_for_spatial_attributes",
      "provenance": [],
      "machine_shape": "hm",
      "authorship_tag": "ABX9TyOwK2mF4Cn1y6sM8HCpa0OE",
      "include_colab_link": true
    },
    "kernelspec": {
      "name": "python3",
      "display_name": "Python 3"
    }
  },
  "cells": [
    {
      "cell_type": "markdown",
      "metadata": {
        "id": "view-in-github",
        "colab_type": "text"
      },
      "source": [
        "<a href=\"https://colab.research.google.com/github/KenzaxTazi/Agri-Risk/blob/master/gtc_convert_raster_to_xarray_for_spatial_attributes.ipynb\" target=\"_parent\"><img src=\"https://colab.research.google.com/assets/colab-badge.svg\" alt=\"Open In Colab\"/></a>"
      ]
    },
    {
      "cell_type": "code",
      "metadata": {
        "id": "P1oc_1G5t4XU",
        "colab_type": "code",
        "outputId": "f93c3ee1-3ea6-441a-ed32-55b7599ea368",
        "colab": {
          "base_uri": "https://localhost:8080/",
          "height": 34
        }
      },
      "source": [
        "#Mount Google Drive \n",
        "from google.colab import drive\n",
        "drive.mount('/content/drive')"
      ],
      "execution_count": 0,
      "outputs": [
        {
          "output_type": "stream",
          "text": [
            "Drive already mounted at /content/drive; to attempt to forcibly remount, call drive.mount(\"/content/drive\", force_remount=True).\n"
          ],
          "name": "stdout"
        }
      ]
    },
    {
      "cell_type": "code",
      "metadata": {
        "id": "2DU9B9SJut_d",
        "colab_type": "code",
        "colab": {}
      },
      "source": [
        "#Update packages and restart runtime\n",
        "%%capture\n",
        "!pip install pandas==1.0.0\n",
        "!pip install pandarallel\n",
        "!pip install tqdm==4.42.1\n",
        "!pip install affine rasterio\n",
        "\n",
        "import os\n",
        "os.kill(os.getpid(), 9)"
      ],
      "execution_count": 0,
      "outputs": []
    },
    {
      "cell_type": "code",
      "metadata": {
        "id": "UWsw_N40u4ST",
        "colab_type": "code",
        "colab": {}
      },
      "source": [
        "#Import packages\n",
        "import pandas as pd\n",
        "from tqdm import tqdm\n",
        "tqdm.pandas()\n",
        "import xarray as xr\n",
        "import matplotlib.pyplot as plt\n",
        "import numpy as np\n",
        "from affine import Affine\n",
        "import os"
      ],
      "execution_count": 0,
      "outputs": []
    },
    {
      "cell_type": "code",
      "metadata": {
        "id": "0NOVPmXPvW0w",
        "colab_type": "code",
        "colab": {}
      },
      "source": [
        "#Change directory\n",
        "os.chdir('/content/drive/My Drive/Team Plants')"
      ],
      "execution_count": 0,
      "outputs": []
    },
    {
      "cell_type": "code",
      "metadata": {
        "id": "iSJo7GAGvcAL",
        "colab_type": "code",
        "colab": {}
      },
      "source": [
        "#!pip install netCDF4"
      ],
      "execution_count": 0,
      "outputs": []
    },
    {
      "cell_type": "code",
      "metadata": {
        "id": "0iD5QopoHt_y",
        "colab_type": "code",
        "colab": {}
      },
      "source": [
        "#define file paths for input (raster file) and output (netcdf file)\n",
        "raster_file = '/content/drive/My Drive/Team Plants/data/soil/data_from_dataverse_resampled/raster_filename.tif'\n",
        "export_netcdf_file = '/content/drive/My Drive/Team Plants/data/spatial_attributes_netcdf/netcdf_filename.nc'"
      ],
      "execution_count": 0,
      "outputs": []
    },
    {
      "cell_type": "code",
      "metadata": {
        "id": "K-ZmhjtpaI8h",
        "colab_type": "code",
        "colab": {}
      },
      "source": [
        "#convert raster to xarraya and export as netcdf file\n",
        "da = xr.open_rasterio(raster_file) # import raster dataset as xarray (dataarray)\n",
        "da = da.rename({'x': 'lon','y': 'lat'}) # rename XY coordinates as lat and lon\n",
        "da = da.reindex(lat=np.arange(89.75,-89.75-0.5,-0.5), lon=np.arange(-179.75,179.75+0.5,0.5), method='nearest') #reindex (change spatial resolution of) dataarray to be 0.5 degrees \n",
        "da.to_netcdf(export_netcdf_file) #save/export dataarray to netcdf "
      ],
      "execution_count": 0,
      "outputs": []
    },
    {
      "cell_type": "markdown",
      "metadata": {
        "id": "CFKuOeET48F0",
        "colab_type": "text"
      },
      "source": [
        "END OF SCRIPT (INGONE ANYTHING BELOW THIS LINE)"
      ]
    },
    {
      "cell_type": "code",
      "metadata": {
        "id": "ZAenvg_7aloX",
        "colab_type": "code",
        "colab": {}
      },
      "source": [
        "# Compute the soil types\n",
        "\n",
        "lats_ = xr.DataArray(list(data['nearest_lat'].values), dims='z')\n",
        "lons_ = xr.DataArray(list(data['nearest_lon'].values), dims='z')\n",
        "\n",
        "time_data = da.sel(y=lats_).sel(x=lons_)\n",
        "data['soil_type'] = time_data.values[0]"
      ],
      "execution_count": 0,
      "outputs": []
    },
    {
      "cell_type": "code",
      "metadata": {
        "id": "ehfNA8SUaoBA",
        "colab_type": "code",
        "colab": {}
      },
      "source": [
        "#import climate zones raster dataset xarray\n",
        "da = xr.open_rasterio('/content/drive/My Drive/Team Plants/data/climate_zones/map41/map41.tif')\n",
        "transform = Affine.from_gdal(*da.attrs['transform'])\n",
        "nx, ny = da.sizes['x'], da.sizes['y']\n",
        "x, y = np.meshgrid(np.arange(nx)+0.5, np.arange(ny)+0.5) * transform\n",
        "da.close()\n",
        "\n",
        "da = da.reindex(y=np.arange(89.75,-89.75-0.5,-0.5), x=np.arange(-179.75,179.75+0.5,0.5), method='nearest')\n",
        "\n",
        "da = da.rename({'x': 'lon','y': 'lat'})\n",
        "\n",
        "print(da)\n",
        "\n",
        "da.to_netcdf('/content/drive/My Drive/Team Plants/data/spatial_attributes_netcdf/climate_zones.nc')"
      ],
      "execution_count": 0,
      "outputs": []
    },
    {
      "cell_type": "code",
      "metadata": {
        "id": "2yiOB-DCaqSS",
        "colab_type": "code",
        "colab": {}
      },
      "source": [
        "# Compute the climate zones types\n",
        "\n",
        "lats_ = xr.DataArray(list(data['nearest_lat'].values), dims='z')\n",
        "lons_ = xr.DataArray(list(data['nearest_lon'].values), dims='z')\n",
        "\n",
        "time_data = da.sel(lat=lats_).sel(lon=lons_)\n",
        "#data['climate_zones'] = \n",
        "time_data.values[-1]"
      ],
      "execution_count": 0,
      "outputs": []
    },
    {
      "cell_type": "code",
      "metadata": {
        "id": "KD5pF5rb3MET",
        "colab_type": "code",
        "outputId": "5594b68c-f8e7-4203-b1ee-2d89260c4b08",
        "colab": {
          "base_uri": "https://localhost:8080/",
          "height": 35
        }
      },
      "source": [
        "#to change values in netCDF4\n",
        "import netCDF4\n",
        "\"\"\"\n",
        "dset = netCDF4.Dataset('test.nc')\n",
        "\n",
        "dset['var'][:][dset['var'][:] < 0] = -1\n",
        "\n",
        "dset.close()\"\"\""
      ],
      "execution_count": 0,
      "outputs": [
        {
          "output_type": "execute_result",
          "data": {
            "text/plain": [
              "\"\\ndset = netCDF4.Dataset('test.nc')\\n\\ndset['var'][:][dset['var'][:] < 0] = -1\\n\\ndset.close()\""
            ]
          },
          "metadata": {
            "tags": []
          },
          "execution_count": 5
        }
      ]
    },
    {
      "cell_type": "code",
      "metadata": {
        "id": "dY7nX6Sg3UTY",
        "colab_type": "code",
        "colab": {}
      },
      "source": [
        "data = pd.read_csv(\"/content/drive/My Drive/Team Plants/data/climate_monthly_seasonal_2005_2010_with_spatial_attributes_filtered.csv\")"
      ],
      "execution_count": 0,
      "outputs": []
    },
    {
      "cell_type": "code",
      "metadata": {
        "id": "IRRGHFNqtL4x",
        "colab_type": "code",
        "colab": {}
      },
      "source": [
        "data = data[data.columns.drop(list(data.filter(regex='TX')))]\n",
        "data = data[data.columns.drop(list(data.filter(regex='TN')))]\n",
        "data = data[data.columns.drop(list(data.filter(regex='ID')))]\n",
        "data = data[data.columns.drop(list(data.filter(regex='SU')))]\n",
        "data = data[data.columns.drop(list(data.filter(regex='R20')))]\n",
        "data = data[data.columns.drop(list(data.filter(regex='R10')))]\n",
        "data = data[data.columns.drop(list(data.filter(regex='RR1')))]"
      ],
      "execution_count": 0,
      "outputs": []
    },
    {
      "cell_type": "code",
      "metadata": {
        "id": "Ix8KjLR2zppU",
        "colab_type": "code",
        "colab": {}
      },
      "source": [
        ""
      ],
      "execution_count": 0,
      "outputs": []
    }
  ]
}