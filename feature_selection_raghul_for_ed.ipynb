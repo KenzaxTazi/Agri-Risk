{
  "nbformat": 4,
  "nbformat_minor": 0,
  "metadata": {
    "colab": {
      "name": "feature_selection_raghul_for_ed.ipynb",
      "provenance": [],
      "collapsed_sections": [],
      "authorship_tag": "ABX9TyNO1SF7raQy+pdoZxERgSRb",
      "include_colab_link": true
    },
    "kernelspec": {
      "name": "python3",
      "display_name": "Python 3"
    }
  },
  "cells": [
    {
      "cell_type": "markdown",
      "metadata": {
        "id": "view-in-github",
        "colab_type": "text"
      },
      "source": [
        "<a href=\"https://colab.research.google.com/github/KenzaxTazi/Agri-Risk/blob/master/feature_selection_raghul_for_ed.ipynb\" target=\"_parent\"><img src=\"https://colab.research.google.com/assets/colab-badge.svg\" alt=\"Open In Colab\"/></a>"
      ]
    },
    {
      "cell_type": "markdown",
      "metadata": {
        "id": "wctV322RSZv5",
        "colab_type": "text"
      },
      "source": [
        "# Features to select, in order # "
      ]
    },
    {
      "cell_type": "code",
      "metadata": {
        "id": "B5RRNGA3ST-j",
        "colab_type": "code",
        "colab": {}
      },
      "source": [
        "features_to_select = [\n",
        "                      \n",
        "'lon',\n",
        "'maize_a_2005',\n",
        "'CDD-Q1-2010',\n",
        "'CDD-Q1-2005',\n",
        "'CDD-Q3-2005',\n",
        "'CFD-Q1-2010',\n",
        "'CFD-Q4-2010',\n",
        "'CFD-Q1-2005',\n",
        "'CFD-Q2-2005',\n",
        "'CFD-Q4-2005',\n",
        "'CWD-Q2-2010',\n",
        "'CWD-Q3-2010',\n",
        "'CWD-Q4-2010',\n",
        "'WW-Q1-2010',\n",
        "'WSDI-Q3-2010',\n",
        "'WSDI-Q4-2010',\n",
        "'WSDI-Q2-2005',\n",
        "'WSDI-Q3-2005',\n",
        "'CSDI-Q1-2010',\n",
        "'BEDD-06-2010',\n",
        "'BEDD-10-2010',\n",
        "'BEDD-04-2005',\n",
        "'BEDD-06-2005',\n",
        "'BEDD-08-2005',\n",
        "'BEDD-09-2005',\n",
        "'FD-12-2010',\n",
        "'FD-02-2005',\n",
        "'FD-03-2005',\n",
        "'FD-05-2005',\n",
        "'FD-09-2005',\n",
        "'FD-11-2005',\n",
        "'FD-12-2005',\n",
        "'R20mm-10-2005',\n",
        "'R10mm-05-2010',\n",
        "'R10mm-09-2010',\n",
        "'ID-03-2010',\n",
        "'ID-04-2010',\n",
        "'ID-11-2010',\n",
        "'ID-01-2005',\n",
        "'ID-02-2005',\n",
        "'ID-03-2005',\n",
        "'ID-04-2005',\n",
        "'ID-11-2005',\n",
        "'TG-03-2010',\n",
        "'TG-05-2010',\n",
        "'TG-07-2010',\n",
        "'TG-10-2010',\n",
        "'TG-12-2010',\n",
        "'TG-04-2005',\n",
        "'TG-05-2005',\n",
        "'TG-06-2005',\n",
        "'TG-07-2005',\n",
        "'TG-09-2005',\n",
        "'TG-12-2005',\n",
        "'TN-05-2010',\n",
        "'TN-06-2010',\n",
        "'TN-07-2010',\n",
        "'TN-09-2010',\n",
        "'TN-10-2010',\n",
        "'TN-05-2005',\n",
        "'TN-06-2005',\n",
        "'TN-09-2005',\n",
        "'DTR-01-2010',\n",
        "'DTR-02-2010',\n",
        "'DTR-03-2010',\n",
        "'DTR-07-2010',\n",
        "'DTR-12-2010',\n",
        "'DTR-08-2005',\n",
        "'DTR-09-2005',\n",
        "'DTR-11-2005',\n",
        "'DTR-12-2005',\n",
        "'RR1-01-2010',\n",
        "'RR1-02-2010',\n",
        "'RR1-03-2010',\n",
        "'RR1-04-2010',\n",
        "'RR1-05-2010',\n",
        "'RR1-06-2010',\n",
        "'RR1-09-2010',\n",
        "'RR1-04-2005',\n",
        "'RR1-07-2005',\n",
        "'RR1-08-2005',\n",
        "'RR1-09-2005',\n",
        "'RR1-12-2005',\n",
        "'RR-05-2010',\n",
        "'RR-09-2010',\n",
        "'RR-10-2010',\n",
        "'RR-02-2005',\n",
        "'RR-03-2005',\n",
        "'RR-06-2005',\n",
        "'RR-07-2005',\n",
        "'RR-08-2005',\n",
        "'RR-10-2005',\n",
        "'RR-11-2005',\n",
        "'SU-03-2010',\n",
        "'SU-04-2010',\n",
        "'SU-05-2010',\n",
        "'SU-06-2010',\n",
        "'SU-09-2010',\n",
        "'SU-10-2010',\n",
        "'SU-12-2010',\n",
        "'SU-02-2005',\n",
        "'SU-04-2005',\n",
        "'SU-05-2005',\n",
        "'SU-06-2005',\n",
        "'SU-07-2005',\n",
        "'SU-10-2005',\n",
        "'SU-11-2005',\n",
        "'SU-12-2005',\n",
        "'TNn-05-2010',\n",
        "'TNn-06-2010',\n",
        "'TNn-07-2010',\n",
        "'TNn-08-2010',\n",
        "'TNn-09-2010',\n",
        "'TNn-05-2005',\n",
        "'TNn-12-2005',\n",
        "'TR-06-2005',\n",
        "'TR-10-2005',\n",
        "'TR-12-2005',\n",
        "'TX-01-2010',\n",
        "'TX-02-2010',\n",
        "'TX-04-2010',\n",
        "'TX-08-2010',\n",
        "'TX-10-2010',\n",
        "'TX-02-2005',\n",
        "'TX-06-2005',\n",
        "'TX-07-2005',\n",
        "'TX-08-2005',\n",
        "'TX-09-2005',\n",
        "'TX-11-2005',\n",
        "'TXn-01-2010',\n",
        "'TXn-02-2010',\n",
        "'TXn-04-2010',\n",
        "'TXn-06-2010',\n",
        "'TXn-10-2010',\n",
        "'TXn-12-2010',\n",
        "'TXn-01-2005',\n",
        "'TXn-03-2005',\n",
        "'TXn-06-2005',\n",
        "'TXn-09-2005',\n",
        "'TXx-02-2010',\n",
        "'TXx-04-2010',\n",
        "'TXx-10-2010',\n",
        "'TXx-11-2010',\n",
        "'TXx-03-2005',\n",
        "'TXx-04-2005',\n",
        "'TXx-05-2005',\n",
        "'TXx-06-2005',\n",
        "'TXx-09-2005',\n",
        "'TXx-10-2005',\n",
        "                        \"soil_types\",\n",
        "                         \"climate_zones\",\n",
        "                         \"elevation\",\n",
        "                         \"slope\",\n",
        "                         \"irrigation\",\n",
        "]"
      ],
      "execution_count": 0,
      "outputs": []
    },
    {
      "cell_type": "markdown",
      "metadata": {
        "id": "qnZ_uxbqS9-h",
        "colab_type": "text"
      },
      "source": [
        "Note, that these features compose the 'X'. There is no 'y' feature (such as maize_2010) included since that is what we are trying to predict."
      ]
    },
    {
      "cell_type": "markdown",
      "metadata": {
        "id": "8yNtp0dNVlmQ",
        "colab_type": "text"
      },
      "source": [
        "## Remove nans ##"
      ]
    },
    {
      "cell_type": "markdown",
      "metadata": {
        "id": "1kAuHgmOVuO6",
        "colab_type": "text"
      },
      "source": [
        "Rows with nans will need to be removed. You should also check the total number of rows left. If loads of rows have been removed, it could be that one or more of the features have 100,000s nans in them. Hopefully this is not the case. If it is, in order to use our final_model.pkl we probably have to just fill in those feature columns with the median value (so that we still have that feature).\n"
      ]
    },
    {
      "cell_type": "markdown",
      "metadata": {
        "id": "KZYoDZF_TVzp",
        "colab_type": "text"
      },
      "source": [
        "## One-hot encoding code ##"
      ]
    },
    {
      "cell_type": "markdown",
      "metadata": {
        "colab_type": "text",
        "id": "kMOykgwMUXhb"
      },
      "source": [
        "The below code assumes you have made a pandas dataframe, called 'X' with all of the above features. It will create for you a new array ('X_prepared') with the one-hot encoded categorical features."
      ]
    },
    {
      "cell_type": "code",
      "metadata": {
        "id": "t-_M-1s1TWpi",
        "colab_type": "code",
        "colab": {}
      },
      "source": [
        "from sklearn.preprocessing import OneHotEncoder\n",
        "from sklearn.compose import ColumnTransformer\n",
        "\n",
        "#specify the names of categorical variables \n",
        "\n",
        "categorical_variables = [\"climate_zones\",\n",
        "                         \"soil_types\"\n",
        "                                               ]\n",
        "\n",
        "#find the column indices for the categorical features\n",
        "\n",
        "indices = [X.columns.get_loc(c) for c in categorical_variables]\n",
        "\n",
        "#list of all values for the categorical variables\n",
        "\n",
        "categories=[]\n",
        "\n",
        "for i in categorical_variables:\n",
        "  a = sorted(list(X[i].unique()))\n",
        "  categories.append(a)\n",
        "\n",
        "\n",
        "#create the transformer\n",
        "\n",
        "ct = ColumnTransformer([\n",
        "                        (\"selector\", OneHotEncoder(categories=categories), indices)], \n",
        "                        remainder = 'passthrough')\n",
        "\n",
        "#apply fit and transform\n",
        "\n",
        "X_prepared = ct.fit_transform(X)\n"
      ],
      "execution_count": 0,
      "outputs": []
    },
    {
      "cell_type": "code",
      "metadata": {
        "id": "FQ8KwVyfTSLG",
        "colab_type": "code",
        "colab": {}
      },
      "source": [
        ""
      ],
      "execution_count": 0,
      "outputs": []
    }
  ]
}